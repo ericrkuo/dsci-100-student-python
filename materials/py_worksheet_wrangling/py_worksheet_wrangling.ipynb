{
 "cells": [
  {
   "cell_type": "markdown",
   "metadata": {
    "deletable": false,
    "editable": false,
    "nbgrader": {
     "cell_type": "markdown",
     "checksum": "7007aa13ab6e48a0e71b59e247424b71",
     "grade": false,
     "grade_id": "cell-a3e4ac7f29e7ee20",
     "locked": true,
     "schema_version": 3,
     "solution": false,
     "task": false
    }
   },
   "source": [
    "# Worksheet 3: Cleaning and Wrangling Data\n",
    "\n",
    "\n",
    "### Lecture and Tutorial Learning Goals:\n",
    "\n",
    "After completing this week's lecture and tutorial work, you will be able to:\n",
    "\n",
    "* define the term \"tidy data\"\n",
    "* Explain when chaining is appropriate and demonstrate chaining over multiple lines and verbs.\n",
    "* discuss the advantages and disadvantages of storing data in a tidy data format\n",
    "* recall and use the following functions and methods for their intended data wrangling tasks:\n",
    "    - Use `loc[]` to select rows or columns.\n",
    "    - Use `[]` to filter rows of a data frame.\n",
    "    - Create new or columns in a data frame using `assign` method.\n",
    "    - Use `groupby` to calculate summary statistics on grouped objects \n",
    "    - Use `melt` and `pivot` to reshape data frames, specifically to make tidy data.\n",
    "    \n",
    "This worksheet covers parts of [Chapter 3](https://python.datasciencebook.ca/wrangling.html) of the online textbook. You should read this chapter before attempting the worksheet."
   ]
  },
  {
   "cell_type": "code",
   "execution_count": null,
   "metadata": {
    "deletable": false,
    "editable": false,
    "nbgrader": {
     "cell_type": "code",
     "checksum": "90965ef9df8e017d9c032015a6cddae6",
     "grade": false,
     "grade_id": "cell-9ad6a603a70e118a",
     "locked": true,
     "schema_version": 3,
     "solution": false,
     "task": false
    }
   },
   "outputs": [],
   "source": [
    "### Run this cell before continuing.\n",
    "import altair as alt\n",
    "import pandas as pd\n",
    "\n",
    "# Simplify working with large datasets in Altair\n",
    "alt.data_transformers.enable('vegafusion')"
   ]
  },
  {
   "cell_type": "markdown",
   "metadata": {
    "deletable": false,
    "editable": false,
    "nbgrader": {
     "cell_type": "markdown",
     "checksum": "c4216c380079fd788b19c5542921ee63",
     "grade": false,
     "grade_id": "cell-0d59d96414adc1b8",
     "locked": true,
     "schema_version": 3,
     "solution": false,
     "task": false
    }
   },
   "source": [
    "**Question 0.0** Multiple Choice: \n",
    "<br> {points: 1}\n",
    "\n",
    "Which of the following characterize a tidy dataset? note - there may be more than 1 correct answers to this question\n",
    "\n",
    "A) Each row is a single variable\n",
    "\n",
    "B) There are no missing or erroneous values\n",
    "\n",
    "C) Each value is a single cell\n",
    "\n",
    "D) Each variable is a single column\n",
    "\n",
    "*Assign your answer to an object called `answer0_0` in the code chunk below. Make sure your answer contains uppercase letters and surround it with quotation marks and square brackets. If there are more than one answers to this question, separate each letter with a comma within the square brackets. For example if you believe the answer is A, B and C your answer would like this:\n",
    "`answer0_0 = ['A', 'B', 'C']`*\n",
    "\n"
   ]
  },
  {
   "cell_type": "code",
   "execution_count": null,
   "metadata": {
    "deletable": false,
    "nbgrader": {
     "cell_type": "code",
     "checksum": "aee20ce053bfd831dbf772b4cf3071fb",
     "grade": false,
     "grade_id": "cell-cffd5df5830ecafd",
     "locked": false,
     "schema_version": 3,
     "solution": true,
     "task": false
    }
   },
   "outputs": [],
   "source": [
    "# your code here\n",
    "raise NotImplementedError"
   ]
  },
  {
   "cell_type": "code",
   "execution_count": null,
   "metadata": {
    "deletable": false,
    "editable": false,
    "nbgrader": {
     "cell_type": "code",
     "checksum": "bc21e2d7ff0a10f85bc32d9e9a356091",
     "grade": true,
     "grade_id": "cell-0bea903e0f37148c",
     "locked": true,
     "points": 3,
     "schema_version": 3,
     "solution": false,
     "task": false
    }
   },
   "outputs": [],
   "source": [
    "from hashlib import sha1\n",
    "assert sha1(str(type(answer0_0)).encode(\"utf-8\")+b\"dcefd\").hexdigest() == \"d2b356229360b49866bacc1b93ce284fa1b92f4a\", \"type of answer0_0 is not list. answer0_0 should be a list\"\n",
    "assert sha1(str(len(answer0_0)).encode(\"utf-8\")+b\"dcefd\").hexdigest() == \"b308e7b8cf3ead94f053e4a6638b2435dff73943\", \"length of answer0_0 is not correct\"\n",
    "assert sha1(str(sorted(map(str, answer0_0))).encode(\"utf-8\")+b\"dcefd\").hexdigest() == \"5aa68520ec860e9e5a9a1e74c74d6deaec742c1a\", \"values of answer0_0 are not correct\"\n",
    "assert sha1(str(answer0_0).encode(\"utf-8\")+b\"dcefd\").hexdigest() == \"5aa68520ec860e9e5a9a1e74c74d6deaec742c1a\", \"order of elements of answer0_0 is not correct\"\n",
    "\n",
    "print('Success!')"
   ]
  },
  {
   "cell_type": "markdown",
   "metadata": {
    "deletable": false,
    "editable": false,
    "nbgrader": {
     "cell_type": "markdown",
     "checksum": "5986685c6a02b07eeb16d1d5bfb2be14",
     "grade": false,
     "grade_id": "cell-77d758b913b7fb7d",
     "locked": true,
     "schema_version": 3,
     "solution": false
    }
   },
   "source": [
    "**Question 0.1** Multiple Choice: \n",
    "<br> {points: 1}\n",
    "\n",
    "The data below is wine ratings given for 3 wines by 5 different wine tasters. We are interested in seeing if Taster or Wine type influences the rating.  Given that motivation, which arrangement of the data set show below is \"tidy\"?,\n",
    "\n",
    "##### Data set 1:\n",
    "\n",
    "|     Taster       | Chardonnay | Pinot Grigio | Pinot Blanc |\n",
    "|------------|------------|--------------|-----------------|\n",
    "| 001 | 75         | 89           | 92              |\n",
    "| 002 | 89         | 88           | 89              |\n",
    "| 003 | 72         | 90           | 95              |\n",
    "| 004 | 85         | 81           | 90              |\n",
    "| 005 | 83         | 89           | 88              |\n",
    "\n",
    "##### Data set 2:\n",
    "\n",
    "|   Wine | Taster 001 | Taster 002 | Taster 003 | Taster 004 | Taster 005 |\n",
    "|------------|------------|--------------|-----------------|-------|---------|\n",
    "| Chardonnay | 75         | 89           | 72              | 85 | 83|\n",
    "| Pinot Grigio | 89         | 88           | 90             | 81 | 89 |\n",
    "| Pinot Blanc | 92         | 89           | 95              | 90 | 88 |\n",
    "\n",
    "##### Data set 3:\n",
    "\n",
    "| Taster           | Wine | Rating | \n",
    "|------------|------------|----|\n",
    "| 001 |  Chardonnay |  75         |\n",
    "| 002 |  Chardonnay | 89         | \n",
    "| 003 |  Chardonnay |72         | \n",
    "| 004 |  Chardonnay |85         | \n",
    "| 005 | Chardonnay | 83         | \n",
    "| 001 |  Pinot Grigio | 89         |\n",
    "| 002 |  Pinot Grigio | 88         | \n",
    "| 003 |  Pinot Grigio | 90         | \n",
    "| 004 |  Pinot Grigio | 81         |\n",
    "| 005 |  Pinot Grigio | 90         |\n",
    "| 001 |  Pinot Blanc | 92         |\n",
    "| 002 | Pinot Blanc | 89         |\n",
    "| 003 | Pinot Blanc | 95         | \n",
    "| 004 | Pinot Blanc | 90         |\n",
    "| 005 | Pinot Blanc | 88         | \n",
    "\n",
    "##### Data set 4:\n",
    "| Taster    | Chardonnay Rating | \n",
    "|------------|------------|\n",
    "| 001 |  75         | \n",
    "| 002 |   89         | \n",
    "| 003 |  72         |\n",
    "| 004 | 85         | \n",
    "| 005 | 83         |\n",
    "\n",
    "| Taster           | Pinot Grigio Rating | \n",
    "|------------|------------|\n",
    "| 001 |   89         |\n",
    "| 002 |  88         |\n",
    "| 003 |  90         | \n",
    "| 004 | 81         | \n",
    "| 005 |  90         | \n",
    "\n",
    "| Taster           | Pinot Blanc Rating | \n",
    "|------------|------------|\n",
    "| 001 |   92         | \n",
    "| 002 |  89         |\n",
    "| 003 |  95         | \n",
    "| 004 |  90         | \n",
    "| 005 |  88         | \n",
    "\n",
    "\n",
    "*Assign your answer to an object called `answer0_1`. Make sure your answer is surrounded by square brackets. If there are more than one answers to this question, separate each number with a comma in the square brackets. For example if you believe the answer is 1, 2 and 3 your answer would like this: `answer0_1` = [1, 2, 3]*"
   ]
  },
  {
   "cell_type": "code",
   "execution_count": null,
   "metadata": {
    "deletable": false,
    "nbgrader": {
     "cell_type": "code",
     "checksum": "cd8b3c0528decd8dba06d4ea554f9712",
     "grade": false,
     "grade_id": "cell-875bec2db6814c4e",
     "locked": false,
     "schema_version": 3,
     "solution": true
    }
   },
   "outputs": [],
   "source": [
    "# your code here\n",
    "raise NotImplementedError"
   ]
  },
  {
   "cell_type": "code",
   "execution_count": null,
   "metadata": {
    "deletable": false,
    "editable": false,
    "nbgrader": {
     "cell_type": "code",
     "checksum": "4e4d41e3eed83080fbd388ebed80ff83",
     "grade": true,
     "grade_id": "cell-7bc5804c8cd5900d",
     "locked": true,
     "points": 3,
     "schema_version": 3,
     "solution": false
    }
   },
   "outputs": [],
   "source": [
    "from hashlib import sha1\n",
    "assert sha1(str(type(answer0_1)).encode(\"utf-8\")+b\"82a97\").hexdigest() == \"06675e978588f0ff1916949852fce5918250da38\", \"type of answer0_1 is not list. answer0_1 should be a list\"\n",
    "assert sha1(str(len(answer0_1)).encode(\"utf-8\")+b\"82a97\").hexdigest() == \"02e678e6143abd600cc82e54ead4bfcce627447a\", \"length of answer0_1 is not correct\"\n",
    "assert sha1(str(sorted(map(str, answer0_1))).encode(\"utf-8\")+b\"82a97\").hexdigest() == \"fdad14c66b03a268975522797efe97fe6b348d92\", \"values of answer0_1 are not correct\"\n",
    "assert sha1(str(answer0_1).encode(\"utf-8\")+b\"82a97\").hexdigest() == \"66f40af377bdefe94dac626404fad6dead19c219\", \"order of elements of answer0_1 is not correct\"\n",
    "\n",
    "print('Success!')"
   ]
  },
  {
   "cell_type": "markdown",
   "metadata": {
    "deletable": false,
    "editable": false,
    "nbgrader": {
     "cell_type": "markdown",
     "checksum": "d2ed92379f556830ac1525c090b35d10",
     "grade": false,
     "grade_id": "cell-216b6088d404c4fc",
     "locked": true,
     "schema_version": 3,
     "solution": false,
     "task": false
    }
   },
   "source": [
    "**Question 0.2** Multiple Choice: \n",
    "<br> {points: 1}\n",
    "\n",
    "To answer the question, assign the letter associated with the correct answer to a variable in the code cell below:\n",
    "\n",
    "Why is the primary goal of data wrangling getting dataframes into the tidy data format?\n",
    "\n",
    "A) Having data expressed in such a way, allows for easier readability and is more aesthetically pleasing.\n",
    "\n",
    "B) Tidy format uses less storage space on your computer.\n",
    "\n",
    "C) Many or most modern Data Science tools accept the tidy data format directly (or very close to that) and we need to get the data in a state ready for analysis.\n",
    "\n",
    "*Answer in the cell below using the uppercase letter associated with your answer. Place your answer between `\"\"`, assign the correct answer to an object called `answer0_2`.*"
   ]
  },
  {
   "cell_type": "code",
   "execution_count": null,
   "metadata": {
    "deletable": false,
    "nbgrader": {
     "cell_type": "code",
     "checksum": "810e78626bf0c8657d0f2fad682fb553",
     "grade": false,
     "grade_id": "cell-fc224cb5d19b5cc1",
     "locked": false,
     "schema_version": 3,
     "solution": true,
     "task": false
    }
   },
   "outputs": [],
   "source": [
    "# your code here\n",
    "raise NotImplementedError"
   ]
  },
  {
   "cell_type": "code",
   "execution_count": null,
   "metadata": {
    "deletable": false,
    "editable": false,
    "nbgrader": {
     "cell_type": "code",
     "checksum": "4c62c40af359bf306084a0c10d0dfd50",
     "grade": true,
     "grade_id": "cell-385b06349b0b7c8f",
     "locked": true,
     "points": 3,
     "schema_version": 3,
     "solution": false,
     "task": false
    }
   },
   "outputs": [],
   "source": [
    "from hashlib import sha1\n",
    "assert sha1(str(type(answer0_2)).encode(\"utf-8\")+b\"9d38\").hexdigest() == \"d650cc3d6f7a40af446f117fb9a48c5e455107f4\", \"type of answer0_2 is not str. answer0_2 should be an str\"\n",
    "assert sha1(str(len(answer0_2)).encode(\"utf-8\")+b\"9d38\").hexdigest() == \"e6a09c0eca2a548795c34b08e168b5e179250461\", \"length of answer0_2 is not correct\"\n",
    "assert sha1(str(answer0_2.lower()).encode(\"utf-8\")+b\"9d38\").hexdigest() == \"ea78c9bf57f89198ceb1e280121135f2b68867b4\", \"value of answer0_2 is not correct\"\n",
    "assert sha1(str(answer0_2).encode(\"utf-8\")+b\"9d38\").hexdigest() == \"c5e8541048d7fa22d0939197bb884c84f8fa06b1\", \"correct string value of answer0_2 but incorrect case of letters\"\n",
    "\n",
    "print('Success!')"
   ]
  },
  {
   "cell_type": "markdown",
   "metadata": {
    "deletable": false,
    "editable": false,
    "nbgrader": {
     "cell_type": "markdown",
     "checksum": "317f20c17f2d4d8d5827409d56a65384",
     "grade": false,
     "grade_id": "cell-122d814c0cfa7294",
     "locked": true,
     "schema_version": 3,
     "solution": false
    }
   },
   "source": [
    "**Question 0.3** Multiple Choice: \n",
    "<br> {points: 1}\n",
    "\n",
    "For which scenario would using one of the `groupby` + `mean` be appropriate?\n",
    "\n",
    "A. To apply the same function to every row. \n",
    "\n",
    "B. To apply the same function to every column.\n",
    "\n",
    "C. To apply the same function to groups of rows. \n",
    "\n",
    "D. To apply the same function to groups of columns.\n",
    "\n",
    "*Assign your answer to an object called `answer0_3`.  Make sure your answer is an uppercase letter and is surrounded by quotation marks (e.g. `\"F\"`).*"
   ]
  },
  {
   "cell_type": "code",
   "execution_count": null,
   "metadata": {
    "deletable": false,
    "nbgrader": {
     "cell_type": "code",
     "checksum": "e966f4ad309952a5427ec79107785f91",
     "grade": false,
     "grade_id": "cell-85fb659000512dcd",
     "locked": false,
     "schema_version": 3,
     "solution": true
    }
   },
   "outputs": [],
   "source": [
    "# your code here\n",
    "raise NotImplementedError"
   ]
  },
  {
   "cell_type": "code",
   "execution_count": null,
   "metadata": {
    "deletable": false,
    "editable": false,
    "nbgrader": {
     "cell_type": "code",
     "checksum": "a94d88b72caa3db0429674b74c7aeca6",
     "grade": true,
     "grade_id": "cell-386ada4b41ae9cae",
     "locked": true,
     "points": 3,
     "schema_version": 3,
     "solution": false
    }
   },
   "outputs": [],
   "source": [
    "from hashlib import sha1\n",
    "assert sha1(str(type(answer0_3)).encode(\"utf-8\")+b\"f2e56\").hexdigest() == \"e0e3861cc1a9c49bc790d0703a0dd263658dc787\", \"type of answer0_3 is not str. answer0_3 should be an str\"\n",
    "assert sha1(str(len(answer0_3)).encode(\"utf-8\")+b\"f2e56\").hexdigest() == \"8b78fbb97c9ee09546aa0db2de1f4263070d5862\", \"length of answer0_3 is not correct\"\n",
    "assert sha1(str(answer0_3.lower()).encode(\"utf-8\")+b\"f2e56\").hexdigest() == \"f081aa9c76471c92b14419d00ca58b6e3ca80a2d\", \"value of answer0_3 is not correct\"\n",
    "assert sha1(str(answer0_3).encode(\"utf-8\")+b\"f2e56\").hexdigest() == \"0cdd5d54853cd7d244c801f01d21cfeb8c0efa33\", \"correct string value of answer0_3 but incorrect case of letters\"\n",
    "\n",
    "print('Success!')"
   ]
  },
  {
   "cell_type": "markdown",
   "metadata": {
    "deletable": false,
    "editable": false,
    "nbgrader": {
     "cell_type": "markdown",
     "checksum": "8ce794daf58240c87dc3816f2d6868f2",
     "grade": false,
     "grade_id": "cell-fa871a669adbf899",
     "locked": true,
     "schema_version": 3,
     "solution": false,
     "task": false
    }
   },
   "source": [
    "## 1. Assessing avocado prices to inform restaurant menu planning\n",
    "\n",
    "It is a well known that millennials LOVE avocado toast (joking...well mostly 😉), and so many restaurants will offer menu items that centre around this delicious food! Like many food items, avocado prices fluctuate. So a restaurant who wants to maximize profits on avocado-containing dishes might ask if there are times when the price of avocados are less expensive to purchase? If such times exist, this is when the restaurant should put avocado-containing dishes on the menu to maximize their profits for those dishes. \n",
    "\n",
    "<img align=\"left\" src=\"https://www.averiecooks.com/wp-content/uploads/2017/07/egghole-2.jpg\" width=\"150\" />"
   ]
  },
  {
   "cell_type": "markdown",
   "metadata": {
    "deletable": false,
    "editable": false,
    "nbgrader": {
     "cell_type": "markdown",
     "checksum": "6f879185b3739704219c1e2c00a8c06c",
     "grade": false,
     "grade_id": "cell-f911d0be7d9dc7f7",
     "locked": true,
     "schema_version": 3,
     "solution": false,
     "task": false
    }
   },
   "source": [
    "*Source: https://www.averiecooks.com/egg-hole-avocado-toast/*\n",
    "\n",
    "To answer this question we will analyze a data set of avocado sales from multiple US markets. This data was downloaded from the [Hass Avocado Board website](http://www.hassavocadoboard.com/) in May of 2018 & compiled into a single CSV. Each row in the data set contains weekly sales data for a region. The data set spans the year 2015-2018.\n",
    "\n",
    "Some relevant columns in the dataset:\n",
    "\n",
    "- `Date` - The date in year-month-day format\n",
    "- `average_price` - The average price of a single avocado\n",
    "- `type` - conventional or organic\n",
    "- `yr` - The year\n",
    "- `region` - The city or region of the observation\n",
    "- `small_hass_volume` in pounds (lbs)\t\n",
    "- `large_hass_volume` in pounds (lbs)\t\t\n",
    "- `extra_l_hass_volume`\tin pounds (lbs)\t\n",
    "- `wk` - integer number for the calendar week in the year (e.g., first week of January is 1, and last week of December is 52).\n",
    "\n",
    "To answer our question of whether there are times in the year when avocados are typically less expensive (and thus we can make more profitable menu items with them at a restaurant) we will want to create a scatter plot of `average_price` (y-axis) versus `Date` (x-axis)."
   ]
  },
  {
   "cell_type": "markdown",
   "metadata": {
    "deletable": false,
    "editable": false,
    "nbgrader": {
     "cell_type": "markdown",
     "checksum": "8a026996f8a6e53e7a7369de878a4100",
     "grade": false,
     "grade_id": "cell-acb1e485a76f043b",
     "locked": true,
     "schema_version": 3,
     "solution": false
    }
   },
   "source": [
    "**Question 1.1** Multiple Choice:\n",
    "<br> {points: 1}\n",
    "\n",
    "Which of the following is not included in the `csv` file?\n",
    "\n",
    "A. Average price of a single avocado.\n",
    "\n",
    "B. The farming practice (production with/without the use of chemicals). \n",
    "\n",
    "C. Average price of a bag of avocados.\n",
    "\n",
    "D. All options are included in the data set.\n",
    "\n",
    "*Assign your answer to an object called `answer1_1`. Make sure your answer is an uppercase letter and is surrounded by quotation marks (e.g. `\"F\"`).* "
   ]
  },
  {
   "cell_type": "code",
   "execution_count": null,
   "metadata": {
    "deletable": false,
    "nbgrader": {
     "cell_type": "code",
     "checksum": "d236b41c7081f0845aba209e0a822347",
     "grade": false,
     "grade_id": "cell-39161480e71d9b43",
     "locked": false,
     "schema_version": 3,
     "solution": true
    }
   },
   "outputs": [],
   "source": [
    "# your code here\n",
    "raise NotImplementedError"
   ]
  },
  {
   "cell_type": "code",
   "execution_count": null,
   "metadata": {
    "deletable": false,
    "editable": false,
    "nbgrader": {
     "cell_type": "code",
     "checksum": "0ec0443e325b92779a8783cdc7638cd6",
     "grade": true,
     "grade_id": "cell-1c278f180e20468f",
     "locked": true,
     "points": 3,
     "schema_version": 3,
     "solution": false
    }
   },
   "outputs": [],
   "source": [
    "from hashlib import sha1\n",
    "assert sha1(str(type(answer1_1)).encode(\"utf-8\")+b\"adc95\").hexdigest() == \"f65cd5d5c9ff679b669dcd967b97b3b8744ef959\", \"type of answer1_1 is not str. answer1_1 should be an str\"\n",
    "assert sha1(str(len(answer1_1)).encode(\"utf-8\")+b\"adc95\").hexdigest() == \"6d7c58889cee9ce413e8290664d8cd9f3276bee3\", \"length of answer1_1 is not correct\"\n",
    "assert sha1(str(answer1_1.lower()).encode(\"utf-8\")+b\"adc95\").hexdigest() == \"baf7f8244b08aafba1898998a6166eab4338d5dd\", \"value of answer1_1 is not correct\"\n",
    "assert sha1(str(answer1_1).encode(\"utf-8\")+b\"adc95\").hexdigest() == \"fde8f6fbcb1a8349286a9f350d89d90b24b75139\", \"correct string value of answer1_1 but incorrect case of letters\"\n",
    "\n",
    "print('Success!')"
   ]
  },
  {
   "cell_type": "markdown",
   "metadata": {
    "deletable": false,
    "editable": false,
    "nbgrader": {
     "cell_type": "markdown",
     "checksum": "1fa28c377d50527d3a5230311f1c684e",
     "grade": false,
     "grade_id": "cell-56154f20b1c3af0b",
     "locked": true,
     "schema_version": 3,
     "solution": false
    }
   },
   "source": [
    "**Question 1.2** Multiple Choice:\n",
    "<br> {points: 1}\n",
    "\n",
    "The rows in the data frame represent:\n",
    "\n",
    "A. daily avocado sales data for a region\n",
    "\n",
    "B. weekly avocado sales data for a region\n",
    "\n",
    "C. bi-weekly avocado sales data for a region\n",
    "\n",
    "D. yearly avocado sales data for a region\n",
    "\n",
    "*Assign your answer to an object called `answer1_2`. Make sure your answer is an uppercase letter and is surrounded by quotation marks (e.g. `\"F\"`).*"
   ]
  },
  {
   "cell_type": "code",
   "execution_count": null,
   "metadata": {
    "deletable": false,
    "nbgrader": {
     "cell_type": "code",
     "checksum": "dbe4d74869841a52e2bc947887d5afb2",
     "grade": false,
     "grade_id": "cell-1d614695a9d4a4f9",
     "locked": false,
     "schema_version": 3,
     "solution": true
    }
   },
   "outputs": [],
   "source": [
    "# your code here\n",
    "raise NotImplementedError"
   ]
  },
  {
   "cell_type": "code",
   "execution_count": null,
   "metadata": {
    "deletable": false,
    "editable": false,
    "nbgrader": {
     "cell_type": "code",
     "checksum": "5e51e0b2d473397008fba564ad6c5b77",
     "grade": true,
     "grade_id": "cell-6adfe52857aa9333",
     "locked": true,
     "points": 3,
     "schema_version": 3,
     "solution": false
    }
   },
   "outputs": [],
   "source": [
    "from hashlib import sha1\n",
    "assert sha1(str(type(answer1_2)).encode(\"utf-8\")+b\"55730\").hexdigest() == \"a1ec9df8d575f97226f3ef3f3c21bb8498729858\", \"type of answer1_2 is not str. answer1_2 should be an str\"\n",
    "assert sha1(str(len(answer1_2)).encode(\"utf-8\")+b\"55730\").hexdigest() == \"437c87eb99d4120a72246ae26d1689ae5bcaaf8a\", \"length of answer1_2 is not correct\"\n",
    "assert sha1(str(answer1_2.lower()).encode(\"utf-8\")+b\"55730\").hexdigest() == \"796d6c42decf08a8c2f0af4383885e1d62896c0e\", \"value of answer1_2 is not correct\"\n",
    "assert sha1(str(answer1_2).encode(\"utf-8\")+b\"55730\").hexdigest() == \"4a1d8848530a58420062ace1c4374c9b867add62\", \"correct string value of answer1_2 but incorrect case of letters\"\n",
    "\n",
    "print('Success!')"
   ]
  },
  {
   "cell_type": "markdown",
   "metadata": {
    "deletable": false,
    "editable": false,
    "nbgrader": {
     "cell_type": "markdown",
     "checksum": "90a4dee0b159c2090552aacf6083e1ea",
     "grade": false,
     "grade_id": "cell-7e263f37387da63d",
     "locked": true,
     "schema_version": 3,
     "solution": false
    }
   },
   "source": [
    "**Question 1.3** \n",
    "<br> {points: 1}\n",
    "\n",
    "The first step to plotting total volume against average price is to read the file `avocado_prices.csv` using the shortest relative path. The data file was given to you along with this worksheet, but you will have to look to see where it is in the `data` directory to correctly load it. When you do this, you should also preview the file to help you choose an appropriate `.read_*` function to read the data.\n",
    "\n",
    "*Assign your answer to an object called `avocado`.* "
   ]
  },
  {
   "cell_type": "code",
   "execution_count": null,
   "metadata": {
    "deletable": false,
    "nbgrader": {
     "cell_type": "code",
     "checksum": "08aaa424342cce98facbc1424c23dfbe",
     "grade": false,
     "grade_id": "cell-434656ab0b99d8bd",
     "locked": false,
     "schema_version": 3,
     "solution": true
    }
   },
   "outputs": [],
   "source": [
    "# ___ = ___(\"___\")\n",
    "\n",
    "# your code here\n",
    "raise NotImplementedError\n",
    "avocado"
   ]
  },
  {
   "cell_type": "code",
   "execution_count": null,
   "metadata": {
    "deletable": false,
    "editable": false,
    "nbgrader": {
     "cell_type": "code",
     "checksum": "c1af53c70aa25fac832c248c89ccdd4e",
     "grade": true,
     "grade_id": "cell-a968fbd8b038ba4b",
     "locked": true,
     "points": 3,
     "schema_version": 3,
     "solution": false
    }
   },
   "outputs": [],
   "source": [
    "from hashlib import sha1\n",
    "assert sha1(str(type(avocado is None)).encode(\"utf-8\")+b\"6acd8\").hexdigest() == \"b2baa38e33d93257c58de862f936f5ba856a9080\", \"type of avocado is None is not bool. avocado is None should be a bool\"\n",
    "assert sha1(str(avocado is None).encode(\"utf-8\")+b\"6acd8\").hexdigest() == \"a19b19295d4381fe86d0641c5dfdab3c386b3955\", \"boolean value of avocado is None is not correct\"\n",
    "\n",
    "assert sha1(str(type(avocado)).encode(\"utf-8\")+b\"6acd9\").hexdigest() == \"a48e42718092760e926abc03310667e3a0f00d09\", \"type of type(avocado) is not correct\"\n",
    "\n",
    "assert sha1(str(type(avocado.shape)).encode(\"utf-8\")+b\"6acda\").hexdigest() == \"ed8665e17dd11a229deec6ee019d803aefd5e0e5\", \"type of avocado.shape is not tuple. avocado.shape should be a tuple\"\n",
    "assert sha1(str(len(avocado.shape)).encode(\"utf-8\")+b\"6acda\").hexdigest() == \"c33da051c49e2479caed3c55c8d82d5cf251330a\", \"length of avocado.shape is not correct\"\n",
    "assert sha1(str(sorted(map(str, avocado.shape))).encode(\"utf-8\")+b\"6acda\").hexdigest() == \"557bdee675b6eddd909cb67785792a251e2285a3\", \"values of avocado.shape are not correct\"\n",
    "assert sha1(str(avocado.shape).encode(\"utf-8\")+b\"6acda\").hexdigest() == \"6011169e0ad9d69a932ba6d9fcd647e24ef44d8f\", \"order of elements of avocado.shape is not correct\"\n",
    "\n",
    "assert sha1(str(type(avocado.columns.values)).encode(\"utf-8\")+b\"6acdb\").hexdigest() == \"34dcabce5192dd1288fcf3c699eba11ff83e1002\", \"type of avocado.columns.values is not correct\"\n",
    "assert sha1(str(avocado.columns.values).encode(\"utf-8\")+b\"6acdb\").hexdigest() == \"e5796a5d59b161051367bdb984ebf4ccde8e60ca\", \"value of avocado.columns.values is not correct\"\n",
    "\n",
    "print('Success!')"
   ]
  },
  {
   "cell_type": "markdown",
   "metadata": {
    "deletable": false,
    "editable": false,
    "nbgrader": {
     "cell_type": "markdown",
     "checksum": "7c89d17600705e7016c7708d5448173a",
     "grade": false,
     "grade_id": "cell-80ee505836e01bce",
     "locked": true,
     "schema_version": 3,
     "solution": false,
     "task": false
    }
   },
   "source": [
    "**Question 1.4**\n",
    "\n",
    "{points: 1}\n",
    "\n",
    "To answer our question, let's now create the scatter plot where we plot `average_price` on the y-axis versus `Date` on the x-axis. Fill in the `___` in the cell below. \n",
    "\n",
    "*Assign your answer to an object called `avocado_plot`. Don't forget to create proper English axis labels.*"
   ]
  },
  {
   "cell_type": "code",
   "execution_count": null,
   "metadata": {
    "deletable": false,
    "nbgrader": {
     "cell_type": "code",
     "checksum": "fac499116b5eda71b7e615cb9b75046f",
     "grade": false,
     "grade_id": "cell-fd8156be131e6ab6",
     "locked": false,
     "schema_version": 3,
     "solution": true
    }
   },
   "outputs": [],
   "source": [
    "# ___ = alt.Chart(___).mark_point().encode(\n",
    "#     x=alt.X(___).title(___),\n",
    "#     y=alt.Y(___).title(___)\n",
    "# )\n",
    "\n",
    "# your code here\n",
    "raise NotImplementedError\n",
    "avocado_plot"
   ]
  },
  {
   "cell_type": "code",
   "execution_count": null,
   "metadata": {
    "deletable": false,
    "editable": false,
    "nbgrader": {
     "cell_type": "code",
     "checksum": "45a0aa804bff116a3906327040f6de08",
     "grade": true,
     "grade_id": "cell-89b7338558e28dbc",
     "locked": true,
     "points": 1,
     "schema_version": 3,
     "solution": false
    }
   },
   "outputs": [],
   "source": [
    "from hashlib import sha1\n",
    "assert sha1(str(type(avocado_plot is None)).encode(\"utf-8\")+b\"d01c6\").hexdigest() == \"dde1d26a72d11da52245c9a692fe91343ff30fa3\", \"type of avocado_plot is None is not bool. avocado_plot is None should be a bool\"\n",
    "assert sha1(str(avocado_plot is None).encode(\"utf-8\")+b\"d01c6\").hexdigest() == \"741b89796593288e81b282ee73242052c7bd2cc8\", \"boolean value of avocado_plot is None is not correct\"\n",
    "\n",
    "assert sha1(str(type(avocado_plot.encoding.x['shorthand'])).encode(\"utf-8\")+b\"d01c7\").hexdigest() == \"a5e38644b8bdc130ca2fa66ee08ee2b7cd921ff0\", \"type of avocado_plot.encoding.x['shorthand'] is not str. avocado_plot.encoding.x['shorthand'] should be an str\"\n",
    "assert sha1(str(len(avocado_plot.encoding.x['shorthand'])).encode(\"utf-8\")+b\"d01c7\").hexdigest() == \"34aea90b474a654b86d48b81091cd4cf18024b2d\", \"length of avocado_plot.encoding.x['shorthand'] is not correct\"\n",
    "assert sha1(str(avocado_plot.encoding.x['shorthand'].lower()).encode(\"utf-8\")+b\"d01c7\").hexdigest() == \"e7b49902c74ff68a7124add9feb362a5aac6838a\", \"value of avocado_plot.encoding.x['shorthand'] is not correct\"\n",
    "assert sha1(str(avocado_plot.encoding.x['shorthand']).encode(\"utf-8\")+b\"d01c7\").hexdigest() == \"4ed2e3c53a5acb8a25ddae6d3cbb6dbad71b6545\", \"correct string value of avocado_plot.encoding.x['shorthand'] but incorrect case of letters\"\n",
    "\n",
    "assert sha1(str(type(avocado_plot.encoding.y['shorthand'])).encode(\"utf-8\")+b\"d01c8\").hexdigest() == \"75d605640e721e4760e255544c7705c3fe27d91b\", \"type of avocado_plot.encoding.y['shorthand'] is not str. avocado_plot.encoding.y['shorthand'] should be an str\"\n",
    "assert sha1(str(len(avocado_plot.encoding.y['shorthand'])).encode(\"utf-8\")+b\"d01c8\").hexdigest() == \"e68d6605bc7815b0e952c2faf6bd885eac988f67\", \"length of avocado_plot.encoding.y['shorthand'] is not correct\"\n",
    "assert sha1(str(avocado_plot.encoding.y['shorthand'].lower()).encode(\"utf-8\")+b\"d01c8\").hexdigest() == \"c63b397e44c2a93fd259986fd7aa5b72c8a102c5\", \"value of avocado_plot.encoding.y['shorthand'] is not correct\"\n",
    "assert sha1(str(avocado_plot.encoding.y['shorthand']).encode(\"utf-8\")+b\"d01c8\").hexdigest() == \"c63b397e44c2a93fd259986fd7aa5b72c8a102c5\", \"correct string value of avocado_plot.encoding.y['shorthand'] but incorrect case of letters\"\n",
    "\n",
    "assert sha1(str(type(avocado_plot.mark)).encode(\"utf-8\")+b\"d01c9\").hexdigest() == \"851d26470cf88a5a3eed67c15a8ce7e307a4a263\", \"type of avocado_plot.mark is not str. avocado_plot.mark should be an str\"\n",
    "assert sha1(str(len(avocado_plot.mark)).encode(\"utf-8\")+b\"d01c9\").hexdigest() == \"b8a4a8d391e25418752a1bf4f115c22398a6963a\", \"length of avocado_plot.mark is not correct\"\n",
    "assert sha1(str(avocado_plot.mark.lower()).encode(\"utf-8\")+b\"d01c9\").hexdigest() == \"0f9a5c9e742f0214e7c8353bbb77b6c95deda51d\", \"value of avocado_plot.mark is not correct\"\n",
    "assert sha1(str(avocado_plot.mark).encode(\"utf-8\")+b\"d01c9\").hexdigest() == \"0f9a5c9e742f0214e7c8353bbb77b6c95deda51d\", \"correct string value of avocado_plot.mark but incorrect case of letters\"\n",
    "\n",
    "assert sha1(str(type(isinstance(avocado_plot.encoding.y['title'], str))).encode(\"utf-8\")+b\"d01ca\").hexdigest() == \"037ccfa0569aa3afa47349d0753960131cdf68aa\", \"type of isinstance(avocado_plot.encoding.y['title'], str) is not bool. isinstance(avocado_plot.encoding.y['title'], str) should be a bool\"\n",
    "assert sha1(str(isinstance(avocado_plot.encoding.y['title'], str)).encode(\"utf-8\")+b\"d01ca\").hexdigest() == \"3619e528a69a9a2f56554cd5c2bf92ee25695af0\", \"boolean value of isinstance(avocado_plot.encoding.y['title'], str) is not correct\"\n",
    "\n",
    "assert sha1(str(type(isinstance(avocado_plot.encoding.x['title'], str))).encode(\"utf-8\")+b\"d01cb\").hexdigest() == \"f56b31777fc70ec2630667486cdb16b7adf1f0b6\", \"type of isinstance(avocado_plot.encoding.x['title'], str) is not bool. isinstance(avocado_plot.encoding.x['title'], str) should be a bool\"\n",
    "assert sha1(str(isinstance(avocado_plot.encoding.x['title'], str)).encode(\"utf-8\")+b\"d01cb\").hexdigest() == \"c6f57a38d4c74f310cc69717a378432d2bd3fc8c\", \"boolean value of isinstance(avocado_plot.encoding.x['title'], str) is not correct\"\n",
    "\n",
    "print('Success!')"
   ]
  },
  {
   "cell_type": "markdown",
   "metadata": {
    "deletable": false,
    "editable": false,
    "nbgrader": {
     "cell_type": "markdown",
     "checksum": "86f6e3df6a50f63a8b5fd49234680a37",
     "grade": false,
     "grade_id": "cell-f5bf4e53775781f8",
     "locked": true,
     "schema_version": 3,
     "solution": false,
     "task": false
    }
   },
   "source": [
    "This is a big plot! You can scroll and maybe see some trends, but really what we see in the plot above is not very informative. Why? Because there is a lot of overplotting (data points sitting on top of other data points). What can we do? One solution is to reduce/aggregate the data in a meaningful way to help anwer our question. Remember that we are interested in determining if there are times when the price of avocados are less expensive so that we can recommend when restaurants should put dishes on the menu that contain avocado to maximize their profits for those dishes.\n",
    "\n",
    "In the data we plotted above, each row is the total sales for avocados for that region for each year. Lets use `.groupby` + `.mean` calculate the average price for each week across years and region. We can then plot that aggregated price against the week and perhaps get a clearer picture."
   ]
  },
  {
   "cell_type": "markdown",
   "metadata": {
    "deletable": false,
    "editable": false,
    "nbgrader": {
     "cell_type": "markdown",
     "checksum": "0951f84f24205b00aca078de96c04031",
     "grade": false,
     "grade_id": "cell-07909555b45c6c28",
     "locked": true,
     "schema_version": 3,
     "solution": false
    }
   },
   "source": [
    "**Question 1.5**\n",
    "<br> {points: 1}\n",
    "\n",
    "Create a reduced/aggregated version of the `avocado` data set and name it `avocado_aggregate`. To do this you will want to `groupby` the `wk` column and then use `mean` to calculate the average price. We pass `numeric_only=True` to tell pandas that we want the mean only of the numeric columns. Note: after applying `groupby` to the dataframe, it will automatically set the `groupby` column as index. Since we would like to use the `wk` column later in the plot, we would apply `reset_index` to reset the index for the dataframe.\n",
    "\n",
    "*Assign your answer to an object called `avocado_aggregate`.*"
   ]
  },
  {
   "cell_type": "code",
   "execution_count": null,
   "metadata": {
    "deletable": false,
    "nbgrader": {
     "cell_type": "code",
     "checksum": "5aec532f49434ebec6a1885829e1f0aa",
     "grade": false,
     "grade_id": "cell-25fc8f43f1d193db",
     "locked": false,
     "schema_version": 3,
     "solution": true
    }
   },
   "outputs": [],
   "source": [
    "# ___ = ___.groupby(___).mean(numeric_only=True).reset_index()\n",
    "\n",
    "# your code here\n",
    "raise NotImplementedError\n",
    "avocado_aggregate.head()"
   ]
  },
  {
   "cell_type": "code",
   "execution_count": null,
   "metadata": {
    "deletable": false,
    "editable": false,
    "nbgrader": {
     "cell_type": "code",
     "checksum": "70116356cb0a99126bf6de8d1911d2d8",
     "grade": true,
     "grade_id": "cell-81ec3e479caeb7d7",
     "locked": true,
     "points": 3,
     "schema_version": 3,
     "solution": false
    }
   },
   "outputs": [],
   "source": [
    "from hashlib import sha1\n",
    "assert str(type(avocado_aggregate is None)) == \"<class 'bool'>\", \"type of avocado_aggregate is None is not bool. avocado_aggregate is None should be a bool\"\n",
    "assert str(avocado_aggregate is None) == \"False\", \"boolean value of avocado_aggregate is None is not correct\"\n",
    "\n",
    "assert str(type(avocado_aggregate.shape)) == \"<class 'tuple'>\", \"type of avocado_aggregate.shape is not tuple. avocado_aggregate.shape should be a tuple\"\n",
    "assert str(len(avocado_aggregate.shape)) == \"2\", \"length of avocado_aggregate.shape is not correct\"\n",
    "assert str(sorted(map(str, avocado_aggregate.shape))) == \"['53', '6']\", \"values of avocado_aggregate.shape are not correct\"\n",
    "assert str(avocado_aggregate.shape) == \"(53, 6)\", \"order of elements of avocado_aggregate.shape is not correct\"\n",
    "\n",
    "assert sha1(str(type(sum(avocado_aggregate.wk))).encode(\"utf-8\")+b\"340d8\").hexdigest() == \"fa5101c2ce9c6bcd9caa24873dc498b4c845271c\", \"type of sum(avocado_aggregate.wk) is not int. Please make sure it is int and not np.int64, etc. You can cast your value into an int using int()\"\n",
    "assert sha1(str(sum(avocado_aggregate.wk)).encode(\"utf-8\")+b\"340d8\").hexdigest() == \"c3e744cd11d58fd27bae1e0dffa0b99e26cd68f2\", \"value of sum(avocado_aggregate.wk) is not correct\"\n",
    "\n",
    "assert sha1(str(type(sum(avocado_aggregate.average_price))).encode(\"utf-8\")+b\"340d9\").hexdigest() == \"a3a4fb7c38647c3509434b1746ed23d846e8a985\", \"type of sum(avocado_aggregate.average_price) is not float. Please make sure it is float and not np.float64, etc. You can cast your value into a float using float()\"\n",
    "assert sha1(str(round(sum(avocado_aggregate.average_price), 2)).encode(\"utf-8\")+b\"340d9\").hexdigest() == \"7ca15cadaada34ff44fd491bb9f2382c582e59a7\", \"value of sum(avocado_aggregate.average_price) is not correct (rounded to 2 decimal places)\"\n",
    "\n",
    "print('Success!')"
   ]
  },
  {
   "cell_type": "markdown",
   "metadata": {
    "deletable": false,
    "editable": false,
    "nbgrader": {
     "cell_type": "markdown",
     "checksum": "0e9fa0be1db32e8383950f87e117b938",
     "grade": false,
     "grade_id": "cell-aa0422ac0aade558",
     "locked": true,
     "schema_version": 3,
     "solution": false
    }
   },
   "source": [
    "**Question 1.6**\n",
    "<br> {points: 1}\n",
    "\n",
    "Now let's take the `avocado_aggregate` data frame and use it to create a scatter plot where we plot `average_price` on the y-axis versus `wk` on the x-axis. \n",
    "\n",
    "*Assign your answer to an object called `avocado_aggregate_plot`. Don't forget to create proper English axis titles.*"
   ]
  },
  {
   "cell_type": "code",
   "execution_count": null,
   "metadata": {
    "deletable": false,
    "nbgrader": {
     "cell_type": "code",
     "checksum": "6c183fb305c229ab93e3d58a940ea7d3",
     "grade": false,
     "grade_id": "cell-e081bf3fd0e40162",
     "locked": false,
     "schema_version": 3,
     "solution": true
    }
   },
   "outputs": [],
   "source": [
    "# ___ = alt.Chart(___).mark_point().encode(\n",
    "#     x=alt.X(___).title(___),\n",
    "#     y=alt.Y(___)\n",
    "#         .title(____)\n",
    "#         .scale(zero=False)\n",
    "# )\n",
    "\n",
    "\n",
    "# your code here\n",
    "raise NotImplementedError\n",
    "avocado_aggregate_plot"
   ]
  },
  {
   "cell_type": "code",
   "execution_count": null,
   "metadata": {
    "deletable": false,
    "editable": false,
    "nbgrader": {
     "cell_type": "code",
     "checksum": "87ecea2096f5616c3e3a8e3a73e6ca42",
     "grade": true,
     "grade_id": "cell-d70b07b4c2dc0202",
     "locked": true,
     "points": 1,
     "schema_version": 3,
     "solution": false
    }
   },
   "outputs": [],
   "source": [
    "from hashlib import sha1\n",
    "assert sha1(str(type(avocado_aggregate_plot is None)).encode(\"utf-8\")+b\"ee7b1\").hexdigest() == \"68bc35a4d9ab511f1dd9e6d8d6a03a206a1bc070\", \"type of avocado_aggregate_plot is None is not bool. avocado_aggregate_plot is None should be a bool\"\n",
    "assert sha1(str(avocado_aggregate_plot is None).encode(\"utf-8\")+b\"ee7b1\").hexdigest() == \"9f01ad8cc1df86e054786832b41236c66d815d01\", \"boolean value of avocado_aggregate_plot is None is not correct\"\n",
    "\n",
    "assert sha1(str(type(avocado_aggregate_plot.encoding.x['shorthand'])).encode(\"utf-8\")+b\"ee7b2\").hexdigest() == \"5521da4cf37f64e0d17d95700570ff2f737224e2\", \"type of avocado_aggregate_plot.encoding.x['shorthand'] is not str. avocado_aggregate_plot.encoding.x['shorthand'] should be an str\"\n",
    "assert sha1(str(len(avocado_aggregate_plot.encoding.x['shorthand'])).encode(\"utf-8\")+b\"ee7b2\").hexdigest() == \"4b403cd13f6161a6a5233c86d7ccda2b8703a687\", \"length of avocado_aggregate_plot.encoding.x['shorthand'] is not correct\"\n",
    "assert sha1(str(avocado_aggregate_plot.encoding.x['shorthand'].lower()).encode(\"utf-8\")+b\"ee7b2\").hexdigest() == \"17292a184b887518f4af9d28d2b27c63c919187a\", \"value of avocado_aggregate_plot.encoding.x['shorthand'] is not correct\"\n",
    "assert sha1(str(avocado_aggregate_plot.encoding.x['shorthand']).encode(\"utf-8\")+b\"ee7b2\").hexdigest() == \"17292a184b887518f4af9d28d2b27c63c919187a\", \"correct string value of avocado_aggregate_plot.encoding.x['shorthand'] but incorrect case of letters\"\n",
    "\n",
    "assert sha1(str(type(avocado_aggregate_plot.encoding.y['shorthand'])).encode(\"utf-8\")+b\"ee7b3\").hexdigest() == \"72c647ee9e5ebf070076bd85e1eb101229cbced4\", \"type of avocado_aggregate_plot.encoding.y['shorthand'] is not str. avocado_aggregate_plot.encoding.y['shorthand'] should be an str\"\n",
    "assert sha1(str(len(avocado_aggregate_plot.encoding.y['shorthand'])).encode(\"utf-8\")+b\"ee7b3\").hexdigest() == \"79d24109ea8b1d5d16c568ead4f9d483d56a016e\", \"length of avocado_aggregate_plot.encoding.y['shorthand'] is not correct\"\n",
    "assert sha1(str(avocado_aggregate_plot.encoding.y['shorthand'].lower()).encode(\"utf-8\")+b\"ee7b3\").hexdigest() == \"15cc9c1ca04225d143c8de761f67c36c2ce0c715\", \"value of avocado_aggregate_plot.encoding.y['shorthand'] is not correct\"\n",
    "assert sha1(str(avocado_aggregate_plot.encoding.y['shorthand']).encode(\"utf-8\")+b\"ee7b3\").hexdigest() == \"15cc9c1ca04225d143c8de761f67c36c2ce0c715\", \"correct string value of avocado_aggregate_plot.encoding.y['shorthand'] but incorrect case of letters\"\n",
    "\n",
    "assert sha1(str(type(avocado_aggregate_plot.mark)).encode(\"utf-8\")+b\"ee7b4\").hexdigest() == \"cf2472bab101fc43fdd27cc1bac0663a1066968c\", \"type of avocado_aggregate_plot.mark is not str. avocado_aggregate_plot.mark should be an str\"\n",
    "assert sha1(str(len(avocado_aggregate_plot.mark)).encode(\"utf-8\")+b\"ee7b4\").hexdigest() == \"f96b7704e1fea8d8c7ba43064c8698781e4d3c6a\", \"length of avocado_aggregate_plot.mark is not correct\"\n",
    "assert sha1(str(avocado_aggregate_plot.mark.lower()).encode(\"utf-8\")+b\"ee7b4\").hexdigest() == \"ec39c9cb890f82dfc1c48022366a7ea84b9b04da\", \"value of avocado_aggregate_plot.mark is not correct\"\n",
    "assert sha1(str(avocado_aggregate_plot.mark).encode(\"utf-8\")+b\"ee7b4\").hexdigest() == \"ec39c9cb890f82dfc1c48022366a7ea84b9b04da\", \"correct string value of avocado_aggregate_plot.mark but incorrect case of letters\"\n",
    "\n",
    "assert sha1(str(type(isinstance(avocado_aggregate_plot.encoding.x['title'], str))).encode(\"utf-8\")+b\"ee7b5\").hexdigest() == \"0769639de12b8d44c8842f99638c960e6ba61fd1\", \"type of isinstance(avocado_aggregate_plot.encoding.x['title'], str) is not bool. isinstance(avocado_aggregate_plot.encoding.x['title'], str) should be a bool\"\n",
    "assert sha1(str(isinstance(avocado_aggregate_plot.encoding.x['title'], str)).encode(\"utf-8\")+b\"ee7b5\").hexdigest() == \"69063b05a123a148808e399713d28c9b40f6af47\", \"boolean value of isinstance(avocado_aggregate_plot.encoding.x['title'], str) is not correct\"\n",
    "\n",
    "assert sha1(str(type(isinstance(avocado_aggregate_plot.encoding.y['title'], str))).encode(\"utf-8\")+b\"ee7b6\").hexdigest() == \"074b76890681b3a592d4c558daf07dc282a477c3\", \"type of isinstance(avocado_aggregate_plot.encoding.y['title'], str) is not bool. isinstance(avocado_aggregate_plot.encoding.y['title'], str) should be a bool\"\n",
    "assert sha1(str(isinstance(avocado_aggregate_plot.encoding.y['title'], str)).encode(\"utf-8\")+b\"ee7b6\").hexdigest() == \"a76c595333d58db173f70033fb1d1fe7a4f81ea4\", \"boolean value of isinstance(avocado_aggregate_plot.encoding.y['title'], str) is not correct\"\n",
    "\n",
    "print('Success!')"
   ]
  },
  {
   "cell_type": "markdown",
   "metadata": {
    "deletable": false,
    "editable": false,
    "nbgrader": {
     "cell_type": "markdown",
     "checksum": "536f294b841952b053e6f231262c2319",
     "grade": false,
     "grade_id": "cell-b8dfe798ae35428d",
     "locked": true,
     "schema_version": 3,
     "solution": false,
     "task": false
    }
   },
   "source": [
    "We can now see that the prices of avocados does indeed fluctuate throughout the year. And we could use this information to recommend to restaurants that if they want to maximize profit from menu items that contain avocados, they should only offer them on the menu roughly between December and May. \n",
    "\n",
    "Why might this happen? Perhaps price has something to do with supply? We can also use this data set to get some insight into that question by plotting total avocado volume (y-axis) versus week. To do this, we will first have to create a column called `total_volume` whose value is the sum of the small, large and extra large-sized avocado volumes. To do this we will have to go back to the original `avocado` data frame we loaded."
   ]
  },
  {
   "cell_type": "markdown",
   "metadata": {
    "deletable": false,
    "editable": false,
    "nbgrader": {
     "cell_type": "markdown",
     "checksum": "5c294fea4a8f49eb5936c7df453ca4a8",
     "grade": false,
     "grade_id": "cell-11acd47d959662ee",
     "locked": true,
     "schema_version": 3,
     "solution": false
    }
   },
   "source": [
    "**Question 1.7**\n",
    "<br> {points: 1}\n",
    "\n",
    "Our next step to plotting `total_volume` per week against week is to create a new column in the `avocado` data frame called `total_volume` which is equal to the sum of all three volume columns:\n",
    "\n",
    "Fill in the `___` in the cell below. "
   ]
  },
  {
   "cell_type": "code",
   "execution_count": null,
   "metadata": {
    "deletable": false,
    "nbgrader": {
     "cell_type": "code",
     "checksum": "e0e6eab05416f293de5caaa5fd775afd",
     "grade": false,
     "grade_id": "cell-20ec4476bb9540db",
     "locked": false,
     "schema_version": 3,
     "solution": true
    }
   },
   "outputs": [],
   "source": [
    "# avocado = avocado.assign(___=___ + ___ + ___\n",
    "\n",
    "# your code here\n",
    "raise NotImplementedError\n",
    "avocado"
   ]
  },
  {
   "cell_type": "code",
   "execution_count": null,
   "metadata": {
    "deletable": false,
    "editable": false,
    "nbgrader": {
     "cell_type": "code",
     "checksum": "a29188fee21b17dd4033bb961294895f",
     "grade": true,
     "grade_id": "cell-1b331febb2ce27b5",
     "locked": true,
     "points": 3,
     "schema_version": 3,
     "solution": false
    }
   },
   "outputs": [],
   "source": [
    "from hashlib import sha1\n",
    "assert str(type(avocado is None)) == \"<class 'bool'>\", \"type of avocado is None is not bool. avocado is None should be a bool\"\n",
    "assert str(avocado is None) == \"False\", \"boolean value of avocado is None is not correct\"\n",
    "\n",
    "assert str(type(avocado.shape)) == \"<class 'tuple'>\", \"type of avocado.shape is not tuple. avocado.shape should be a tuple\"\n",
    "assert str(len(avocado.shape)) == \"2\", \"length of avocado.shape is not correct\"\n",
    "assert str(sorted(map(str, avocado.shape))) == \"['10', '17911']\", \"values of avocado.shape are not correct\"\n",
    "assert str(avocado.shape) == \"(17911, 10)\", \"order of elements of avocado.shape is not correct\"\n",
    "\n",
    "assert sha1(str(type(sum(avocado.total_volume.dropna()))).encode(\"utf-8\")+b\"dfd11\").hexdigest() == \"afea9d4a14fbfd8a01933be09874afa870f11c88\", \"type of sum(avocado.total_volume.dropna()) is not float. Please make sure it is float and not np.float64, etc. You can cast your value into a float using float()\"\n",
    "assert sha1(str(round(sum(avocado.total_volume.dropna()), 2)).encode(\"utf-8\")+b\"dfd11\").hexdigest() == \"d1bc6d4e7ae96bf5f676a3abeb330631ef28ad57\", \"value of sum(avocado.total_volume.dropna()) is not correct (rounded to 2 decimal places)\"\n",
    "\n",
    "print('Success!')"
   ]
  },
  {
   "cell_type": "markdown",
   "metadata": {
    "deletable": false,
    "editable": false,
    "nbgrader": {
     "cell_type": "markdown",
     "checksum": "25d9eb34d5c359093e35b0249e5ffbb9",
     "grade": false,
     "grade_id": "cell-97fc42a8c2d802d8",
     "locked": true,
     "schema_version": 3,
     "solution": false
    }
   },
   "source": [
    "**Question 1.8** \n",
    "<br> {points: 1}\n",
    "\n",
    "Now, create another reduced/aggregated version of the `avocado` data frame and name it `avocado_aggregate_2`. To do this you will want to `groupby` the `wk` column and then use `mean` to calculate the average total volume."
   ]
  },
  {
   "cell_type": "code",
   "execution_count": null,
   "metadata": {
    "deletable": false,
    "nbgrader": {
     "cell_type": "code",
     "checksum": "0b37607a17da05c1b67810d6cb435373",
     "grade": false,
     "grade_id": "cell-d3d0314b483daf3c",
     "locked": false,
     "schema_version": 3,
     "solution": true
    }
   },
   "outputs": [],
   "source": [
    "# ___ = ___.groupby(___).mean(numeric_only=True).reset_index()\n",
    "\n",
    "\n",
    "# your code here\n",
    "raise NotImplementedError\n",
    "avocado_aggregate_2.head()"
   ]
  },
  {
   "cell_type": "code",
   "execution_count": null,
   "metadata": {
    "deletable": false,
    "editable": false,
    "nbgrader": {
     "cell_type": "code",
     "checksum": "11991119be05acaa255ff4f0eaedb39d",
     "grade": true,
     "grade_id": "cell-975338ad4661f5af",
     "locked": true,
     "points": 3,
     "schema_version": 3,
     "solution": false
    }
   },
   "outputs": [],
   "source": [
    "from hashlib import sha1\n",
    "assert str(type(avocado_aggregate_2 is None)) == \"<class 'bool'>\", \"type of avocado_aggregate_2 is None is not bool. avocado_aggregate_2 is None should be a bool\"\n",
    "assert str(avocado_aggregate_2 is None) == \"False\", \"boolean value of avocado_aggregate_2 is None is not correct\"\n",
    "\n",
    "assert str(type(avocado_aggregate_2.shape)) == \"<class 'tuple'>\", \"type of avocado_aggregate_2.shape is not tuple. avocado_aggregate_2.shape should be a tuple\"\n",
    "assert str(len(avocado_aggregate_2.shape)) == \"2\", \"length of avocado_aggregate_2.shape is not correct\"\n",
    "assert str(sorted(map(str, avocado_aggregate_2.shape))) == \"['53', '7']\", \"values of avocado_aggregate_2.shape are not correct\"\n",
    "assert str(avocado_aggregate_2.shape) == \"(53, 7)\", \"order of elements of avocado_aggregate_2.shape is not correct\"\n",
    "\n",
    "assert sha1(str(type(sum(avocado_aggregate_2.total_volume))).encode(\"utf-8\")+b\"b58a8\").hexdigest() == \"46c97f351b15286235205e1d318e8bacd90e0bfc\", \"type of sum(avocado_aggregate_2.total_volume) is not float. Please make sure it is float and not np.float64, etc. You can cast your value into a float using float()\"\n",
    "assert sha1(str(round(sum(avocado_aggregate_2.total_volume), 2)).encode(\"utf-8\")+b\"b58a8\").hexdigest() == \"b11a12de907729e2a42a6dcad3f7c9b0d738e2c2\", \"value of sum(avocado_aggregate_2.total_volume) is not correct (rounded to 2 decimal places)\"\n",
    "\n",
    "assert sha1(str(type(sum(avocado_aggregate_2.wk))).encode(\"utf-8\")+b\"b58a9\").hexdigest() == \"426a08d984d879a010fbb867392006be851035a4\", \"type of sum(avocado_aggregate_2.wk) is not int. Please make sure it is int and not np.int64, etc. You can cast your value into an int using int()\"\n",
    "assert sha1(str(sum(avocado_aggregate_2.wk)).encode(\"utf-8\")+b\"b58a9\").hexdigest() == \"7eccd55d058de141e51c5f13fd5780b784dc4ab9\", \"value of sum(avocado_aggregate_2.wk) is not correct\"\n",
    "\n",
    "print('Success!')"
   ]
  },
  {
   "cell_type": "markdown",
   "metadata": {
    "deletable": false,
    "editable": false,
    "nbgrader": {
     "cell_type": "markdown",
     "checksum": "e084cebc85f59ec306b4468c0191379b",
     "grade": false,
     "grade_id": "cell-ea1a11950f66b4f5",
     "locked": true,
     "schema_version": 3,
     "solution": false
    }
   },
   "source": [
    "**Question 1.10** \n",
    "<br> {points: 1}\n",
    "\n",
    "Now let's take the `avocado_aggregate_2` data frame and use it to create a scatter plot where we plot average `total_volume` (in pounds, lbs) on the y-axis versus `wk` on the x-axis. Assign your answer to an object called `avocado_aggregate_plot_2`. Don't forget to create proper English axis labels.\n",
    "\n",
    "> Hint: don't forget to include the units for volume in your axis titles."
   ]
  },
  {
   "cell_type": "code",
   "execution_count": null,
   "metadata": {
    "deletable": false,
    "nbgrader": {
     "cell_type": "code",
     "checksum": "c04ab38d66ed9b48400c0748b5935d9f",
     "grade": false,
     "grade_id": "cell-11af7abfd81fb0f2",
     "locked": false,
     "schema_version": 3,
     "solution": true
    }
   },
   "outputs": [],
   "source": [
    "# ___ = alt.Chart(___).mark_point().encode(\n",
    "#     x=alt.X(___).title(___),\n",
    "#     y=alt.Y(___)\n",
    "#         .title(___)\n",
    "#         .scale(zero=False)\n",
    "# )\n",
    "\n",
    "# your code here\n",
    "raise NotImplementedError\n",
    "avocado_aggregate_plot_2"
   ]
  },
  {
   "cell_type": "code",
   "execution_count": null,
   "metadata": {
    "deletable": false,
    "editable": false,
    "nbgrader": {
     "cell_type": "code",
     "checksum": "c3f7eddb43f6a8dc8663deb71e861f45",
     "grade": true,
     "grade_id": "cell-7a0b7fca31c9c8ec",
     "locked": true,
     "points": 1,
     "schema_version": 3,
     "solution": false
    }
   },
   "outputs": [],
   "source": [
    "from hashlib import sha1\n",
    "assert sha1(str(type(avocado_aggregate_plot_2 is None)).encode(\"utf-8\")+b\"dcf85\").hexdigest() == \"1000b4896ee8916cdb9111997fee68e425bf386f\", \"type of avocado_aggregate_plot_2 is None is not bool. avocado_aggregate_plot_2 is None should be a bool\"\n",
    "assert sha1(str(avocado_aggregate_plot_2 is None).encode(\"utf-8\")+b\"dcf85\").hexdigest() == \"93779c808f1c940cecf4fe80439e602196c82b7b\", \"boolean value of avocado_aggregate_plot_2 is None is not correct\"\n",
    "\n",
    "assert sha1(str(type(avocado_aggregate_plot_2.encoding.x['shorthand'])).encode(\"utf-8\")+b\"dcf86\").hexdigest() == \"633af79f019fcdaf45e2aad1964b816f1aa65f0d\", \"type of avocado_aggregate_plot_2.encoding.x['shorthand'] is not str. avocado_aggregate_plot_2.encoding.x['shorthand'] should be an str\"\n",
    "assert sha1(str(len(avocado_aggregate_plot_2.encoding.x['shorthand'])).encode(\"utf-8\")+b\"dcf86\").hexdigest() == \"6fbdedb4b66f72083f15fadde936638486a422ae\", \"length of avocado_aggregate_plot_2.encoding.x['shorthand'] is not correct\"\n",
    "assert sha1(str(avocado_aggregate_plot_2.encoding.x['shorthand'].lower()).encode(\"utf-8\")+b\"dcf86\").hexdigest() == \"24d6097da639d34676edf292ab524138b45c160f\", \"value of avocado_aggregate_plot_2.encoding.x['shorthand'] is not correct\"\n",
    "assert sha1(str(avocado_aggregate_plot_2.encoding.x['shorthand']).encode(\"utf-8\")+b\"dcf86\").hexdigest() == \"24d6097da639d34676edf292ab524138b45c160f\", \"correct string value of avocado_aggregate_plot_2.encoding.x['shorthand'] but incorrect case of letters\"\n",
    "\n",
    "assert sha1(str(type(avocado_aggregate_plot_2.encoding.y['shorthand'])).encode(\"utf-8\")+b\"dcf87\").hexdigest() == \"af9860577ea0ac33271786308aca6bf013a9e290\", \"type of avocado_aggregate_plot_2.encoding.y['shorthand'] is not str. avocado_aggregate_plot_2.encoding.y['shorthand'] should be an str\"\n",
    "assert sha1(str(len(avocado_aggregate_plot_2.encoding.y['shorthand'])).encode(\"utf-8\")+b\"dcf87\").hexdigest() == \"b826131859c813af369cbe2c526db63d156fee65\", \"length of avocado_aggregate_plot_2.encoding.y['shorthand'] is not correct\"\n",
    "assert sha1(str(avocado_aggregate_plot_2.encoding.y['shorthand'].lower()).encode(\"utf-8\")+b\"dcf87\").hexdigest() == \"307d50093ad42ee827a0cfc192818f17bd77f21b\", \"value of avocado_aggregate_plot_2.encoding.y['shorthand'] is not correct\"\n",
    "assert sha1(str(avocado_aggregate_plot_2.encoding.y['shorthand']).encode(\"utf-8\")+b\"dcf87\").hexdigest() == \"307d50093ad42ee827a0cfc192818f17bd77f21b\", \"correct string value of avocado_aggregate_plot_2.encoding.y['shorthand'] but incorrect case of letters\"\n",
    "\n",
    "assert sha1(str(type(avocado_aggregate_plot_2.mark)).encode(\"utf-8\")+b\"dcf88\").hexdigest() == \"c7638f0dcd672dd538dd2a71d094f250ae0a258e\", \"type of avocado_aggregate_plot_2.mark is not str. avocado_aggregate_plot_2.mark should be an str\"\n",
    "assert sha1(str(len(avocado_aggregate_plot_2.mark)).encode(\"utf-8\")+b\"dcf88\").hexdigest() == \"22695734e929a42a547467c8d8331811c0aaad44\", \"length of avocado_aggregate_plot_2.mark is not correct\"\n",
    "assert sha1(str(avocado_aggregate_plot_2.mark.lower()).encode(\"utf-8\")+b\"dcf88\").hexdigest() == \"1cffffcd8c4330ff0c9341e6f2216217915192ee\", \"value of avocado_aggregate_plot_2.mark is not correct\"\n",
    "assert sha1(str(avocado_aggregate_plot_2.mark).encode(\"utf-8\")+b\"dcf88\").hexdigest() == \"1cffffcd8c4330ff0c9341e6f2216217915192ee\", \"correct string value of avocado_aggregate_plot_2.mark but incorrect case of letters\"\n",
    "\n",
    "assert sha1(str(type(isinstance(avocado_aggregate_plot_2.encoding.x['title'], str))).encode(\"utf-8\")+b\"dcf89\").hexdigest() == \"f455fd857f6d1d22422f5a7e837a998ab1b67867\", \"type of isinstance(avocado_aggregate_plot_2.encoding.x['title'], str) is not bool. isinstance(avocado_aggregate_plot_2.encoding.x['title'], str) should be a bool\"\n",
    "assert sha1(str(isinstance(avocado_aggregate_plot_2.encoding.x['title'], str)).encode(\"utf-8\")+b\"dcf89\").hexdigest() == \"c082b53bf19587e4361ebf74d235e238e4209f90\", \"boolean value of isinstance(avocado_aggregate_plot_2.encoding.x['title'], str) is not correct\"\n",
    "\n",
    "assert sha1(str(type(isinstance(avocado_aggregate_plot_2.encoding.y['title'], str))).encode(\"utf-8\")+b\"dcf8a\").hexdigest() == \"9572d46de3569055d0fa8f9003c8d8565f22b0b3\", \"type of isinstance(avocado_aggregate_plot_2.encoding.y['title'], str) is not bool. isinstance(avocado_aggregate_plot_2.encoding.y['title'], str) should be a bool\"\n",
    "assert sha1(str(isinstance(avocado_aggregate_plot_2.encoding.y['title'], str)).encode(\"utf-8\")+b\"dcf8a\").hexdigest() == \"3d6ac1ff63091289c9707270c3092aadc65c85cd\", \"boolean value of isinstance(avocado_aggregate_plot_2.encoding.y['title'], str) is not correct\"\n",
    "\n",
    "print('Success!')"
   ]
  },
  {
   "cell_type": "markdown",
   "metadata": {
    "deletable": false,
    "editable": false,
    "nbgrader": {
     "cell_type": "markdown",
     "checksum": "0e53d03902f6638ab153df8dfd95379d",
     "grade": false,
     "grade_id": "cell-83ce58105c97d477",
     "locked": true,
     "schema_version": 3,
     "solution": false,
     "task": false
    }
   },
   "source": [
    "We can see from the above plot of the average total volume versus the week that there are more avocados sold (and perhaps this reflects what is available for sale) roughly between January to May. This time period of increased volume corresponds with the lower avocado prices. We can *hypothesize* (but not conclude, of course) that the lower prices may be due to an increased availability of avocados during this time period."
   ]
  },
  {
   "cell_type": "markdown",
   "metadata": {
    "deletable": false,
    "editable": false,
    "nbgrader": {
     "cell_type": "markdown",
     "checksum": "df304d903814167320ad048736e36c94",
     "grade": false,
     "grade_id": "cell-15b71c3a5274adf6",
     "locked": true,
     "schema_version": 3,
     "solution": false,
     "task": false
    }
   },
   "source": [
    "## 2. Sea Surface Temperatures in Departure Bay\n",
    "The next data set that we will be looking at contains environmental data from 1914 to 2018. The data was collected by the DFO (Canada's Department of Fisheries and Oceans) at the Pacific Biological Station (Departure Bay). Daily sea surface temperature (in degrees Celsius) and salinity (in practical salinity units, PSU) observations have been carried out at several locations on the coast of British Columbia. The number of stations reporting at any given time has varied as sampling has been discontinued at some stations, and started or resumed at others.\n",
    "\n",
    "Presently termed the British Columbia Shore Station Oceanographic Program (BCSOP), there are 12 participating stations; most of these are staffed by Fisheries and Oceans Canada. You can look at data from other stations at http://www.pac.dfo-mpo.gc.ca/science/oceans/data-donnees/lightstations-phares/index-eng.html \n",
    "\n",
    "Further information from the Government of Canada's website indicates: \n",
    ">  Observations are made daily using seawater collected in a bucket lowered into the surface water at or near the daytime high tide. This sampling method was designed long ago by Dr. John P. Tully and has not been changed in the interests of a homogeneous data set. This means, for example, that if an observer starts sampling one day at 6 a.m., and continues to sample at the daytime high tide on the second day the sample will be taken at about 06:50 the next day, 07:40 the day after etc. When the daytime high-tide gets close to 6 p.m. the observer will then begin again to sample early in the morning, and the cycle continues. Since there is a day/night variation in the sea surface temperatures the daily time series will show a signal that varies with the14-day tidal cycle. This artifact does not affect the monthly sea surface temperature data.\n",
    "\n",
    "In this worksheet, we want to see if the sea surface temperature has been changing over time. "
   ]
  },
  {
   "cell_type": "markdown",
   "metadata": {
    "deletable": false,
    "editable": false,
    "nbgrader": {
     "cell_type": "markdown",
     "checksum": "e12239e7c50041fc0f15fa3d9084638b",
     "grade": false,
     "grade_id": "cell-8f4dc9433ea2a7e9",
     "locked": true,
     "schema_version": 3,
     "solution": false
    }
   },
   "source": [
    "**Question 2.1** True or False:\n",
    "<br> {points: 1}\n",
    "\n",
    "The sampling of surface water occurs at the same time each day. \n",
    "\n",
    "*Assign your answer to an object called `answer2_1`. Make sure your answer is a boolean. i.e. `True` or `False`.* "
   ]
  },
  {
   "cell_type": "code",
   "execution_count": null,
   "metadata": {
    "deletable": false,
    "nbgrader": {
     "cell_type": "code",
     "checksum": "fbe12e6b0a0d4bf6519aafe93b7c8baa",
     "grade": false,
     "grade_id": "cell-4eb1407dda8e1fe2",
     "locked": false,
     "schema_version": 3,
     "solution": true
    }
   },
   "outputs": [],
   "source": [
    "# your code here\n",
    "raise NotImplementedError"
   ]
  },
  {
   "cell_type": "code",
   "execution_count": null,
   "metadata": {
    "deletable": false,
    "editable": false,
    "nbgrader": {
     "cell_type": "code",
     "checksum": "bed75b604051ea30225214f7366f3d28",
     "grade": true,
     "grade_id": "cell-aef90db69249870d",
     "locked": true,
     "points": 3,
     "schema_version": 3,
     "solution": false
    }
   },
   "outputs": [],
   "source": [
    "from hashlib import sha1\n",
    "assert sha1(str(type(answer2_1)).encode(\"utf-8\")+b\"5b16\").hexdigest() == \"24efa47aa702b66d41ff5b03a9293652dae80022\", \"type of answer2_1 is not bool. answer2_1 should be a bool\"\n",
    "assert sha1(str(answer2_1).encode(\"utf-8\")+b\"5b16\").hexdigest() == \"1a8f156ccdceabc61b08768989a4a774bc02ef88\", \"boolean value of answer2_1 is not correct\"\n",
    "\n",
    "print('Success!')"
   ]
  },
  {
   "cell_type": "markdown",
   "metadata": {
    "deletable": false,
    "editable": false,
    "nbgrader": {
     "cell_type": "markdown",
     "checksum": "f646082b34259ea6cb09a5a39741d412",
     "grade": false,
     "grade_id": "cell-0155ff05e1bac66f",
     "locked": true,
     "schema_version": 3,
     "solution": false
    }
   },
   "source": [
    "**Question 2.2** Multiple Choice:\n",
    "<br> {points: 1}\n",
    "\n",
    "If high tide occurred at 9am today, what time would the scientist collect data tomorrow?\n",
    "\n",
    "A. 11:10 am \n",
    "\n",
    "B. 9:50 am \n",
    "\n",
    "C. 10:00 pm \n",
    "\n",
    "D. Trick question... you skip days when collecting data. \n",
    "\n",
    "*Assign your answer to an object called `answer2_2`. Make sure your answer is an uppercase letter and is surrounded by quotation marks (e.g. `\"F\"`).* "
   ]
  },
  {
   "cell_type": "code",
   "execution_count": null,
   "metadata": {
    "deletable": false,
    "nbgrader": {
     "cell_type": "code",
     "checksum": "726830a8f448dd5426e2a7630b9ce486",
     "grade": false,
     "grade_id": "cell-c93cda405137fbfd",
     "locked": false,
     "schema_version": 3,
     "solution": true
    }
   },
   "outputs": [],
   "source": [
    "# your code here\n",
    "raise NotImplementedError"
   ]
  },
  {
   "cell_type": "code",
   "execution_count": null,
   "metadata": {
    "deletable": false,
    "editable": false,
    "nbgrader": {
     "cell_type": "code",
     "checksum": "f38823099e347fbba37f307b29f19694",
     "grade": true,
     "grade_id": "cell-957f2b6edf976bfd",
     "locked": true,
     "points": 3,
     "schema_version": 3,
     "solution": false
    }
   },
   "outputs": [],
   "source": [
    "from hashlib import sha1\n",
    "assert sha1(str(type(answer2_2)).encode(\"utf-8\")+b\"7f116\").hexdigest() == \"acc27b936a1b95c948390aa4fce5c4ae589798e4\", \"type of answer2_2 is not str. answer2_2 should be an str\"\n",
    "assert sha1(str(len(answer2_2)).encode(\"utf-8\")+b\"7f116\").hexdigest() == \"05434c0edcaff3928219aba8e9c341853a619b65\", \"length of answer2_2 is not correct\"\n",
    "assert sha1(str(answer2_2.lower()).encode(\"utf-8\")+b\"7f116\").hexdigest() == \"68cac5977752c1d8f68e0c2e94efdc40c54fefa9\", \"value of answer2_2 is not correct\"\n",
    "assert sha1(str(answer2_2).encode(\"utf-8\")+b\"7f116\").hexdigest() == \"32c6e88a0d9812b4507fe42884d58c3cc1437a23\", \"correct string value of answer2_2 but incorrect case of letters\"\n",
    "\n",
    "print('Success!')"
   ]
  },
  {
   "cell_type": "markdown",
   "metadata": {
    "deletable": false,
    "editable": false,
    "nbgrader": {
     "cell_type": "markdown",
     "checksum": "64ea8b6e015b231655313dd81d9d84aa",
     "grade": false,
     "grade_id": "cell-e1bf20ed85ae3d0d",
     "locked": true,
     "schema_version": 3,
     "solution": false
    }
   },
   "source": [
    "**Question 2.3**\n",
    "<br> {points: 1}\n",
    "\n",
    "To begin working with this data, read the file `departure_bay_temperature.csv` using a relative path. Note, this file (just like the avocado data set) is found within the `data` directory. \n",
    "\n",
    "*Assign your answer to an object called `sea_surface`.* \n",
    "\n",
    "> Hint: check out the data file in the editor mode to see from which row the actual data begins, and you will need to specify the `skiprows` argument accordingly in the suitable `pandas` function."
   ]
  },
  {
   "cell_type": "code",
   "execution_count": null,
   "metadata": {
    "deletable": false,
    "nbgrader": {
     "cell_type": "code",
     "checksum": "e633fcc8fc92649def199838df544382",
     "grade": false,
     "grade_id": "cell-b10c1a879331aa37",
     "locked": false,
     "schema_version": 3,
     "solution": true
    }
   },
   "outputs": [],
   "source": [
    "# your code here\n",
    "raise NotImplementedError\n",
    "sea_surface"
   ]
  },
  {
   "cell_type": "code",
   "execution_count": null,
   "metadata": {
    "deletable": false,
    "editable": false,
    "nbgrader": {
     "cell_type": "code",
     "checksum": "a601e3af8eafb650ac2996b39682d589",
     "grade": true,
     "grade_id": "cell-09a9fd7ca9f44ada",
     "locked": true,
     "points": 3,
     "schema_version": 3,
     "solution": false
    }
   },
   "outputs": [],
   "source": [
    "from hashlib import sha1\n",
    "assert str(type(sea_surface is None)) == \"<class 'bool'>\", \"type of sea_surface is None is not bool. sea_surface is None should be a bool\"\n",
    "assert str(sea_surface is None) == \"False\", \"boolean value of sea_surface is None is not correct\"\n",
    "\n",
    "assert str(type(sea_surface)) == \"<class 'pandas.core.frame.DataFrame'>\", \"type of type(sea_surface) is not correct\"\n",
    "\n",
    "assert str(type(sea_surface.shape)) == \"<class 'tuple'>\", \"type of sea_surface.shape is not tuple. sea_surface.shape should be a tuple\"\n",
    "assert str(len(sea_surface.shape)) == \"2\", \"length of sea_surface.shape is not correct\"\n",
    "assert str(sorted(map(str, sea_surface.shape))) == \"['105', '13']\", \"values of sea_surface.shape are not correct\"\n",
    "assert str(sea_surface.shape) == \"(105, 13)\", \"order of elements of sea_surface.shape is not correct\"\n",
    "\n",
    "assert str(type(sea_surface.columns.values)) == \"<class 'numpy.ndarray'>\", \"type of sea_surface.columns.values is not correct\"\n",
    "assert str(sea_surface.columns.values) == \"['Year' 'Jan' 'Feb' 'Mar' 'Apr' 'May' 'Jun' 'Jul' 'Aug' 'Sep' 'Oct' 'Nov'\\n 'Dec']\", \"value of sea_surface.columns.values is not correct\"\n",
    "\n",
    "assert sha1(str(type(sum(sea_surface.Year))).encode(\"utf-8\")+b\"d73df\").hexdigest() == \"c09b364f129656a81460e3737b69d17997222b6d\", \"type of sum(sea_surface.Year) is not int. Please make sure it is int and not np.int64, etc. You can cast your value into an int using int()\"\n",
    "assert sha1(str(sum(sea_surface.Year)).encode(\"utf-8\")+b\"d73df\").hexdigest() == \"18eabd7428348c0050ed175e666f8d06b24fa681\", \"value of sum(sea_surface.Year) is not correct\"\n",
    "\n",
    "print('Success!')"
   ]
  },
  {
   "cell_type": "markdown",
   "metadata": {
    "deletable": false,
    "editable": false,
    "nbgrader": {
     "cell_type": "markdown",
     "checksum": "f3e9a738394e878d85f6910cc4faf4bf",
     "grade": false,
     "grade_id": "cell-e755c156454253ba",
     "locked": true,
     "schema_version": 3,
     "solution": false,
     "task": false
    }
   },
   "source": [
    "**Question 2.3.1**\n",
    "<br> {points: 1}\n",
    "\n",
    "The data above in Question 2.3 is not tidy, which reasons listed below explain why?\n",
    "\n",
    "A. There are NaN's in the data set\n",
    "\n",
    "B. The variable temperature is split across more than one column\n",
    "\n",
    "C. Values for the variable month are stored as column names\n",
    "\n",
    "D. A and C\n",
    "\n",
    "E. B and C\n",
    "\n",
    "F. All of the above\n",
    "\n",
    "*Assign your answer to an object called `answer2_3_1`.*"
   ]
  },
  {
   "cell_type": "code",
   "execution_count": null,
   "metadata": {
    "deletable": false,
    "nbgrader": {
     "cell_type": "code",
     "checksum": "8df82700e71e72597edc665d455334ec",
     "grade": false,
     "grade_id": "cell-6e1789eb7032fc30",
     "locked": false,
     "schema_version": 3,
     "solution": true,
     "task": false
    }
   },
   "outputs": [],
   "source": [
    "# your code here\n",
    "raise NotImplementedError"
   ]
  },
  {
   "cell_type": "code",
   "execution_count": null,
   "metadata": {
    "deletable": false,
    "editable": false,
    "nbgrader": {
     "cell_type": "code",
     "checksum": "8611d5256cf89d999885750c1a663dee",
     "grade": true,
     "grade_id": "cell-f449a87635bac905",
     "locked": true,
     "points": 3,
     "schema_version": 3,
     "solution": false,
     "task": false
    }
   },
   "outputs": [],
   "source": [
    "from hashlib import sha1\n",
    "assert sha1(str(type(answer2_3_1)).encode(\"utf-8\")+b\"9ecf9\").hexdigest() == \"dffd9e88e5de4ec6a8048e7dc5bff8d7767ee1a7\", \"type of answer2_3_1 is not str. answer2_3_1 should be an str\"\n",
    "assert sha1(str(len(answer2_3_1)).encode(\"utf-8\")+b\"9ecf9\").hexdigest() == \"dfc38fbf0fbf380e6ed5fc6cb539750a5f28c910\", \"length of answer2_3_1 is not correct\"\n",
    "assert sha1(str(answer2_3_1.lower()).encode(\"utf-8\")+b\"9ecf9\").hexdigest() == \"f9b0508a55c3b6e0fa8d746167165be913493694\", \"value of answer2_3_1 is not correct\"\n",
    "assert sha1(str(answer2_3_1).encode(\"utf-8\")+b\"9ecf9\").hexdigest() == \"1e2db29fe6bab7c8b2b040fd72a847cb097bb590\", \"correct string value of answer2_3_1 but incorrect case of letters\"\n",
    "\n",
    "print('Success!')"
   ]
  },
  {
   "cell_type": "markdown",
   "metadata": {
    "deletable": false,
    "editable": false,
    "nbgrader": {
     "cell_type": "markdown",
     "checksum": "be09f73e797a675759dde138198d7106",
     "grade": false,
     "grade_id": "cell-0b23c682c8caa306",
     "locked": true,
     "schema_version": 3,
     "solution": false
    }
   },
   "source": [
    "**Question 2.4**\n",
    "<br> {points: 1}\n",
    "\n",
    "Given `altair` expects tidy data, we need to convert our data into that format. To do this we will use the `melt` function. We would like our data to end up looking like this:\n",
    "\n",
    "| Year | Month | Temperature |\n",
    "|------|-------|-------------|\n",
    "| 1914 | Jan   | 7.2         |\n",
    "| 1915 | Jan   | 5.6         |\n",
    "| 1916 | Jan   | 1.2         |\n",
    "| 1917 | Jan   | 3.8         |\n",
    "| 1918 | Jan   | 3.7         |\n",
    "| ...  | ...   | ...         |\n",
    "| 2014 | Dec   | 7.1         |\n",
    "| 2015 | Dec   | 6.8         |\n",
    "| 2016 | Dec   | 5.5         |\n",
    "| 2017 | Dec   | 6.9         |\n",
    "| 2018 | Dec   | NaN         |\n",
    "\n",
    "\n",
    "Fill in the `___` in the cell below. \n",
    "\n",
    "*Assign your answer to an object called `tidy_temp`.*"
   ]
  },
  {
   "cell_type": "code",
   "execution_count": null,
   "metadata": {
    "deletable": false,
    "nbgrader": {
     "cell_type": "code",
     "checksum": "bcd0ddb2dd805451efb28897c9f768c4",
     "grade": false,
     "grade_id": "cell-422718995704f040",
     "locked": false,
     "schema_version": 3,
     "solution": true
    }
   },
   "outputs": [],
   "source": [
    "# ___ = sea_surface.___(id_vars=['Year'],  var_name='___', value_name='Temperature')\n",
    "\n",
    "\n",
    "# your code here\n",
    "raise NotImplementedError\n",
    "tidy_temp"
   ]
  },
  {
   "cell_type": "code",
   "execution_count": null,
   "metadata": {
    "deletable": false,
    "editable": false,
    "nbgrader": {
     "cell_type": "code",
     "checksum": "8cf22efe457361ccc27b082dc1138b15",
     "grade": true,
     "grade_id": "cell-afb070ca8361d0a7",
     "locked": true,
     "points": 3,
     "schema_version": 3,
     "solution": false
    }
   },
   "outputs": [],
   "source": [
    "from hashlib import sha1\n",
    "assert str(type(tidy_temp is None)) == \"<class 'bool'>\", \"type of tidy_temp is None is not bool. tidy_temp is None should be a bool\"\n",
    "assert str(tidy_temp is None) == \"False\", \"boolean value of tidy_temp is None is not correct\"\n",
    "\n",
    "assert str(type(tidy_temp.shape)) == \"<class 'tuple'>\", \"type of tidy_temp.shape is not tuple. tidy_temp.shape should be a tuple\"\n",
    "assert str(len(tidy_temp.shape)) == \"2\", \"length of tidy_temp.shape is not correct\"\n",
    "assert str(sorted(map(str, tidy_temp.shape))) == \"['1260', '3']\", \"values of tidy_temp.shape are not correct\"\n",
    "assert str(tidy_temp.shape) == \"(1260, 3)\", \"order of elements of tidy_temp.shape is not correct\"\n",
    "\n",
    "assert str(type(tidy_temp.columns)) == \"<class 'pandas.core.indexes.base.Index'>\", \"type of tidy_temp.columns is not correct\"\n",
    "assert str(tidy_temp.columns) == \"Index(['Year', 'Month', 'Temperature'], dtype='object')\", \"value of tidy_temp.columns is not correct\"\n",
    "\n",
    "assert sha1(str(type(sum(tidy_temp.Temperature.dropna()))).encode(\"utf-8\")+b\"3719b\").hexdigest() == \"f0fa4ceb7fe8ca0463cae67107438059351abe65\", \"type of sum(tidy_temp.Temperature.dropna()) is not float. Please make sure it is float and not np.float64, etc. You can cast your value into a float using float()\"\n",
    "assert sha1(str(round(sum(tidy_temp.Temperature.dropna()), 2)).encode(\"utf-8\")+b\"3719b\").hexdigest() == \"7f9a5ab6fd78313350c71c17274fe1b912015e34\", \"value of sum(tidy_temp.Temperature.dropna()) is not correct (rounded to 2 decimal places)\"\n",
    "\n",
    "print('Success!')"
   ]
  },
  {
   "cell_type": "markdown",
   "metadata": {
    "deletable": false,
    "editable": false,
    "nbgrader": {
     "cell_type": "markdown",
     "checksum": "55ed46c9448dcf39c135a58751cc47a0",
     "grade": false,
     "grade_id": "cell-4d3484d80d9f0854",
     "locked": true,
     "schema_version": 3,
     "solution": false
    }
   },
   "source": [
    "**Question 2.5**\n",
    "<br> {points: 1}\n",
    "\n",
    "Now that we have our data in a tidy format, we can create our plot that compares the average monthly sea surface temperatures (in degrees Celsius) to the year they were recorded. To make our plots more informative, we should plot each month separately. We can filter the data before we pipe our data into the `alt.Chart` function. Let's start out by just plotting the data for the month of November. As usual, use proper English to label your axes :)\n",
    "\n",
    "*Assign your answer to an object called `nov_temp_plot`.*\n",
    "\n",
    "> Hint: don't forget to include the units for temperature in your data visualization."
   ]
  },
  {
   "cell_type": "code",
   "execution_count": null,
   "metadata": {
    "deletable": false,
    "nbgrader": {
     "cell_type": "code",
     "checksum": "f7bef05534c5df21833030675ecb9971",
     "grade": false,
     "grade_id": "cell-b1ac578751969b78",
     "locked": false,
     "schema_version": 3,
     "solution": true
    }
   },
   "outputs": [],
   "source": [
    "# ___ = alt.Chart(___[___[___] == \"Nov\"]).mark_point().encode(\n",
    "#     x=alt.X(___)\n",
    "#         .scale(zero=False),\n",
    "#     y=alt.Y(___)\n",
    "#         .title(___)\n",
    "#         .scale(zero=False)\n",
    "# )\n",
    "\n",
    "# your code here\n",
    "raise NotImplementedError\n",
    "nov_temp_plot"
   ]
  },
  {
   "cell_type": "code",
   "execution_count": null,
   "metadata": {
    "deletable": false,
    "editable": false,
    "nbgrader": {
     "cell_type": "code",
     "checksum": "e13cf704a575e10c1acbe26b441e4d2e",
     "grade": true,
     "grade_id": "cell-8ddfbb3c8b82e695",
     "locked": true,
     "points": 1,
     "schema_version": 3,
     "solution": false
    }
   },
   "outputs": [],
   "source": [
    "from hashlib import sha1\n",
    "assert sha1(str(type(nov_temp_plot is None)).encode(\"utf-8\")+b\"83fc3\").hexdigest() == \"b8e6dbc24eed9fe83b6e7a333c2a27fb72165e06\", \"type of nov_temp_plot is None is not bool. nov_temp_plot is None should be a bool\"\n",
    "assert sha1(str(nov_temp_plot is None).encode(\"utf-8\")+b\"83fc3\").hexdigest() == \"f0f3f4be5817cffcf54192b1e98e4ce99af0010d\", \"boolean value of nov_temp_plot is None is not correct\"\n",
    "\n",
    "assert sha1(str(type(nov_temp_plot.data.Month.unique())).encode(\"utf-8\")+b\"83fc4\").hexdigest() == \"b2574d9f452cd156437d3edbb484748bf2923c25\", \"type of nov_temp_plot.data.Month.unique() is not correct\"\n",
    "assert sha1(str(nov_temp_plot.data.Month.unique()).encode(\"utf-8\")+b\"83fc4\").hexdigest() == \"7dfdac7d9b33b795e55cfb9047c4786bd05ca85b\", \"value of nov_temp_plot.data.Month.unique() is not correct\"\n",
    "\n",
    "assert sha1(str(type(nov_temp_plot.encoding.x['shorthand'])).encode(\"utf-8\")+b\"83fc5\").hexdigest() == \"4d0b821fd222dbd81134b79ac24186dd3be06a53\", \"type of nov_temp_plot.encoding.x['shorthand'] is not str. nov_temp_plot.encoding.x['shorthand'] should be an str\"\n",
    "assert sha1(str(len(nov_temp_plot.encoding.x['shorthand'])).encode(\"utf-8\")+b\"83fc5\").hexdigest() == \"cf0dd8cf487d3793f3d9971ced8a0c035619efcd\", \"length of nov_temp_plot.encoding.x['shorthand'] is not correct\"\n",
    "assert sha1(str(nov_temp_plot.encoding.x['shorthand'].lower()).encode(\"utf-8\")+b\"83fc5\").hexdigest() == \"15814f77bdefe2288fb67b908a2bdb77d587c5cf\", \"value of nov_temp_plot.encoding.x['shorthand'] is not correct\"\n",
    "assert sha1(str(nov_temp_plot.encoding.x['shorthand']).encode(\"utf-8\")+b\"83fc5\").hexdigest() == \"fdd7327f19226bfaf5ce750d9810aa7d0c718c65\", \"correct string value of nov_temp_plot.encoding.x['shorthand'] but incorrect case of letters\"\n",
    "\n",
    "assert sha1(str(type(nov_temp_plot.encoding.y['shorthand'])).encode(\"utf-8\")+b\"83fc6\").hexdigest() == \"dae711837620768f1a30f30341bd2ac159e37e88\", \"type of nov_temp_plot.encoding.y['shorthand'] is not str. nov_temp_plot.encoding.y['shorthand'] should be an str\"\n",
    "assert sha1(str(len(nov_temp_plot.encoding.y['shorthand'])).encode(\"utf-8\")+b\"83fc6\").hexdigest() == \"b274cdedd4b2894f0c20c0b3befa023c7f88cfcb\", \"length of nov_temp_plot.encoding.y['shorthand'] is not correct\"\n",
    "assert sha1(str(nov_temp_plot.encoding.y['shorthand'].lower()).encode(\"utf-8\")+b\"83fc6\").hexdigest() == \"dcb7f962e0be58c59cf1309735b3f6b55655d2ba\", \"value of nov_temp_plot.encoding.y['shorthand'] is not correct\"\n",
    "assert sha1(str(nov_temp_plot.encoding.y['shorthand']).encode(\"utf-8\")+b\"83fc6\").hexdigest() == \"1bd4f870cf12dfbe1057bc986ab6d9a851ec3f84\", \"correct string value of nov_temp_plot.encoding.y['shorthand'] but incorrect case of letters\"\n",
    "\n",
    "assert sha1(str(type(nov_temp_plot.mark)).encode(\"utf-8\")+b\"83fc7\").hexdigest() == \"00796992244bf10d5945833331f6aea7ae73c68f\", \"type of nov_temp_plot.mark is not str. nov_temp_plot.mark should be an str\"\n",
    "assert sha1(str(len(nov_temp_plot.mark)).encode(\"utf-8\")+b\"83fc7\").hexdigest() == \"ee6a22e160b6cadfd5d1d48b4a17e0b30e334edd\", \"length of nov_temp_plot.mark is not correct\"\n",
    "assert sha1(str(nov_temp_plot.mark.lower()).encode(\"utf-8\")+b\"83fc7\").hexdigest() == \"9a055120f6f2a876007f17585a818c01978a1651\", \"value of nov_temp_plot.mark is not correct\"\n",
    "assert sha1(str(nov_temp_plot.mark).encode(\"utf-8\")+b\"83fc7\").hexdigest() == \"9a055120f6f2a876007f17585a818c01978a1651\", \"correct string value of nov_temp_plot.mark but incorrect case of letters\"\n",
    "\n",
    "assert sha1(str(type(isinstance(nov_temp_plot.encoding.y['title'], str))).encode(\"utf-8\")+b\"83fc8\").hexdigest() == \"4d32bc432f3b073e80b0432faf8dede18a800cbc\", \"type of isinstance(nov_temp_plot.encoding.y['title'], str) is not bool. isinstance(nov_temp_plot.encoding.y['title'], str) should be a bool\"\n",
    "assert sha1(str(isinstance(nov_temp_plot.encoding.y['title'], str)).encode(\"utf-8\")+b\"83fc8\").hexdigest() == \"d6b5dc6ad8e7c1e2bb6a634acd1a1ea5abdf8ecc\", \"boolean value of isinstance(nov_temp_plot.encoding.y['title'], str) is not correct\"\n",
    "\n",
    "print('Success!')"
   ]
  },
  {
   "cell_type": "markdown",
   "metadata": {
    "deletable": false,
    "editable": false,
    "nbgrader": {
     "cell_type": "markdown",
     "checksum": "ae77e75d827d91d25f0b0d2d8840b78d",
     "grade": false,
     "grade_id": "cell-9de2b3c001bbe02d",
     "locked": true,
     "schema_version": 3,
     "solution": false,
     "task": false
    }
   },
   "source": [
    "We can see that there may be a small decrease in colder temperatures in recent years, and/or the temperatures in recent years look less variable compared to years before 1975. What about other months? Let's plot them! \n",
    "\n",
    "Instead of repeating the code above for the 11 other months, we'll take advantage of a `altair` function that we haven't met yet, `facet`. We will learn more about this function next week, this week we will give you the code for it."
   ]
  },
  {
   "cell_type": "markdown",
   "metadata": {
    "deletable": false,
    "editable": false,
    "nbgrader": {
     "cell_type": "markdown",
     "checksum": "d0de957dfb2d82f1bb77800334ab680b",
     "grade": false,
     "grade_id": "cell-27e2c5089e6710ef",
     "locked": true,
     "schema_version": 3,
     "solution": false
    }
   },
   "source": [
    "**Question 2.6**\n",
    "<br> {points: 1}\n",
    "\n",
    "Fill in the missing code below to plot the average monthly sea surface temperatures to the year they were recorded for all months. \n",
    "\n",
    "*Assign your answer to an object called `all_temp_plot`.*\n",
    "\n",
    "> Hint: don't forget to include the units for temperature in your data visualization."
   ]
  },
  {
   "cell_type": "code",
   "execution_count": null,
   "metadata": {
    "deletable": false,
    "nbgrader": {
     "cell_type": "code",
     "checksum": "f73445d467cf88f30891011a4eea7fb3",
     "grade": false,
     "grade_id": "cell-6a5d54a80ebdc73c",
     "locked": false,
     "schema_version": 3,
     "solution": true
    }
   },
   "outputs": [],
   "source": [
    "# ___ = alt.Chart(___).mark_point().encode(\n",
    "#     x=alt.X(___)\n",
    "#         .scale(zero=False),\n",
    "#     y=alt.Y(___)\n",
    "#         .title(___)\n",
    "#         .scale(zero=False)\n",
    "# ).facet(\n",
    "#     'Month',\n",
    "#     columns=4,\n",
    "# )\n",
    "\n",
    "# your code here\n",
    "raise NotImplementedError\n",
    "all_temp_plot"
   ]
  },
  {
   "cell_type": "code",
   "execution_count": null,
   "metadata": {
    "deletable": false,
    "editable": false,
    "nbgrader": {
     "cell_type": "code",
     "checksum": "e2ca13bd299a09baa0e7054ce5dacf70",
     "grade": true,
     "grade_id": "cell-4529c8b1eb657878",
     "locked": true,
     "points": 1,
     "schema_version": 3,
     "solution": false
    }
   },
   "outputs": [],
   "source": [
    "from hashlib import sha1\n",
    "assert sha1(str(type(all_temp_plot is None)).encode(\"utf-8\")+b\"eac9d\").hexdigest() == \"6f46a4b9b2d29e91f1bf2236695627551197da41\", \"type of all_temp_plot is None is not bool. all_temp_plot is None should be a bool\"\n",
    "assert sha1(str(all_temp_plot is None).encode(\"utf-8\")+b\"eac9d\").hexdigest() == \"36468d296ef0f68e449c43447f89de73bffa8db3\", \"boolean value of all_temp_plot is None is not correct\"\n",
    "\n",
    "assert sha1(str(type(\"Month\" in all_temp_plot.data.columns)).encode(\"utf-8\")+b\"eac9e\").hexdigest() == \"aca9062cc6d96821bf66d4d366df2cc43817b41d\", \"type of \\\"Month\\\" in all_temp_plot.data.columns is not bool. \\\"Month\\\" in all_temp_plot.data.columns should be a bool\"\n",
    "assert sha1(str(\"Month\" in all_temp_plot.data.columns).encode(\"utf-8\")+b\"eac9e\").hexdigest() == \"6bc1555430d16c4b9517f7eaadc8226e6a992972\", \"boolean value of \\\"Month\\\" in all_temp_plot.data.columns is not correct\"\n",
    "\n",
    "assert sha1(str(type(all_temp_plot.facet)).encode(\"utf-8\")+b\"eac9f\").hexdigest() == \"a5874e0f9f26e63e6ba7b33fa9d77d909bcfb61e\", \"type of all_temp_plot.facet is not correct\"\n",
    "assert sha1(str(all_temp_plot.facet).encode(\"utf-8\")+b\"eac9f\").hexdigest() == \"30acd53f5df15174b2473769bd853e876ced2c5a\", \"value of all_temp_plot.facet is not correct\"\n",
    "\n",
    "print('Success!')"
   ]
  },
  {
   "cell_type": "markdown",
   "metadata": {
    "deletable": false,
    "editable": false,
    "nbgrader": {
     "cell_type": "markdown",
     "checksum": "8681d50f447f9d16a8a44d52ca069f3d",
     "grade": false,
     "grade_id": "cell-5406840f482b0738",
     "locked": true,
     "schema_version": 3,
     "solution": false,
     "task": false
    }
   },
   "source": [
    "We can see above that some months show a small, but general increase in temperatures, whereas others don't. And some months show a change in variability and others do not. From this it is clear to us that if we are trying to understand temperature changes over time, we best keep data from different months separate. Also note that the months are sorted in alphabetic order, but it would have been better to sort it according to where during the year each month occurs, we will learn how to do this in an upcoming chapter!"
   ]
  },
  {
   "cell_type": "markdown",
   "metadata": {
    "deletable": false,
    "editable": false,
    "nbgrader": {
     "cell_type": "markdown",
     "checksum": "d8218a3c7217edb9483fa20667e9d437",
     "grade": false,
     "grade_id": "cell-4fed26cd837beb2b",
     "locked": true,
     "schema_version": 3,
     "solution": false,
     "task": false
    }
   },
   "source": [
    "## 3. Pollution in Madrid\n",
    "We're working with a data set from Kaggle once again! [This data](https://www.kaggle.com/decide-soluciones/air-quality-madrid) was collected under the instructions from Madrid's City Council and is publicly available on their website. In recent years, high levels of pollution during certain dry periods has forced the authorities to take measures against the use of cars and act as a reasoning to propose certain regulations. This data includes daily and hourly measurements of air quality from 2001 to 2008. Pollutants are categorized based on their chemical properties.\n",
    "\n",
    "There are a number of stations set up around Madrid and each station's data frame contains all particle measurements that such station has registered from 01/2001 - 04/2008. Not every station has the same equipment, therefore each station can measure only a certain subset of particles. The complete list of possible measurements and their explanations are given by the website:\n",
    "\n",
    "- `SO_2`: sulphur dioxide level measured in μg/m³. High levels can produce irritation in the skin and membranes, and worsen asthma or heart diseases in sensitive groups.\n",
    "- `CO`: carbon monoxide level measured in mg/m³. Carbon monoxide poisoning involves headaches, dizziness and confusion in short exposures and can result in loss of consciousness, arrhythmias, seizures or even death.\n",
    "- `NO_2`: nitrogen dioxide level measured in μg/m³. Long-term exposure is a cause of chronic lung diseases, and are harmful for the vegetation.\n",
    "- `PM10`: particles smaller than 10 μm. Even though they cannot penetrate the alveolus, they can still penetrate through the lungs and affect other organs. Long term exposure can result in lung cancer and cardiovascular complications.\n",
    "- `NOx`: nitrous oxides level measured in μg/m³. Affect the human respiratory system worsening asthma or other diseases, and are responsible of the yellowish-brown color of photochemical smog.\n",
    "- `O_3`: ozone level measured in μg/m³. High levels can produce asthma, bronchytis or other chronic pulmonary diseases in sensitive groups or outdoor workers.\n",
    "- `TOL`: toluene (methylbenzene) level measured in μg/m³. Long-term exposure to this substance (present in tobacco smoke as well) can result in kidney complications or permanent brain damage.\n",
    "- `BEN`: benzene level measured in μg/m³. Benzene is a eye and skin irritant, and long exposures may result in several types of cancer, leukaemia and anaemias. Benzene is considered a group 1 carcinogenic to humans.\n",
    "- `EBE`: ethylbenzene level measured in μg/m³. Long term exposure can cause hearing or kidney problems and the IARC has concluded that long-term exposure can produce cancer.\n",
    "- `MXY`: m-xylene level measured in μg/m³. Xylenes can affect not only air but also water and soil, and a long exposure to high levels of xylenes can result in diseases affecting the liver, kidney and nervous system.\n",
    "- `PXY`: p-xylene level measured in μg/m³. See MXY for xylene exposure effects on health.\n",
    "- `OXY`: o-xylene level measured in μg/m³. See MXY for xylene exposure effects on health.\n",
    "- `TCH`: total hydrocarbons level measured in mg/m³. This group of substances can be responsible of different blood, immune system, liver, spleen, kidneys or lung diseases.\n",
    "- `NMHC`: non-methane hydrocarbons (volatile organic compounds) level measured in mg/m³. Long exposure to some of these substances can result in damage to the liver, kidney, and central nervous system. Some of them are suspected to cause cancer in humans."
   ]
  },
  {
   "cell_type": "markdown",
   "metadata": {
    "deletable": false,
    "editable": false,
    "nbgrader": {
     "cell_type": "markdown",
     "checksum": "f4ffcadff0d22e56abe5dd706008b13f",
     "grade": false,
     "grade_id": "cell-892f43f18911d0ba",
     "locked": true,
     "schema_version": 3,
     "solution": false,
     "task": false
    }
   },
   "source": [
    "The goal of this assignment is to see if pollutants are decreasing (is air quality improving) and also compare which pollutant has decreased the most over the span of 5 years (2001 - 2006). \n",
    "1. First do a plot of one of the pollutants (EBE). \n",
    "2. Next, group it by month and year; calculate the maximum value and plot it (to see the trend through time). \n",
    "3. Now we will look at which pollutant decreased the most. First we will look at pollution in 2001 (get the maximum value for each of the pollutants). And then do the same for 2006. "
   ]
  },
  {
   "cell_type": "markdown",
   "metadata": {
    "deletable": false,
    "editable": false,
    "nbgrader": {
     "cell_type": "markdown",
     "checksum": "c9d249a6060690c7b00190e86c91ff02",
     "grade": false,
     "grade_id": "cell-a99486a2f16469ae",
     "locked": true,
     "schema_version": 3,
     "solution": false
    }
   },
   "source": [
    "**Question 3.1** Multiple Choice: \n",
    "<br> {points: 1}\n",
    "\n",
    "What big picture question are we trying to answer?\n",
    "\n",
    "A. Did EBE decrease in Madrid between 2001 and 2006?\n",
    "\n",
    "B. Of all the pollutants, which decreased the most between 2001 and 2006? \n",
    "\n",
    "C. Of all the pollutants, which decreased the least between 2001 and 2006?\n",
    "\n",
    "D. Did EBE increase in Madrid between 2001 and 2006?\n",
    "\n",
    "*Assign your answer to an object called `answer3_1`. Make sure your answer is an uppercase letter and is surrounded by quotation marks (e.g. `\"F\"`).*"
   ]
  },
  {
   "cell_type": "code",
   "execution_count": null,
   "metadata": {
    "deletable": false,
    "nbgrader": {
     "cell_type": "code",
     "checksum": "e8e54c80e73f166a37cd9925a8273f23",
     "grade": false,
     "grade_id": "cell-fffa52c5bf768a43",
     "locked": false,
     "schema_version": 3,
     "solution": true
    }
   },
   "outputs": [],
   "source": [
    "# your code here\n",
    "raise NotImplementedError"
   ]
  },
  {
   "cell_type": "code",
   "execution_count": null,
   "metadata": {
    "deletable": false,
    "editable": false,
    "nbgrader": {
     "cell_type": "code",
     "checksum": "ce57f867800c773614637eea5758ffcd",
     "grade": true,
     "grade_id": "cell-d67db6d2cd3971aa",
     "locked": true,
     "points": 3,
     "schema_version": 3,
     "solution": false
    }
   },
   "outputs": [],
   "source": [
    "from hashlib import sha1\n",
    "assert sha1(str(type(all_temp_plot)).encode(\"utf-8\")+b\"67e07\").hexdigest() == \"2583e54a420f30fac78315f462c71dadcd40cb24\", \"type of all_temp_plot is not correct\"\n",
    "assert sha1(str(all_temp_plot).encode(\"utf-8\")+b\"67e07\").hexdigest() == \"def0c28d010741ed214fad9ac2606daff71ddf34\", \"value of all_temp_plot is not correct\"\n",
    "\n",
    "print('Success!')"
   ]
  },
  {
   "cell_type": "markdown",
   "metadata": {
    "deletable": false,
    "editable": false,
    "nbgrader": {
     "cell_type": "markdown",
     "checksum": "6ca799de6ed748a3edc5b899b77ed28b",
     "grade": false,
     "grade_id": "cell-beefc03e5d6c203d",
     "locked": true,
     "schema_version": 3,
     "solution": false
    }
   },
   "source": [
    "**Question 3.2** \n",
    "<br> {points: 1}\n",
    "\n",
    "To begin working with this data, read the file `madrid_pollution.csv`. Note, this file (just like the avocado and sea surface data set) is found in the `data` directory. \n",
    "\n",
    "*Assign your answer to an object called `madrid`.* \n",
    "\n",
    "> Hint: check out the data file in the editor mode to see which delimitor is used, and then select the proper `pandas` function."
   ]
  },
  {
   "cell_type": "code",
   "execution_count": null,
   "metadata": {
    "deletable": false,
    "nbgrader": {
     "cell_type": "code",
     "checksum": "6ed2835265606c0ce9872adb082bd06b",
     "grade": false,
     "grade_id": "cell-7f7939bcc9bebde2",
     "locked": false,
     "schema_version": 3,
     "solution": true
    }
   },
   "outputs": [],
   "source": [
    "# your code here\n",
    "raise NotImplementedError\n",
    "madrid"
   ]
  },
  {
   "cell_type": "code",
   "execution_count": null,
   "metadata": {
    "deletable": false,
    "editable": false,
    "nbgrader": {
     "cell_type": "code",
     "checksum": "195a3c44e7170294d4dba7f6bc420d98",
     "grade": true,
     "grade_id": "cell-902507dc58ec5428",
     "locked": true,
     "points": 3,
     "schema_version": 3,
     "solution": false
    }
   },
   "outputs": [],
   "source": [
    "from hashlib import sha1\n",
    "assert str(type(madrid is None)) == \"<class 'bool'>\", \"type of madrid is None is not bool. madrid is None should be a bool\"\n",
    "assert str(madrid is None) == \"False\", \"boolean value of madrid is None is not correct\"\n",
    "\n",
    "assert str(type(madrid)) == \"<class 'pandas.core.frame.DataFrame'>\", \"type of type(madrid) is not correct\"\n",
    "\n",
    "assert str(type(madrid.shape)) == \"<class 'tuple'>\", \"type of madrid.shape is not tuple. madrid.shape should be a tuple\"\n",
    "assert str(len(madrid.shape)) == \"2\", \"length of madrid.shape is not correct\"\n",
    "assert str(sorted(map(str, madrid.shape))) == \"['17', '51864']\", \"values of madrid.shape are not correct\"\n",
    "assert str(madrid.shape) == \"(51864, 17)\", \"order of elements of madrid.shape is not correct\"\n",
    "\n",
    "assert str(type(madrid.columns.values)) == \"<class 'numpy.ndarray'>\", \"type of madrid.columns.values is not correct\"\n",
    "assert str(madrid.columns.values) == \"['date' 'BEN' 'CO' 'EBE' 'MXY' 'NMHC' 'NO_2' 'NOx' 'OXY' 'O_3' 'PM10'\\n 'PXY' 'SO_2' 'TCH' 'TOL' 'year' 'mnth']\", \"value of madrid.columns.values is not correct\"\n",
    "\n",
    "assert sha1(str(type(sum(madrid.BEN.dropna()))).encode(\"utf-8\")+b\"726cd\").hexdigest() == \"03fe490f19ff671ad5e9acbfa415d20d68131b3f\", \"type of sum(madrid.BEN.dropna()) is not float. Please make sure it is float and not np.float64, etc. You can cast your value into a float using float()\"\n",
    "assert sha1(str(round(sum(madrid.BEN.dropna()), 2)).encode(\"utf-8\")+b\"726cd\").hexdigest() == \"6a2b83454667313b322446dbb244e523de8c97bd\", \"value of sum(madrid.BEN.dropna()) is not correct (rounded to 2 decimal places)\"\n",
    "\n",
    "print('Success!')"
   ]
  },
  {
   "cell_type": "markdown",
   "metadata": {
    "deletable": false,
    "editable": false,
    "nbgrader": {
     "cell_type": "markdown",
     "checksum": "c1079d6a21c027f50dc2d5a6cfd14af1",
     "grade": false,
     "grade_id": "cell-da06d5b257b928f0",
     "locked": true,
     "schema_version": 3,
     "solution": false
    }
   },
   "source": [
    "**Question 3.3**\n",
    "<br> {points: 1}\n",
    "\n",
    "Now that the data is loaded in Python, create a scatter plot that compares ethylbenzene (`EBE`) values against the date they were recorded. This graph will showcase the concentration of ethylbenzene in Madrid over time. As usual, label your axes: \n",
    "\n",
    "- x = Date\n",
    "- y = Ethylbenzene (μg/m³)\n",
    "\n",
    "*Assign your answer to an object called `EBE_pollution`.*"
   ]
  },
  {
   "cell_type": "code",
   "execution_count": null,
   "metadata": {
    "deletable": false,
    "nbgrader": {
     "cell_type": "code",
     "checksum": "34055a21e52a422721a385a58db79437",
     "grade": false,
     "grade_id": "cell-14614015f46ccfff",
     "locked": false,
     "schema_version": 3,
     "solution": true
    },
    "tags": []
   },
   "outputs": [],
   "source": [
    "# ___ = alt.Chart(___).mark_point().encode(\n",
    "#     x=alt.X(___).title(___),\n",
    "#     y=alt.Y(___).title(___)\n",
    "# ).properties(width=800)\n",
    "\n",
    "# your code here\n",
    "raise NotImplementedError\n",
    "EBE_pollution\n",
    "\n",
    "# Are levels increasing or decreasing?"
   ]
  },
  {
   "cell_type": "code",
   "execution_count": null,
   "metadata": {
    "deletable": false,
    "editable": false,
    "nbgrader": {
     "cell_type": "code",
     "checksum": "066be29bd8ceb211b44b850eb4e8b1c1",
     "grade": true,
     "grade_id": "cell-4de75a47d9cc2dca",
     "locked": true,
     "points": 1,
     "schema_version": 3,
     "solution": false
    }
   },
   "outputs": [],
   "source": [
    "from hashlib import sha1\n",
    "assert sha1(str(type(EBE_pollution is None)).encode(\"utf-8\")+b\"a9d2a\").hexdigest() == \"a0e349c1bbcc63261717f36d3df5e6a8166798aa\", \"type of EBE_pollution is None is not bool. EBE_pollution is None should be a bool\"\n",
    "assert sha1(str(EBE_pollution is None).encode(\"utf-8\")+b\"a9d2a\").hexdigest() == \"906faf6cc310ce3bc9e58710807fab5e019e10bb\", \"boolean value of EBE_pollution is None is not correct\"\n",
    "\n",
    "assert sha1(str(type(EBE_pollution.encoding.x['shorthand'])).encode(\"utf-8\")+b\"a9d2b\").hexdigest() == \"4a2c15aeaa3561c1b160db2841acc4916f2ea0a9\", \"type of EBE_pollution.encoding.x['shorthand'] is not str. EBE_pollution.encoding.x['shorthand'] should be an str\"\n",
    "assert sha1(str(len(EBE_pollution.encoding.x['shorthand'])).encode(\"utf-8\")+b\"a9d2b\").hexdigest() == \"9a966438a9335f07c7ab99680f03740a551f3349\", \"length of EBE_pollution.encoding.x['shorthand'] is not correct\"\n",
    "assert sha1(str(EBE_pollution.encoding.x['shorthand'].lower()).encode(\"utf-8\")+b\"a9d2b\").hexdigest() == \"d52ca32df8a10564130e347fbbcd73758506209e\", \"value of EBE_pollution.encoding.x['shorthand'] is not correct\"\n",
    "assert sha1(str(EBE_pollution.encoding.x['shorthand']).encode(\"utf-8\")+b\"a9d2b\").hexdigest() == \"8957122af4fcb290b5582173aa0387f6b1bdfe23\", \"correct string value of EBE_pollution.encoding.x['shorthand'] but incorrect case of letters\"\n",
    "\n",
    "assert sha1(str(type(EBE_pollution.encoding.y['shorthand'])).encode(\"utf-8\")+b\"a9d2c\").hexdigest() == \"9bb2301992ce7d3710551a31ecec956325569604\", \"type of EBE_pollution.encoding.y['shorthand'] is not str. EBE_pollution.encoding.y['shorthand'] should be an str\"\n",
    "assert sha1(str(len(EBE_pollution.encoding.y['shorthand'])).encode(\"utf-8\")+b\"a9d2c\").hexdigest() == \"bf0ecc21d8e0ec14a1d82feef48945b87dc0c638\", \"length of EBE_pollution.encoding.y['shorthand'] is not correct\"\n",
    "assert sha1(str(EBE_pollution.encoding.y['shorthand'].lower()).encode(\"utf-8\")+b\"a9d2c\").hexdigest() == \"2eba0f8321b01edd2441278de56296ce411f9d34\", \"value of EBE_pollution.encoding.y['shorthand'] is not correct\"\n",
    "assert sha1(str(EBE_pollution.encoding.y['shorthand']).encode(\"utf-8\")+b\"a9d2c\").hexdigest() == \"3ddcf710a5e27434625af9b94829b807d4eab866\", \"correct string value of EBE_pollution.encoding.y['shorthand'] but incorrect case of letters\"\n",
    "\n",
    "assert sha1(str(type(EBE_pollution.mark)).encode(\"utf-8\")+b\"a9d2d\").hexdigest() == \"17fb0e61b747a5e9e4129ab606c8eb508f52039c\", \"type of EBE_pollution.mark is not str. EBE_pollution.mark should be an str\"\n",
    "assert sha1(str(len(EBE_pollution.mark)).encode(\"utf-8\")+b\"a9d2d\").hexdigest() == \"37b979bb7f2bd66a5efd595eb09e69e6213523cd\", \"length of EBE_pollution.mark is not correct\"\n",
    "assert sha1(str(EBE_pollution.mark.lower()).encode(\"utf-8\")+b\"a9d2d\").hexdigest() == \"05c136c31ceea21cd0dec71be39b02b84d166701\", \"value of EBE_pollution.mark is not correct\"\n",
    "assert sha1(str(EBE_pollution.mark).encode(\"utf-8\")+b\"a9d2d\").hexdigest() == \"05c136c31ceea21cd0dec71be39b02b84d166701\", \"correct string value of EBE_pollution.mark but incorrect case of letters\"\n",
    "\n",
    "assert sha1(str(type(isinstance(EBE_pollution.encoding.x['title'], str))).encode(\"utf-8\")+b\"a9d2e\").hexdigest() == \"5f7e5633cb58bec8771aaa86245dbac724a635e6\", \"type of isinstance(EBE_pollution.encoding.x['title'], str) is not bool. isinstance(EBE_pollution.encoding.x['title'], str) should be a bool\"\n",
    "assert sha1(str(isinstance(EBE_pollution.encoding.x['title'], str)).encode(\"utf-8\")+b\"a9d2e\").hexdigest() == \"a1bca98d8deee1c84e78240b5a553cb250908b24\", \"boolean value of isinstance(EBE_pollution.encoding.x['title'], str) is not correct\"\n",
    "\n",
    "assert sha1(str(type(isinstance(EBE_pollution.encoding.y['title'], str))).encode(\"utf-8\")+b\"a9d2f\").hexdigest() == \"17ab4f5489e8d7160934f82de3ec69fbe0b1b8ed\", \"type of isinstance(EBE_pollution.encoding.y['title'], str) is not bool. isinstance(EBE_pollution.encoding.y['title'], str) should be a bool\"\n",
    "assert sha1(str(isinstance(EBE_pollution.encoding.y['title'], str)).encode(\"utf-8\")+b\"a9d2f\").hexdigest() == \"df9aaae0c9b82791110f438b5c57122783126078\", \"boolean value of isinstance(EBE_pollution.encoding.y['title'], str) is not correct\"\n",
    "\n",
    "print('Success!')"
   ]
  },
  {
   "cell_type": "markdown",
   "metadata": {
    "deletable": false,
    "editable": false,
    "nbgrader": {
     "cell_type": "markdown",
     "checksum": "b658b04f5daef6e4549c08a50bdfd2f3",
     "grade": false,
     "grade_id": "cell-112c1b3ac6b6c720",
     "locked": true,
     "schema_version": 3,
     "solution": false,
     "task": false
    }
   },
   "source": [
    "We can see from this plot that over time, there are less and less high (> 25 μg/m³) EBE values."
   ]
  },
  {
   "cell_type": "markdown",
   "metadata": {
    "deletable": false,
    "editable": false,
    "nbgrader": {
     "cell_type": "markdown",
     "checksum": "bc504a52ef31f0f567b11ab1a517c877",
     "grade": false,
     "grade_id": "cell-648260c1e625b576",
     "locked": true,
     "schema_version": 3,
     "solution": false
    }
   },
   "source": [
    "**Question 3.4**\n",
    "<br> {points: 1}\n",
    "\n",
    "The question above asks you to write out code that allows visualization of all EBE recordings - which are taken every single hour of every day. Consequently the graph consists of many points and appears so densely plotted that it is difficult to interpret. In this question, we are going to clean up the graph and focus on max EBE readings from each month. To further investigate if this trend is changing over time, we will use `groupby` and `max` to create a new data set.\n",
    "\n",
    "Fill in the `___` in the cell below. \n",
    "\n",
    "*Assign your answer to an object called `madrid_pollution`.*"
   ]
  },
  {
   "cell_type": "code",
   "execution_count": null,
   "metadata": {
    "deletable": false,
    "nbgrader": {
     "cell_type": "code",
     "checksum": "8514621883a2b6697273f4b6478a8052",
     "grade": false,
     "grade_id": "cell-dbd1c81ead522ff6",
     "locked": false,
     "schema_version": 3,
     "solution": true
    }
   },
   "outputs": [],
   "source": [
    "# ___ = ___.groupby([\"year\", ___]).max(\"EBE\").reset_index()\n",
    "\n",
    "# your code here\n",
    "raise NotImplementedError\n",
    "madrid_pollution"
   ]
  },
  {
   "cell_type": "code",
   "execution_count": null,
   "metadata": {
    "deletable": false,
    "editable": false,
    "nbgrader": {
     "cell_type": "code",
     "checksum": "00833f933b69e11d5cb0c7e2b7ebfe9e",
     "grade": true,
     "grade_id": "cell-d04ca4acf0f5f6bc",
     "locked": true,
     "points": 3,
     "schema_version": 3,
     "solution": false
    }
   },
   "outputs": [],
   "source": [
    "from hashlib import sha1\n",
    "assert sha1(str(type(madrid_pollution is None)).encode(\"utf-8\")+b\"cf51\").hexdigest() == \"876977053ebb740f9d5c7027d2e8764948b5fcb7\", \"type of madrid_pollution is None is not bool. madrid_pollution is None should be a bool\"\n",
    "assert sha1(str(madrid_pollution is None).encode(\"utf-8\")+b\"cf51\").hexdigest() == \"c68ccdf9a8e99656550fea948cafacf5bf1fe238\", \"boolean value of madrid_pollution is None is not correct\"\n",
    "\n",
    "assert sha1(str(type(madrid_pollution.shape)).encode(\"utf-8\")+b\"cf52\").hexdigest() == \"b3f63db75adce4cb1020a21a8c62c4e9beedab9b\", \"type of madrid_pollution.shape is not tuple. madrid_pollution.shape should be a tuple\"\n",
    "assert sha1(str(len(madrid_pollution.shape)).encode(\"utf-8\")+b\"cf52\").hexdigest() == \"59d56cdde93a061d7660d2ab3df9da95cea20bf7\", \"length of madrid_pollution.shape is not correct\"\n",
    "assert sha1(str(sorted(map(str, madrid_pollution.shape))).encode(\"utf-8\")+b\"cf52\").hexdigest() == \"bada56d28fa0fb6b371e211b33d42118b750569e\", \"values of madrid_pollution.shape are not correct\"\n",
    "assert sha1(str(madrid_pollution.shape).encode(\"utf-8\")+b\"cf52\").hexdigest() == \"220fad5306cd97dca2f991f6c909b6fd2c7c66d0\", \"order of elements of madrid_pollution.shape is not correct\"\n",
    "\n",
    "assert sha1(str(type(sum(madrid_pollution.year))).encode(\"utf-8\")+b\"cf53\").hexdigest() == \"965d57172627d2359d0c679caf5f640ce55df965\", \"type of sum(madrid_pollution.year) is not int. Please make sure it is int and not np.int64, etc. You can cast your value into an int using int()\"\n",
    "assert sha1(str(sum(madrid_pollution.year)).encode(\"utf-8\")+b\"cf53\").hexdigest() == \"1384199bad5be9e7dccf25ace61988319f2a861e\", \"value of sum(madrid_pollution.year) is not correct\"\n",
    "\n",
    "print('Success!')"
   ]
  },
  {
   "cell_type": "markdown",
   "metadata": {
    "deletable": false,
    "editable": false,
    "nbgrader": {
     "cell_type": "markdown",
     "checksum": "12741172ba84ffc08233a15200a7cc78",
     "grade": false,
     "grade_id": "cell-7275e7512b1bd674",
     "locked": true,
     "schema_version": 3,
     "solution": false
    }
   },
   "source": [
    "**Question 3.5**\n",
    "<br> {points: 1}\n",
    "\n",
    "Plot the new maximum EBE values versus the month they were recorded, split into side-by-side plots for each year. Again, we will use facetting (more on this next week) to plot each year side-by-side. \n",
    "\n",
    "*Assign your answer to an object called `madrid_plot`. Remember to label your axes.*"
   ]
  },
  {
   "cell_type": "code",
   "execution_count": null,
   "metadata": {
    "deletable": false,
    "nbgrader": {
     "cell_type": "code",
     "checksum": "77d7098e63a85fe25e71941a5f444fcd",
     "grade": false,
     "grade_id": "cell-a406232e78b0e3ab",
     "locked": false,
     "schema_version": 3,
     "solution": true
    }
   },
   "outputs": [],
   "source": [
    "# ___ = alt.Chart(___).mark_point().encode(\n",
    "#     x=alt.X(___).title(___),\n",
    "#     y=alt.Y(___).title(___)\n",
    "# ).facet(\"year:N\")\n",
    "\n",
    "# your code here\n",
    "raise NotImplementedError\n",
    "madrid_plot"
   ]
  },
  {
   "cell_type": "code",
   "execution_count": null,
   "metadata": {
    "deletable": false,
    "editable": false,
    "nbgrader": {
     "cell_type": "code",
     "checksum": "d48468eee8c5d94debe577b05d385da1",
     "grade": true,
     "grade_id": "cell-b12cea24ac607772",
     "locked": true,
     "points": 1,
     "schema_version": 3,
     "solution": false
    }
   },
   "outputs": [],
   "source": [
    "from hashlib import sha1\n",
    "assert str(type(madrid_plot is None)) == \"<class 'bool'>\", \"type of madrid_plot is None is not bool. madrid_plot is None should be a bool\"\n",
    "assert str(madrid_plot is None) == \"False\", \"boolean value of madrid_plot is None is not correct\"\n",
    "\n",
    "assert str(type(madrid_plot.facet)) == \"<class 'altair.vegalite.v5.schema.channels.Facet'>\", \"type of madrid_plot.facet is not correct\"\n",
    "assert str(madrid_plot.facet) == \"Facet({\\n  shorthand: 'year:N'\\n})\", \"value of madrid_plot.facet is not correct\"\n",
    "\n",
    "print('Success!')"
   ]
  },
  {
   "cell_type": "markdown",
   "metadata": {
    "deletable": false,
    "editable": false,
    "nbgrader": {
     "cell_type": "markdown",
     "checksum": "d5e4b3db7b7147bf41fc9ce8f33aa21d",
     "grade": false,
     "grade_id": "cell-f8e81164975da6e9",
     "locked": true,
     "schema_version": 3,
     "solution": false
    }
   },
   "source": [
    "**Question 3.6**\n",
    "<br> {points: 1}\n",
    "\n",
    "Now we want to see which of the pollutants has decreased the most. Therefore, we must repeat the same thing that we did in the questions above but for every pollutant (using the original data set)!  \n",
    "\n",
    "First we will look at Madrid pollution in 2001 (filter for this year). Next we have to drop the columns that should be excluded (such as the date). Lastly, use the `max` function to create max values for all columns.\n",
    "\n",
    "Note: The `max` function would return a pandas series. But since we would need a dataframe for later exercises, we need to convert the series to a dataframe by using `pd.DataFrame`. Applying `transpose` to the dataframe turns each row into a column, which is also helpful for later exercises.\n",
    "\n",
    "Fill in the `___` in the cell below.\n",
    "\n",
    "*Assign your answer to an object called `pollution_2001`.*"
   ]
  },
  {
   "cell_type": "code",
   "execution_count": null,
   "metadata": {
    "deletable": false,
    "nbgrader": {
     "cell_type": "code",
     "checksum": "8c56d8c3a83a1bf39a798cf1e0bab440",
     "grade": false,
     "grade_id": "cell-be1574acc60b53e9",
     "locked": false,
     "schema_version": 3,
     "solution": true
    }
   },
   "outputs": [],
   "source": [
    "# ___ = pd.DataFrame(\n",
    "#     madrid\n",
    "#     [___]\n",
    "#     .drop(columns=[___, ___, ___])\n",
    "#     .___()\n",
    "# ).transpose()\n",
    "\n",
    "# your code here\n",
    "raise NotImplementedError\n",
    "pollution_2001"
   ]
  },
  {
   "cell_type": "code",
   "execution_count": null,
   "metadata": {
    "deletable": false,
    "editable": false,
    "nbgrader": {
     "cell_type": "code",
     "checksum": "82d5f643ee814fdc81d8f1589d1eeef6",
     "grade": true,
     "grade_id": "cell-23ecb8f3102f3435",
     "locked": true,
     "points": 3,
     "schema_version": 3,
     "solution": false
    }
   },
   "outputs": [],
   "source": [
    "from hashlib import sha1\n",
    "assert sha1(str(type(pollution_2001 is None)).encode(\"utf-8\")+b\"1db17\").hexdigest() == \"f0c03694d844f9b9103e6cd384a564d6eaf7826d\", \"type of pollution_2001 is None is not bool. pollution_2001 is None should be a bool\"\n",
    "assert sha1(str(pollution_2001 is None).encode(\"utf-8\")+b\"1db17\").hexdigest() == \"d4bc860655e2f4464c4e5a7520e73af46948c080\", \"boolean value of pollution_2001 is None is not correct\"\n",
    "\n",
    "assert sha1(str(type(pollution_2001.shape)).encode(\"utf-8\")+b\"1db18\").hexdigest() == \"3738584509e958c63e033fb0f98969f52a65dfe1\", \"type of pollution_2001.shape is not tuple. pollution_2001.shape should be a tuple\"\n",
    "assert sha1(str(len(pollution_2001.shape)).encode(\"utf-8\")+b\"1db18\").hexdigest() == \"a1e0ba5f54257acb5f4a0ab4b6366aa225b15f0d\", \"length of pollution_2001.shape is not correct\"\n",
    "assert sha1(str(sorted(map(str, pollution_2001.shape))).encode(\"utf-8\")+b\"1db18\").hexdigest() == \"0f94fcfbdc46ee9af28088d1aedb9a73387f4836\", \"values of pollution_2001.shape are not correct\"\n",
    "assert sha1(str(pollution_2001.shape).encode(\"utf-8\")+b\"1db18\").hexdigest() == \"6a58605bee7ba5cc55d49280c8003774663584d3\", \"order of elements of pollution_2001.shape is not correct\"\n",
    "\n",
    "assert sha1(str(type(pollution_2001.MXY.values)).encode(\"utf-8\")+b\"1db19\").hexdigest() == \"552c67ca0f7db3e2cdc92ee631817d5713c513d8\", \"type of pollution_2001.MXY.values is not correct\"\n",
    "assert sha1(str(pollution_2001.MXY.values).encode(\"utf-8\")+b\"1db19\").hexdigest() == \"aed5d19a41bc938f1e0e31de3d59c0b7e8d607bd\", \"value of pollution_2001.MXY.values is not correct\"\n",
    "\n",
    "assert sha1(str(type(pollution_2001.values.sum())).encode(\"utf-8\")+b\"1db1a\").hexdigest() == \"b93f13117145ff14e2cae22de6f58acf4e63e55b\", \"type of pollution_2001.values.sum() is not correct\"\n",
    "assert sha1(str(pollution_2001.values.sum()).encode(\"utf-8\")+b\"1db1a\").hexdigest() == \"c903c103becc7cb00f545f1ccc48b8dc2646b479\", \"value of pollution_2001.values.sum() is not correct\"\n",
    "\n",
    "print('Success!')"
   ]
  },
  {
   "cell_type": "markdown",
   "metadata": {
    "deletable": false,
    "editable": false,
    "nbgrader": {
     "cell_type": "markdown",
     "checksum": "4e7a96c4f21bfc5fb9e81ae4c20ade55",
     "grade": false,
     "grade_id": "cell-e39870b13e1cfdbc",
     "locked": true,
     "schema_version": 3,
     "solution": false
    }
   },
   "source": [
    "**Question 3.7**\n",
    "<br> {points: 1}\n",
    "\n",
    "Now repeat what you did for Question 3.6, but filter for 2006 instead. \n",
    "\n",
    "*Assign your answer to an object called `pollution_2006`.*"
   ]
  },
  {
   "cell_type": "code",
   "execution_count": null,
   "metadata": {
    "deletable": false,
    "nbgrader": {
     "cell_type": "code",
     "checksum": "94e97bf90f8fe784d1973e27c11928da",
     "grade": false,
     "grade_id": "cell-f32f902d017d6f0f",
     "locked": false,
     "schema_version": 3,
     "solution": true
    }
   },
   "outputs": [],
   "source": [
    "# your code here\n",
    "raise NotImplementedError\n",
    "pollution_2006"
   ]
  },
  {
   "cell_type": "code",
   "execution_count": null,
   "metadata": {
    "deletable": false,
    "editable": false,
    "nbgrader": {
     "cell_type": "code",
     "checksum": "70815544f8f586606d7b5ad23d21958a",
     "grade": true,
     "grade_id": "cell-df023e23794302c6",
     "locked": true,
     "points": 3,
     "schema_version": 3,
     "solution": false
    }
   },
   "outputs": [],
   "source": [
    "from hashlib import sha1\n",
    "assert str(type(pollution_2006 is None)) == \"<class 'bool'>\", \"type of pollution_2006 is None is not bool. pollution_2006 is None should be a bool\"\n",
    "assert str(pollution_2006 is None) == \"False\", \"boolean value of pollution_2006 is None is not correct\"\n",
    "\n",
    "assert str(type(pollution_2006.shape)) == \"<class 'tuple'>\", \"type of pollution_2006.shape is not tuple. pollution_2006.shape should be a tuple\"\n",
    "assert str(len(pollution_2006.shape)) == \"2\", \"length of pollution_2006.shape is not correct\"\n",
    "assert str(sorted(map(str, pollution_2006.shape))) == \"['1', '14']\", \"values of pollution_2006.shape are not correct\"\n",
    "assert str(pollution_2006.shape) == \"(1, 14)\", \"order of elements of pollution_2006.shape is not correct\"\n",
    "\n",
    "assert sha1(str(type(pollution_2006.MXY.values)).encode(\"utf-8\")+b\"68551\").hexdigest() == \"6c28ec0ed95f204c10dfbe48fbc6faa10546c3e8\", \"type of pollution_2006.MXY.values is not correct\"\n",
    "assert sha1(str(pollution_2006.MXY.values).encode(\"utf-8\")+b\"68551\").hexdigest() == \"2cf333853441c598a117f86dd6a4f3a80ed758ba\", \"value of pollution_2006.MXY.values is not correct\"\n",
    "\n",
    "assert sha1(str(type(pollution_2006.values.sum())).encode(\"utf-8\")+b\"68552\").hexdigest() == \"0aece6d927697ffd9f810cfb9db22d03dde0f6af\", \"type of pollution_2006.values.sum() is not correct\"\n",
    "assert sha1(str(pollution_2006.values.sum()).encode(\"utf-8\")+b\"68552\").hexdigest() == \"791b2443fefbf621fc04a55c4bd1a9730bef0982\", \"value of pollution_2006.values.sum() is not correct\"\n",
    "\n",
    "print('Success!')"
   ]
  },
  {
   "cell_type": "markdown",
   "metadata": {
    "deletable": false,
    "editable": false,
    "nbgrader": {
     "cell_type": "markdown",
     "checksum": "ecc042d43f280cdc8e6fa3f36b83e117",
     "grade": false,
     "grade_id": "cell-a16e6e9379986fdd",
     "locked": true,
     "schema_version": 3,
     "solution": false
    }
   },
   "source": [
    "**Question 3.8** \n",
    "<br> {points: 1}\n",
    "\n",
    "Which pollutant decreased by the greatest magnitude between 2001 and 2006? Given that your the two objects you just created, `pollution_2001` and `pollution_2006` are data frames with the same columns you should be able to subtract the two objects to find which pollutant decreased by the greatest magnitude between the two years. \n",
    "\n",
    "*Assign your answer to an object called `answer3_8`. Make sure to write the answer exactly as it is given in the data set.* Example: \n",
    "\n",
    "```\n",
    "answer3_8 = \"BEN\"\n",
    "```"
   ]
  },
  {
   "cell_type": "code",
   "execution_count": null,
   "metadata": {
    "deletable": false,
    "nbgrader": {
     "cell_type": "code",
     "checksum": "c003c9b98d2d227c7fb824f738676fda",
     "grade": false,
     "grade_id": "cell-37d1d8a36a3010c8",
     "locked": false,
     "schema_version": 3,
     "solution": true
    }
   },
   "outputs": [],
   "source": [
    "# your code here\n",
    "raise NotImplementedError"
   ]
  },
  {
   "cell_type": "code",
   "execution_count": null,
   "metadata": {
    "deletable": false,
    "editable": false,
    "nbgrader": {
     "cell_type": "code",
     "checksum": "d37a59146f884f219e5afbe95ea52141",
     "grade": true,
     "grade_id": "cell-5ed11e7cbe1ac843",
     "locked": true,
     "points": 3,
     "schema_version": 3,
     "solution": false
    }
   },
   "outputs": [],
   "source": [
    "from hashlib import sha1\n",
    "assert sha1(str(type(answer3_8)).encode(\"utf-8\")+b\"20669\").hexdigest() == \"a590c6bd065e3e3a6b1c99e3f1161e34c6782a27\", \"type of answer3_8 is not str. answer3_8 should be an str\"\n",
    "assert sha1(str(len(answer3_8)).encode(\"utf-8\")+b\"20669\").hexdigest() == \"92297e7890dbc44acf7788ecaeb2c2637ed8450b\", \"length of answer3_8 is not correct\"\n",
    "assert sha1(str(answer3_8.lower()).encode(\"utf-8\")+b\"20669\").hexdigest() == \"932355298aa7aea4f271da291849801e2dabdcec\", \"value of answer3_8 is not correct\"\n",
    "assert sha1(str(answer3_8).encode(\"utf-8\")+b\"20669\").hexdigest() == \"b54f90203aaf322b9067fe446e341b7fa144c45c\", \"correct string value of answer3_8 but incorrect case of letters\"\n",
    "\n",
    "print('Success!')"
   ]
  },
  {
   "cell_type": "markdown",
   "metadata": {
    "deletable": false,
    "editable": false,
    "nbgrader": {
     "cell_type": "markdown",
     "checksum": "fabf7b47998a71ea8afd9ed6ceb24321",
     "grade": false,
     "grade_id": "cell-39c7d54ce32a3cf3",
     "locked": true,
     "schema_version": 3,
     "solution": false
    }
   },
   "source": [
    "**Question 3.9**\n",
    "<br> {points: 1}\n",
    "\n",
    "Given that there were only 14 columns in the data frame above, you could use your eyes to pick out which pollutant decreased by the greatest magnitude between 2001 and 2006. But what would you do if you had 100 columns? Or 1000 columns? It would take A LONG TIME for your human eyeballs to find the biggest difference. Maybe you could use the min funcion by specifying `axis=1` (horizontally):"
   ]
  },
  {
   "cell_type": "code",
   "execution_count": null,
   "metadata": {
    "deletable": false,
    "editable": false,
    "nbgrader": {
     "cell_type": "code",
     "checksum": "c4c46f5cccfd17742f297cc6c14a12ac",
     "grade": false,
     "grade_id": "cell-3e5f51fc465018c3",
     "locked": true,
     "schema_version": 3,
     "solution": false,
     "task": false
    }
   },
   "outputs": [],
   "source": [
    "# run this cell\n",
    "(pollution_2006 - pollution_2001).min(axis=1)"
   ]
  },
  {
   "cell_type": "markdown",
   "metadata": {
    "deletable": false,
    "editable": false,
    "nbgrader": {
     "cell_type": "markdown",
     "checksum": "7ce41cb786907c1c71338be09fb2c104",
     "grade": false,
     "grade_id": "cell-6281bc171c2d9074",
     "locked": true,
     "schema_version": 3,
     "solution": false,
     "task": false
    }
   },
   "source": [
    "This is a step in the right direction, but you get the value and not the column name... What are we to do? Tidy our data! Our data is not in tidy format, and so it's difficult to access the values for the variable pollutant because they are stuck as column headers. Let's use `melt` to tidy our data and make it look like this:\n",
    "\n",
    "| pollutant | value  |\n",
    "|-----------|--------|\n",
    "| BEN       | -33.04 |\n",
    "| CO        | -6.91  |\n",
    "| ...       | ...    |\n",
    "\n",
    "To answer this question, fill in the `___` in the cell below. \n",
    "\n",
    "*Assign your answer to an object called `pollution_diff` and ensure it has the same column names as the table pictured above.*"
   ]
  },
  {
   "cell_type": "code",
   "execution_count": null,
   "metadata": {
    "deletable": false,
    "nbgrader": {
     "cell_type": "code",
     "checksum": "c70d664f8482b90fa7f1b1d59234e413",
     "grade": false,
     "grade_id": "cell-96e5081abb9ab341",
     "locked": false,
     "schema_version": 3,
     "solution": true
    }
   },
   "outputs": [],
   "source": [
    "pollution_diff = pollution_2006 - pollution_2001\n",
    "# pollution_diff = ___.melt(var_name=___, value_name=___)\n",
    "\n",
    "\n",
    "# your code here\n",
    "raise NotImplementedError\n",
    "pollution_diff"
   ]
  },
  {
   "cell_type": "code",
   "execution_count": null,
   "metadata": {
    "deletable": false,
    "editable": false,
    "nbgrader": {
     "cell_type": "code",
     "checksum": "15f231a2b38f7d87af7427d7b4faf8de",
     "grade": true,
     "grade_id": "cell-434094b036007273",
     "locked": true,
     "points": 3,
     "schema_version": 3,
     "solution": false
    }
   },
   "outputs": [],
   "source": [
    "from hashlib import sha1\n",
    "assert sha1(str(type(pollution_diff is None)).encode(\"utf-8\")+b\"e6dc4\").hexdigest() == \"a48291d3d3d8f4bb8d8ecdc4bdbb96f3f0637be6\", \"type of pollution_diff is None is not bool. pollution_diff is None should be a bool\"\n",
    "assert sha1(str(pollution_diff is None).encode(\"utf-8\")+b\"e6dc4\").hexdigest() == \"45b6c8fa5f7363e5aed7056c51b17e93270b6302\", \"boolean value of pollution_diff is None is not correct\"\n",
    "\n",
    "assert sha1(str(type(pollution_diff.shape)).encode(\"utf-8\")+b\"e6dc5\").hexdigest() == \"1e996ccca590a01916e00623d4a0e098a8056c90\", \"type of pollution_diff.shape is not tuple. pollution_diff.shape should be a tuple\"\n",
    "assert sha1(str(len(pollution_diff.shape)).encode(\"utf-8\")+b\"e6dc5\").hexdigest() == \"664f8ba883064516d74c515c3ae64181dcd8972c\", \"length of pollution_diff.shape is not correct\"\n",
    "assert sha1(str(sorted(map(str, pollution_diff.shape))).encode(\"utf-8\")+b\"e6dc5\").hexdigest() == \"ac0ec142b7dbcd9228b5a02b4605a87275f50af5\", \"values of pollution_diff.shape are not correct\"\n",
    "assert sha1(str(pollution_diff.shape).encode(\"utf-8\")+b\"e6dc5\").hexdigest() == \"ccb7b0922316382da52f068c39fd1101ea541cf2\", \"order of elements of pollution_diff.shape is not correct\"\n",
    "\n",
    "assert sha1(str(type(pollution_diff.columns.values)).encode(\"utf-8\")+b\"e6dc6\").hexdigest() == \"9a0186d44f17405af9c057a4a44a83c9dcab216d\", \"type of pollution_diff.columns.values is not correct\"\n",
    "assert sha1(str(pollution_diff.columns.values).encode(\"utf-8\")+b\"e6dc6\").hexdigest() == \"e107e69889e920d1f8525444cc287cde6ada715c\", \"value of pollution_diff.columns.values is not correct\"\n",
    "\n",
    "assert sha1(str(type(sum(pollution_diff.value))).encode(\"utf-8\")+b\"e6dc7\").hexdigest() == \"25ab0d88c283434ea6b78f10549dc93d06f1a889\", \"type of sum(pollution_diff.value) is not float. Please make sure it is float and not np.float64, etc. You can cast your value into a float using float()\"\n",
    "assert sha1(str(round(sum(pollution_diff.value), 2)).encode(\"utf-8\")+b\"e6dc7\").hexdigest() == \"fbc37cf355dc8ff85c0e3c2d3049a735c66d7bc5\", \"value of sum(pollution_diff.value) is not correct (rounded to 2 decimal places)\"\n",
    "\n",
    "print('Success!')"
   ]
  },
  {
   "cell_type": "markdown",
   "metadata": {
    "deletable": false,
    "editable": false,
    "nbgrader": {
     "cell_type": "markdown",
     "checksum": "812d2ec14e8a81e751e06db626ebf1d0",
     "grade": false,
     "grade_id": "cell-8933eb3ea15101f3",
     "locked": true,
     "schema_version": 3,
     "solution": false
    }
   },
   "source": [
    "**Question 3.10**\n",
    "<br> {points: 1}\n",
    "\n",
    "Now that you have tidy data, you can use `sort_values` and argument `ascending=False` to order the data in descending order. Each element of the `value` column corresponds to an amount of decrease in a pollutant; so the *largest decrease* in pollutant should be *most negative entry*, i.e., the last row in the resulting dataframe. Therefore, we can take the sorted dataframe and chain it to `tail` (with the argument `1`) to return only the last row of the data frame.\n",
    "\n",
    "(the function `tail` is just like `head`, except it returns the last rows of the dataframe instead of the first rows.)\n",
    "\n",
    "To answer this question, fill in the `___` in the cell below. \n",
    "\n",
    "*Assign your answer to an object called `max_pollution_diff`.*"
   ]
  },
  {
   "cell_type": "code",
   "execution_count": null,
   "metadata": {
    "deletable": false,
    "nbgrader": {
     "cell_type": "code",
     "checksum": "1c8e98272b17f2687700eeba3998ea5d",
     "grade": false,
     "grade_id": "cell-b25d71fbf02fa70e",
     "locked": false,
     "schema_version": 3,
     "solution": true
    }
   },
   "outputs": [],
   "source": [
    "# max_pollution_diff = ___.sort_values(by=___, ascending=False).tail(1)\n",
    "\n",
    "# your code here\n",
    "raise NotImplementedError\n",
    "max_pollution_diff"
   ]
  },
  {
   "cell_type": "code",
   "execution_count": null,
   "metadata": {
    "deletable": false,
    "editable": false,
    "nbgrader": {
     "cell_type": "code",
     "checksum": "5231a6e9667fda272b8ec4d6c64c6804",
     "grade": true,
     "grade_id": "cell-f9cfd97235c900d5",
     "locked": true,
     "points": 3,
     "schema_version": 3,
     "solution": false
    }
   },
   "outputs": [],
   "source": [
    "from hashlib import sha1\n",
    "assert sha1(str(type(max_pollution_diff is None)).encode(\"utf-8\")+b\"b0f20\").hexdigest() == \"3319329277b4c4b28b0da692d3db61099e3f315e\", \"type of max_pollution_diff is None is not bool. max_pollution_diff is None should be a bool\"\n",
    "assert sha1(str(max_pollution_diff is None).encode(\"utf-8\")+b\"b0f20\").hexdigest() == \"225841cc554f68dc91fe94a673d1ae1fbba9f2df\", \"boolean value of max_pollution_diff is None is not correct\"\n",
    "\n",
    "assert sha1(str(type(max_pollution_diff.shape)).encode(\"utf-8\")+b\"b0f21\").hexdigest() == \"00b91903947111b8d2c4547e39a7e623ce2222c7\", \"type of max_pollution_diff.shape is not tuple. max_pollution_diff.shape should be a tuple\"\n",
    "assert sha1(str(len(max_pollution_diff.shape)).encode(\"utf-8\")+b\"b0f21\").hexdigest() == \"a6a8476d3bbebc4d7c91984247fc773e232a4230\", \"length of max_pollution_diff.shape is not correct\"\n",
    "assert sha1(str(sorted(map(str, max_pollution_diff.shape))).encode(\"utf-8\")+b\"b0f21\").hexdigest() == \"de4229be5bda7d5e2f034d881048e3adb307c5f4\", \"values of max_pollution_diff.shape are not correct\"\n",
    "assert sha1(str(max_pollution_diff.shape).encode(\"utf-8\")+b\"b0f21\").hexdigest() == \"1b8d705605d870abb3a849a5d0abb8a11fbf2e2d\", \"order of elements of max_pollution_diff.shape is not correct\"\n",
    "\n",
    "assert sha1(str(type(max_pollution_diff.columns.values)).encode(\"utf-8\")+b\"b0f22\").hexdigest() == \"68b2531b118b88080b3ef9d7c5f8ba3e8cc6b566\", \"type of max_pollution_diff.columns.values is not correct\"\n",
    "assert sha1(str(max_pollution_diff.columns.values).encode(\"utf-8\")+b\"b0f22\").hexdigest() == \"a2a990d706c975f03b9ee7e4f818e05ebc3163f2\", \"value of max_pollution_diff.columns.values is not correct\"\n",
    "\n",
    "assert sha1(str(type(sum(max_pollution_diff.value))).encode(\"utf-8\")+b\"b0f23\").hexdigest() == \"fb731a4d61d086072658f6732a837e475fdf0c0d\", \"type of sum(max_pollution_diff.value) is not float. Please make sure it is float and not np.float64, etc. You can cast your value into a float using float()\"\n",
    "assert sha1(str(round(sum(max_pollution_diff.value), 2)).encode(\"utf-8\")+b\"b0f23\").hexdigest() == \"59ec18405c4e8c2f7e58e3626713f427f1ee74be\", \"value of sum(max_pollution_diff.value) is not correct (rounded to 2 decimal places)\"\n",
    "\n",
    "print('Success!')"
   ]
  },
  {
   "cell_type": "markdown",
   "metadata": {
    "deletable": false,
    "editable": false,
    "nbgrader": {
     "cell_type": "markdown",
     "checksum": "764ce1e60976980e7a5d13cde20d8fa7",
     "grade": false,
     "grade_id": "cell-cc19d9a2d3663e09",
     "locked": true,
     "schema_version": 3,
     "solution": false,
     "task": false
    }
   },
   "source": [
    "At the end of this data wrangling worksheet, we'll leave you with a couple quotes to ponder:\n",
    "\n",
    "> “Happy families are all alike; every unhappy family is unhappy in its own way.” –– Leo Tolstoy\n",
    "\n",
    "> “Tidy datasets are all alike, but every messy dataset is messy in its own way.” –– Hadley Wickham\n"
   ]
  }
 ],
 "metadata": {
  "jupytext": {
   "encoding": "# -*- coding: utf-8 -*-"
  },
  "kernelspec": {
   "display_name": "Python 3 (ipykernel)",
   "language": "python",
   "name": "python3"
  },
  "language_info": {
   "codemirror_mode": {
    "name": "ipython",
    "version": 3
   },
   "file_extension": ".py",
   "mimetype": "text/x-python",
   "name": "python",
   "nbconvert_exporter": "python",
   "pygments_lexer": "ipython3",
   "version": "3.11.5"
  }
 },
 "nbformat": 4,
 "nbformat_minor": 4
}
