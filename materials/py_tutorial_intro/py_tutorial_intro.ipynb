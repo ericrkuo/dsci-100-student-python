{
 "cells": [
  {
   "cell_type": "markdown",
   "metadata": {
    "deletable": false,
    "editable": false,
    "nbgrader": {
     "cell_type": "markdown",
     "checksum": "7bd943c3bf0740544aeff9ee3581030f",
     "grade": false,
     "grade_id": "cell-85a0c5fd586dcfd9",
     "locked": true,
     "schema_version": 3,
     "solution": false,
     "task": false
    }
   },
   "source": [
    "# Tutorial 1: Introduction to Data Science\n",
    "\n",
    "### Lecture and Tutorial Learning Goals:\n",
    "\n",
    "After completing this week's lecture and tutorial work, you will be able to:\n",
    "\n",
    "* use a Jupyter notebook to execute provided Python code\n",
    "* edit code and markdown cells in a Jupyter notebook\n",
    "* create new code and markdown cells in a Jupyter notebook\n",
    "* load the `pandas` package into Python\n",
    "* create new variables and objects in Python\n",
    "* use the help and documentation tools in Python\n",
    "* perform the following operations from the pandas package: \n",
    "    - Read a standard .csv file using `read_csv`.\n",
    "    - Filter rows and select columns using `loc[]` and `[]`.\n",
    "    - Create a new column using `assign`.\n",
    "* use `Altair` package to create plots\n",
    "\n",
    "Reminder: All autograded questions (i.e., questions with tests) are worth 1 point and all hidden test and manually graded questions are worth 3 points. \n",
    "\n",
    "This worksheet covers parts of [the Introduction chapter](https://python.datasciencebook.ca/intro.html) of the online textbook. You should read this chapter before attempting the worksheet.\n",
    "Any place you see `___`, you must fill in the function, variable, or data to complete the code. Substitute the `None` and the `raise NotImplementedError # No Answer - remove if you provide an answer` with your completed code and answers then proceed to run the cell!"
   ]
  },
  {
   "cell_type": "markdown",
   "metadata": {
    "deletable": false,
    "editable": false,
    "nbgrader": {
     "cell_type": "markdown",
     "checksum": "6e2344d7936d0ac758d52d75e2a4c2f2",
     "grade": false,
     "grade_id": "cell-25b73ba30ea0b4bf",
     "locked": true,
     "schema_version": 3,
     "solution": false,
     "task": false
    }
   },
   "source": [
    "**Revision Question** Match the following definitions with the corresponding functions used in Python:\n",
    "<br> {points: 1}\n",
    "\n",
    "*Definitions*\n",
    "\n",
    "A. Reads the most common types of flat file data, comma separated values. \n",
    "\n",
    "B. Filters rows AND selects columns in a single operation\n",
    "\n",
    "C. Filters rows OR selects columns (but not both at the same time)\n",
    "\n",
    "D. Adds a new column to a data frame as a function of the old columns.\n",
    "\n",
    "E. Declares the input data frame for a visualization.\n",
    "\n",
    "*Functions*\n",
    "\n",
    "1. `alt.Chart`\n",
    "2. `loc[]`\n",
    "3. `[]`\n",
    "4. `pd.read_csv`\n",
    "5. `assign`\n",
    "\n",
    "For each definition, assign the integer corresponding to the correct function to the letter object associated with the defintion. For example:\n",
    "\n",
    "    B = 1\n",
    "\n",
    "*Assign your answers to the objects `A`, `B`, `C`, `D`, and `E`. Your answers should each be a single integer.*"
   ]
  },
  {
   "cell_type": "code",
   "execution_count": null,
   "metadata": {
    "deletable": false,
    "nbgrader": {
     "cell_type": "code",
     "checksum": "95096c7e97382e792a131f944f30b221",
     "grade": false,
     "grade_id": "cell-11240e52ed2eb0dc",
     "locked": false,
     "schema_version": 3,
     "solution": true,
     "task": false
    }
   },
   "outputs": [],
   "source": [
    "# your code here\n",
    "raise NotImplementedError"
   ]
  },
  {
   "cell_type": "code",
   "execution_count": null,
   "metadata": {
    "deletable": false,
    "editable": false,
    "nbgrader": {
     "cell_type": "code",
     "checksum": "caf058219bd77ed705f0b288ca5193b3",
     "grade": true,
     "grade_id": "cell-4d0542fe10fc9971",
     "locked": true,
     "points": 3,
     "schema_version": 3,
     "solution": false,
     "task": false
    }
   },
   "outputs": [],
   "source": [
    "from hashlib import sha1\n",
    "assert sha1(str(type(A)).encode(\"utf-8\")+b\"e18f1\").hexdigest() == \"51e657e428b9a734d4d5f4fafa9a47eb683dab8e\", \"type of A is not int. Please make sure it is int and not np.int64, etc. You can cast your value into an int using int()\"\n",
    "assert sha1(str(A).encode(\"utf-8\")+b\"e18f1\").hexdigest() == \"f6a845b0d22ed2ab1da6c4237da1e6ef940b8a1d\", \"value of A is not correct\"\n",
    "\n",
    "assert sha1(str(type(B)).encode(\"utf-8\")+b\"e18f2\").hexdigest() == \"cec51fa33343dadce48fbe379efd65893f4de121\", \"type of B is not int. Please make sure it is int and not np.int64, etc. You can cast your value into an int using int()\"\n",
    "assert sha1(str(B).encode(\"utf-8\")+b\"e18f2\").hexdigest() == \"37fecdfb49eb4fb9eb8c4049909f46e3022f7637\", \"value of B is not correct\"\n",
    "\n",
    "assert sha1(str(type(C)).encode(\"utf-8\")+b\"e18f3\").hexdigest() == \"4c60cf69d3d420f312d5823c1d9e7ec4541d7cd0\", \"type of C is not int. Please make sure it is int and not np.int64, etc. You can cast your value into an int using int()\"\n",
    "assert sha1(str(C).encode(\"utf-8\")+b\"e18f3\").hexdigest() == \"623da7f7d002c59dabaca79f0a6868c9293b62fb\", \"value of C is not correct\"\n",
    "\n",
    "assert sha1(str(type(D)).encode(\"utf-8\")+b\"e18f4\").hexdigest() == \"dd076cdcb4b23c37b1500b4559e4a1e2c0a30777\", \"type of D is not int. Please make sure it is int and not np.int64, etc. You can cast your value into an int using int()\"\n",
    "assert sha1(str(D).encode(\"utf-8\")+b\"e18f4\").hexdigest() == \"79d82a358742b9beb5f8cbe7e530832cfccfb499\", \"value of D is not correct\"\n",
    "\n",
    "assert sha1(str(type(E)).encode(\"utf-8\")+b\"e18f5\").hexdigest() == \"7c04f28653ab91f459c9572a45d20fed15978bf2\", \"type of E is not int. Please make sure it is int and not np.int64, etc. You can cast your value into an int using int()\"\n",
    "assert sha1(str(E).encode(\"utf-8\")+b\"e18f5\").hexdigest() == \"cf956d9f388e937cd1cd5665f0b00290af4a0fd7\", \"value of E is not correct\"\n",
    "\n",
    "print('Success!')"
   ]
  },
  {
   "cell_type": "markdown",
   "metadata": {
    "deletable": false,
    "editable": false,
    "nbgrader": {
     "cell_type": "markdown",
     "checksum": "66cd3520fc5bf592b9f4a9a008773706",
     "grade": false,
     "grade_id": "cell-44e79e9606bfba44",
     "locked": true,
     "schema_version": 3,
     "solution": false,
     "task": false
    }
   },
   "source": [
    "## 1. Vickers and Vertosick Exercise\n",
    "We hope you haven't forgotten about them just yet! As you might recall from lecture, Vickers and Vertosick were the researchers that wanted to study different factors affecting race performance of recreational runners. They assembled a data set that includes the age, sex, and Body Mass Index (BMI) of runners, comparing it with their timed performance (how long it took them to complete either 5 or 10 km runs).\n",
    "\n",
    "We will be continuing our analysis of their data to practice what you learnt during the previous lecture. The goal for today, however, is to produce a plot of BMI against the time **(in minutes)** it took for participants **under the age of 35** to run 5 kilometres. To do this, we will need to complete the following steps:\n",
    "\n",
    "1. use `loc[]` to extract the rows where age is less than 35 and select the `bmi` and `km5_time_seconds` columns \n",
    "2. use `assign` to create a new column with 5 km race time in minutes rather than seconds\n",
    "3. use `Altair` to create our plot of BMI (x-axis) and race time in minutes (y-axis)\n",
    "\n",
    "**Tips for success:** Try going through all of the steps on your own, but don't forget to discuss with others (classmates, TAs, or an instructor) if you get stuck. If something is wrong and you can't spot the issue, be sure to **read the error message carefully**. Since there are a lot of steps involved in working with data and modifying it, feel free to look back at the worksheet from this week for assistance. "
   ]
  },
  {
   "cell_type": "markdown",
   "metadata": {
    "deletable": false,
    "editable": false,
    "nbgrader": {
     "cell_type": "markdown",
     "checksum": "bf49d30252910f0df3d3f5c02c76396f",
     "grade": false,
     "grade_id": "cell-6c38f33b45cf822d",
     "locked": true,
     "schema_version": 3,
     "solution": false,
     "task": false
    }
   },
   "source": [
    "**Question 1.1** Multiple Choice\n",
    "<br> {points: 1}\n",
    "\n",
    "After reading the text above what column do you think we will be using for our threshold when we extract the rows of runners under 35 years old? \n",
    "\n",
    "A. `age`\n",
    "\n",
    "B. `km5_time_seconds`\n",
    "\n",
    "C. `bmi`\n",
    "\n",
    "D. `sex`\n",
    "\n",
    "*Assign your answer to an object called `answer1_1`. Make sure to write the uppercase letter for the answer you have chosen and surround the letter with quotes.*"
   ]
  },
  {
   "cell_type": "code",
   "execution_count": null,
   "metadata": {
    "deletable": false,
    "nbgrader": {
     "cell_type": "code",
     "checksum": "ea7e37a28d9e6cc91aa90f337486b356",
     "grade": false,
     "grade_id": "cell-75bc90e3730511ec",
     "locked": false,
     "schema_version": 3,
     "solution": true,
     "task": false
    }
   },
   "outputs": [],
   "source": [
    "# Make sure the correct answer is an uppercase letter.\n",
    "# Surround your answer with quotation marks.\n",
    "\n",
    "# your code here\n",
    "raise NotImplementedError"
   ]
  },
  {
   "cell_type": "code",
   "execution_count": null,
   "metadata": {
    "deletable": false,
    "editable": false,
    "nbgrader": {
     "cell_type": "code",
     "checksum": "8b9a6a9342634b1943095f965113126d",
     "grade": true,
     "grade_id": "cell-c42553a8bbde5b1c",
     "locked": true,
     "points": 3,
     "schema_version": 3,
     "solution": false,
     "task": false
    }
   },
   "outputs": [],
   "source": [
    "from hashlib import sha1\n",
    "assert sha1(str(type(answer1_1)).encode(\"utf-8\")+b\"dc859\").hexdigest() == \"d5153f09cd7d1c205729942551f9f22d3466df48\", \"type of answer1_1 is not str. answer1_1 should be an str\"\n",
    "assert sha1(str(len(answer1_1)).encode(\"utf-8\")+b\"dc859\").hexdigest() == \"fcab68f0dd1c77aee35013660b7506642e5aaa84\", \"length of answer1_1 is not correct\"\n",
    "assert sha1(str(answer1_1.lower()).encode(\"utf-8\")+b\"dc859\").hexdigest() == \"a9d579fd44636b7fac2b1bbe15a5e93278b4a289\", \"value of answer1_1 is not correct\"\n",
    "assert sha1(str(answer1_1).encode(\"utf-8\")+b\"dc859\").hexdigest() == \"90422e1850f5a26f0826d41715249146457991fd\", \"correct string value of answer1_1 but incorrect case of letters\"\n",
    "\n",
    "print('Success!')"
   ]
  },
  {
   "cell_type": "markdown",
   "metadata": {
    "deletable": false,
    "editable": false,
    "nbgrader": {
     "cell_type": "markdown",
     "checksum": "b24f11f21db2f9268435076f4922d753",
     "grade": false,
     "grade_id": "cell-b15c79b2d290b9b3",
     "locked": true,
     "schema_version": 3,
     "solution": false,
     "task": false
    }
   },
   "source": [
    "**Question 1.2** True or False\n",
    "<br> {points: 1}\n",
    "\n",
    "We will be selecting the columns `age` and `km5_time_seconds` to plot. True or false?\n",
    "\n",
    "*Make sure your answer is either `True` or `False` to an object called `answer1_2`*"
   ]
  },
  {
   "cell_type": "code",
   "execution_count": null,
   "metadata": {
    "deletable": false,
    "nbgrader": {
     "cell_type": "code",
     "checksum": "406a1a389205ca3c5e3bba44f592c97d",
     "grade": false,
     "grade_id": "cell-a217171e362cb73c",
     "locked": false,
     "schema_version": 3,
     "solution": true,
     "task": false
    }
   },
   "outputs": [],
   "source": [
    "# Make sure your answer is either True or False\n",
    "\n",
    "# your code here\n",
    "raise NotImplementedError"
   ]
  },
  {
   "cell_type": "code",
   "execution_count": null,
   "metadata": {
    "deletable": false,
    "editable": false,
    "nbgrader": {
     "cell_type": "code",
     "checksum": "aad24b7150917af82797604da909082c",
     "grade": true,
     "grade_id": "cell-0ce5fe5d981aee34",
     "locked": true,
     "points": 3,
     "schema_version": 3,
     "solution": false,
     "task": false
    }
   },
   "outputs": [],
   "source": [
    "from hashlib import sha1\n",
    "assert sha1(str(type(answer1_2)).encode(\"utf-8\")+b\"5c19e\").hexdigest() == \"50ad7864b742696ed38ef9508973c5168132edff\", \"type of answer1_2 is not bool. answer1_2 should be a bool\"\n",
    "assert sha1(str(answer1_2).encode(\"utf-8\")+b\"5c19e\").hexdigest() == \"1b81df22d809da656f3f9109d843125d6ceec180\", \"boolean value of answer1_2 is not correct\"\n",
    "\n",
    "print('Success!')"
   ]
  },
  {
   "cell_type": "markdown",
   "metadata": {
    "deletable": false,
    "editable": false,
    "nbgrader": {
     "cell_type": "markdown",
     "checksum": "4c1fb8bf1987ac907010f6b553fb367b",
     "grade": false,
     "grade_id": "cell-0c6f36fa88c98732",
     "locked": true,
     "schema_version": 3,
     "solution": false,
     "task": false
    }
   },
   "source": [
    "**Question 1.3** Multiple Choice\n",
    "<br> {points: 1}\n",
    "\n",
    "Select the answer with the correct order of functions that we will use to wrangle our data into a useable form and plot it.\n",
    "\n",
    "A. `assign`, `loc[]`, `alt.Chart`\n",
    "\n",
    "B. `alt.Chart`, `loc[]`, `assign`\n",
    "\n",
    "C. `loc[]`, `assign`, `alt.Chart`\n",
    "\n",
    "D. `assign`, `alt.Chart`, `loc[]`\n",
    "\n",
    "*Assign your answer to an object called `answer1_3`. Make sure your answer is an uppercase letter and is surrounded by quotation marks (e.g. `\"F\"`).*"
   ]
  },
  {
   "cell_type": "code",
   "execution_count": null,
   "metadata": {
    "deletable": false,
    "nbgrader": {
     "cell_type": "code",
     "checksum": "c99563bcd860371a547847418bba1c4e",
     "grade": false,
     "grade_id": "cell-31c140df152027b0",
     "locked": false,
     "schema_version": 3,
     "solution": true,
     "task": false
    }
   },
   "outputs": [],
   "source": [
    "# your code here\n",
    "raise NotImplementedError"
   ]
  },
  {
   "cell_type": "code",
   "execution_count": null,
   "metadata": {
    "deletable": false,
    "editable": false,
    "nbgrader": {
     "cell_type": "code",
     "checksum": "07b789960015c3d70036f46d0233761b",
     "grade": true,
     "grade_id": "cell-77b635dbc13d60a1",
     "locked": true,
     "points": 3,
     "schema_version": 3,
     "solution": false,
     "task": false
    }
   },
   "outputs": [],
   "source": [
    "from hashlib import sha1\n",
    "assert sha1(str(type(answer1_3)).encode(\"utf-8\")+b\"bb313\").hexdigest() == \"122cc8627d59e768e5c61ba197e952758c397f4e\", \"type of answer1_3 is not str. answer1_3 should be an str\"\n",
    "assert sha1(str(len(answer1_3)).encode(\"utf-8\")+b\"bb313\").hexdigest() == \"c16625f1ca83ccf9489e6f3b079d07aa80930550\", \"length of answer1_3 is not correct\"\n",
    "assert sha1(str(answer1_3.lower()).encode(\"utf-8\")+b\"bb313\").hexdigest() == \"bafc7bd0714292796ffab4113f5a4b09743071db\", \"value of answer1_3 is not correct\"\n",
    "assert sha1(str(answer1_3).encode(\"utf-8\")+b\"bb313\").hexdigest() == \"929effe134eef35c7218e7c37ba88abefc0035ce\", \"correct string value of answer1_3 but incorrect case of letters\"\n",
    "\n",
    "print('Success!')"
   ]
  },
  {
   "cell_type": "markdown",
   "metadata": {
    "deletable": false,
    "editable": false,
    "nbgrader": {
     "cell_type": "markdown",
     "checksum": "5c837ce807b4bd94290e55c115d2fe2d",
     "grade": false,
     "grade_id": "cell-ed5667dbd3f678ac",
     "locked": true,
     "schema_version": 3,
     "solution": false,
     "task": false
    }
   },
   "source": [
    "**Question 1.4** \n",
    "<br> {points: 1}\n",
    "\n",
    "To work on the cells below, import the `pandas` package as `pd`. If you have difficulty with importing this package, revisit `worksheet_intro` and read over Section 5 (Packages)."
   ]
  },
  {
   "cell_type": "code",
   "execution_count": null,
   "metadata": {
    "deletable": false,
    "nbgrader": {
     "cell_type": "code",
     "checksum": "7180f3715735027bae60a29a0d30301b",
     "grade": false,
     "grade_id": "cell-838d6276493d3905",
     "locked": false,
     "schema_version": 3,
     "solution": true,
     "task": false
    }
   },
   "outputs": [],
   "source": [
    "import sys\n",
    "\n",
    "# your code here\n",
    "raise NotImplementedError"
   ]
  },
  {
   "cell_type": "code",
   "execution_count": null,
   "metadata": {
    "deletable": false,
    "editable": false,
    "nbgrader": {
     "cell_type": "code",
     "checksum": "49f4837c5c7a8fc0027b1ae535b139c8",
     "grade": true,
     "grade_id": "cell-c3ad4c2c65a4e3d8",
     "locked": true,
     "points": 1,
     "schema_version": 3,
     "solution": false,
     "task": false
    }
   },
   "outputs": [],
   "source": [
    "from hashlib import sha1\n",
    "assert sha1(str(type(('pandas' in sys.modules))).encode(\"utf-8\")+b\"c8f0\").hexdigest() == \"33a5adf0b0a8154ac86c05e25d284a42338b5fde\", \"type of ('pandas' in sys.modules) is not bool. ('pandas' in sys.modules) should be a bool\"\n",
    "assert sha1(str(('pandas' in sys.modules)).encode(\"utf-8\")+b\"c8f0\").hexdigest() == \"adeb7536bca031964bb20e41d3893796c22751e5\", \"boolean value of ('pandas' in sys.modules) is not correct\"\n",
    "\n",
    "assert sha1(str(type((pd.__name__ == 'pandas'))).encode(\"utf-8\")+b\"c8f1\").hexdigest() == \"9370d4e7c1b99489682784335d1d76a51017cb86\", \"type of (pd.__name__ == 'pandas') is not bool. (pd.__name__ == 'pandas') should be a bool\"\n",
    "assert sha1(str((pd.__name__ == 'pandas')).encode(\"utf-8\")+b\"c8f1\").hexdigest() == \"61f945fc2bd94ffa3011f46a21d27a368a463057\", \"boolean value of (pd.__name__ == 'pandas') is not correct\"\n",
    "\n",
    "print('Success!')"
   ]
  },
  {
   "cell_type": "markdown",
   "metadata": {
    "deletable": false,
    "editable": false,
    "nbgrader": {
     "cell_type": "markdown",
     "checksum": "0171e24734d21e7ba779fdae4b70d316",
     "grade": false,
     "grade_id": "cell-f07021816baaf4e9",
     "locked": true,
     "schema_version": 3,
     "solution": false,
     "task": false
    }
   },
   "source": [
    "**Question 1.5** \n",
    "<br> {points: 1}\n",
    "\n",
    "With the proper package loaded, you can now read in the data from the file \"marathon_small.csv\" and assign it to an object called `marathon_small`.\n",
    "To help you along the way, we have provded some scaffolding for you to build on.\n",
    "Uncomment (remove the `#`) the scaffolded code and replace each occurence of `___` with the relevant code to solve this exercise."
   ]
  },
  {
   "cell_type": "code",
   "execution_count": null,
   "metadata": {
    "deletable": false,
    "nbgrader": {
     "cell_type": "code",
     "checksum": "db66958cafc3c5806a1e6be606351850",
     "grade": false,
     "grade_id": "cell-17c78af48b04ffee",
     "locked": false,
     "schema_version": 3,
     "solution": true,
     "task": false
    }
   },
   "outputs": [],
   "source": [
    "# ___ = ___(\"marathon_small.csv\")\n",
    "\n",
    "# your code here\n",
    "raise NotImplementedError\n",
    "marathon_small"
   ]
  },
  {
   "cell_type": "code",
   "execution_count": null,
   "metadata": {
    "deletable": false,
    "editable": false,
    "nbgrader": {
     "cell_type": "code",
     "checksum": "fe3d03d2f726d72f5b722b5b4ec5467c",
     "grade": true,
     "grade_id": "cell-26f74fc328e4b03c",
     "locked": true,
     "points": 1,
     "schema_version": 3,
     "solution": false,
     "task": false
    }
   },
   "outputs": [],
   "source": [
    "from hashlib import sha1\n",
    "assert sha1(str(type(marathon_small['sex'].dtype)).encode(\"utf-8\")+b\"cb15b\").hexdigest() == \"2b8524b724000c6a96eee6bbb40c4dbbe960e907\", \"type of marathon_small['sex'].dtype is not correct\"\n",
    "assert sha1(str(marathon_small['sex'].dtype).encode(\"utf-8\")+b\"cb15b\").hexdigest() == \"fbd64f6c0ab2bdf5a7ccaf16835317b7a8ba2f96\", \"value of marathon_small['sex'].dtype is not correct\"\n",
    "\n",
    "assert sha1(str(type(marathon_small)).encode(\"utf-8\")+b\"cb15c\").hexdigest() == \"57a2e1cc2c91564e36408587a581c71bec2d86a9\", \"type of type(marathon_small) is not correct\"\n",
    "\n",
    "assert sha1(str(type(marathon_small.shape)).encode(\"utf-8\")+b\"cb15d\").hexdigest() == \"7daa1476b15a9557f267ca5153aa7214e1fd7c72\", \"type of marathon_small.shape is not tuple. marathon_small.shape should be a tuple\"\n",
    "assert sha1(str(len(marathon_small.shape)).encode(\"utf-8\")+b\"cb15d\").hexdigest() == \"e45de418980f0db7c9b951329ecc8ee616584cf7\", \"length of marathon_small.shape is not correct\"\n",
    "assert sha1(str(sorted(map(str, marathon_small.shape))).encode(\"utf-8\")+b\"cb15d\").hexdigest() == \"c5e99284f5368ea25c0dd9cc55ecc7f81c22f0bf\", \"values of marathon_small.shape are not correct\"\n",
    "assert sha1(str(marathon_small.shape).encode(\"utf-8\")+b\"cb15d\").hexdigest() == \"f3043d2bb274967b40c6d5bb43a06cac23246859\", \"order of elements of marathon_small.shape is not correct\"\n",
    "\n",
    "assert sha1(str(type(sum(marathon_small.age))).encode(\"utf-8\")+b\"cb15e\").hexdigest() == \"e8805f24080cfb3d0d5690e49d26c2e7b4efcfe2\", \"type of sum(marathon_small.age) is not float. Please make sure it is float and not np.float64, etc. You can cast your value into a float using float()\"\n",
    "assert sha1(str(round(sum(marathon_small.age), 2)).encode(\"utf-8\")+b\"cb15e\").hexdigest() == \"37787f4a678df860b768c7a56cd2486a1c1ed396\", \"value of sum(marathon_small.age) is not correct (rounded to 2 decimal places)\"\n",
    "\n",
    "assert sha1(str(type(marathon_small.columns.values)).encode(\"utf-8\")+b\"cb15f\").hexdigest() == \"01f0758b92feb087a51dd0df36a33e36b95f4a63\", \"type of marathon_small.columns.values is not correct\"\n",
    "assert sha1(str(marathon_small.columns.values).encode(\"utf-8\")+b\"cb15f\").hexdigest() == \"4430b55a3926ec6f667b53ed57f365a12415a5e9\", \"value of marathon_small.columns.values is not correct\"\n",
    "\n",
    "print('Success!')"
   ]
  },
  {
   "cell_type": "markdown",
   "metadata": {
    "deletable": false,
    "editable": false,
    "nbgrader": {
     "cell_type": "markdown",
     "checksum": "91272ce38120ba3192d58d834f36ae19",
     "grade": false,
     "grade_id": "cell-309bf5679eaa6182",
     "locked": true,
     "schema_version": 3,
     "solution": false,
     "task": false
    }
   },
   "source": [
    "**Question 1.6** \n",
    "<br> {points: 1}\n",
    "\n",
    "Use `loc[]` so that information is only included from participants under the age of 35 and the data only contains the columns needed for the plot.\n",
    "\n",
    "In this exercise we have again provided you with some starter code to help you along the way.\n",
    "When there are multiple lines of code,\n",
    "you can highlight them with your pointer\n",
    "and then press <kbd>Ctrl</kbd> + <kbd>/</kbd> (on Windows and Linux) or <kbd>Cmd</kbd> + <kbd>/</kbd> (on Mac)\n",
    "to uncomment all the lines at the same time.\n",
    "You can both comment and uncomment lines with this shortcut;\n",
    "this is more convenient than adding/deleting the `#` manually!\n",
    "\n",
    "*Hint: `bmi` is already given to you below. What else do we want to plot?*\n",
    "\n",
    "*Name the resulting dataframe `marathon_select`*."
   ]
  },
  {
   "cell_type": "code",
   "execution_count": null,
   "metadata": {
    "deletable": false,
    "nbgrader": {
     "cell_type": "code",
     "checksum": "fe34316bf622254037b38b93cdf40ca8",
     "grade": false,
     "grade_id": "cell-474c19a0560520ea",
     "locked": false,
     "schema_version": 3,
     "solution": true,
     "task": false
    }
   },
   "outputs": [],
   "source": [
    "# ___ = ___.loc[\n",
    "#     marathon_small[\"___\"] < 35,\n",
    "#     [\"bmi\", ___]\n",
    "# ]\n",
    "\n",
    "# your code here\n",
    "raise NotImplementedError\n",
    "marathon_select"
   ]
  },
  {
   "cell_type": "code",
   "execution_count": null,
   "metadata": {
    "deletable": false,
    "editable": false,
    "nbgrader": {
     "cell_type": "code",
     "checksum": "e1a8d39e9104b8b1f6e1c8bdd24ad7f4",
     "grade": true,
     "grade_id": "cell-7444e6f653cf5f8f",
     "locked": true,
     "points": 3,
     "schema_version": 3,
     "solution": false,
     "task": false
    }
   },
   "outputs": [],
   "source": [
    "from hashlib import sha1\n",
    "assert sha1(str(type(marathon_select.shape)).encode(\"utf-8\")+b\"dc32f\").hexdigest() == \"4836707cbb326eb077f04878518c86ba2c02379f\", \"type of marathon_select.shape is not tuple. marathon_select.shape should be a tuple\"\n",
    "assert sha1(str(len(marathon_select.shape)).encode(\"utf-8\")+b\"dc32f\").hexdigest() == \"c026ab658708ba774b5c8b17fe722b1750aa7bab\", \"length of marathon_select.shape is not correct\"\n",
    "assert sha1(str(sorted(map(str, marathon_select.shape))).encode(\"utf-8\")+b\"dc32f\").hexdigest() == \"f9ce76bdbe2b566a45ea36859bcb12e92b91d53c\", \"values of marathon_select.shape are not correct\"\n",
    "assert sha1(str(marathon_select.shape).encode(\"utf-8\")+b\"dc32f\").hexdigest() == \"10e4266aa7a85a68eb0f17fb90fb72f88374bd44\", \"order of elements of marathon_select.shape is not correct\"\n",
    "\n",
    "assert sha1(str(type(sum(marathon_select.bmi))).encode(\"utf-8\")+b\"dc330\").hexdigest() == \"ac29108591c5f6033f9432c24381d06e64a52fc0\", \"type of sum(marathon_select.bmi) is not float. Please make sure it is float and not np.float64, etc. You can cast your value into a float using float()\"\n",
    "assert sha1(str(round(sum(marathon_select.bmi), 2)).encode(\"utf-8\")+b\"dc330\").hexdigest() == \"e186d86e97eccde9088b187b4d4bc748a52c0305\", \"value of sum(marathon_select.bmi) is not correct (rounded to 2 decimal places)\"\n",
    "\n",
    "assert sha1(str(type(sum(marathon_select.km5_time_seconds.dropna()))).encode(\"utf-8\")+b\"dc331\").hexdigest() == \"03b9b84f32ed3baf96775524ccb2635c98a1d4da\", \"type of sum(marathon_select.km5_time_seconds.dropna()) is not float. Please make sure it is float and not np.float64, etc. You can cast your value into a float using float()\"\n",
    "assert sha1(str(round(sum(marathon_select.km5_time_seconds.dropna()), 2)).encode(\"utf-8\")+b\"dc331\").hexdigest() == \"0b8a36f0c2505d022b3c7e49d28c515ac2753419\", \"value of sum(marathon_select.km5_time_seconds.dropna()) is not correct (rounded to 2 decimal places)\"\n",
    "\n",
    "print('Success!')"
   ]
  },
  {
   "cell_type": "markdown",
   "metadata": {
    "deletable": false,
    "editable": false,
    "nbgrader": {
     "cell_type": "markdown",
     "checksum": "2439dd763e624a1d1420cc0b3c4cb275",
     "grade": false,
     "grade_id": "cell-9c19923c2f7c7845",
     "locked": true,
     "schema_version": 3,
     "solution": false,
     "task": false
    }
   },
   "source": [
    "**Question 1.7** \n",
    "<br> {points: 1}\n",
    "\n",
    "Create a new column called: `km5_time_minutes` which contains the time in minutes rather than seconds.\n",
    "\n",
    "*Name the result after creating the new column `marathon_exact`.*"
   ]
  },
  {
   "cell_type": "code",
   "execution_count": null,
   "metadata": {
    "deletable": false,
    "nbgrader": {
     "cell_type": "code",
     "checksum": "57ba84d45b35b3081088602cd6bff0c1",
     "grade": false,
     "grade_id": "cell-0c50d6982c7c045e",
     "locked": false,
     "schema_version": 3,
     "solution": true,
     "task": false
    }
   },
   "outputs": [],
   "source": [
    "# ___ = marathon_select.assign(km5_time_minutes = ___ / ___)\n",
    "\n",
    "\n",
    "# your code here\n",
    "raise NotImplementedError\n",
    "marathon_exact"
   ]
  },
  {
   "cell_type": "code",
   "execution_count": null,
   "metadata": {
    "deletable": false,
    "editable": false,
    "nbgrader": {
     "cell_type": "code",
     "checksum": "f181c793a7fba379c295986d73383af3",
     "grade": true,
     "grade_id": "cell-e83df5e97ab5015e",
     "locked": true,
     "points": 3,
     "schema_version": 3,
     "solution": false,
     "task": false
    }
   },
   "outputs": [],
   "source": [
    "from hashlib import sha1\n",
    "assert sha1(str(type(marathon_exact.shape)).encode(\"utf-8\")+b\"bcfc8\").hexdigest() == \"10a2b6863bed138a5b01e91d47172150e2e48dc5\", \"type of marathon_exact.shape is not tuple. marathon_exact.shape should be a tuple\"\n",
    "assert sha1(str(len(marathon_exact.shape)).encode(\"utf-8\")+b\"bcfc8\").hexdigest() == \"f25d9f1d6ac93de2c9876306d8a2fc18c3077d67\", \"length of marathon_exact.shape is not correct\"\n",
    "assert sha1(str(sorted(map(str, marathon_exact.shape))).encode(\"utf-8\")+b\"bcfc8\").hexdigest() == \"6a63e57b570a0e24e793661642333425614bf51a\", \"values of marathon_exact.shape are not correct\"\n",
    "assert sha1(str(marathon_exact.shape).encode(\"utf-8\")+b\"bcfc8\").hexdigest() == \"d98db0bcd7e409e33fa87302e4fbd37e7f0277f7\", \"order of elements of marathon_exact.shape is not correct\"\n",
    "\n",
    "assert sha1(str(type(sum(marathon_exact.bmi))).encode(\"utf-8\")+b\"bcfc9\").hexdigest() == \"23e4c922f1f57b667695abee0e9d07c8ac132bdd\", \"type of sum(marathon_exact.bmi) is not float. Please make sure it is float and not np.float64, etc. You can cast your value into a float using float()\"\n",
    "assert sha1(str(round(sum(marathon_exact.bmi), 2)).encode(\"utf-8\")+b\"bcfc9\").hexdigest() == \"a8658d82856bc6bf0e0b0bece5a5df61109c91af\", \"value of sum(marathon_exact.bmi) is not correct (rounded to 2 decimal places)\"\n",
    "\n",
    "assert sha1(str(type(sum(marathon_exact.km5_time_minutes.dropna()))).encode(\"utf-8\")+b\"bcfca\").hexdigest() == \"ae26bea790a20b2a7f42432b5c8e589c45b38c33\", \"type of sum(marathon_exact.km5_time_minutes.dropna()) is not float. Please make sure it is float and not np.float64, etc. You can cast your value into a float using float()\"\n",
    "assert sha1(str(round(sum(marathon_exact.km5_time_minutes.dropna()), 2)).encode(\"utf-8\")+b\"bcfca\").hexdigest() == \"f3c8c4604225111f0582b3f4c79db054b8c231ee\", \"value of sum(marathon_exact.km5_time_minutes.dropna()) is not correct (rounded to 2 decimal places)\"\n",
    "\n",
    "print('Success!')"
   ]
  },
  {
   "cell_type": "markdown",
   "metadata": {
    "deletable": false,
    "editable": false,
    "nbgrader": {
     "cell_type": "markdown",
     "checksum": "d46e8dae2dc2113781f7f83d0f72613b",
     "grade": false,
     "grade_id": "cell-7ef604f6aee436aa",
     "locked": true,
     "schema_version": 3,
     "solution": false,
     "task": false
    }
   },
   "source": [
    "**Question 1.8** \n",
    "<br> {points: 1}\n",
    "\n",
    "Now let's generate a scatter plot with the `bmi` on the x-axis and the time in minutes on the y-axis. Assign the plot to a variable called `marathon_plot`.\n",
    "\n",
    "Ensure that your axis labels are human-readable (do not leave them as default column names)."
   ]
  },
  {
   "cell_type": "code",
   "execution_count": null,
   "metadata": {
    "deletable": false,
    "editable": false,
    "nbgrader": {
     "cell_type": "code",
     "checksum": "91420fba064926f362bb8e1313985295",
     "grade": false,
     "grade_id": "cell-98c2d21b86fabddd",
     "locked": true,
     "schema_version": 3,
     "solution": false,
     "task": false
    }
   },
   "outputs": [],
   "source": [
    "# run this cell\n",
    "import altair as alt"
   ]
  },
  {
   "cell_type": "code",
   "execution_count": null,
   "metadata": {
    "deletable": false,
    "nbgrader": {
     "cell_type": "code",
     "checksum": "9312165e02a64c657b3f5c14e2890ef1",
     "grade": false,
     "grade_id": "cell-1bc204f786428323",
     "locked": false,
     "schema_version": 3,
     "solution": true,
     "task": false
    }
   },
   "outputs": [],
   "source": [
    "# ___ = ___(marathon_exact).mark_point().encode(\n",
    "#     x=alt.X(___).title(___),\n",
    "#     y=___(___).___(___)\n",
    "# )\n",
    "\n",
    "# your code here\n",
    "raise NotImplementedError"
   ]
  },
  {
   "cell_type": "code",
   "execution_count": null,
   "metadata": {
    "deletable": false,
    "editable": false,
    "nbgrader": {
     "cell_type": "code",
     "checksum": "6ed072f52755777e83b2ae4f3457c6f8",
     "grade": false,
     "grade_id": "cell-1edddde57e580c7a",
     "locked": true,
     "schema_version": 3,
     "solution": false,
     "task": false
    }
   },
   "outputs": [],
   "source": [
    "# Run this cell to see what your scatterplot looks like!\n",
    "marathon_plot"
   ]
  },
  {
   "cell_type": "code",
   "execution_count": null,
   "metadata": {
    "deletable": false,
    "editable": false,
    "nbgrader": {
     "cell_type": "code",
     "checksum": "e0dd6d1cb72048febb306faba43d962b",
     "grade": true,
     "grade_id": "cell-e21f341526c8d353",
     "locked": true,
     "points": 1,
     "schema_version": 3,
     "solution": false,
     "task": false
    }
   },
   "outputs": [],
   "source": [
    "from hashlib import sha1\n",
    "assert sha1(str(type(marathon_plot.encoding.x['shorthand'])).encode(\"utf-8\")+b\"bd596\").hexdigest() == \"5e61f8017a33f73e6f1d7fc48f64471c0ecc0de6\", \"type of marathon_plot.encoding.x['shorthand'] is not str. marathon_plot.encoding.x['shorthand'] should be an str\"\n",
    "assert sha1(str(len(marathon_plot.encoding.x['shorthand'])).encode(\"utf-8\")+b\"bd596\").hexdigest() == \"767f3156c33aa6665eddca27b0414689953289a6\", \"length of marathon_plot.encoding.x['shorthand'] is not correct\"\n",
    "assert sha1(str(marathon_plot.encoding.x['shorthand'].lower()).encode(\"utf-8\")+b\"bd596\").hexdigest() == \"bb96bf4805cad188ac916b0b7af3fc44f867fa16\", \"value of marathon_plot.encoding.x['shorthand'] is not correct\"\n",
    "assert sha1(str(marathon_plot.encoding.x['shorthand']).encode(\"utf-8\")+b\"bd596\").hexdigest() == \"bb96bf4805cad188ac916b0b7af3fc44f867fa16\", \"correct string value of marathon_plot.encoding.x['shorthand'] but incorrect case of letters\"\n",
    "\n",
    "assert sha1(str(type(marathon_plot.encoding.y['shorthand'])).encode(\"utf-8\")+b\"bd597\").hexdigest() == \"3a89aa125a0649e49daa33e4eaeb8dcc8ae81d98\", \"type of marathon_plot.encoding.y['shorthand'] is not str. marathon_plot.encoding.y['shorthand'] should be an str\"\n",
    "assert sha1(str(len(marathon_plot.encoding.y['shorthand'])).encode(\"utf-8\")+b\"bd597\").hexdigest() == \"181c6da99cf661b6ba636be602defcc792086f2b\", \"length of marathon_plot.encoding.y['shorthand'] is not correct\"\n",
    "assert sha1(str(marathon_plot.encoding.y['shorthand'].lower()).encode(\"utf-8\")+b\"bd597\").hexdigest() == \"26aae5ef1fbaea96c157e221b3266fe76215bb43\", \"value of marathon_plot.encoding.y['shorthand'] is not correct\"\n",
    "assert sha1(str(marathon_plot.encoding.y['shorthand']).encode(\"utf-8\")+b\"bd597\").hexdigest() == \"26aae5ef1fbaea96c157e221b3266fe76215bb43\", \"correct string value of marathon_plot.encoding.y['shorthand'] but incorrect case of letters\"\n",
    "\n",
    "assert sha1(str(type(marathon_plot.mark)).encode(\"utf-8\")+b\"bd598\").hexdigest() == \"2ffff6b16297760062d464ef08dc00e82c27301a\", \"type of marathon_plot.mark is not str. marathon_plot.mark should be an str\"\n",
    "assert sha1(str(len(marathon_plot.mark)).encode(\"utf-8\")+b\"bd598\").hexdigest() == \"54108d7fdaa5cb61475ce092e1329b3f55af6554\", \"length of marathon_plot.mark is not correct\"\n",
    "assert sha1(str(marathon_plot.mark.lower()).encode(\"utf-8\")+b\"bd598\").hexdigest() == \"31a540abeec294773d4485056490b4a8093f43c6\", \"value of marathon_plot.mark is not correct\"\n",
    "assert sha1(str(marathon_plot.mark).encode(\"utf-8\")+b\"bd598\").hexdigest() == \"31a540abeec294773d4485056490b4a8093f43c6\", \"correct string value of marathon_plot.mark but incorrect case of letters\"\n",
    "\n",
    "assert sha1(str(type(isinstance(marathon_plot.encoding.x['title'], str))).encode(\"utf-8\")+b\"bd599\").hexdigest() == \"400a252004037be78df1b63d885a4d7d7d910b49\", \"type of isinstance(marathon_plot.encoding.x['title'], str) is not bool. isinstance(marathon_plot.encoding.x['title'], str) should be a bool\"\n",
    "assert sha1(str(isinstance(marathon_plot.encoding.x['title'], str)).encode(\"utf-8\")+b\"bd599\").hexdigest() == \"331c4f40bc09cc2e2d741bb4c259803bb2924364\", \"boolean value of isinstance(marathon_plot.encoding.x['title'], str) is not correct\"\n",
    "\n",
    "assert sha1(str(type(isinstance(marathon_plot.encoding.y['title'], str))).encode(\"utf-8\")+b\"bd59a\").hexdigest() == \"ff7678da9b5c265272f0e61152f77f6acbb3c918\", \"type of isinstance(marathon_plot.encoding.y['title'], str) is not bool. isinstance(marathon_plot.encoding.y['title'], str) should be a bool\"\n",
    "assert sha1(str(isinstance(marathon_plot.encoding.y['title'], str)).encode(\"utf-8\")+b\"bd59a\").hexdigest() == \"16f27c0c9f5cfa05d1722e508ff4866d2c48714d\", \"boolean value of isinstance(marathon_plot.encoding.y['title'], str) is not correct\"\n",
    "\n",
    "print('Success!')"
   ]
  },
  {
   "cell_type": "markdown",
   "metadata": {
    "deletable": false,
    "editable": false,
    "nbgrader": {
     "cell_type": "markdown",
     "checksum": "3ea0ecc68561e3fe5833aefa9123e956",
     "grade": false,
     "grade_id": "cell-20818b5fbae9c619",
     "locked": true,
     "schema_version": 3,
     "solution": false,
     "task": false
    }
   },
   "source": [
    "**Question 1.9** \n",
    "<br> {points: 3}\n",
    "\n",
    "Which option below **best** describes the plot above? \n",
    "\n",
    "A. For runners under the age of 35, there is no relationship at all between BMI and the time it takes to complete a 5 km race . \n",
    "\n",
    "B. For runners under 35, we see that as BMI increases the time it takes to complete a 5 km race increases. This suggests that there is a positive relationship between these two variables for runners under 35 in this data set. \n",
    "\n",
    "C. For runners under 35, we see that as BMI increases the time it takes to complete a 5 km decreases. This suggests that there is a negative relationship between these two variables for runners under 35 in this data set.\n",
    "\n",
    "*Assign your answer to an object called `answer1_9`. Make sure your answer is an uppercase letter and is surrounded by quotation marks (e.g. `\"F\"`).*"
   ]
  },
  {
   "cell_type": "code",
   "execution_count": null,
   "metadata": {
    "deletable": false,
    "nbgrader": {
     "cell_type": "code",
     "checksum": "3a087dbbbe9b5e05749f2c6f76af322a",
     "grade": false,
     "grade_id": "cell-ab822dfb6234345c",
     "locked": false,
     "schema_version": 3,
     "solution": true,
     "task": false
    }
   },
   "outputs": [],
   "source": [
    "# your code here\n",
    "raise NotImplementedError"
   ]
  },
  {
   "cell_type": "code",
   "execution_count": null,
   "metadata": {
    "deletable": false,
    "editable": false,
    "nbgrader": {
     "cell_type": "code",
     "checksum": "e7fdd29fb92040aabca6cca825fa3ac4",
     "grade": true,
     "grade_id": "cell-715eb5a0e4776d9b",
     "locked": true,
     "points": 3,
     "schema_version": 3,
     "solution": false,
     "task": false
    }
   },
   "outputs": [],
   "source": [
    "from hashlib import sha1\n",
    "assert sha1(str(type(answer1_9)).encode(\"utf-8\")+b\"d00b9\").hexdigest() == \"aef8dbdfccc1b94931a89049adcc18d23b4bf186\", \"type of answer1_9 is not str. answer1_9 should be an str\"\n",
    "assert sha1(str(len(answer1_9)).encode(\"utf-8\")+b\"d00b9\").hexdigest() == \"4d21d51972760dfd31af406ed03280860c467419\", \"length of answer1_9 is not correct\"\n",
    "assert sha1(str(answer1_9.lower()).encode(\"utf-8\")+b\"d00b9\").hexdigest() == \"d22bddebb4d8810f9688b937d7d0324ac50344fe\", \"value of answer1_9 is not correct\"\n",
    "assert sha1(str(answer1_9).encode(\"utf-8\")+b\"d00b9\").hexdigest() == \"6acdd8b25b5fc4d03c3c2e3635232bba8091e8a0\", \"correct string value of answer1_9 but incorrect case of letters\"\n",
    "\n",
    "print('Success!')"
   ]
  },
  {
   "cell_type": "markdown",
   "metadata": {
    "deletable": false,
    "editable": false,
    "nbgrader": {
     "cell_type": "markdown",
     "checksum": "4db478834f4b57650fda9d6e21a967f5",
     "grade": false,
     "grade_id": "cell-ce878ea67a15e6c7",
     "locked": true,
     "schema_version": 3,
     "solution": false,
     "task": false
    }
   },
   "source": [
    "**Question 1.10**\n",
    "<br> {points: 1}\n",
    "\n",
    "Now explore the relationship between the **age** of all runners and the time taken to complete the 5 km run (in minutes again). Using the original `marathon_small` data frame, mutate the `km5_time_seconds` column such that it is in minutes and name the new column `km5_time_minutes`. Save the resulting data frame to an object called `marathon_small_mins`.\n",
    "\n",
    "Next, create a scatter plot (similar to the one in Question 1.9) but this time have `age` on the x-axis. Assign your plot to an object called `age_vs_time`.\n",
    "\n",
    "There is a lot missing from the cell below (no hints were given). Try working on it on your own before looking at earlier questions in this tutorial or worksheet_intro. \n",
    "\n",
    "*Don't forget to label your axes! Where appropriate, axes labels should also include units (for example, the axis that maps to the column `age` should have the unit \"years\").*"
   ]
  },
  {
   "cell_type": "code",
   "execution_count": null,
   "metadata": {
    "deletable": false,
    "nbgrader": {
     "cell_type": "code",
     "checksum": "3549f4f07edb87f7f59707a9dbfccd1f",
     "grade": false,
     "grade_id": "cell-bcd05254c65e0920",
     "locked": false,
     "schema_version": 3,
     "solution": true,
     "task": false
    }
   },
   "outputs": [],
   "source": [
    "# your code here\n",
    "raise NotImplementedError\n",
    "age_vs_time"
   ]
  },
  {
   "cell_type": "code",
   "execution_count": null,
   "metadata": {
    "deletable": false,
    "editable": false,
    "nbgrader": {
     "cell_type": "code",
     "checksum": "c70edb06d12a92bf90c77c50b736e2a9",
     "grade": true,
     "grade_id": "cell-77293cad92ee1042",
     "locked": true,
     "points": 1,
     "schema_version": 3,
     "solution": false,
     "task": false
    }
   },
   "outputs": [],
   "source": [
    "from hashlib import sha1\n",
    "assert sha1(str(type(marathon_small_mins.columns.to_numpy())).encode(\"utf-8\")+b\"ba593\").hexdigest() == \"16345d3bd527e583f4441eee40009479985fd92c\", \"type of marathon_small_mins.columns.to_numpy() is not correct\"\n",
    "assert sha1(str(marathon_small_mins.columns.to_numpy()).encode(\"utf-8\")+b\"ba593\").hexdigest() == \"d0b2f6e1a316c596e6233a2b9730c801459b2fa4\", \"value of marathon_small_mins.columns.to_numpy() is not correct\"\n",
    "\n",
    "assert sha1(str(type(age_vs_time.encoding.x['shorthand'])).encode(\"utf-8\")+b\"ba594\").hexdigest() == \"daccfbde1693ab4c0517f5f7add8fa2698b40288\", \"type of age_vs_time.encoding.x['shorthand'] is not str. age_vs_time.encoding.x['shorthand'] should be an str\"\n",
    "assert sha1(str(len(age_vs_time.encoding.x['shorthand'])).encode(\"utf-8\")+b\"ba594\").hexdigest() == \"0b82bb19532373120407c884949572e5c553c99c\", \"length of age_vs_time.encoding.x['shorthand'] is not correct\"\n",
    "assert sha1(str(age_vs_time.encoding.x['shorthand'].lower()).encode(\"utf-8\")+b\"ba594\").hexdigest() == \"234fd4b21ae939503e5d417b0f214dd47e568d05\", \"value of age_vs_time.encoding.x['shorthand'] is not correct\"\n",
    "assert sha1(str(age_vs_time.encoding.x['shorthand']).encode(\"utf-8\")+b\"ba594\").hexdigest() == \"234fd4b21ae939503e5d417b0f214dd47e568d05\", \"correct string value of age_vs_time.encoding.x['shorthand'] but incorrect case of letters\"\n",
    "\n",
    "assert sha1(str(type(age_vs_time.encoding.y['shorthand'])).encode(\"utf-8\")+b\"ba595\").hexdigest() == \"b16b6014cde7bfa88bdbd0ca44b7e342994b90a4\", \"type of age_vs_time.encoding.y['shorthand'] is not str. age_vs_time.encoding.y['shorthand'] should be an str\"\n",
    "assert sha1(str(len(age_vs_time.encoding.y['shorthand'])).encode(\"utf-8\")+b\"ba595\").hexdigest() == \"cf82a0bb4611d366c34b959edf864221bdb39922\", \"length of age_vs_time.encoding.y['shorthand'] is not correct\"\n",
    "assert sha1(str(age_vs_time.encoding.y['shorthand'].lower()).encode(\"utf-8\")+b\"ba595\").hexdigest() == \"b6849ff822e6d01eb200186aeb1a82934ac7dc06\", \"value of age_vs_time.encoding.y['shorthand'] is not correct\"\n",
    "assert sha1(str(age_vs_time.encoding.y['shorthand']).encode(\"utf-8\")+b\"ba595\").hexdigest() == \"b6849ff822e6d01eb200186aeb1a82934ac7dc06\", \"correct string value of age_vs_time.encoding.y['shorthand'] but incorrect case of letters\"\n",
    "\n",
    "assert sha1(str(type(age_vs_time.mark)).encode(\"utf-8\")+b\"ba596\").hexdigest() == \"669100015de0621063969b8191fb9c7dcf96d039\", \"type of age_vs_time.mark is not str. age_vs_time.mark should be an str\"\n",
    "assert sha1(str(len(age_vs_time.mark)).encode(\"utf-8\")+b\"ba596\").hexdigest() == \"21d311a32c6478d36d26d5e4798232a891c3f8b1\", \"length of age_vs_time.mark is not correct\"\n",
    "assert sha1(str(age_vs_time.mark.lower()).encode(\"utf-8\")+b\"ba596\").hexdigest() == \"cb23fc7164fea7a2605a11df9233baa0ec013bb9\", \"value of age_vs_time.mark is not correct\"\n",
    "assert sha1(str(age_vs_time.mark).encode(\"utf-8\")+b\"ba596\").hexdigest() == \"cb23fc7164fea7a2605a11df9233baa0ec013bb9\", \"correct string value of age_vs_time.mark but incorrect case of letters\"\n",
    "\n",
    "assert sha1(str(type(isinstance(age_vs_time.encoding.x['title'], str))).encode(\"utf-8\")+b\"ba597\").hexdigest() == \"c4c9a59feb37e41a6832e148b5085cc2ecb92e7a\", \"type of isinstance(age_vs_time.encoding.x['title'], str) is not bool. isinstance(age_vs_time.encoding.x['title'], str) should be a bool\"\n",
    "assert sha1(str(isinstance(age_vs_time.encoding.x['title'], str)).encode(\"utf-8\")+b\"ba597\").hexdigest() == \"737e5afff6694c560e03b6d2e84524f1d55ba8e5\", \"boolean value of isinstance(age_vs_time.encoding.x['title'], str) is not correct\"\n",
    "\n",
    "assert sha1(str(type(isinstance(age_vs_time.encoding.y['title'], str))).encode(\"utf-8\")+b\"ba598\").hexdigest() == \"d1cca84884742b517970c90d47077882fab69e85\", \"type of isinstance(age_vs_time.encoding.y['title'], str) is not bool. isinstance(age_vs_time.encoding.y['title'], str) should be a bool\"\n",
    "assert sha1(str(isinstance(age_vs_time.encoding.y['title'], str)).encode(\"utf-8\")+b\"ba598\").hexdigest() == \"9fef565f2fa671c358407a793ea65572063d4813\", \"boolean value of isinstance(age_vs_time.encoding.y['title'], str) is not correct\"\n",
    "\n",
    "print('Success!')"
   ]
  },
  {
   "cell_type": "markdown",
   "metadata": {
    "deletable": false,
    "editable": false,
    "nbgrader": {
     "cell_type": "markdown",
     "checksum": "988cf65a79ce588571bbbce02d8606f3",
     "grade": false,
     "grade_id": "cell-d2ac41dfdda0cb45",
     "locked": true,
     "schema_version": 3,
     "solution": false,
     "task": false
    }
   },
   "source": [
    "**Question 1.11**\n",
    "<br> {points: 3}\n",
    "\n",
    "In the plot above, we can see a positive relationship between age and time taken to complete a 5 km run. Is this relationship strong (points are close together) or weak (points are more widely scattered)? \n",
    "\n",
    "Assign your answer (either `\"weak\"` or `\"strong\"`) to an object called `answer1_11`. Make sure to write in all lower-case and surround your answer with quotes."
   ]
  },
  {
   "cell_type": "code",
   "execution_count": null,
   "metadata": {
    "deletable": false,
    "nbgrader": {
     "cell_type": "code",
     "checksum": "a8a5d3c3c0848eba8c2b67561091b36a",
     "grade": false,
     "grade_id": "cell-52ccce61d3b206b3",
     "locked": false,
     "schema_version": 3,
     "solution": true,
     "task": false
    }
   },
   "outputs": [],
   "source": [
    "# your code here\n",
    "raise NotImplementedError"
   ]
  },
  {
   "cell_type": "code",
   "execution_count": null,
   "metadata": {
    "deletable": false,
    "editable": false,
    "nbgrader": {
     "cell_type": "code",
     "checksum": "cd5c3d3ee2a05767a1c48a4cb4a3ee96",
     "grade": true,
     "grade_id": "cell-7e97cebf37601e6e",
     "locked": true,
     "points": 3,
     "schema_version": 3,
     "solution": false,
     "task": false
    }
   },
   "outputs": [],
   "source": [
    "from hashlib import sha1\n",
    "assert sha1(str(type(answer1_11)).encode(\"utf-8\")+b\"4572e\").hexdigest() == \"666b17019afd72ee5ccdc07d7ad6750317dd4d47\", \"type of answer1_11 is not str. answer1_11 should be an str\"\n",
    "assert sha1(str(len(answer1_11)).encode(\"utf-8\")+b\"4572e\").hexdigest() == \"2362db2da6c93c60b37b26b51965d387c696e25c\", \"length of answer1_11 is not correct\"\n",
    "assert sha1(str(answer1_11.lower()).encode(\"utf-8\")+b\"4572e\").hexdigest() == \"64bc066783ffebf4b42dc9aafb00d44e452a2995\", \"value of answer1_11 is not correct\"\n",
    "assert sha1(str(answer1_11).encode(\"utf-8\")+b\"4572e\").hexdigest() == \"64bc066783ffebf4b42dc9aafb00d44e452a2995\", \"correct string value of answer1_11 but incorrect case of letters\"\n",
    "\n",
    "print('Success!')"
   ]
  },
  {
   "cell_type": "markdown",
   "metadata": {
    "deletable": false,
    "editable": false,
    "nbgrader": {
     "cell_type": "markdown",
     "checksum": "6074d95e14dc2d1c2b44edb5daae2c41",
     "grade": false,
     "grade_id": "cell-06f94c611090c6cd",
     "locked": true,
     "schema_version": 3,
     "solution": false,
     "task": false
    }
   },
   "source": [
    "## 2. Bike-Sharing\n",
    "\n",
    "Climate change, and solutions to mitigate it, is currently on the tongues and minds of many people. One healthy and environmentally friendly transportation alternative that has been recently gaining popularity is bike-sharing. Apart from their extensive real-world applications in improving health and creating more climate-friendly transit, the data generated by these bike-sharing systems makes them great for research. In contrast to bus and subway transit systems, bike-share transit systems precisely document where a trip starts, where it ends, and how long it lasts, for each individual using the system. This level of individual traceability may allow for better detection of mobility patterns in cities and possible detection of important events.\n",
    "\n",
    "Today, we will be analyzing [data obtained from Capital Bikeshare](http://archive.ics.uci.edu/ml/datasets/Bike+Sharing+Dataset#), a bike-sharing system from Washington, DC. The temperature data (in units of degrees Celsius) has been normalized from the original range so that all values fall between 0 and 1 (a common data processing technique helpful for some machine/statistical learning tools). Our goal is to determine if there is a relationship between temperature and the number of people renting bikes during the Spring (March 20th - June 21st). "
   ]
  },
  {
   "cell_type": "markdown",
   "metadata": {
    "deletable": false,
    "editable": false,
    "nbgrader": {
     "cell_type": "markdown",
     "checksum": "e50bc82a2fbd0e51fb7df0bf39c2dc65",
     "grade": false,
     "grade_id": "cell-de815a806cde9546",
     "locked": true,
     "schema_version": 3,
     "solution": false
    }
   },
   "source": [
    "**Question 2.1** Multiple Choice\n",
    "<br> {points: 1}\n",
    "\n",
    "In comparison to bike-sharing systems, why aren't other modes of transportation as useful when it comes to acquiring data?\n",
    "\n",
    "A. Not as fast. \n",
    "\n",
    "B. Documentation isn't as precise. \n",
    "\n",
    "C. Not as environmentally friendly. \n",
    "\n",
    "D. Bus drivers don't cooperate. \n",
    "\n",
    "*Assign your answer to an object called: `answer2_1`. Make sure your answer is an uppercase letter and is surrounded by quotation marks (e.g. `\"F\"`).*"
   ]
  },
  {
   "cell_type": "code",
   "execution_count": null,
   "metadata": {
    "deletable": false,
    "nbgrader": {
     "cell_type": "code",
     "checksum": "a590b9fb7444359c0fc84e35b898dd5e",
     "grade": false,
     "grade_id": "cell-2cf1c56a2c4f28cb",
     "locked": false,
     "schema_version": 3,
     "solution": true
    }
   },
   "outputs": [],
   "source": [
    "# your code here\n",
    "raise NotImplementedError"
   ]
  },
  {
   "cell_type": "code",
   "execution_count": null,
   "metadata": {
    "deletable": false,
    "editable": false,
    "nbgrader": {
     "cell_type": "code",
     "checksum": "9438e0940057d77756e95219d348400b",
     "grade": true,
     "grade_id": "cell-d06d98ba907d1977",
     "locked": true,
     "points": 3,
     "schema_version": 3,
     "solution": false
    }
   },
   "outputs": [],
   "source": [
    "from hashlib import sha1\n",
    "assert sha1(str(type(answer2_1)).encode(\"utf-8\")+b\"38ccf\").hexdigest() == \"d4b71c3b04ec1a482c1428e548a5346483ea11ed\", \"type of answer2_1 is not str. answer2_1 should be an str\"\n",
    "assert sha1(str(len(answer2_1)).encode(\"utf-8\")+b\"38ccf\").hexdigest() == \"c94a2fee50a205e02f3aa157b1c3933ea31edb2f\", \"length of answer2_1 is not correct\"\n",
    "assert sha1(str(answer2_1.lower()).encode(\"utf-8\")+b\"38ccf\").hexdigest() == \"e5ee65d92963e3b7fb2a7fef11d1da51f046f454\", \"value of answer2_1 is not correct\"\n",
    "assert sha1(str(answer2_1).encode(\"utf-8\")+b\"38ccf\").hexdigest() == \"745c8ad9f5e3f2440798e93100acbb8dcf691e8a\", \"correct string value of answer2_1 but incorrect case of letters\"\n",
    "\n",
    "print('Success!')"
   ]
  },
  {
   "cell_type": "markdown",
   "metadata": {
    "deletable": false,
    "editable": false,
    "nbgrader": {
     "cell_type": "markdown",
     "checksum": "ed53c84a4ba09bed9d034c7e6e638e2f",
     "grade": false,
     "grade_id": "cell-33dc10c33586506f",
     "locked": true,
     "schema_version": 3,
     "solution": false
    }
   },
   "source": [
    "**Question 2.2** Multiple Choice\n",
    "<br> {points: 1}\n",
    "\n",
    "What are the units for the normalized temperature?\n",
    "\n",
    "A. Kelvin\n",
    "\n",
    "B. Fahrenheit \n",
    "\n",
    "C. Celsius \n",
    "\n",
    "*Assign your answer to an object called: `answer2_2`. Make sure your answer is an uppercase letter and is surrounded by quotation marks (e.g. `\"F\"`).*"
   ]
  },
  {
   "cell_type": "code",
   "execution_count": null,
   "metadata": {
    "deletable": false,
    "nbgrader": {
     "cell_type": "code",
     "checksum": "ead72b5e2ec91cd2f2e7ddce9398528e",
     "grade": false,
     "grade_id": "cell-82289416080754b6",
     "locked": false,
     "schema_version": 3,
     "solution": true
    }
   },
   "outputs": [],
   "source": [
    "# your code here\n",
    "raise NotImplementedError"
   ]
  },
  {
   "cell_type": "code",
   "execution_count": null,
   "metadata": {
    "deletable": false,
    "editable": false,
    "nbgrader": {
     "cell_type": "code",
     "checksum": "b5f9a95d7bbfe7408c2e1d491044a735",
     "grade": true,
     "grade_id": "cell-ed10ec095b72acec",
     "locked": true,
     "points": 3,
     "schema_version": 3,
     "solution": false
    }
   },
   "outputs": [],
   "source": [
    "from hashlib import sha1\n",
    "assert sha1(str(type(answer2_2)).encode(\"utf-8\")+b\"8d903\").hexdigest() == \"45f12abbc227756a90802f5eed2fcd87a376b491\", \"type of answer2_2 is not str. answer2_2 should be an str\"\n",
    "assert sha1(str(len(answer2_2)).encode(\"utf-8\")+b\"8d903\").hexdigest() == \"d4bd8bfa104c56fb3578e51b5690dd1f7826d980\", \"length of answer2_2 is not correct\"\n",
    "assert sha1(str(answer2_2.lower()).encode(\"utf-8\")+b\"8d903\").hexdigest() == \"bee017a0a1e3e7a91efb7a11c220880b77812c2c\", \"value of answer2_2 is not correct\"\n",
    "assert sha1(str(answer2_2).encode(\"utf-8\")+b\"8d903\").hexdigest() == \"ff5b7c158ed82999ea1e3941f088e7b50c576ebe\", \"correct string value of answer2_2 but incorrect case of letters\"\n",
    "\n",
    "print('Success!')"
   ]
  },
  {
   "cell_type": "markdown",
   "metadata": {
    "deletable": false,
    "editable": false,
    "nbgrader": {
     "cell_type": "markdown",
     "checksum": "3eb4621591bcd6123f12db87afcf84bb",
     "grade": false,
     "grade_id": "cell-040c21f8f09b9a99",
     "locked": true,
     "schema_version": 3,
     "solution": false
    }
   },
   "source": [
    "**Question 2.3** \n",
    "<br> {points: 1}\n",
    "\n",
    "Since we already have `pandas` imported and ready to use, the first step is to read our new data. Add in the missing function and symbol to complete the cell below. Make sure to assign your answer to `bike_data`. "
   ]
  },
  {
   "cell_type": "code",
   "execution_count": null,
   "metadata": {
    "deletable": false,
    "nbgrader": {
     "cell_type": "code",
     "checksum": "8a728a6e46751647aa59176a6be5a356",
     "grade": false,
     "grade_id": "cell-725376dd29896d14",
     "locked": false,
     "schema_version": 3,
     "solution": true
    }
   },
   "outputs": [],
   "source": [
    "# ___ = ___(\"bike_share.csv\")\n",
    "\n",
    "# your code here\n",
    "raise NotImplementedError\n",
    "bike_data"
   ]
  },
  {
   "cell_type": "code",
   "execution_count": null,
   "metadata": {
    "deletable": false,
    "editable": false,
    "nbgrader": {
     "cell_type": "code",
     "checksum": "3131c454683ee16eef9f045fd511ad0f",
     "grade": true,
     "grade_id": "cell-48666a8a98614042",
     "locked": true,
     "points": 1,
     "schema_version": 3,
     "solution": false
    }
   },
   "outputs": [],
   "source": [
    "from hashlib import sha1\n",
    "assert sha1(str(type(bike_data)).encode(\"utf-8\")+b\"967b6\").hexdigest() == \"c18f470436b13934dc7a074ac5bb6e5d0ba0b378\", \"type of type(bike_data) is not correct\"\n",
    "\n",
    "assert sha1(str(type(bike_data.shape)).encode(\"utf-8\")+b\"967b7\").hexdigest() == \"d22a7ba9c913a723dcc50efa29b4193463bf7399\", \"type of bike_data.shape is not tuple. bike_data.shape should be a tuple\"\n",
    "assert sha1(str(len(bike_data.shape)).encode(\"utf-8\")+b\"967b7\").hexdigest() == \"dd657d2ab359cfe8cadc05eb4c34e34afadad771\", \"length of bike_data.shape is not correct\"\n",
    "assert sha1(str(sorted(map(str, bike_data.shape))).encode(\"utf-8\")+b\"967b7\").hexdigest() == \"ceb54fd03b8795123d98ff370c65086495c226f9\", \"values of bike_data.shape are not correct\"\n",
    "assert sha1(str(bike_data.shape).encode(\"utf-8\")+b\"967b7\").hexdigest() == \"3603ad78004b9584707c884708df5514d1a84321\", \"order of elements of bike_data.shape is not correct\"\n",
    "\n",
    "assert sha1(str(type(sum(bike_data.casual_users))).encode(\"utf-8\")+b\"967b8\").hexdigest() == \"83877e43e7fa4f77ecbcdb0a24dc17642e6263be\", \"type of sum(bike_data.casual_users) is not int. Please make sure it is int and not np.int64, etc. You can cast your value into an int using int()\"\n",
    "assert sha1(str(sum(bike_data.casual_users)).encode(\"utf-8\")+b\"967b8\").hexdigest() == \"6f2e938917a40dc8876fe20d605a80ab2a0861e7\", \"value of sum(bike_data.casual_users) is not correct\"\n",
    "\n",
    "assert sha1(str(type(bike_data.columns.values)).encode(\"utf-8\")+b\"967b9\").hexdigest() == \"92d3ecbc70227b320817586a472cd335e2807f3c\", \"type of bike_data.columns.values is not correct\"\n",
    "assert sha1(str(bike_data.columns.values).encode(\"utf-8\")+b\"967b9\").hexdigest() == \"fdb77180a62503280f65856a3c391301c383a2da\", \"value of bike_data.columns.values is not correct\"\n",
    "\n",
    "assert sha1(str(type(bike_data.season.dtype)).encode(\"utf-8\")+b\"967ba\").hexdigest() == \"fb3d56661e48bedae06a9901370ab3282b834dec\", \"type of bike_data.season.dtype is not correct\"\n",
    "assert sha1(str(bike_data.season.dtype).encode(\"utf-8\")+b\"967ba\").hexdigest() == \"21468cf84cf81da6374d5e5a79b38548e142b788\", \"value of bike_data.season.dtype is not correct\"\n",
    "\n",
    "print('Success!')"
   ]
  },
  {
   "cell_type": "markdown",
   "metadata": {
    "deletable": false,
    "editable": false,
    "nbgrader": {
     "cell_type": "markdown",
     "checksum": "451034bb9cccaff90be16a821b8a7bd6",
     "grade": false,
     "grade_id": "cell-8c4775182d73800e",
     "locked": true,
     "schema_version": 3,
     "solution": false
    }
   },
   "source": [
    "**Question 2.4** \n",
    "<br> {points: 1}\n",
    "\n",
    "Change the data such that you have a new column called `total_users`. \n",
    "This column would be the sum of the `casual_users` and the `registered_users`. Assign your answer to an object called `bike_total`."
   ]
  },
  {
   "cell_type": "code",
   "execution_count": null,
   "metadata": {
    "deletable": false,
    "nbgrader": {
     "cell_type": "code",
     "checksum": "0ae1643b7609b9461ba01e531d11572a",
     "grade": false,
     "grade_id": "cell-9685158f545889b2",
     "locked": false,
     "schema_version": 3,
     "solution": true
    }
   },
   "outputs": [],
   "source": [
    "# ___ = bike_data.___(___)\n",
    "\n",
    "# your code here\n",
    "raise NotImplementedError\n",
    "bike_total"
   ]
  },
  {
   "cell_type": "code",
   "execution_count": null,
   "metadata": {
    "deletable": false,
    "editable": false,
    "nbgrader": {
     "cell_type": "code",
     "checksum": "58286fc2dec92b17bba9527ac8ad32c7",
     "grade": true,
     "grade_id": "cell-72591b6954d26444",
     "locked": true,
     "points": 3,
     "schema_version": 3,
     "solution": false
    }
   },
   "outputs": [],
   "source": [
    "from hashlib import sha1\n",
    "assert sha1(str(type(bike_total.shape)).encode(\"utf-8\")+b\"32d94\").hexdigest() == \"231274dd17fd36288253a0ccebe23a04f4460923\", \"type of bike_total.shape is not tuple. bike_total.shape should be a tuple\"\n",
    "assert sha1(str(len(bike_total.shape)).encode(\"utf-8\")+b\"32d94\").hexdigest() == \"fb8a3d14e2357403a72b88594610fe6de2cfe1b0\", \"length of bike_total.shape is not correct\"\n",
    "assert sha1(str(sorted(map(str, bike_total.shape))).encode(\"utf-8\")+b\"32d94\").hexdigest() == \"6e72fe32e8c528663cb9bd0f23989a13cde557ff\", \"values of bike_total.shape are not correct\"\n",
    "assert sha1(str(bike_total.shape).encode(\"utf-8\")+b\"32d94\").hexdigest() == \"7410ba27f63bf472b6a230609f9f6001fc3d6b3e\", \"order of elements of bike_total.shape is not correct\"\n",
    "\n",
    "assert sha1(str(type(sum(bike_total.total_users))).encode(\"utf-8\")+b\"32d95\").hexdigest() == \"7cfa28e1fb1f0fdcf6a5674c9fa606a9db096cf5\", \"type of sum(bike_total.total_users) is not int. Please make sure it is int and not np.int64, etc. You can cast your value into an int using int()\"\n",
    "assert sha1(str(sum(bike_total.total_users)).encode(\"utf-8\")+b\"32d95\").hexdigest() == \"27ce9d56d6699110669c624fb20f8aec5e1319c7\", \"value of sum(bike_total.total_users) is not correct\"\n",
    "\n",
    "assert sha1(str(type(sum(bike_total.temperature.dropna()))).encode(\"utf-8\")+b\"32d96\").hexdigest() == \"90e4ffed841fab9f9d6bb6c8dd428a19b7ff39e5\", \"type of sum(bike_total.temperature.dropna()) is not float. Please make sure it is float and not np.float64, etc. You can cast your value into a float using float()\"\n",
    "assert sha1(str(round(sum(bike_total.temperature.dropna()), 2)).encode(\"utf-8\")+b\"32d96\").hexdigest() == \"91cccc519c0028116795e25cbcefaceb61eb1325\", \"value of sum(bike_total.temperature.dropna()) is not correct (rounded to 2 decimal places)\"\n",
    "\n",
    "print('Success!')"
   ]
  },
  {
   "cell_type": "markdown",
   "metadata": {
    "deletable": false,
    "editable": false,
    "nbgrader": {
     "cell_type": "markdown",
     "checksum": "0530dd68c3930114a44f458e0b164747",
     "grade": false,
     "grade_id": "cell-b31394a784dbe759",
     "locked": true,
     "schema_version": 3,
     "solution": false
    }
   },
   "source": [
    "**Question 2.5** \n",
    "<br> {points: 1}\n",
    "\n",
    "Filter out the data to include information about rentals that were only made during `Spring`. Name your answer `bike_filter`. Remember that since we are only filtering rows without selecting columns at the same time, you can use `[]` here."
   ]
  },
  {
   "cell_type": "code",
   "execution_count": null,
   "metadata": {
    "deletable": false,
    "nbgrader": {
     "cell_type": "code",
     "checksum": "ba4d75bdaace3b969eec5b9e18d21cb7",
     "grade": false,
     "grade_id": "cell-cb6259eedeecf3e8",
     "locked": false,
     "schema_version": 3,
     "solution": true
    }
   },
   "outputs": [],
   "source": [
    "# ___ = bike_total[___[___] == \"Spring\"]\n",
    "\n",
    "# your code here\n",
    "raise NotImplementedError\n",
    "bike_filter"
   ]
  },
  {
   "cell_type": "code",
   "execution_count": null,
   "metadata": {
    "deletable": false,
    "editable": false,
    "lines_to_next_cell": 2,
    "nbgrader": {
     "cell_type": "code",
     "checksum": "bb828ab93fd818071e4f5d4ba71b5d41",
     "grade": true,
     "grade_id": "cell-ae4372c768287348",
     "locked": true,
     "points": 3,
     "schema_version": 3,
     "solution": false
    }
   },
   "outputs": [],
   "source": [
    "from hashlib import sha1\n",
    "assert sha1(str(type(bike_filter.season.unique())).encode(\"utf-8\")+b\"c4749\").hexdigest() == \"16e87fd0e3f6d8fbc1b1938b3ee05537c6092acd\", \"type of bike_filter.season.unique() is not correct\"\n",
    "assert sha1(str(bike_filter.season.unique()).encode(\"utf-8\")+b\"c4749\").hexdigest() == \"3e9d0b2bb68895621da0c34a40a8703db25e1bf6\", \"value of bike_filter.season.unique() is not correct\"\n",
    "\n",
    "assert sha1(str(type(bike_filter.shape)).encode(\"utf-8\")+b\"c474a\").hexdigest() == \"83fc2e68d24afd90e2f0332240d2df6a247292ba\", \"type of bike_filter.shape is not tuple. bike_filter.shape should be a tuple\"\n",
    "assert sha1(str(len(bike_filter.shape)).encode(\"utf-8\")+b\"c474a\").hexdigest() == \"21cff66fd037d020bb5137a16ca8159e0693ff04\", \"length of bike_filter.shape is not correct\"\n",
    "assert sha1(str(sorted(map(str, bike_filter.shape))).encode(\"utf-8\")+b\"c474a\").hexdigest() == \"cb6e9a17ac586789e93ef1dbbae339ec15592987\", \"values of bike_filter.shape are not correct\"\n",
    "assert sha1(str(bike_filter.shape).encode(\"utf-8\")+b\"c474a\").hexdigest() == \"dd44da066f082120ff0fa8ed62b6006516414621\", \"order of elements of bike_filter.shape is not correct\"\n",
    "\n",
    "assert sha1(str(type(sum(bike_filter.total_users))).encode(\"utf-8\")+b\"c474b\").hexdigest() == \"8739b85a0e843bbf2d28f95c4c3b17030a1431b5\", \"type of sum(bike_filter.total_users) is not int. Please make sure it is int and not np.int64, etc. You can cast your value into an int using int()\"\n",
    "assert sha1(str(sum(bike_filter.total_users)).encode(\"utf-8\")+b\"c474b\").hexdigest() == \"99d547c123e05b2d6a54f23fd02dcfea96589cb4\", \"value of sum(bike_filter.total_users) is not correct\"\n",
    "\n",
    "assert sha1(str(type(sum(bike_filter.temperature.dropna()))).encode(\"utf-8\")+b\"c474c\").hexdigest() == \"7bc355ba5234446982b28dec81a013f72d39c8f3\", \"type of sum(bike_filter.temperature.dropna()) is not float. Please make sure it is float and not np.float64, etc. You can cast your value into a float using float()\"\n",
    "assert sha1(str(round(sum(bike_filter.temperature.dropna()), 2)).encode(\"utf-8\")+b\"c474c\").hexdigest() == \"cc6916a1fa0f7fa76d1ca7a8328b74dd4a4a38c1\", \"value of sum(bike_filter.temperature.dropna()) is not correct (rounded to 2 decimal places)\"\n",
    "\n",
    "print('Success!')"
   ]
  },
  {
   "cell_type": "markdown",
   "metadata": {
    "deletable": false,
    "editable": false,
    "nbgrader": {
     "cell_type": "markdown",
     "checksum": "31e405438320e84d5dc841a6368c1789",
     "grade": false,
     "grade_id": "cell-f6bdff9fe357f6d6",
     "locked": true,
     "schema_version": 3,
     "solution": false
    }
   },
   "source": [
    "**Question 2.6** \n",
    "<br> {points: 3}\n",
    "\n",
    "Select the columns from the data that we wish to plot. Name your answer `bike_select`. Remember that since we are only selecting columns and not filtering rows at the same time, you can use `[]` here. Also note that selecting columns prior to the plotting step is not strictly necessary and this exercise is more for you to practice the column selection syntax.\n",
    "\n",
    "*Hint: if you have forgetten, scroll up and re-read the introduction to this exercise.* "
   ]
  },
  {
   "cell_type": "code",
   "execution_count": null,
   "metadata": {
    "deletable": false,
    "nbgrader": {
     "cell_type": "code",
     "checksum": "fcb8a81098602435b25b2043f429a33e",
     "grade": false,
     "grade_id": "cell-d6bf8ba0fdbf99e1",
     "locked": false,
     "schema_version": 3,
     "solution": true
    }
   },
   "outputs": [],
   "source": [
    "# ___ = ___.loc[:,[___,___]]\n",
    "\n",
    "# your code here\n",
    "raise NotImplementedError\n",
    "bike_select"
   ]
  },
  {
   "cell_type": "code",
   "execution_count": null,
   "metadata": {
    "deletable": false,
    "editable": false,
    "nbgrader": {
     "cell_type": "code",
     "checksum": "803846791c1670b2fd3223d343c970cd",
     "grade": true,
     "grade_id": "cell-ea4089cd0490790f",
     "locked": true,
     "points": 3,
     "schema_version": 3,
     "solution": false
    }
   },
   "outputs": [],
   "source": [
    "from hashlib import sha1\n",
    "assert sha1(str(type(bike_select.shape)).encode(\"utf-8\")+b\"58489\").hexdigest() == \"088222938114f38997035706c052ca69ab25c298\", \"type of bike_select.shape is not tuple. bike_select.shape should be a tuple\"\n",
    "assert sha1(str(len(bike_select.shape)).encode(\"utf-8\")+b\"58489\").hexdigest() == \"1741d8c5e93c62aeea058206475360c17f5df869\", \"length of bike_select.shape is not correct\"\n",
    "assert sha1(str(sorted(map(str, bike_select.shape))).encode(\"utf-8\")+b\"58489\").hexdigest() == \"13d5abd1367e60cb8266e0d68f7a3def27b3f33c\", \"values of bike_select.shape are not correct\"\n",
    "assert sha1(str(bike_select.shape).encode(\"utf-8\")+b\"58489\").hexdigest() == \"3ab81e68e8ee6ef2b71455e1be1a6a2b9f1c268f\", \"order of elements of bike_select.shape is not correct\"\n",
    "\n",
    "assert sha1(str(type(sum(bike_select.total_users))).encode(\"utf-8\")+b\"5848a\").hexdigest() == \"27fcb1cf5550afe27de09fd696d9fd931492b714\", \"type of sum(bike_select.total_users) is not int. Please make sure it is int and not np.int64, etc. You can cast your value into an int using int()\"\n",
    "assert sha1(str(sum(bike_select.total_users)).encode(\"utf-8\")+b\"5848a\").hexdigest() == \"4e2f983ecf4c924dde78a342e2ee8fed20c36c03\", \"value of sum(bike_select.total_users) is not correct\"\n",
    "\n",
    "assert sha1(str(type(sum(bike_select.temperature.dropna()))).encode(\"utf-8\")+b\"5848b\").hexdigest() == \"1a6192cc21e7c4476e3b8f71d1e9a76a07673fb1\", \"type of sum(bike_select.temperature.dropna()) is not float. Please make sure it is float and not np.float64, etc. You can cast your value into a float using float()\"\n",
    "assert sha1(str(round(sum(bike_select.temperature.dropna()), 2)).encode(\"utf-8\")+b\"5848b\").hexdigest() == \"29a5a603841aae1df27dff769124181ad9b1cb56\", \"value of sum(bike_select.temperature.dropna()) is not correct (rounded to 2 decimal places)\"\n",
    "\n",
    "print('Success!')"
   ]
  },
  {
   "cell_type": "markdown",
   "metadata": {
    "deletable": false,
    "editable": false,
    "nbgrader": {
     "cell_type": "markdown",
     "checksum": "26a3b6651a0277b19d3cadb212d9231b",
     "grade": false,
     "grade_id": "cell-d998752e81ad7842",
     "locked": true,
     "schema_version": 3,
     "solution": false
    }
   },
   "source": [
    "**Question 2.7** \n",
    "<br> {points: 3}\n",
    "\n",
    "Plot the data as a scatter plot. \n",
    "\n",
    "There is a lot missing from the cell below (no hints were given). Try completing this on your own before looking back at any previous exercises. Assign your plot to an object called `bike_plot_spring`.\n",
    "\n",
    "*Hint: what do you think should be the x-axis / y-axis? Don't forget to label your axes! Where appropriate, axes labels should also include units (for example, the axis mapped to the `temperature` column should have the units \"normalized degrees Celsius\").*"
   ]
  },
  {
   "cell_type": "code",
   "execution_count": null,
   "metadata": {
    "deletable": false,
    "nbgrader": {
     "cell_type": "code",
     "checksum": "89be1a3bb77dfdcd71364425d5c8e75a",
     "grade": false,
     "grade_id": "cell-d96ff44fe30428be",
     "locked": false,
     "schema_version": 3,
     "solution": true,
     "task": false
    }
   },
   "outputs": [],
   "source": [
    "# your code here\n",
    "raise NotImplementedError\n",
    "bike_plot_spring"
   ]
  },
  {
   "cell_type": "code",
   "execution_count": null,
   "metadata": {
    "deletable": false,
    "editable": false,
    "nbgrader": {
     "cell_type": "code",
     "checksum": "ccfd342b85450148720a624975e69b01",
     "grade": true,
     "grade_id": "cell-15aff75b717f53ee",
     "locked": true,
     "points": 3,
     "schema_version": 3,
     "solution": false
    }
   },
   "outputs": [],
   "source": [
    "from hashlib import sha1\n",
    "assert sha1(str(type(bike_plot_spring.encoding.x['shorthand'])).encode(\"utf-8\")+b\"57\").hexdigest() == \"76f0d963085005a0ade3535fde772bc377f81d92\", \"type of bike_plot_spring.encoding.x['shorthand'] is not str. bike_plot_spring.encoding.x['shorthand'] should be an str\"\n",
    "assert sha1(str(len(bike_plot_spring.encoding.x['shorthand'])).encode(\"utf-8\")+b\"57\").hexdigest() == \"30b601f0cbe127b082649fe6fcd93fa86c798107\", \"length of bike_plot_spring.encoding.x['shorthand'] is not correct\"\n",
    "assert sha1(str(bike_plot_spring.encoding.x['shorthand'].lower()).encode(\"utf-8\")+b\"57\").hexdigest() == \"07d64fdca5a1600a55d75244cc6a35e643865c71\", \"value of bike_plot_spring.encoding.x['shorthand'] is not correct\"\n",
    "assert sha1(str(bike_plot_spring.encoding.x['shorthand']).encode(\"utf-8\")+b\"57\").hexdigest() == \"07d64fdca5a1600a55d75244cc6a35e643865c71\", \"correct string value of bike_plot_spring.encoding.x['shorthand'] but incorrect case of letters\"\n",
    "\n",
    "assert sha1(str(type(bike_plot_spring.encoding.y['shorthand'])).encode(\"utf-8\")+b\"58\").hexdigest() == \"a12c03fc77af30171032de40e3a78c8795e8d685\", \"type of bike_plot_spring.encoding.y['shorthand'] is not str. bike_plot_spring.encoding.y['shorthand'] should be an str\"\n",
    "assert sha1(str(len(bike_plot_spring.encoding.y['shorthand'])).encode(\"utf-8\")+b\"58\").hexdigest() == \"9bd7909ea32c89f68e82ed0cbe1f30a2e1d72b1c\", \"length of bike_plot_spring.encoding.y['shorthand'] is not correct\"\n",
    "assert sha1(str(bike_plot_spring.encoding.y['shorthand'].lower()).encode(\"utf-8\")+b\"58\").hexdigest() == \"df2def465450798fd1c16a7f7c4da9ebfe52a461\", \"value of bike_plot_spring.encoding.y['shorthand'] is not correct\"\n",
    "assert sha1(str(bike_plot_spring.encoding.y['shorthand']).encode(\"utf-8\")+b\"58\").hexdigest() == \"df2def465450798fd1c16a7f7c4da9ebfe52a461\", \"correct string value of bike_plot_spring.encoding.y['shorthand'] but incorrect case of letters\"\n",
    "\n",
    "assert sha1(str(type(bike_plot_spring.mark)).encode(\"utf-8\")+b\"59\").hexdigest() == \"03c89daa08f904d81e14b8a9e49e0087eada08dc\", \"type of bike_plot_spring.mark is not str. bike_plot_spring.mark should be an str\"\n",
    "assert sha1(str(len(bike_plot_spring.mark)).encode(\"utf-8\")+b\"59\").hexdigest() == \"2473f01571bf0dcb7d2b16d67da6dd031769947d\", \"length of bike_plot_spring.mark is not correct\"\n",
    "assert sha1(str(bike_plot_spring.mark.lower()).encode(\"utf-8\")+b\"59\").hexdigest() == \"12562c7b4083a5017afbd5a2293c7a8f53c627aa\", \"value of bike_plot_spring.mark is not correct\"\n",
    "assert sha1(str(bike_plot_spring.mark).encode(\"utf-8\")+b\"59\").hexdigest() == \"12562c7b4083a5017afbd5a2293c7a8f53c627aa\", \"correct string value of bike_plot_spring.mark but incorrect case of letters\"\n",
    "\n",
    "assert sha1(str(type(isinstance(bike_plot_spring.encoding.x['title'], str))).encode(\"utf-8\")+b\"5a\").hexdigest() == \"a166d125ddef5320907d58dfe0d368f5c4aa575d\", \"type of isinstance(bike_plot_spring.encoding.x['title'], str) is not bool. isinstance(bike_plot_spring.encoding.x['title'], str) should be a bool\"\n",
    "assert sha1(str(isinstance(bike_plot_spring.encoding.x['title'], str)).encode(\"utf-8\")+b\"5a\").hexdigest() == \"fbfb940fd3f3d5eadf469f4bed08252c1e9a992c\", \"boolean value of isinstance(bike_plot_spring.encoding.x['title'], str) is not correct\"\n",
    "\n",
    "assert sha1(str(type(isinstance(bike_plot_spring.encoding.y['title'], str))).encode(\"utf-8\")+b\"5b\").hexdigest() == \"698e7b42b63704972ce21f80580f399f7fe8aa2f\", \"type of isinstance(bike_plot_spring.encoding.y['title'], str) is not bool. isinstance(bike_plot_spring.encoding.y['title'], str) should be a bool\"\n",
    "assert sha1(str(isinstance(bike_plot_spring.encoding.y['title'], str)).encode(\"utf-8\")+b\"5b\").hexdigest() == \"0c55ded8b91d434c44a338904ee8115ec7075faa\", \"boolean value of isinstance(bike_plot_spring.encoding.y['title'], str) is not correct\"\n",
    "\n",
    "print('Success!')"
   ]
  },
  {
   "cell_type": "markdown",
   "metadata": {
    "deletable": false,
    "editable": false,
    "nbgrader": {
     "cell_type": "markdown",
     "checksum": "257eec6cd355979db3090f0729bed461",
     "grade": false,
     "grade_id": "cell-d9337eb068332ba1",
     "locked": true,
     "schema_version": 3,
     "solution": false
    }
   },
   "source": [
    "**Question 2.8** \n",
    "<br> {points: 3}\n",
    "\n",
    "In 1-2 sentences, describe whether there is a relationship between the variables observed in the scatterplot of the data for the spring season. Comment on the direction and the strength of the relationship (if there is one), and how the variables change with respect to each other (if they do)."
   ]
  },
  {
   "cell_type": "markdown",
   "metadata": {
    "deletable": false,
    "nbgrader": {
     "cell_type": "markdown",
     "checksum": "463cd8c689356fd414f2ff297441236d",
     "grade": true,
     "grade_id": "cell-b82402894d84e002",
     "locked": false,
     "points": 3,
     "schema_version": 3,
     "solution": true
    }
   },
   "source": [
    "DOUBLE CLICK TO EDIT **THIS CELL** AND REPLACE THIS TEXT WITH YOUR ANSWER."
   ]
  },
  {
   "cell_type": "markdown",
   "metadata": {
    "deletable": false,
    "editable": false,
    "nbgrader": {
     "cell_type": "markdown",
     "checksum": "52d3ca5bcd0e348edddfe6d9b553207c",
     "grade": false,
     "grade_id": "cell-496c01803b66e800",
     "locked": true,
     "schema_version": 3,
     "solution": false,
     "task": false
    }
   },
   "source": [
    "## 3. Bike-Sharing Continued\n",
    "\n",
    "For this exercise, we are going to continue working with Capital Bikeshare dataset. This part of the tutorial will focus on your understanding of how the functions work and test your ability to write code without hints. Note that we have also intentionally decreased the number of auto-graded questions for the remainder of the tutorial.\n",
    "\n",
    "Unlike the previous exercise, we now want to determine if there is a relationship between temperature and the amount of people renting bikes during Fall (September 22nd - December 21st).  \n",
    "\n",
    "*Try completing this Exercise from start to finish without any outside help. If you are struggling with a particular question, look at Exercise 2 for assistance.*"
   ]
  },
  {
   "cell_type": "markdown",
   "metadata": {
    "deletable": false,
    "editable": false,
    "nbgrader": {
     "cell_type": "markdown",
     "checksum": "e2d107e0d366dd3894e1060132c2cab0",
     "grade": false,
     "grade_id": "cell-7eda544cbea0bea4",
     "locked": true,
     "schema_version": 3,
     "solution": false
    }
   },
   "source": [
    "**Question 3.1** Multiple Choice\n",
    "<br> {points: 1}\n",
    "\n",
    "Which column is going to be filtered during this exercise?\n",
    "\n",
    "A. `casual_users`\n",
    "\n",
    "B. `season`\n",
    "\n",
    "C. `temperature`\n",
    "\n",
    "D. `total_users`\n",
    "\n",
    "*Assign your answer to an object called `answer3_1`. Make sure your answer is an uppercase letter and is surrounded by quotation marks (e.g. `\"F\"`).*"
   ]
  },
  {
   "cell_type": "code",
   "execution_count": null,
   "metadata": {
    "deletable": false,
    "nbgrader": {
     "cell_type": "code",
     "checksum": "021bb6ee8985542699e965c93176a11b",
     "grade": false,
     "grade_id": "cell-27f3db6e4f543f8b",
     "locked": false,
     "schema_version": 3,
     "solution": true
    }
   },
   "outputs": [],
   "source": [
    "# your code here\n",
    "raise NotImplementedError"
   ]
  },
  {
   "cell_type": "code",
   "execution_count": null,
   "metadata": {
    "deletable": false,
    "editable": false,
    "lines_to_next_cell": 2,
    "nbgrader": {
     "cell_type": "code",
     "checksum": "80cb455fd2190b015f9fd66e411005a9",
     "grade": true,
     "grade_id": "cell-df34058ddcf40d34",
     "locked": true,
     "points": 3,
     "schema_version": 3,
     "solution": false
    }
   },
   "outputs": [],
   "source": [
    "from hashlib import sha1\n",
    "assert sha1(str(type(answer3_1)).encode(\"utf-8\")+b\"e9b7\").hexdigest() == \"10ba902fcd4573280135bbcdc2b798a802ffba6e\", \"type of answer3_1 is not str. answer3_1 should be an str\"\n",
    "assert sha1(str(len(answer3_1)).encode(\"utf-8\")+b\"e9b7\").hexdigest() == \"87c6c47ff04bb42bb58da2d95326f24ffe56d928\", \"length of answer3_1 is not correct\"\n",
    "assert sha1(str(answer3_1.lower()).encode(\"utf-8\")+b\"e9b7\").hexdigest() == \"515c530077b74d6a99ab6aacb8f50a55730b034d\", \"value of answer3_1 is not correct\"\n",
    "assert sha1(str(answer3_1).encode(\"utf-8\")+b\"e9b7\").hexdigest() == \"c30dc9eb149e912012541fa5b835264c02f2752a\", \"correct string value of answer3_1 but incorrect case of letters\"\n",
    "\n",
    "print('Success!')"
   ]
  },
  {
   "cell_type": "markdown",
   "metadata": {
    "deletable": false,
    "editable": false,
    "nbgrader": {
     "cell_type": "markdown",
     "checksum": "9154bc2ada46d1191dda3a480957c9ba",
     "grade": false,
     "grade_id": "cell-ead9fd93f7cc5803",
     "locked": true,
     "schema_version": 3,
     "solution": false
    }
   },
   "source": [
    "**Question 3.2** \n",
    "<br> {points: 3}\n",
    "\n",
    "Recall that the `pandas` package has loaded and the data has already been read. The next step is to change the data such that we have information on all the users. Make sure to save your answer to an object called `bike_total`, and make sure to create a column called `total_users`."
   ]
  },
  {
   "cell_type": "code",
   "execution_count": null,
   "metadata": {
    "deletable": false,
    "nbgrader": {
     "cell_type": "code",
     "checksum": "6b64ac6651eeea3967a694808f3f69af",
     "grade": false,
     "grade_id": "cell-39303850daf03030",
     "locked": false,
     "schema_version": 3,
     "solution": true,
     "task": false
    }
   },
   "outputs": [],
   "source": [
    "# your code here\n",
    "raise NotImplementedError\n",
    "bike_total"
   ]
  },
  {
   "cell_type": "code",
   "execution_count": null,
   "metadata": {
    "deletable": false,
    "editable": false,
    "nbgrader": {
     "cell_type": "code",
     "checksum": "5ab795e4e9b6c668d84b65584a95a4a1",
     "grade": true,
     "grade_id": "cell-d078f12a02af4811",
     "locked": true,
     "points": 3,
     "schema_version": 3,
     "solution": false,
     "task": false
    }
   },
   "outputs": [],
   "source": [
    "from hashlib import sha1\n",
    "assert sha1(str(type((\"total_users\" in bike_total.columns))).encode(\"utf-8\")+b\"f191d\").hexdigest() == \"af56d0584242786d97c12888f0e516f883162abf\", \"type of (\\\"total_users\\\" in bike_total.columns) is not bool. (\\\"total_users\\\" in bike_total.columns) should be a bool\"\n",
    "assert sha1(str((\"total_users\" in bike_total.columns)).encode(\"utf-8\")+b\"f191d\").hexdigest() == \"63b38197a722d1e55c455da60151494edcbc7380\", \"boolean value of (\\\"total_users\\\" in bike_total.columns) is not correct\"\n",
    "\n",
    "assert sha1(str(type(bike_total.shape)).encode(\"utf-8\")+b\"f191e\").hexdigest() == \"f69c0b5748b52a499620c21212095fc563e4b5ea\", \"type of bike_total.shape is not tuple. bike_total.shape should be a tuple\"\n",
    "assert sha1(str(len(bike_total.shape)).encode(\"utf-8\")+b\"f191e\").hexdigest() == \"0d612c2abc2cabeab551138c8ffe83fba2e9039e\", \"length of bike_total.shape is not correct\"\n",
    "assert sha1(str(sorted(map(str, bike_total.shape))).encode(\"utf-8\")+b\"f191e\").hexdigest() == \"ddfab62e614481e421f662ea68faaa983a55b14b\", \"values of bike_total.shape are not correct\"\n",
    "assert sha1(str(bike_total.shape).encode(\"utf-8\")+b\"f191e\").hexdigest() == \"89b833850b40ace72f40b84b365e057129fa9e51\", \"order of elements of bike_total.shape is not correct\"\n",
    "\n",
    "assert sha1(str(type(bike_total.columns)).encode(\"utf-8\")+b\"f191f\").hexdigest() == \"9eb79a05e1073668e8ef1b4e68b93d31e0bb8c91\", \"type of bike_total.columns is not correct\"\n",
    "assert sha1(str(bike_total.columns).encode(\"utf-8\")+b\"f191f\").hexdigest() == \"61f9bc4a180ce70f9897259666095e5d95dbe993\", \"value of bike_total.columns is not correct\"\n",
    "\n",
    "assert sha1(str(type(sum(bike_total.total_users))).encode(\"utf-8\")+b\"f1920\").hexdigest() == \"070c0991662e99ec0ce2629996377d8186a1fcb9\", \"type of sum(bike_total.total_users) is not int. Please make sure it is int and not np.int64, etc. You can cast your value into an int using int()\"\n",
    "assert sha1(str(sum(bike_total.total_users)).encode(\"utf-8\")+b\"f1920\").hexdigest() == \"34ad1fb761bfe11c5d7c6b0afe779f7685c04c3a\", \"value of sum(bike_total.total_users) is not correct\"\n",
    "\n",
    "print('Success!')"
   ]
  },
  {
   "cell_type": "markdown",
   "metadata": {
    "deletable": false,
    "editable": false,
    "nbgrader": {
     "cell_type": "markdown",
     "checksum": "a049fcd93c64c807e3e5c32b4e04019a",
     "grade": false,
     "grade_id": "cell-67669610134de359",
     "locked": true,
     "schema_version": 3,
     "solution": false
    }
   },
   "source": [
    "**Question 3.3** \n",
    "<br> {points: 3}\n",
    "\n",
    "Filter out the data to include information about rentals that were only made during `Fall` and select the columns we wish to plot. Name your answer variable `bike_selected`. Use the appropriate operation to do both the row filtering and columns selection in one go."
   ]
  },
  {
   "cell_type": "code",
   "execution_count": null,
   "metadata": {
    "deletable": false,
    "nbgrader": {
     "cell_type": "code",
     "checksum": "aa1538604afa2c782f684aa86054ee4a",
     "grade": false,
     "grade_id": "cell-d81822a09ef9e8d1",
     "locked": false,
     "schema_version": 3,
     "solution": true,
     "task": false
    }
   },
   "outputs": [],
   "source": [
    "# your code here\n",
    "raise NotImplementedError\n",
    "bike_selected"
   ]
  },
  {
   "cell_type": "code",
   "execution_count": null,
   "metadata": {
    "deletable": false,
    "editable": false,
    "nbgrader": {
     "cell_type": "code",
     "checksum": "b56a15b22aaa25c86a776408728993c9",
     "grade": true,
     "grade_id": "cell-f83d8178b0983eaf",
     "locked": true,
     "points": 3,
     "schema_version": 3,
     "solution": false,
     "task": false
    }
   },
   "outputs": [],
   "source": [
    "from hashlib import sha1\n",
    "assert sha1(str(type(bike_selected.columns)).encode(\"utf-8\")+b\"e0cf0\").hexdigest() == \"12bd3d46b8c4dad4c742401266294f6475995e49\", \"type of bike_selected.columns is not correct\"\n",
    "assert sha1(str(bike_selected.columns).encode(\"utf-8\")+b\"e0cf0\").hexdigest() == \"8fa3e9eda6bce917e7b3487313e2196e89272506\", \"value of bike_selected.columns is not correct\"\n",
    "\n",
    "assert sha1(str(type(bike_selected.shape)).encode(\"utf-8\")+b\"e0cf1\").hexdigest() == \"65a033ea305687a62f1ce4ebd4c1d7db37d26900\", \"type of bike_selected.shape is not tuple. bike_selected.shape should be a tuple\"\n",
    "assert sha1(str(len(bike_selected.shape)).encode(\"utf-8\")+b\"e0cf1\").hexdigest() == \"f4eeed6e8a1a228a636d7f9ccc57a89312314c8a\", \"length of bike_selected.shape is not correct\"\n",
    "assert sha1(str(sorted(map(str, bike_selected.shape))).encode(\"utf-8\")+b\"e0cf1\").hexdigest() == \"2cc14ad8dd64e5f8d7dff08489cb70a9f39bfff5\", \"values of bike_selected.shape are not correct\"\n",
    "assert sha1(str(bike_selected.shape).encode(\"utf-8\")+b\"e0cf1\").hexdigest() == \"151816facece2602c557e49caaaa661402139853\", \"order of elements of bike_selected.shape is not correct\"\n",
    "\n",
    "assert sha1(str(type(sum(bike_selected.total_users))).encode(\"utf-8\")+b\"e0cf2\").hexdigest() == \"cee08ee5dee534a7c307962258f19ef3bc1be78a\", \"type of sum(bike_selected.total_users) is not int. Please make sure it is int and not np.int64, etc. You can cast your value into an int using int()\"\n",
    "assert sha1(str(sum(bike_selected.total_users)).encode(\"utf-8\")+b\"e0cf2\").hexdigest() == \"8ddc3cf26844f1c3e8ab32d0ba370b640a370564\", \"value of sum(bike_selected.total_users) is not correct\"\n",
    "\n",
    "print('Success!')"
   ]
  },
  {
   "cell_type": "markdown",
   "metadata": {
    "deletable": false,
    "editable": false,
    "nbgrader": {
     "cell_type": "markdown",
     "checksum": "e046a6f4dee903a9a4866b004087ad3f",
     "grade": false,
     "grade_id": "cell-9ec71f0f8c57613d",
     "locked": true,
     "schema_version": 3,
     "solution": false
    }
   },
   "source": [
    "**Question 3.4** \n",
    "<br> {points: 3}\n",
    "\n",
    "Plot the data as a scatter plot. Label your x-axis: `Temperature (normalized degrees Celsius)` and your y-axis: `Total Users (Casual and Registered)`. Assign your plot to an object called `bike_plot_fall`."
   ]
  },
  {
   "cell_type": "code",
   "execution_count": null,
   "metadata": {
    "deletable": false,
    "nbgrader": {
     "cell_type": "code",
     "checksum": "bed89f5e342af88f655192551856f673",
     "grade": false,
     "grade_id": "cell-68a6cb066e2250a9",
     "locked": false,
     "schema_version": 3,
     "solution": true,
     "task": false
    }
   },
   "outputs": [],
   "source": [
    "# your code here\n",
    "raise NotImplementedError\n",
    "bike_plot_fall"
   ]
  },
  {
   "cell_type": "code",
   "execution_count": null,
   "metadata": {
    "deletable": false,
    "editable": false,
    "nbgrader": {
     "cell_type": "code",
     "checksum": "78e9accf474046db0c2b2723da796fbd",
     "grade": true,
     "grade_id": "cell-bed51905509ec5ba",
     "locked": true,
     "points": 3,
     "schema_version": 3,
     "solution": false,
     "task": false
    }
   },
   "outputs": [],
   "source": [
    "from hashlib import sha1\n",
    "assert sha1(str(type(bike_plot_fall.encoding.x['shorthand'])).encode(\"utf-8\")+b\"ab6e9\").hexdigest() == \"7c24510d2a5e2fd5623b26d56fbc8a1db98144ba\", \"type of bike_plot_fall.encoding.x['shorthand'] is not str. bike_plot_fall.encoding.x['shorthand'] should be an str\"\n",
    "assert sha1(str(len(bike_plot_fall.encoding.x['shorthand'])).encode(\"utf-8\")+b\"ab6e9\").hexdigest() == \"4b5e38bdcb056980189513b07ff228b5e8c43e1d\", \"length of bike_plot_fall.encoding.x['shorthand'] is not correct\"\n",
    "assert sha1(str(bike_plot_fall.encoding.x['shorthand'].lower()).encode(\"utf-8\")+b\"ab6e9\").hexdigest() == \"34e5a9b105835c8054ade529c945239f6e76555c\", \"value of bike_plot_fall.encoding.x['shorthand'] is not correct\"\n",
    "assert sha1(str(bike_plot_fall.encoding.x['shorthand']).encode(\"utf-8\")+b\"ab6e9\").hexdigest() == \"34e5a9b105835c8054ade529c945239f6e76555c\", \"correct string value of bike_plot_fall.encoding.x['shorthand'] but incorrect case of letters\"\n",
    "\n",
    "assert sha1(str(type(bike_plot_fall.encoding.y['shorthand'])).encode(\"utf-8\")+b\"ab6ea\").hexdigest() == \"d41b4b0d693e6d10eb99f3e1c03c041cd7d4c8cf\", \"type of bike_plot_fall.encoding.y['shorthand'] is not str. bike_plot_fall.encoding.y['shorthand'] should be an str\"\n",
    "assert sha1(str(len(bike_plot_fall.encoding.y['shorthand'])).encode(\"utf-8\")+b\"ab6ea\").hexdigest() == \"d86920a2e2971e2dd2fca769c285ac8931279265\", \"length of bike_plot_fall.encoding.y['shorthand'] is not correct\"\n",
    "assert sha1(str(bike_plot_fall.encoding.y['shorthand'].lower()).encode(\"utf-8\")+b\"ab6ea\").hexdigest() == \"8f3824e258884f18521df5db2c8a6dd36821f203\", \"value of bike_plot_fall.encoding.y['shorthand'] is not correct\"\n",
    "assert sha1(str(bike_plot_fall.encoding.y['shorthand']).encode(\"utf-8\")+b\"ab6ea\").hexdigest() == \"8f3824e258884f18521df5db2c8a6dd36821f203\", \"correct string value of bike_plot_fall.encoding.y['shorthand'] but incorrect case of letters\"\n",
    "\n",
    "assert sha1(str(type(bike_plot_fall.mark)).encode(\"utf-8\")+b\"ab6eb\").hexdigest() == \"50d6c61a995b317d82d20b756303fce121285fbd\", \"type of bike_plot_fall.mark is not str. bike_plot_fall.mark should be an str\"\n",
    "assert sha1(str(len(bike_plot_fall.mark)).encode(\"utf-8\")+b\"ab6eb\").hexdigest() == \"b30a7fb3d4c2fa9720e424036a64a9185e22e2fe\", \"length of bike_plot_fall.mark is not correct\"\n",
    "assert sha1(str(bike_plot_fall.mark.lower()).encode(\"utf-8\")+b\"ab6eb\").hexdigest() == \"6977bd9b5ec0dcad7f51ba797e2164f988bce908\", \"value of bike_plot_fall.mark is not correct\"\n",
    "assert sha1(str(bike_plot_fall.mark).encode(\"utf-8\")+b\"ab6eb\").hexdigest() == \"6977bd9b5ec0dcad7f51ba797e2164f988bce908\", \"correct string value of bike_plot_fall.mark but incorrect case of letters\"\n",
    "\n",
    "assert sha1(str(type(bike_plot_fall.encoding.x['title'])).encode(\"utf-8\")+b\"ab6ec\").hexdigest() == \"43ab4870ec6265621e0a06ae0e422367dfdf6ff6\", \"type of bike_plot_fall.encoding.x['title'] is not str. bike_plot_fall.encoding.x['title'] should be an str\"\n",
    "assert sha1(str(len(bike_plot_fall.encoding.x['title'])).encode(\"utf-8\")+b\"ab6ec\").hexdigest() == \"8ac8e3bf64965d4f28de4179223007c546c08b07\", \"length of bike_plot_fall.encoding.x['title'] is not correct\"\n",
    "assert sha1(str(bike_plot_fall.encoding.x['title'].lower()).encode(\"utf-8\")+b\"ab6ec\").hexdigest() == \"3743f57322ceb55bb7482bbae46481d455f01b1f\", \"value of bike_plot_fall.encoding.x['title'] is not correct\"\n",
    "assert sha1(str(bike_plot_fall.encoding.x['title']).encode(\"utf-8\")+b\"ab6ec\").hexdigest() == \"bfb77abcfad9cc52e373a01278e9f4b7b6a15181\", \"correct string value of bike_plot_fall.encoding.x['title'] but incorrect case of letters\"\n",
    "\n",
    "assert sha1(str(type(bike_plot_fall.encoding.y['title'])).encode(\"utf-8\")+b\"ab6ed\").hexdigest() == \"c9c853cbbb7de6c606f11ccc1e815fc8ed2b7ec4\", \"type of bike_plot_fall.encoding.y['title'] is not str. bike_plot_fall.encoding.y['title'] should be an str\"\n",
    "assert sha1(str(len(bike_plot_fall.encoding.y['title'])).encode(\"utf-8\")+b\"ab6ed\").hexdigest() == \"47600f9fd6eab5b0f1bee419a4d219ae8b091987\", \"length of bike_plot_fall.encoding.y['title'] is not correct\"\n",
    "assert sha1(str(bike_plot_fall.encoding.y['title'].lower()).encode(\"utf-8\")+b\"ab6ed\").hexdigest() == \"75e9cead4ed48ae8554f7bcf419cd91932b58421\", \"value of bike_plot_fall.encoding.y['title'] is not correct\"\n",
    "assert sha1(str(bike_plot_fall.encoding.y['title']).encode(\"utf-8\")+b\"ab6ed\").hexdigest() == \"7c6068d31910e3ff5cc6878081082a2883405fc0\", \"correct string value of bike_plot_fall.encoding.y['title'] but incorrect case of letters\"\n",
    "\n",
    "print('Success!')"
   ]
  },
  {
   "cell_type": "markdown",
   "metadata": {
    "deletable": false,
    "editable": false,
    "nbgrader": {
     "cell_type": "markdown",
     "checksum": "cdc09a57aef5d23fe30922f47b381e9b",
     "grade": false,
     "grade_id": "cell-0fd8f05654f1a761",
     "locked": true,
     "schema_version": 3,
     "solution": false
    }
   },
   "source": [
    "**Question 3.5** \n",
    "<br> {points: 3}\n",
    "\n",
    "In one sentence, describe whether there is a relationship observed in the scatter plot for the fall season, and if so, the direction of that relationship."
   ]
  },
  {
   "cell_type": "markdown",
   "metadata": {
    "deletable": false,
    "nbgrader": {
     "cell_type": "markdown",
     "checksum": "937f375f64e55e7d1e3a5cff8d97209e",
     "grade": true,
     "grade_id": "cell-5cffa9bce11917de",
     "locked": false,
     "points": 3,
     "schema_version": 3,
     "solution": true
    }
   },
   "source": [
    "DOUBLE CLICK TO EDIT **THIS CELL** AND REPLACE THIS TEXT WITH YOUR ANSWER."
   ]
  },
  {
   "cell_type": "markdown",
   "metadata": {
    "deletable": false,
    "editable": false,
    "nbgrader": {
     "cell_type": "markdown",
     "checksum": "633a1920c9542cd361515dd3d095a3ff",
     "grade": false,
     "grade_id": "cell-5a83e5402e223b72",
     "locked": true,
     "schema_version": 3,
     "solution": false
    }
   },
   "source": [
    "**Question 3.6** \n",
    "<br> {points: 3}\n",
    "\n",
    "Looking at the scatter plots for the spring and the fall seasons, what difference(s) do you see? Based on these two plots, what might you recommend to this company to increase their users?"
   ]
  },
  {
   "cell_type": "markdown",
   "metadata": {
    "deletable": false,
    "nbgrader": {
     "cell_type": "markdown",
     "checksum": "6dbc83959f49c9927e365a1fd2f50868",
     "grade": true,
     "grade_id": "cell-a7bf24f74901d418",
     "locked": false,
     "points": 3,
     "schema_version": 3,
     "solution": true
    }
   },
   "source": [
    "DOUBLE CLICK TO EDIT **THIS CELL** AND REPLACE THIS TEXT WITH YOUR ANSWER."
   ]
  },
  {
   "cell_type": "code",
   "execution_count": null,
   "metadata": {},
   "outputs": [],
   "source": []
  }
 ],
 "metadata": {
  "kernelspec": {
   "display_name": "Python 3 (ipykernel)",
   "language": "python",
   "name": "python3"
  },
  "language_info": {
   "codemirror_mode": {
    "name": "ipython",
    "version": 3
   },
   "file_extension": ".py",
   "mimetype": "text/x-python",
   "name": "python",
   "nbconvert_exporter": "python",
   "pygments_lexer": "ipython3",
   "version": "3.11.5"
  }
 },
 "nbformat": 4,
 "nbformat_minor": 4
}
