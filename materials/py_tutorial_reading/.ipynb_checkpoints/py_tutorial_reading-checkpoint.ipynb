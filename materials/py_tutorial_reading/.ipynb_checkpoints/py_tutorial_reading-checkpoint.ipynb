{
 "cells": [
  {
   "cell_type": "markdown",
   "metadata": {
    "deletable": false,
    "editable": false,
    "nbgrader": {
     "cell_type": "markdown",
     "checksum": "c0f6c49443e055fe5c441e75e9b8ef9a",
     "grade": false,
     "grade_id": "cell-48e0878ab9822be7",
     "locked": true,
     "schema_version": 3,
     "solution": false,
     "task": false
    }
   },
   "source": [
    "# Tutorial 2: Introduction to Reading Data\n",
    "\n",
    "Lecture and Tutorial Learning Goals:\n",
    "\n",
    "After completing this week's lecture and tutorial work, you will be able to:\n",
    "\n",
    "- define the following:\n",
    "    - absolute file path\n",
    "    - relative file path\n",
    "    - url\n",
    "- read data into Python using a relative path and a url\n",
    "- compare and contrast the following functions:\n",
    "    - `read_csv`\n",
    "    - `read_excel`\n",
    "- match the following `pandas` `read_*` function arguments to their descriptions:\n",
    "    - `filepath_or_buffer`\n",
    "    - `sep`\n",
    "    - `names`\n",
    "    - `skiprows`\n",
    "- choose the appropriate `pandas` `read_*` function and function arguments to load a given plain text tabular data set into Python\n",
    "- use `pandas` package's `read_excel` function and arguments to load a sheet from an excel file into Python\n",
    "- Connect to a database using the `ibis` library's `connect` function.\n",
    "- List the tables in a database using the `ibis` library's `list_tables` function\n",
    "- Create a reference to a database table using the `ibis` library's `table` function\n",
    "- Execute queries to bring data from a database into Python using the `ibis` library's `execute` function\n",
    "- Use `to_csv` to save a data frame to a `.csv` file\n",
    "\n",
    "- optional: scrape data from the web\n",
    "\n",
    "- read/scrape data from an internet URL using the `BeautifulSoup` package\n",
    "- compare downloading tabular data from a plain text file (e.g. *.csv) from the web versus scraping data from a .html file\n",
    "\n",
    "This tutorial covers parts of [Chapter 2](https://python.datasciencebook.ca/reading.html) of the online textbook. You should read this chapter before attempting this assignment.\n",
    "Any place you see `___`, you must fill in the function, variable, or data to complete the code. Substitute the `raise NotImplementedError` with your completed code and answers then proceed to run the cell!"
   ]
  },
  {
   "cell_type": "code",
   "execution_count": null,
   "metadata": {
    "deletable": false,
    "editable": false,
    "nbgrader": {
     "cell_type": "code",
     "checksum": "fd15270e067c858d9b8277bdf6ba0280",
     "grade": false,
     "grade_id": "cell-b44a86895fe6acc9",
     "locked": true,
     "schema_version": 3,
     "solution": false,
     "task": false
    }
   },
   "outputs": [],
   "source": [
    "### Run this cell before continuing.\n",
    "import os\n",
    "\n",
    "import altair as alt\n",
    "import pandas as pd\n",
    "\n",
    "# Simplify working with large datasets in Altair\n",
    "# You can read the following URL if you are interested in further\n",
    "# understanding large datasets in Altair but it is not required \n",
    "# https://altair-viz.github.io/user_guide/large_datasets.html\n",
    "alt.data_transformers.enable('vegafusion')"
   ]
  },
  {
   "cell_type": "code",
   "execution_count": null,
   "metadata": {
    "deletable": false,
    "editable": false,
    "nbgrader": {
     "cell_type": "code",
     "checksum": "f4653d7fdabb977c24a5117f5ee5bba3",
     "grade": false,
     "grade_id": "cell-0406ddcc6e731bc3",
     "locked": true,
     "schema_version": 3,
     "solution": false,
     "task": false
    }
   },
   "outputs": [],
   "source": [
    "### Run this cell before continuing.\n",
    "try:\n",
    "    os.remove(\"data/WHR2018Chapter2OnlineData.xls\")\n",
    "except:\n",
    "    None"
   ]
  },
  {
   "cell_type": "code",
   "execution_count": null,
   "metadata": {
    "deletable": false,
    "editable": false,
    "nbgrader": {
     "cell_type": "code",
     "checksum": "e8911b1029b99417a4077c9f550a923b",
     "grade": false,
     "grade_id": "cell-c93721c514f08a58",
     "locked": true,
     "schema_version": 3,
     "solution": false,
     "task": false
    }
   },
   "outputs": [],
   "source": [
    "### Run this cell before continuing.\n",
    "try:\n",
    "    os.remove(\"data/project_data.csv\")\n",
    "except:\n",
    "    None"
   ]
  },
  {
   "cell_type": "markdown",
   "metadata": {
    "deletable": false,
    "editable": false,
    "nbgrader": {
     "cell_type": "markdown",
     "checksum": "26e7d2a001879cd560b12ab69c91361f",
     "grade": false,
     "grade_id": "cell-eb886aee74edfc54",
     "locked": true,
     "schema_version": 3,
     "solution": false,
     "task": false
    }
   },
   "source": [
    "## 1. Happiness Report\n",
    "As you might remember from `worksheet_02`, we practised loading data from the *Sustainable Development Solutions Network's* [World Happiness Report](http://worldhappiness.report/). That data was the output of their analysis that calculated each country's happiness score and how much each variable contributed to it. In this tutorial, we are going to look at the data at an earlier stage of the study - the aggregated/averaged values (per country and year) for many different social and health aspects that the researchers anticipated might contribute to happiness (Table2.1 from [this Excel spreadsheet](https://s3.amazonaws.com/happiness-report/2018/WHR2018Chapter2OnlineData.xls)).\n",
    "\n",
    "The goal for today is to produce a plot of 2017's positive affect scores against healthy life expectancy at birth, with healthy life expectancy at birth on the x-axis and positive affect on the y-axis. For this study, positive affect was defined as the average of three positive affect measures: happiness, laughter and enjoyment. We would also like to convert the **positive affect score** from a scale of 0 - 1 to a scale from 0 - 10.\n",
    "\n",
    "1. use the `[]` notation to subset the rows where the year is equal to 2017\n",
    "2. use `assign` to convert the \"Positive affect\" score from a scale of 0 - 1 to a scale from 0 - 10\n",
    "3. use `[]` to choose the \"Healthy life expectancy at birth\" column and the scaled \"Positive affect\" column\n",
    "4. use `altair` to create a plot of \"Positive affect\" (y-axis) versus \"Healthy life expectancy at birth\" (x-axis)\n",
    "\n",
    "**Tips for success:** Try going through all of the steps on your own, but don't forget to discuss with others (classmates, TAs, or an instructor) if you get stuck. If something is wrong and you can't spot the issue, be sure to **read the error message carefully**. Since there are a lot of steps involved in working with data and modifying it, feel free to look back at `worksheet_02`. "
   ]
  },
  {
   "cell_type": "markdown",
   "metadata": {
    "deletable": false,
    "editable": false,
    "nbgrader": {
     "cell_type": "markdown",
     "checksum": "191ae5fe7e82e83b302dcb7389eaac06",
     "grade": false,
     "grade_id": "cell-eaa4671c9bc261f5",
     "locked": true,
     "schema_version": 3,
     "solution": false
    }
   },
   "source": [
    "**Question 1.1** Multiple Choice: \n",
    "<br> {points: 1}\n",
    "\n",
    "What is the maximum value for the \"Positive affect\" score (in the original data file that you read into Python)?\n",
    "\n",
    "A. 100\n",
    "\n",
    "B. 10 \n",
    "\n",
    "C. 1\n",
    "\n",
    "D. 0.1\n",
    "\n",
    "E. 5\n",
    "\n",
    "*Assign your answer to an object called `answer1_1`. Make sure your answer is an uppercase letter and is surrounded by quotation marks (e.g. `\"F\"`).*"
   ]
  },
  {
   "cell_type": "code",
   "execution_count": null,
   "metadata": {
    "deletable": false,
    "nbgrader": {
     "cell_type": "code",
     "checksum": "7ec0c09b840c23de9a45df32bbf354d6",
     "grade": false,
     "grade_id": "cell-e18dc09310ee7801",
     "locked": false,
     "schema_version": 3,
     "solution": true
    }
   },
   "outputs": [],
   "source": [
    "# your code here\n",
    "raise NotImplementedError"
   ]
  },
  {
   "cell_type": "code",
   "execution_count": null,
   "metadata": {
    "deletable": false,
    "editable": false,
    "nbgrader": {
     "cell_type": "code",
     "checksum": "fabbb8eec9cbe978bdf3ff63cf789f68",
     "grade": true,
     "grade_id": "cell-f1313c7d1348ac8c",
     "locked": true,
     "points": 1,
     "schema_version": 3,
     "solution": false
    }
   },
   "outputs": [],
   "source": [
    "from hashlib import sha1\n",
    "assert sha1(str(type(answer1_1)).encode(\"utf-8\")+b\"dc859\").hexdigest() == \"d5153f09cd7d1c205729942551f9f22d3466df48\", \"type of answer1_1 is not str. answer1_1 should be an str\"\n",
    "assert sha1(str(len(answer1_1)).encode(\"utf-8\")+b\"dc859\").hexdigest() == \"fcab68f0dd1c77aee35013660b7506642e5aaa84\", \"length of answer1_1 is not correct\"\n",
    "assert sha1(str(answer1_1.lower()).encode(\"utf-8\")+b\"dc859\").hexdigest() == \"bba28be227ab4d2cc557066e987357b6a8d14c39\", \"value of answer1_1 is not correct\"\n",
    "assert sha1(str(answer1_1).encode(\"utf-8\")+b\"dc859\").hexdigest() == \"b40cf96465d9c9019579834a41a30f0cf70a680f\", \"correct string value of answer1_1 but incorrect case of letters\"\n",
    "\n",
    "print('Success!')"
   ]
  },
  {
   "cell_type": "markdown",
   "metadata": {
    "deletable": false,
    "editable": false,
    "nbgrader": {
     "cell_type": "markdown",
     "checksum": "44a984a2673ac06aed672dcf772c7663",
     "grade": false,
     "grade_id": "cell-27175166f20aece1",
     "locked": true,
     "schema_version": 3,
     "solution": false
    }
   },
   "source": [
    "**Question 1.2** Multiple Choice: \n",
    "<br> {points: 1}\n",
    "\n",
    "Which column's values will be used to filter the data?\n",
    "\n",
    "A. `countries`\n",
    "\n",
    "B. `generosity`\n",
    "\n",
    "C. `positive affect`\n",
    "\n",
    "D. `year`\n",
    "\n",
    "*Assign your answer to an object called `answer1_2`. Make sure your answer is an uppercase letter and is surrounded by quotation marks (e.g. `\"F\"`).*"
   ]
  },
  {
   "cell_type": "code",
   "execution_count": null,
   "metadata": {
    "deletable": false,
    "nbgrader": {
     "cell_type": "code",
     "checksum": "36fd26b826d5e291db973a4d70dff2bc",
     "grade": false,
     "grade_id": "cell-16da567171536519",
     "locked": false,
     "schema_version": 3,
     "solution": true
    }
   },
   "outputs": [],
   "source": [
    "# your code here\n",
    "raise NotImplementedError"
   ]
  },
  {
   "cell_type": "code",
   "execution_count": null,
   "metadata": {
    "deletable": false,
    "editable": false,
    "nbgrader": {
     "cell_type": "code",
     "checksum": "43b302b700196eef3155427e6b601e2f",
     "grade": true,
     "grade_id": "cell-8bd586d238ebce67",
     "locked": true,
     "points": 1,
     "schema_version": 3,
     "solution": false
    }
   },
   "outputs": [],
   "source": [
    "from hashlib import sha1\n",
    "assert sha1(str(type(answer1_2)).encode(\"utf-8\")+b\"5c19e\").hexdigest() == \"7593227dbe13c5ad69ed738f93361e688c8de19a\", \"type of answer1_2 is not str. answer1_2 should be an str\"\n",
    "assert sha1(str(len(answer1_2)).encode(\"utf-8\")+b\"5c19e\").hexdigest() == \"897d485e1521ff61d5b1fd8cd7efaa7ffb17d57c\", \"length of answer1_2 is not correct\"\n",
    "assert sha1(str(answer1_2.lower()).encode(\"utf-8\")+b\"5c19e\").hexdigest() == \"22c5ae2640573b21fd1e4646b9569ce24438e574\", \"value of answer1_2 is not correct\"\n",
    "assert sha1(str(answer1_2).encode(\"utf-8\")+b\"5c19e\").hexdigest() == \"d6fe4ff1f2e336c58c3e84a1e92e3c2602b3fe82\", \"correct string value of answer1_2 but incorrect case of letters\"\n",
    "\n",
    "print('Success!')"
   ]
  },
  {
   "cell_type": "markdown",
   "metadata": {
    "deletable": false,
    "editable": false,
    "nbgrader": {
     "cell_type": "markdown",
     "checksum": "6c004e02fe72b6454e34820c62139763",
     "grade": false,
     "grade_id": "cell-c9e29373e8731516",
     "locked": true,
     "schema_version": 3,
     "solution": false
    }
   },
   "source": [
    "**Question 1.3.0**\n",
    "<br> {points: 1}\n",
    "\n",
    "Use the appropriate `.read_*` function to read in the `WHR2018Chapter2OnlineData` (look in the `tutorial_02` directory to ensure you use the correct relative path to read it in).\n",
    "\n",
    "_Assign the data frame to an object called `happy_df_csv`._"
   ]
  },
  {
   "cell_type": "code",
   "execution_count": null,
   "metadata": {
    "deletable": false,
    "nbgrader": {
     "cell_type": "code",
     "checksum": "039f41defc5ad4a41865af6c4f841c0f",
     "grade": false,
     "grade_id": "cell-be35369b600c489e",
     "locked": false,
     "schema_version": 3,
     "solution": true
    },
    "tags": []
   },
   "outputs": [],
   "source": [
    "# your code here\n",
    "raise NotImplementedError\n",
    "happy_df_csv"
   ]
  },
  {
   "cell_type": "code",
   "execution_count": null,
   "metadata": {
    "deletable": false,
    "editable": false,
    "nbgrader": {
     "cell_type": "code",
     "checksum": "122d4e2d23af0e9d5baf2dff2304b9aa",
     "grade": true,
     "grade_id": "cell-41eb2114195d336c",
     "locked": true,
     "points": 1,
     "schema_version": 3,
     "solution": false
    }
   },
   "outputs": [],
   "source": [
    "from hashlib import sha1\n",
    "assert sha1(str(type(happy_df_csv)).encode(\"utf-8\")+b\"81065\").hexdigest() == \"6f71e45e0e2d84898f4a471e7916ad73c386411b\", \"type of type(happy_df_csv) is not correct\"\n",
    "\n",
    "assert sha1(str(type(happy_df_csv.shape)).encode(\"utf-8\")+b\"81066\").hexdigest() == \"094e3f18671b02275683f1e17592d79d6aa83f7a\", \"type of happy_df_csv.shape is not tuple. happy_df_csv.shape should be a tuple\"\n",
    "assert sha1(str(len(happy_df_csv.shape)).encode(\"utf-8\")+b\"81066\").hexdigest() == \"ef5b468a1e1c0d1b9304f4bbc48d4669ade3b1fa\", \"length of happy_df_csv.shape is not correct\"\n",
    "assert sha1(str(sorted(map(str, happy_df_csv.shape))).encode(\"utf-8\")+b\"81066\").hexdigest() == \"544a991eaafc9defc507f2af5f42093f6c0880d9\", \"values of happy_df_csv.shape are not correct\"\n",
    "assert sha1(str(happy_df_csv.shape).encode(\"utf-8\")+b\"81066\").hexdigest() == \"598f82ab5376c9088eaa257763f095eca724038f\", \"order of elements of happy_df_csv.shape is not correct\"\n",
    "\n",
    "assert sha1(str(type(sum(happy_df_csv.year))).encode(\"utf-8\")+b\"81067\").hexdigest() == \"bce63f8b3da81fff51fbbfcbc2407b5fd7d16b4e\", \"type of sum(happy_df_csv.year) is not int. Please make sure it is int and not np.int64, etc. You can cast your value into an int using int()\"\n",
    "assert sha1(str(sum(happy_df_csv.year)).encode(\"utf-8\")+b\"81067\").hexdigest() == \"bbb458109f14d9b7745890a7dae34f0f796b0777\", \"value of sum(happy_df_csv.year) is not correct\"\n",
    "\n",
    "print('Success!')"
   ]
  },
  {
   "cell_type": "markdown",
   "metadata": {
    "deletable": false,
    "editable": false,
    "nbgrader": {
     "cell_type": "markdown",
     "checksum": "b63c156b38889456e9881d1d85987931",
     "grade": false,
     "grade_id": "cell-ca7dbd5d07447573",
     "locked": true,
     "schema_version": 3,
     "solution": false
    }
   },
   "source": [
    "**Question 1.3.1**\n",
    "<br> {points: 1}\n",
    "\n",
    "Above, you loaded the data from a file we already downloaded and converted to a `.csv` for you. But you can also use the same function to directly load in Excel files into Python. Given that the data we loaded above (`WHR2018Chapter2OnlineData.csv`) was originally sourced from an Excel file on the web, let's now directly read that Excel file into Python using the `read_excel` function from `pandas` package. This Excel file has multiple sheets, the data we want is on the first one.\n",
    "\n",
    "To answer the question, fill in the blanks in the code below. If you are unsure, try reading the documentation for the new functions and ask others for help!\n",
    "\n",
    "Assign the data into an object called `happy_df`."
   ]
  },
  {
   "cell_type": "code",
   "execution_count": null,
   "metadata": {
    "deletable": false,
    "nbgrader": {
     "cell_type": "code",
     "checksum": "90fa745dd4d3a1187d938942ba8c5df8",
     "grade": false,
     "grade_id": "cell-a8a3d64de1b87550",
     "locked": false,
     "schema_version": 3,
     "solution": true
    },
    "tags": []
   },
   "outputs": [],
   "source": [
    "url = \"https://s3.amazonaws.com/happiness-report/2018/WHR2018Chapter2OnlineData.xls\"\n",
    "\n",
    "# ___ = pd.read_excel(___, sheet_name = ___)\n",
    "\n",
    "# your code here\n",
    "raise NotImplementedError\n",
    "happy_df"
   ]
  },
  {
   "cell_type": "code",
   "execution_count": null,
   "metadata": {
    "deletable": false,
    "editable": false,
    "nbgrader": {
     "cell_type": "code",
     "checksum": "b25c16b59a46c66656c4f7e7b8f5ee86",
     "grade": true,
     "grade_id": "cell-476734f8979f1d94",
     "locked": true,
     "points": 1,
     "schema_version": 3,
     "solution": false
    }
   },
   "outputs": [],
   "source": [
    "from hashlib import sha1\n",
    "assert sha1(str(type(happy_df)).encode(\"utf-8\")+b\"1020c\").hexdigest() == \"1f10fbe3d8b406d12e133dc9fd7998488a6d4077\", \"type of type(happy_df) is not correct\"\n",
    "\n",
    "assert sha1(str(type(happy_df.shape)).encode(\"utf-8\")+b\"1020d\").hexdigest() == \"8f839a49fff0377b46b51ff1ab9cbc2d14b0d51b\", \"type of happy_df.shape is not tuple. happy_df.shape should be a tuple\"\n",
    "assert sha1(str(len(happy_df.shape)).encode(\"utf-8\")+b\"1020d\").hexdigest() == \"a607346270a5f4307050520e13ece51fcbfc73cf\", \"length of happy_df.shape is not correct\"\n",
    "assert sha1(str(sorted(map(str, happy_df.shape))).encode(\"utf-8\")+b\"1020d\").hexdigest() == \"3fb0e9dd92592d62d7812e35e2ad9b95d889933a\", \"values of happy_df.shape are not correct\"\n",
    "assert sha1(str(happy_df.shape).encode(\"utf-8\")+b\"1020d\").hexdigest() == \"f27ad6fd652e254a75b49ce18681547e22da69f5\", \"order of elements of happy_df.shape is not correct\"\n",
    "\n",
    "assert sha1(str(type(sum(happy_df.year))).encode(\"utf-8\")+b\"1020e\").hexdigest() == \"8a256b236c83b59a7b768fa7411894136a71f551\", \"type of sum(happy_df.year) is not int. Please make sure it is int and not np.int64, etc. You can cast your value into an int using int()\"\n",
    "assert sha1(str(sum(happy_df.year)).encode(\"utf-8\")+b\"1020e\").hexdigest() == \"d4aa9311b59f16d7f442b1ed96943b70d9f400d7\", \"value of sum(happy_df.year) is not correct\"\n",
    "\n",
    "print('Success!')"
   ]
  },
  {
   "cell_type": "markdown",
   "metadata": {
    "deletable": false,
    "editable": false,
    "nbgrader": {
     "cell_type": "markdown",
     "checksum": "63879577bfcb33c4f064fe3dc2c7c24f",
     "grade": false,
     "grade_id": "cell-dd53d9426f770204",
     "locked": true,
     "schema_version": 3,
     "solution": false,
     "task": false
    }
   },
   "source": [
    "Look at the column names - they contain spaces!!! This is not a best practice for column names. Run the cell below to replace all the spaces with a `_`. The `columns` method is also needed to access the data frame's column names.\n",
    "\n",
    "*Note: Since every column name is a string, we could directly call the `replace` method on each column names. "
   ]
  },
  {
   "cell_type": "code",
   "execution_count": null,
   "metadata": {
    "deletable": false,
    "nbgrader": {
     "cell_type": "code",
     "checksum": "ee4f50dd10e71769eb4c2e2bab9a9808",
     "grade": false,
     "grade_id": "cell-9c32e67162641321",
     "locked": false,
     "schema_version": 3,
     "solution": true,
     "task": false
    }
   },
   "outputs": [],
   "source": [
    "# your code here\n",
    "raise NotImplementedError"
   ]
  },
  {
   "cell_type": "markdown",
   "metadata": {
    "deletable": false,
    "editable": false,
    "nbgrader": {
     "cell_type": "markdown",
     "checksum": "333b4bcb48e74b1932f0c96b9805a548",
     "grade": false,
     "grade_id": "cell-49c7adc814e9dd9e",
     "locked": true,
     "schema_version": 3,
     "solution": false
    }
   },
   "source": [
    "**Question 1.3.2**\n",
    "<br> {points: 1}\n",
    "\n",
    "Using the scaffolding given in the cell below, apply `[]`, `assign`, and `[]` (again!) to the `happy_df` data frame as needed to get it ready to create our desired scatterplot. Recall that we wanted to rescale the \"Positive affect\" scores so that they fall in the range 0-10 instead of 0-1. Call the new, re-scaled column `Positive_affect_scaled`.\n",
    "\n",
    "_Assign the data frame containing only the columns we need to create our plot to an object called `reduced_happy_df`._"
   ]
  },
  {
   "cell_type": "code",
   "execution_count": null,
   "metadata": {
    "deletable": false,
    "nbgrader": {
     "cell_type": "code",
     "checksum": "d076529ba577bfd89b322928a402a3bf",
     "grade": false,
     "grade_id": "cell-726859a91d715048",
     "locked": false,
     "schema_version": 3,
     "solution": true
    }
   },
   "outputs": [],
   "source": [
    "# happy_step1 = ___[___['year'] == ___]\n",
    "# happy_step2 = happy_step1.assign(Positive_affect_scaled = ___)\n",
    "# reduced_happy_df = happy_step2[[___, ___]]\n",
    "\n",
    "# your code here\n",
    "raise NotImplementedError\n",
    "reduced_happy_df"
   ]
  },
  {
   "cell_type": "code",
   "execution_count": null,
   "metadata": {
    "deletable": false,
    "editable": false,
    "nbgrader": {
     "cell_type": "code",
     "checksum": "be09619fb0aa041717d96b86166b0556",
     "grade": true,
     "grade_id": "cell-dec4163f6664b7f2",
     "locked": true,
     "points": 1,
     "schema_version": 3,
     "solution": false
    }
   },
   "outputs": [],
   "source": [
    "from hashlib import sha1\n",
    "assert sha1(str(type(happy_step1 is None)).encode(\"utf-8\")+b\"9a4bb\").hexdigest() == \"785a94c80b68e1f57cb0bc1a71a7bb04f243e137\", \"type of happy_step1 is None is not bool. happy_step1 is None should be a bool\"\n",
    "assert sha1(str(happy_step1 is None).encode(\"utf-8\")+b\"9a4bb\").hexdigest() == \"c14ce643bab8a8fb0e9d079364879af983f284d7\", \"boolean value of happy_step1 is None is not correct\"\n",
    "\n",
    "assert sha1(str(type(happy_step2 is None)).encode(\"utf-8\")+b\"9a4bc\").hexdigest() == \"c985bc2b3343a9fe26a170f069640edef7865a89\", \"type of happy_step2 is None is not bool. happy_step2 is None should be a bool\"\n",
    "assert sha1(str(happy_step2 is None).encode(\"utf-8\")+b\"9a4bc\").hexdigest() == \"a63dabb6cf9af53a6e57301426fa178a67391a37\", \"boolean value of happy_step2 is None is not correct\"\n",
    "\n",
    "assert sha1(str(type(reduced_happy_df is None)).encode(\"utf-8\")+b\"9a4bd\").hexdigest() == \"3398ec32080eddaf05865968ae0c09d1653cbaa0\", \"type of reduced_happy_df is None is not bool. reduced_happy_df is None should be a bool\"\n",
    "assert sha1(str(reduced_happy_df is None).encode(\"utf-8\")+b\"9a4bd\").hexdigest() == \"f25a36e171dc5e00acdc6cd3c84ef3c23b63dd9c\", \"boolean value of reduced_happy_df is None is not correct\"\n",
    "\n",
    "assert sha1(str(type(reduced_happy_df.shape)).encode(\"utf-8\")+b\"9a4be\").hexdigest() == \"cac32ad02b0b44893f1e261b4efbbfda8deec224\", \"type of reduced_happy_df.shape is not tuple. reduced_happy_df.shape should be a tuple\"\n",
    "assert sha1(str(len(reduced_happy_df.shape)).encode(\"utf-8\")+b\"9a4be\").hexdigest() == \"2d3cda6077cd2b468638c811df047a34120ea2a0\", \"length of reduced_happy_df.shape is not correct\"\n",
    "assert sha1(str(sorted(map(str, reduced_happy_df.shape))).encode(\"utf-8\")+b\"9a4be\").hexdigest() == \"dc0188f1ff6a016373353a9c8404481f96035eb6\", \"values of reduced_happy_df.shape are not correct\"\n",
    "assert sha1(str(reduced_happy_df.shape).encode(\"utf-8\")+b\"9a4be\").hexdigest() == \"346dc91ab22044def37c855d7caf91db46a79681\", \"order of elements of reduced_happy_df.shape is not correct\"\n",
    "\n",
    "assert sha1(str(type(happy_step1.year.unique())).encode(\"utf-8\")+b\"9a4bf\").hexdigest() == \"6e60d6c6310836eb31a59a444aaf75bfbce96e7b\", \"type of happy_step1.year.unique() is not correct\"\n",
    "assert sha1(str(happy_step1.year.unique()).encode(\"utf-8\")+b\"9a4bf\").hexdigest() == \"e1ec8fada5a449b9eb90bbf82857250c15cc8582\", \"value of happy_step1.year.unique() is not correct\"\n",
    "\n",
    "assert sha1(str(type(sum(reduced_happy_df.Positive_affect_scaled.dropna()))).encode(\"utf-8\")+b\"9a4c0\").hexdigest() == \"b8737dde77e6164f4a073d0430445b5fdb7103de\", \"type of sum(reduced_happy_df.Positive_affect_scaled.dropna()) is not float. Please make sure it is float and not np.float64, etc. You can cast your value into a float using float()\"\n",
    "assert sha1(str(round(sum(reduced_happy_df.Positive_affect_scaled.dropna()), 2)).encode(\"utf-8\")+b\"9a4c0\").hexdigest() == \"e75fcff8e73c2ad22195e184f4b847b95173829f\", \"value of sum(reduced_happy_df.Positive_affect_scaled.dropna()) is not correct (rounded to 2 decimal places)\"\n",
    "\n",
    "assert sha1(str(type(sum(reduced_happy_df.Healthy_life_expectancy_at_birth.dropna()))).encode(\"utf-8\")+b\"9a4c1\").hexdigest() == \"9efb151ffb62be308d929fb376104c94fe982083\", \"type of sum(reduced_happy_df.Healthy_life_expectancy_at_birth.dropna()) is not float. Please make sure it is float and not np.float64, etc. You can cast your value into a float using float()\"\n",
    "assert sha1(str(round(sum(reduced_happy_df.Healthy_life_expectancy_at_birth.dropna()), 2)).encode(\"utf-8\")+b\"9a4c1\").hexdigest() == \"0f24f296e96f3584b3f2b193c118c96c5ce463ca\", \"value of sum(reduced_happy_df.Healthy_life_expectancy_at_birth.dropna()) is not correct (rounded to 2 decimal places)\"\n",
    "\n",
    "print('Success!')"
   ]
  },
  {
   "cell_type": "markdown",
   "metadata": {
    "deletable": false,
    "editable": false,
    "nbgrader": {
     "cell_type": "markdown",
     "checksum": "b94c1bc2994d4561a88fa59907981e53",
     "grade": false,
     "grade_id": "cell-b10df2cccd63b024",
     "locked": true,
     "schema_version": 3,
     "solution": false
    }
   },
   "source": [
    "**Question 1.4** \n",
    "<br> {points: 1}\n",
    "\n",
    "Using the modified data set, `reduced_happy_df`, generate the scatterplot described above and make sure to label the axes in proper written English. We have included `scale(zero=False)` in the code so that the plot isn't fixed to start at zero. \n",
    "\n",
    "_Assign your plot to an object called `happy_plot`._"
   ]
  },
  {
   "cell_type": "code",
   "execution_count": null,
   "metadata": {
    "deletable": false,
    "nbgrader": {
     "cell_type": "code",
     "checksum": "511494a7a1e0c47d86f2e8160ab09a64",
     "grade": false,
     "grade_id": "cell-09cd90fd47b394d3",
     "locked": false,
     "schema_version": 3,
     "solution": true
    }
   },
   "outputs": [],
   "source": [
    "# ___ = alt.Chart(reduced_happy_df).___().encode(\n",
    "#     x=alt.X(___)\n",
    "#         .title(___)\n",
    "#         .scale(zero=False),\n",
    "#     y=alt.Y(___)\n",
    "#         .title(\"Positive affect score (out of ___)\")\n",
    "#         .scale(zero=False)\n",
    "# )\n",
    "\n",
    "# your code here\n",
    "raise NotImplementedError\n",
    "happy_plot"
   ]
  },
  {
   "cell_type": "code",
   "execution_count": null,
   "metadata": {
    "deletable": false,
    "editable": false,
    "nbgrader": {
     "cell_type": "code",
     "checksum": "a6242686fc5e65b29e24e79e20541d73",
     "grade": true,
     "grade_id": "cell-cc81148d52ca3d36",
     "locked": true,
     "points": 1,
     "schema_version": 3,
     "solution": false
    }
   },
   "outputs": [],
   "source": [
    "from hashlib import sha1\n",
    "assert sha1(str(type(happy_plot.encoding.x['shorthand'])).encode(\"utf-8\")+b\"240bf\").hexdigest() == \"5501ea0bc5051f491d540b1e1f1f8516206f64a0\", \"type of happy_plot.encoding.x['shorthand'] is not str. happy_plot.encoding.x['shorthand'] should be an str\"\n",
    "assert sha1(str(len(happy_plot.encoding.x['shorthand'])).encode(\"utf-8\")+b\"240bf\").hexdigest() == \"f12d2d4d180bf75894d4b8b023f4e1021237a198\", \"length of happy_plot.encoding.x['shorthand'] is not correct\"\n",
    "assert sha1(str(happy_plot.encoding.x['shorthand'].lower()).encode(\"utf-8\")+b\"240bf\").hexdigest() == \"a5a449b54c828a1996d19cc84f98152548f1595c\", \"value of happy_plot.encoding.x['shorthand'] is not correct\"\n",
    "assert sha1(str(happy_plot.encoding.x['shorthand']).encode(\"utf-8\")+b\"240bf\").hexdigest() == \"012ebc6773c8eaa9f7529e4141c980f153c43bf2\", \"correct string value of happy_plot.encoding.x['shorthand'] but incorrect case of letters\"\n",
    "\n",
    "assert sha1(str(type(happy_plot.encoding.y['shorthand'])).encode(\"utf-8\")+b\"240c0\").hexdigest() == \"032d5959c58fe8b10a57ec8e389a82abaec352e9\", \"type of happy_plot.encoding.y['shorthand'] is not str. happy_plot.encoding.y['shorthand'] should be an str\"\n",
    "assert sha1(str(len(happy_plot.encoding.y['shorthand'])).encode(\"utf-8\")+b\"240c0\").hexdigest() == \"48740d144e1c1e32ea6ba25ca938820b493446c6\", \"length of happy_plot.encoding.y['shorthand'] is not correct\"\n",
    "assert sha1(str(happy_plot.encoding.y['shorthand'].lower()).encode(\"utf-8\")+b\"240c0\").hexdigest() == \"1cc80b8a26d84b16c78b958f9cf2367c5cfd5d46\", \"value of happy_plot.encoding.y['shorthand'] is not correct\"\n",
    "assert sha1(str(happy_plot.encoding.y['shorthand']).encode(\"utf-8\")+b\"240c0\").hexdigest() == \"fb9fe9d3f723cb0c6c2b05eda5e8dc7196d7324a\", \"correct string value of happy_plot.encoding.y['shorthand'] but incorrect case of letters\"\n",
    "\n",
    "assert sha1(str(type(happy_plot.mark)).encode(\"utf-8\")+b\"240c1\").hexdigest() == \"b91cbf70fa314673f13cdd4aaecbadecf3b3bc3c\", \"type of happy_plot.mark is not str. happy_plot.mark should be an str\"\n",
    "assert sha1(str(len(happy_plot.mark)).encode(\"utf-8\")+b\"240c1\").hexdigest() == \"fd0a497027579f563ed4563d72c03cc08dbe33f4\", \"length of happy_plot.mark is not correct\"\n",
    "assert sha1(str(happy_plot.mark.lower()).encode(\"utf-8\")+b\"240c1\").hexdigest() == \"c88a9c47782507e5f0d3f70216d77ce88f3e09f2\", \"value of happy_plot.mark is not correct\"\n",
    "assert sha1(str(happy_plot.mark).encode(\"utf-8\")+b\"240c1\").hexdigest() == \"c88a9c47782507e5f0d3f70216d77ce88f3e09f2\", \"correct string value of happy_plot.mark but incorrect case of letters\"\n",
    "\n",
    "assert sha1(str(type(isinstance(happy_plot.encoding.x['title'], str))).encode(\"utf-8\")+b\"240c2\").hexdigest() == \"08a50759f1734a2278d1b2703748e308506405dd\", \"type of isinstance(happy_plot.encoding.x['title'], str) is not bool. isinstance(happy_plot.encoding.x['title'], str) should be a bool\"\n",
    "assert sha1(str(isinstance(happy_plot.encoding.x['title'], str)).encode(\"utf-8\")+b\"240c2\").hexdigest() == \"40131500c79785a2e939089e7b33cf568e37a443\", \"boolean value of isinstance(happy_plot.encoding.x['title'], str) is not correct\"\n",
    "\n",
    "assert sha1(str(type(isinstance(happy_plot.encoding.y['title'], str))).encode(\"utf-8\")+b\"240c3\").hexdigest() == \"fbe9ef33eb133d5116f217f6ca76856cf624d0e4\", \"type of isinstance(happy_plot.encoding.y['title'], str) is not bool. isinstance(happy_plot.encoding.y['title'], str) should be a bool\"\n",
    "assert sha1(str(isinstance(happy_plot.encoding.y['title'], str)).encode(\"utf-8\")+b\"240c3\").hexdigest() == \"62d55e8d1037c5792b8c68fefdcf3816d354a9f6\", \"boolean value of isinstance(happy_plot.encoding.y['title'], str) is not correct\"\n",
    "\n",
    "print('Success!')"
   ]
  },
  {
   "cell_type": "markdown",
   "metadata": {
    "deletable": false,
    "editable": false,
    "nbgrader": {
     "cell_type": "markdown",
     "checksum": "70ab42c2c3aed4c1653f46ee472ce320",
     "grade": false,
     "grade_id": "cell-74a8b29302c03111",
     "locked": true,
     "schema_version": 3,
     "solution": false
    }
   },
   "source": [
    "**Question 1.5** \n",
    "<br> {points: 3}\n",
    "\n",
    "In one sentence or two, describe what you see in the scatterplot above. Does there appear to be a relationship between life expectancy at birth and postive affect? If so, describe it."
   ]
  },
  {
   "cell_type": "markdown",
   "metadata": {
    "deletable": false,
    "nbgrader": {
     "cell_type": "markdown",
     "checksum": "ab65b7b60380bfb3a1917802ab42c04a",
     "grade": true,
     "grade_id": "cell-454d6ac241520540",
     "locked": false,
     "points": 3,
     "schema_version": 3,
     "solution": true
    }
   },
   "source": [
    "DOUBLE CLICK TO EDIT **THIS CELL** AND REPLACE THIS TEXT WITH YOUR ANSWER."
   ]
  },
  {
   "cell_type": "markdown",
   "metadata": {
    "deletable": false,
    "editable": false,
    "nbgrader": {
     "cell_type": "markdown",
     "checksum": "c932c442527820bac4db6694a34f0dca",
     "grade": false,
     "grade_id": "cell-f2bcf671c8edd2bf",
     "locked": true,
     "schema_version": 3,
     "solution": false
    }
   },
   "source": [
    "**Question 1.6** \n",
    "<br> {points: 3}\n",
    "\n",
    "Choose any variable (column) in the data set `happy_df` other than `Positive_affect` to plot against healthy life expectancy at birth (using the unmodified `happy_df` data for the chart). **You should NOT scale whichever variable you choose.** Ensure that healthy life expectancy at birth is on the x-axis and that you give your axes human-readable labels.\n",
    "\n",
    "_Assign your plot to an object called `happy_plot_2`._"
   ]
  },
  {
   "cell_type": "code",
   "execution_count": null,
   "metadata": {
    "deletable": false,
    "nbgrader": {
     "cell_type": "code",
     "checksum": "b01cc415d9120b0a5ff07776990bb5f4",
     "grade": false,
     "grade_id": "cell-1a67703036cd347d",
     "locked": false,
     "schema_version": 3,
     "solution": true,
     "task": false
    }
   },
   "outputs": [],
   "source": [
    "# your code here\n",
    "raise NotImplementedError\n",
    "happy_plot_2"
   ]
  },
  {
   "cell_type": "code",
   "execution_count": null,
   "metadata": {
    "deletable": false,
    "editable": false,
    "nbgrader": {
     "cell_type": "code",
     "checksum": "8c57329cbe011c1c9e19c891e1d25f8d",
     "grade": true,
     "grade_id": "cell-4770f90dc16ee481",
     "locked": true,
     "points": 3,
     "schema_version": 3,
     "solution": false,
     "task": false
    }
   },
   "outputs": [],
   "source": [
    "from hashlib import sha1\n",
    "assert sha1(str(type(happy_plot_2.mark)).encode(\"utf-8\")+b\"73b0c\").hexdigest() == \"3459c71fc33b1c2cfd22085e2b4e55fc37606255\", \"type of happy_plot_2.mark is not str. happy_plot_2.mark should be an str\"\n",
    "assert sha1(str(len(happy_plot_2.mark)).encode(\"utf-8\")+b\"73b0c\").hexdigest() == \"4a1233cfe68f36f670967f80d9b334d4bcde70f5\", \"length of happy_plot_2.mark is not correct\"\n",
    "assert sha1(str(happy_plot_2.mark.lower()).encode(\"utf-8\")+b\"73b0c\").hexdigest() == \"832a2078abd834964b786d4ec8d461e3900e04d7\", \"value of happy_plot_2.mark is not correct\"\n",
    "assert sha1(str(happy_plot_2.mark).encode(\"utf-8\")+b\"73b0c\").hexdigest() == \"832a2078abd834964b786d4ec8d461e3900e04d7\", \"correct string value of happy_plot_2.mark but incorrect case of letters\"\n",
    "\n",
    "assert sha1(str(type(happy_plot_2.encoding.x['shorthand'])).encode(\"utf-8\")+b\"73b0d\").hexdigest() == \"544f409ad2e6d7c06a95da933c2fe5a747986f56\", \"type of happy_plot_2.encoding.x['shorthand'] is not str. happy_plot_2.encoding.x['shorthand'] should be an str\"\n",
    "assert sha1(str(len(happy_plot_2.encoding.x['shorthand'])).encode(\"utf-8\")+b\"73b0d\").hexdigest() == \"6169bdff2fa9cd0926d09abd3d1a3c3e54514b5c\", \"length of happy_plot_2.encoding.x['shorthand'] is not correct\"\n",
    "assert sha1(str(happy_plot_2.encoding.x['shorthand'].lower()).encode(\"utf-8\")+b\"73b0d\").hexdigest() == \"f83f3ed1cf820c54394d090f50dac993f09de6ba\", \"value of happy_plot_2.encoding.x['shorthand'] is not correct\"\n",
    "assert sha1(str(happy_plot_2.encoding.x['shorthand']).encode(\"utf-8\")+b\"73b0d\").hexdigest() == \"54e51eeab15d13155250ea86753d6ed5fa2e6344\", \"correct string value of happy_plot_2.encoding.x['shorthand'] but incorrect case of letters\"\n",
    "\n",
    "assert sha1(str(type(happy_plot_2.encoding.y['shorthand'] != 'Healthy_life_expectancy_at_birth')).encode(\"utf-8\")+b\"73b0e\").hexdigest() == \"d8b973b70ad7d27e542db724dfc90398d8d8ad68\", \"type of happy_plot_2.encoding.y['shorthand'] != 'Healthy_life_expectancy_at_birth' is not bool. happy_plot_2.encoding.y['shorthand'] != 'Healthy_life_expectancy_at_birth' should be a bool\"\n",
    "assert sha1(str(happy_plot_2.encoding.y['shorthand'] != 'Healthy_life_expectancy_at_birth').encode(\"utf-8\")+b\"73b0e\").hexdigest() == \"fc957ed694530d42eb968dfce600c05924cafb63\", \"boolean value of happy_plot_2.encoding.y['shorthand'] != 'Healthy_life_expectancy_at_birth' is not correct\"\n",
    "\n",
    "assert sha1(str(type(happy_plot_2.encoding.y['shorthand'] != 'Positive_affect_scaled')).encode(\"utf-8\")+b\"73b0f\").hexdigest() == \"41cb43147648d5d4c9717baf7fbb55315b4df787\", \"type of happy_plot_2.encoding.y['shorthand'] != 'Positive_affect_scaled' is not bool. happy_plot_2.encoding.y['shorthand'] != 'Positive_affect_scaled' should be a bool\"\n",
    "assert sha1(str(happy_plot_2.encoding.y['shorthand'] != 'Positive_affect_scaled').encode(\"utf-8\")+b\"73b0f\").hexdigest() == \"a54cad90a69f02c59f86f776be94bac70312cf04\", \"boolean value of happy_plot_2.encoding.y['shorthand'] != 'Positive_affect_scaled' is not correct\"\n",
    "\n",
    "assert sha1(str(type(happy_plot_2.encoding.y['shorthand'] in happy_df.columns)).encode(\"utf-8\")+b\"73b10\").hexdigest() == \"fb18a8f95f6ad4cb43975119841312c4162b3e0b\", \"type of happy_plot_2.encoding.y['shorthand'] in happy_df.columns is not bool. happy_plot_2.encoding.y['shorthand'] in happy_df.columns should be a bool\"\n",
    "assert sha1(str(happy_plot_2.encoding.y['shorthand'] in happy_df.columns).encode(\"utf-8\")+b\"73b10\").hexdigest() == \"dcade83be91cd7399ec5d200718d318ff5096a29\", \"boolean value of happy_plot_2.encoding.y['shorthand'] in happy_df.columns is not correct\"\n",
    "\n",
    "assert sha1(str(type(isinstance(happy_plot_2.encoding.x['title'], (str, list)))).encode(\"utf-8\")+b\"73b11\").hexdigest() == \"5a150cf41d3cd4e70a4f5a9144ff5d9beacdc5ef\", \"type of isinstance(happy_plot_2.encoding.x['title'], (str, list)) is not bool. isinstance(happy_plot_2.encoding.x['title'], (str, list)) should be a bool\"\n",
    "assert sha1(str(isinstance(happy_plot_2.encoding.x['title'], (str, list))).encode(\"utf-8\")+b\"73b11\").hexdigest() == \"7d60383fb77516d2133cbe2754dbf54fd5744259\", \"boolean value of isinstance(happy_plot_2.encoding.x['title'], (str, list)) is not correct\"\n",
    "\n",
    "assert sha1(str(type(isinstance(happy_plot_2.encoding.y['title'], (str, list)))).encode(\"utf-8\")+b\"73b12\").hexdigest() == \"ed845346852755609c297989e5b27a8487724271\", \"type of isinstance(happy_plot_2.encoding.y['title'], (str, list)) is not bool. isinstance(happy_plot_2.encoding.y['title'], (str, list)) should be a bool\"\n",
    "assert sha1(str(isinstance(happy_plot_2.encoding.y['title'], (str, list))).encode(\"utf-8\")+b\"73b12\").hexdigest() == \"a6e0de0171b40e496563ea4ec4bb447d896da832\", \"boolean value of isinstance(happy_plot_2.encoding.y['title'], (str, list)) is not correct\"\n",
    "\n",
    "print('Success!')"
   ]
  },
  {
   "cell_type": "markdown",
   "metadata": {
    "deletable": false,
    "editable": false,
    "nbgrader": {
     "cell_type": "markdown",
     "checksum": "832b16230229cdcd3a7a1e4067a4bad9",
     "grade": false,
     "grade_id": "cell-a9da33d0a45bb495",
     "locked": true,
     "schema_version": 3,
     "solution": false
    }
   },
   "source": [
    "**Question 1.7**\n",
    "<br> {points: 3}\n",
    "\n",
    "In a sentence or two, describe what you see in the scatterplot above. Does there appear to be a relationship between healthy life expectancy at birth and the other variable you plotted? If so, describe it."
   ]
  },
  {
   "cell_type": "markdown",
   "metadata": {
    "deletable": false,
    "nbgrader": {
     "cell_type": "markdown",
     "checksum": "e94843b2cfe557d32464460fe171f40e",
     "grade": true,
     "grade_id": "cell-f324f67cb0ef5682",
     "locked": false,
     "points": 3,
     "schema_version": 3,
     "solution": true
    }
   },
   "source": [
    "DOUBLE CLICK TO EDIT **THIS CELL** AND REPLACE THIS TEXT WITH YOUR ANSWER."
   ]
  },
  {
   "cell_type": "markdown",
   "metadata": {
    "deletable": false,
    "editable": false,
    "nbgrader": {
     "cell_type": "markdown",
     "checksum": "926ddedabd6ae8e93d0fdb816abd0e68",
     "grade": false,
     "grade_id": "cell-c5375f89b178b96d",
     "locked": true,
     "schema_version": 3,
     "solution": false,
     "task": false
    }
   },
   "source": [
    "## 2. Whistler Snow\n",
    "\n",
    "Skiing and snowboarding are huge in British Columbia. Some of the best slopes for snow sports are quite close. In fact, the famous mountain-bearing city of Whistler is just two hours north of Vancouver. With cold weather and plenty of snowfall, Whistler is an ideal destination for winter sports fanatics. \n",
    "\n",
    "One thing skiers and snowboarders want is fresh snow! When are they most likely to find this? In the `data` directory, we have two-year-long data sets from [Environment Canada from the Whistler Roundhouse Station](http://climate.weather.gc.ca/historical_data/search_historic_data_stations_e.html?StationID=348&Year=2007&Month=3&Day=1&timeframe=2&type=bar&MeasTypeID=snow&searchType=stnProx&txtRadius=25&optProxType=navLink&txtLatDecDeg=50.128889166667&txtLongDecDeg=122.95483333333&optLimit=specDate&selRowPerPage=25&station=WHISTLER) (on Whistler mountain). This weather station is located 1,835 m above sea level.\n",
    "\n",
    "To answer the question of \"When are skiers and snowboarders most likely to find fresh snow at Whistler?\" you will create a line plot with the date is on the x-axis and the total snow per day in centimetres (the column named `Total Snow cm` in the data file) on the y-axis. Given that we have data for two years (2017 & 2018), we will create one plot for each year to see if there is a trend we can observe across the two years."
   ]
  },
  {
   "cell_type": "markdown",
   "metadata": {
    "deletable": false,
    "editable": false,
    "nbgrader": {
     "cell_type": "markdown",
     "checksum": "8445133691ceaca82d1106bb47ac0312",
     "grade": false,
     "grade_id": "cell-e8f091bb368e39f1",
     "locked": true,
     "schema_version": 3,
     "solution": false
    }
   },
   "source": [
    "**Question 2.1** Multiple Choice: \n",
    "<br> {points: 1}\n",
    "\n",
    "What are we going to plot on the y-axis?\n",
    "\n",
    "A. total precipitation per day in centimetres\n",
    "\n",
    "B. total snow on the ground in centimetres\n",
    "\n",
    "C. total snow per day in centimetres\n",
    "\n",
    "D. total rain per day in centimetres\n",
    "\n",
    "*Assign your answer to an object called `answer2_1`. Make sure your answer is an uppercase letter and is surrounded by quotation marks (e.g. `\"F\"`).*"
   ]
  },
  {
   "cell_type": "code",
   "execution_count": null,
   "metadata": {
    "deletable": false,
    "nbgrader": {
     "cell_type": "code",
     "checksum": "779d7b7fc5a4c8e59afa535eb8f5d565",
     "grade": false,
     "grade_id": "cell-7c77b685f9f33b13",
     "locked": false,
     "schema_version": 3,
     "solution": true
    }
   },
   "outputs": [],
   "source": [
    "# your code here\n",
    "raise NotImplementedError"
   ]
  },
  {
   "cell_type": "code",
   "execution_count": null,
   "metadata": {
    "deletable": false,
    "editable": false,
    "nbgrader": {
     "cell_type": "code",
     "checksum": "fe61ab76a2a3003ae7158444ac9ca96c",
     "grade": true,
     "grade_id": "cell-09cb9f902ccc6326",
     "locked": true,
     "points": 1,
     "schema_version": 3,
     "solution": false
    }
   },
   "outputs": [],
   "source": [
    "from hashlib import sha1\n",
    "assert sha1(str(type(answer2_1)).encode(\"utf-8\")+b\"6c86d\").hexdigest() == \"14577187daeb60c9f292f92ffc3d11f24b10d747\", \"type of answer2_1 is not str. answer2_1 should be an str\"\n",
    "assert sha1(str(len(answer2_1)).encode(\"utf-8\")+b\"6c86d\").hexdigest() == \"e7e1f30207096fb5a7b0e6af542bf9027023659c\", \"length of answer2_1 is not correct\"\n",
    "assert sha1(str(answer2_1.lower()).encode(\"utf-8\")+b\"6c86d\").hexdigest() == \"5c363060313b02b7dc78f50fb4ff2d261c25a48e\", \"value of answer2_1 is not correct\"\n",
    "assert sha1(str(answer2_1).encode(\"utf-8\")+b\"6c86d\").hexdigest() == \"a32c3c5d93812962a4638db5c58a44aedc9c0f6b\", \"correct string value of answer2_1 but incorrect case of letters\"\n",
    "\n",
    "print('Success!')"
   ]
  },
  {
   "cell_type": "markdown",
   "metadata": {
    "deletable": false,
    "editable": false,
    "nbgrader": {
     "cell_type": "markdown",
     "checksum": "b6bca9a5f1f2200aa2c710d0b7960e90",
     "grade": false,
     "grade_id": "cell-4f445b649edd0b2b",
     "locked": true,
     "schema_version": 3,
     "solution": false
    }
   },
   "source": [
    "**Question 2.2.0** \n",
    "<br> {points: 1}\n",
    "\n",
    "Read in the file named `eng-daily-01012018-12312018.csv` from the `data` directory. **Make sure you preview the file to choose the correct `read_*` function and argument values to get the data into Python.** \n",
    "\n",
    "_Assign your data frame to an object called `whistler_2018`._\n",
    "\n",
    "*Note: You'll see a lot of entries of the form `NaN`. This is the symbol Python uses to denote missing data."
   ]
  },
  {
   "cell_type": "code",
   "execution_count": null,
   "metadata": {
    "deletable": false,
    "nbgrader": {
     "cell_type": "code",
     "checksum": "f5cce1f662f29c37819ce74261d0b6a9",
     "grade": false,
     "grade_id": "cell-5eee09e838226892",
     "locked": false,
     "schema_version": 3,
     "solution": true
    }
   },
   "outputs": [],
   "source": [
    "# your code here\n",
    "raise NotImplementedError\n",
    "whistler_2018"
   ]
  },
  {
   "cell_type": "code",
   "execution_count": null,
   "metadata": {
    "deletable": false,
    "editable": false,
    "nbgrader": {
     "cell_type": "code",
     "checksum": "f07eb4b92b370904aa036d999bd8126d",
     "grade": true,
     "grade_id": "cell-37bb46c77b5a6b65",
     "locked": true,
     "points": 1,
     "schema_version": 3,
     "solution": false
    }
   },
   "outputs": [],
   "source": [
    "from hashlib import sha1\n",
    "assert sha1(str(type(whistler_2018 is None)).encode(\"utf-8\")+b\"5ec0e\").hexdigest() == \"beb8924b0ddbd0ea172cd393e030e1ecc882727d\", \"type of whistler_2018 is None is not bool. whistler_2018 is None should be a bool\"\n",
    "assert sha1(str(whistler_2018 is None).encode(\"utf-8\")+b\"5ec0e\").hexdigest() == \"034ef6b4e9dc72de42e6a8ac93eeb707d0115bdc\", \"boolean value of whistler_2018 is None is not correct\"\n",
    "\n",
    "assert sha1(str(type(whistler_2018)).encode(\"utf-8\")+b\"5ec0f\").hexdigest() == \"f6103de6c82ea452d157122479770df0b5227f33\", \"type of type(whistler_2018) is not correct\"\n",
    "\n",
    "assert sha1(str(type(whistler_2018.shape)).encode(\"utf-8\")+b\"5ec10\").hexdigest() == \"16a64cd290a3e128138db43e74fc44239d6abc2d\", \"type of whistler_2018.shape is not tuple. whistler_2018.shape should be a tuple\"\n",
    "assert sha1(str(len(whistler_2018.shape)).encode(\"utf-8\")+b\"5ec10\").hexdigest() == \"f9b79589c004eb307c95ccce7a4f6e870ceef64a\", \"length of whistler_2018.shape is not correct\"\n",
    "assert sha1(str(sorted(map(str, whistler_2018.shape))).encode(\"utf-8\")+b\"5ec10\").hexdigest() == \"b534ce29859c0a76ee4fe5c9a79db5f3d989442f\", \"values of whistler_2018.shape are not correct\"\n",
    "assert sha1(str(whistler_2018.shape).encode(\"utf-8\")+b\"5ec10\").hexdigest() == \"edcaa9862443e2e50ea70d37d49a8841a4966575\", \"order of elements of whistler_2018.shape is not correct\"\n",
    "\n",
    "assert sha1(str(type(sum(whistler_2018['Total Snow (cm)'].dropna()))).encode(\"utf-8\")+b\"5ec11\").hexdigest() == \"aea4ba5a6e6713626c01e79cbf61e3e1b332b067\", \"type of sum(whistler_2018['Total Snow (cm)'].dropna()) is not float. Please make sure it is float and not np.float64, etc. You can cast your value into a float using float()\"\n",
    "assert sha1(str(round(sum(whistler_2018['Total Snow (cm)'].dropna()), 2)).encode(\"utf-8\")+b\"5ec11\").hexdigest() == \"2761a7df814efc651aec7797793b96288d9d2834\", \"value of sum(whistler_2018['Total Snow (cm)'].dropna()) is not correct (rounded to 2 decimal places)\"\n",
    "\n",
    "print('Success!')"
   ]
  },
  {
   "cell_type": "markdown",
   "metadata": {
    "deletable": false,
    "editable": false,
    "nbgrader": {
     "cell_type": "markdown",
     "checksum": "a9d432b9b7af6ff567979f7da6aaff83",
     "grade": false,
     "grade_id": "cell-8a21bf6086ccf39e",
     "locked": true,
     "schema_version": 3,
     "solution": false
    }
   },
   "source": [
    "**Question 2.2.1** \n",
    "<br> {points: 1}\n",
    "\n",
    "Looking at the column names of the `whistler_2018` data frame, you can see we have white space in our column names again. Replace the white space with `_` using `replace` method."
   ]
  },
  {
   "cell_type": "code",
   "execution_count": null,
   "metadata": {
    "deletable": false,
    "nbgrader": {
     "cell_type": "code",
     "checksum": "7d8a00ec5479671a15a9d5f1ec9531da",
     "grade": false,
     "grade_id": "cell-56ec4e8dbbff86e2",
     "locked": false,
     "schema_version": 3,
     "solution": true
    }
   },
   "outputs": [],
   "source": [
    "# your code here\n",
    "raise NotImplementedError\n",
    "whistler_2018.columns"
   ]
  },
  {
   "cell_type": "code",
   "execution_count": null,
   "metadata": {
    "deletable": false,
    "editable": false,
    "nbgrader": {
     "cell_type": "code",
     "checksum": "82a2000ce5445ec0d4ba536170ded8e5",
     "grade": true,
     "grade_id": "cell-a8623de117076f50",
     "locked": true,
     "points": 1,
     "schema_version": 3,
     "solution": false
    }
   },
   "outputs": [],
   "source": [
    "from hashlib import sha1\n",
    "assert sha1(str(type(whistler_2018.shape)).encode(\"utf-8\")+b\"1cf00\").hexdigest() == \"a7a2c6696ff01101297e30f4efe7c32d11fa5f08\", \"type of whistler_2018.shape is not tuple. whistler_2018.shape should be a tuple\"\n",
    "assert sha1(str(len(whistler_2018.shape)).encode(\"utf-8\")+b\"1cf00\").hexdigest() == \"cbb5b0522e44dbb3103ae76756b95d7cf2e00aee\", \"length of whistler_2018.shape is not correct\"\n",
    "assert sha1(str(sorted(map(str, whistler_2018.shape))).encode(\"utf-8\")+b\"1cf00\").hexdigest() == \"52fc57ff39d4c718f90da2d6a457d157fc998a4d\", \"values of whistler_2018.shape are not correct\"\n",
    "assert sha1(str(whistler_2018.shape).encode(\"utf-8\")+b\"1cf00\").hexdigest() == \"a6617bef68f30a628afeed5a1d64630fa8657c9d\", \"order of elements of whistler_2018.shape is not correct\"\n",
    "\n",
    "assert sha1(str(type(sum([\" \" in st for st in whistler_2018.columns.values]))).encode(\"utf-8\")+b\"1cf01\").hexdigest() == \"9a7fc5c61c0868dcd98b16408aa7869c3c0b058a\", \"type of sum([\\\" \\\" in st for st in whistler_2018.columns.values]) is not int. Please make sure it is int and not np.int64, etc. You can cast your value into an int using int()\"\n",
    "assert sha1(str(sum([\" \" in st for st in whistler_2018.columns.values])).encode(\"utf-8\")+b\"1cf01\").hexdigest() == \"ceea9950d338d8995481ff5b1a5bc1983a86b7e7\", \"value of sum([\\\" \\\" in st for st in whistler_2018.columns.values]) is not correct\"\n",
    "\n",
    "print('Success!')"
   ]
  },
  {
   "cell_type": "markdown",
   "metadata": {
    "deletable": false,
    "editable": false,
    "nbgrader": {
     "cell_type": "markdown",
     "checksum": "f072ed62b8de999d2d0a8f4192e0e1d2",
     "grade": false,
     "grade_id": "cell-ebc628786570051a",
     "locked": true,
     "schema_version": 3,
     "solution": false
    }
   },
   "source": [
    "**Question 2.3** \n",
    "<br> {points: 1}\n",
    "\n",
    "Create a line plot with the date on the x-axis and the total snow per day (in cm) on the y-axis by filling in the `___` in the code below. Ensure you give your axes human-readable labels.\n",
    "\n",
    "*Note: We need to include `:T` to the x encoding to specify the x labels to be every month.\n",
    "\n",
    "_Assign your plot to an object called `whistler_2018_plot`._"
   ]
  },
  {
   "cell_type": "code",
   "execution_count": null,
   "metadata": {
    "deletable": false,
    "nbgrader": {
     "cell_type": "code",
     "checksum": "34ece36eb43793c0acc39ab82c4b5dca",
     "grade": false,
     "grade_id": "cell-2b5a4c01c5a8404d",
     "locked": false,
     "schema_version": 3,
     "solution": true
    }
   },
   "outputs": [],
   "source": [
    "# ___ = alt.Chart(___).mark_line().encode(\n",
    "#     x=alt.X(___).title(___),\n",
    "#     y=alt.Y(___).title(___)\n",
    "# ).properties( # set the height and the with for the plot\n",
    "#     width=600,\n",
    "#     height=200\n",
    "# )\n",
    "\n",
    "# your code here\n",
    "raise NotImplementedError\n",
    "whistler_2018_plot"
   ]
  },
  {
   "cell_type": "code",
   "execution_count": null,
   "metadata": {
    "deletable": false,
    "editable": false,
    "nbgrader": {
     "cell_type": "code",
     "checksum": "f468efeb2d4bda6d7173ff9066c99c25",
     "grade": true,
     "grade_id": "cell-7ba6c116f9f01fbf",
     "locked": true,
     "points": 1,
     "schema_version": 3,
     "solution": false
    }
   },
   "outputs": [],
   "source": [
    "from hashlib import sha1\n",
    "assert sha1(str(type(whistler_2018_plot is None)).encode(\"utf-8\")+b\"40509\").hexdigest() == \"0d7d41755c16937ab31320ad44cdcd6f7b287424\", \"type of whistler_2018_plot is None is not bool. whistler_2018_plot is None should be a bool\"\n",
    "assert sha1(str(whistler_2018_plot is None).encode(\"utf-8\")+b\"40509\").hexdigest() == \"19412bfa539bb8154f29254b538c2cf15245663c\", \"boolean value of whistler_2018_plot is None is not correct\"\n",
    "\n",
    "assert sha1(str(type(whistler_2018_plot.mark)).encode(\"utf-8\")+b\"4050a\").hexdigest() == \"11b8e0b8bc0b0159e80b85b6ab42f92beb6c522d\", \"type of whistler_2018_plot.mark is not str. whistler_2018_plot.mark should be an str\"\n",
    "assert sha1(str(len(whistler_2018_plot.mark)).encode(\"utf-8\")+b\"4050a\").hexdigest() == \"acf4d64872ed2a6d411e8df152984917b66c689b\", \"length of whistler_2018_plot.mark is not correct\"\n",
    "assert sha1(str(whistler_2018_plot.mark.lower()).encode(\"utf-8\")+b\"4050a\").hexdigest() == \"78e2c2281d536f04de8a82c43b083d070bb9051a\", \"value of whistler_2018_plot.mark is not correct\"\n",
    "assert sha1(str(whistler_2018_plot.mark).encode(\"utf-8\")+b\"4050a\").hexdigest() == \"78e2c2281d536f04de8a82c43b083d070bb9051a\", \"correct string value of whistler_2018_plot.mark but incorrect case of letters\"\n",
    "\n",
    "assert sha1(str(type(whistler_2018_plot.encoding.x['shorthand'])).encode(\"utf-8\")+b\"4050b\").hexdigest() == \"d5a10f7be129a52665a317822c622765ae1ba393\", \"type of whistler_2018_plot.encoding.x['shorthand'] is not str. whistler_2018_plot.encoding.x['shorthand'] should be an str\"\n",
    "assert sha1(str(len(whistler_2018_plot.encoding.x['shorthand'])).encode(\"utf-8\")+b\"4050b\").hexdigest() == \"95415eeee82c0a754b7ded7101f32435001795d2\", \"length of whistler_2018_plot.encoding.x['shorthand'] is not correct\"\n",
    "assert sha1(str(whistler_2018_plot.encoding.x['shorthand'].lower()).encode(\"utf-8\")+b\"4050b\").hexdigest() == \"7e4d1802a0029bc40cb27fe981a188e3b4db7c77\", \"value of whistler_2018_plot.encoding.x['shorthand'] is not correct\"\n",
    "assert sha1(str(whistler_2018_plot.encoding.x['shorthand']).encode(\"utf-8\")+b\"4050b\").hexdigest() == \"74dba0a68879e98671e2551f15f0020984113f23\", \"correct string value of whistler_2018_plot.encoding.x['shorthand'] but incorrect case of letters\"\n",
    "\n",
    "assert sha1(str(type(whistler_2018_plot.encoding.y['shorthand'])).encode(\"utf-8\")+b\"4050c\").hexdigest() == \"fd78bf301cd5dc3ba999e28e5e400c77dff25836\", \"type of whistler_2018_plot.encoding.y['shorthand'] is not str. whistler_2018_plot.encoding.y['shorthand'] should be an str\"\n",
    "assert sha1(str(len(whistler_2018_plot.encoding.y['shorthand'])).encode(\"utf-8\")+b\"4050c\").hexdigest() == \"380227eb1b943ae708b425045c70b7cb164f4c65\", \"length of whistler_2018_plot.encoding.y['shorthand'] is not correct\"\n",
    "assert sha1(str(whistler_2018_plot.encoding.y['shorthand'].lower()).encode(\"utf-8\")+b\"4050c\").hexdigest() == \"e617455521a3285dc726abadddf2eb53ac0c1e7a\", \"value of whistler_2018_plot.encoding.y['shorthand'] is not correct\"\n",
    "assert sha1(str(whistler_2018_plot.encoding.y['shorthand']).encode(\"utf-8\")+b\"4050c\").hexdigest() == \"6c3269566b751c2db9893f8ae5ba6316a7f22763\", \"correct string value of whistler_2018_plot.encoding.y['shorthand'] but incorrect case of letters\"\n",
    "\n",
    "assert sha1(str(type(isinstance(whistler_2018_plot.encoding.x['title'], str))).encode(\"utf-8\")+b\"4050d\").hexdigest() == \"1cfae0c485c964a16b2f698d2e78f44ffd5b89b6\", \"type of isinstance(whistler_2018_plot.encoding.x['title'], str) is not bool. isinstance(whistler_2018_plot.encoding.x['title'], str) should be a bool\"\n",
    "assert sha1(str(isinstance(whistler_2018_plot.encoding.x['title'], str)).encode(\"utf-8\")+b\"4050d\").hexdigest() == \"6a89bfd36650c5a482aecf0d18e6c6c39f13bfa2\", \"boolean value of isinstance(whistler_2018_plot.encoding.x['title'], str) is not correct\"\n",
    "\n",
    "assert sha1(str(type(isinstance(whistler_2018_plot.encoding.y['title'], str))).encode(\"utf-8\")+b\"4050e\").hexdigest() == \"773c745b44c71ec553574c7f1c8d02ff5b504619\", \"type of isinstance(whistler_2018_plot.encoding.y['title'], str) is not bool. isinstance(whistler_2018_plot.encoding.y['title'], str) should be a bool\"\n",
    "assert sha1(str(isinstance(whistler_2018_plot.encoding.y['title'], str)).encode(\"utf-8\")+b\"4050e\").hexdigest() == \"cc97e03ed5b4dd7c715e03781c3cfe7cc7d7235e\", \"boolean value of isinstance(whistler_2018_plot.encoding.y['title'], str) is not correct\"\n",
    "\n",
    "print('Success!')"
   ]
  },
  {
   "cell_type": "markdown",
   "metadata": {
    "deletable": false,
    "editable": false,
    "nbgrader": {
     "cell_type": "markdown",
     "checksum": "9a05d9e80771970ce9d0ac6e85609c48",
     "grade": false,
     "grade_id": "cell-5ab30aff1ade6a29",
     "locked": true,
     "schema_version": 3,
     "solution": false
    }
   },
   "source": [
    "**Question 2.4** \n",
    "<br> {points: 3}\n",
    "\n",
    "Looking at the line plot above, for 2018, of the months when it snowed, which 2 months had the **most** fresh snow?"
   ]
  },
  {
   "cell_type": "markdown",
   "metadata": {
    "deletable": false,
    "nbgrader": {
     "cell_type": "markdown",
     "checksum": "baffe65b398f9d5c504ef17729e78b10",
     "grade": true,
     "grade_id": "cell-44413b023d2ed1cf",
     "locked": false,
     "points": 3,
     "schema_version": 3,
     "solution": true
    }
   },
   "source": [
    "DOUBLE CLICK TO EDIT **THIS CELL** AND REPLACE THIS TEXT WITH YOUR ANSWER."
   ]
  },
  {
   "cell_type": "markdown",
   "metadata": {
    "deletable": false,
    "editable": false,
    "nbgrader": {
     "cell_type": "markdown",
     "checksum": "9ed1528fd2c56a78c12b69da4cfcdcb6",
     "grade": false,
     "grade_id": "cell-f73cf8cfc5b9f8e8",
     "locked": true,
     "schema_version": 3,
     "solution": false
    }
   },
   "source": [
    "**Question 2.5**\n",
    "<br> {points: 3}\n",
    "\n",
    "Repeat the data loading and plot creation using the file `eng-daily-01012017-12312017.csv` located in the `data` directory to visualize the same data for the year 2017. \n",
    "\n",
    "_Assign your plot to an object called `whistler_2017_plot`._"
   ]
  },
  {
   "cell_type": "code",
   "execution_count": null,
   "metadata": {
    "deletable": false,
    "nbgrader": {
     "cell_type": "code",
     "checksum": "22e10cf5121c899f7c2dc6edc64f57df",
     "grade": false,
     "grade_id": "cell-1b68857d927e3850",
     "locked": false,
     "schema_version": 3,
     "solution": true,
     "task": false
    }
   },
   "outputs": [],
   "source": [
    "# whistler_2017 = ___\n",
    "# whistler_2017.columns = [colname.replace(\" \", \"_\") for colname in whistler_2017.columns] # create a list of a new column names\n",
    "# ___ = alt.Chart(___).mark_line().encode(\n",
    "#     x=alt.X(___).title(___),\n",
    "#     y=alt.Y(___).title(___)\n",
    "# ).properties( # set the height and the with for the plot\n",
    "#     width=600,\n",
    "#     height=200\n",
    "# )\n",
    "\n",
    "# your code here\n",
    "raise NotImplementedError\n",
    "whistler_2017_plot"
   ]
  },
  {
   "cell_type": "code",
   "execution_count": null,
   "metadata": {
    "deletable": false,
    "editable": false,
    "nbgrader": {
     "cell_type": "code",
     "checksum": "3130e83c33626bf848f5832f67a46d18",
     "grade": true,
     "grade_id": "cell-7608e53d69890bf2",
     "locked": true,
     "points": 3,
     "schema_version": 3,
     "solution": false,
     "task": false
    }
   },
   "outputs": [],
   "source": [
    "from hashlib import sha1\n",
    "assert sha1(str(type(whistler_2017_plot is None)).encode(\"utf-8\")+b\"156ae\").hexdigest() == \"e5cb555a2b6e4b7b85ef9e32efc66bc4dc62d9e3\", \"type of whistler_2017_plot is None is not bool. whistler_2017_plot is None should be a bool\"\n",
    "assert sha1(str(whistler_2017_plot is None).encode(\"utf-8\")+b\"156ae\").hexdigest() == \"8fcfb6ddec947a1f7a3ab2cc722371651450edb0\", \"boolean value of whistler_2017_plot is None is not correct\"\n",
    "\n",
    "assert sha1(str(type(whistler_2017_plot.mark)).encode(\"utf-8\")+b\"156af\").hexdigest() == \"9925ef0bd1a148b1233b4a91796b671a58fedc1f\", \"type of whistler_2017_plot.mark is not str. whistler_2017_plot.mark should be an str\"\n",
    "assert sha1(str(len(whistler_2017_plot.mark)).encode(\"utf-8\")+b\"156af\").hexdigest() == \"67a7a3262de12c5b46b1cb06e87c88bf55c4247c\", \"length of whistler_2017_plot.mark is not correct\"\n",
    "assert sha1(str(whistler_2017_plot.mark.lower()).encode(\"utf-8\")+b\"156af\").hexdigest() == \"0f22c9aec9f48a61d101d1b306e7d7ace1b624a8\", \"value of whistler_2017_plot.mark is not correct\"\n",
    "assert sha1(str(whistler_2017_plot.mark).encode(\"utf-8\")+b\"156af\").hexdigest() == \"0f22c9aec9f48a61d101d1b306e7d7ace1b624a8\", \"correct string value of whistler_2017_plot.mark but incorrect case of letters\"\n",
    "\n",
    "assert sha1(str(type(whistler_2017_plot.encoding.x['shorthand'])).encode(\"utf-8\")+b\"156b0\").hexdigest() == \"730ab1e9c9dbc36b1731e60966af0deaab964de7\", \"type of whistler_2017_plot.encoding.x['shorthand'] is not str. whistler_2017_plot.encoding.x['shorthand'] should be an str\"\n",
    "assert sha1(str(len(whistler_2017_plot.encoding.x['shorthand'])).encode(\"utf-8\")+b\"156b0\").hexdigest() == \"f553330d9a90ebc12bf6cd3d028e2b2ee0905dd5\", \"length of whistler_2017_plot.encoding.x['shorthand'] is not correct\"\n",
    "assert sha1(str(whistler_2017_plot.encoding.x['shorthand'].lower()).encode(\"utf-8\")+b\"156b0\").hexdigest() == \"ae4461d9a48f26384653bab3ba884915a5653962\", \"value of whistler_2017_plot.encoding.x['shorthand'] is not correct\"\n",
    "assert sha1(str(whistler_2017_plot.encoding.x['shorthand']).encode(\"utf-8\")+b\"156b0\").hexdigest() == \"83bec3b45dfa025a24af8df2c7b153eb308a0d4a\", \"correct string value of whistler_2017_plot.encoding.x['shorthand'] but incorrect case of letters\"\n",
    "\n",
    "assert sha1(str(type(whistler_2017_plot.encoding.y['shorthand'])).encode(\"utf-8\")+b\"156b1\").hexdigest() == \"2537428a7fd97eb50949d9bc3f5df844b615b82e\", \"type of whistler_2017_plot.encoding.y['shorthand'] is not str. whistler_2017_plot.encoding.y['shorthand'] should be an str\"\n",
    "assert sha1(str(len(whistler_2017_plot.encoding.y['shorthand'])).encode(\"utf-8\")+b\"156b1\").hexdigest() == \"330cef88eebb98455fe477baab4650670f812729\", \"length of whistler_2017_plot.encoding.y['shorthand'] is not correct\"\n",
    "assert sha1(str(whistler_2017_plot.encoding.y['shorthand'].lower()).encode(\"utf-8\")+b\"156b1\").hexdigest() == \"4a26b8dad39c1ab62d013eb34b1c33242c113e09\", \"value of whistler_2017_plot.encoding.y['shorthand'] is not correct\"\n",
    "assert sha1(str(whistler_2017_plot.encoding.y['shorthand']).encode(\"utf-8\")+b\"156b1\").hexdigest() == \"0035f65d4844948e4ae5a7560a61bbf836e7b3e4\", \"correct string value of whistler_2017_plot.encoding.y['shorthand'] but incorrect case of letters\"\n",
    "\n",
    "assert sha1(str(type(isinstance(whistler_2017_plot.encoding.x['title'], str))).encode(\"utf-8\")+b\"156b2\").hexdigest() == \"56c10193fe0b16eb5fb133f941ccb12168184046\", \"type of isinstance(whistler_2017_plot.encoding.x['title'], str) is not bool. isinstance(whistler_2017_plot.encoding.x['title'], str) should be a bool\"\n",
    "assert sha1(str(isinstance(whistler_2017_plot.encoding.x['title'], str)).encode(\"utf-8\")+b\"156b2\").hexdigest() == \"5680d24878ae08c6ede0b2ed0725842ad965db7b\", \"boolean value of isinstance(whistler_2017_plot.encoding.x['title'], str) is not correct\"\n",
    "\n",
    "assert sha1(str(type(isinstance(whistler_2017_plot.encoding.y['title'], str))).encode(\"utf-8\")+b\"156b3\").hexdigest() == \"85b652dbeeb0aa69dfc5794e676e73b4ae55da85\", \"type of isinstance(whistler_2017_plot.encoding.y['title'], str) is not bool. isinstance(whistler_2017_plot.encoding.y['title'], str) should be a bool\"\n",
    "assert sha1(str(isinstance(whistler_2017_plot.encoding.y['title'], str)).encode(\"utf-8\")+b\"156b3\").hexdigest() == \"16610707026dc884332f8190bbce34f926be9951\", \"boolean value of isinstance(whistler_2017_plot.encoding.y['title'], str) is not correct\"\n",
    "\n",
    "print('Success!')"
   ]
  },
  {
   "cell_type": "markdown",
   "metadata": {
    "deletable": false,
    "editable": false,
    "nbgrader": {
     "cell_type": "markdown",
     "checksum": "4a00b30b14e7ea68944846a87e71a8dc",
     "grade": false,
     "grade_id": "cell-8f8fcf9c0b810526",
     "locked": true,
     "schema_version": 3,
     "solution": false
    }
   },
   "source": [
    "**Question 2.6**\n",
    "<br> {points: 3}\n",
    "\n",
    "Looking at the line plot above, for 2017, of the months when it snowed, which 2 months had the **most** fresh snow?"
   ]
  },
  {
   "cell_type": "markdown",
   "metadata": {
    "deletable": false,
    "nbgrader": {
     "cell_type": "markdown",
     "checksum": "32633e9d0c06d2ca9e0ee22ad8ae171a",
     "grade": true,
     "grade_id": "cell-59326d3fb00de096",
     "locked": false,
     "points": 3,
     "schema_version": 3,
     "solution": true
    }
   },
   "source": [
    "DOUBLE CLICK TO EDIT **THIS CELL** AND REPLACE THIS TEXT WITH YOUR ANSWER."
   ]
  },
  {
   "cell_type": "markdown",
   "metadata": {
    "deletable": false,
    "editable": false,
    "nbgrader": {
     "cell_type": "markdown",
     "checksum": "638ba1dcfc1b678a3d429105ca6083cc",
     "grade": false,
     "grade_id": "cell-7ebf6c3f380f6308",
     "locked": true,
     "schema_version": 3,
     "solution": false,
     "task": false
    }
   },
   "source": [
    "**Question 2.7**\n",
    "<br> {points: 3}\n",
    "\n",
    "Are the months  with the most fresh snow the same in 2017 as they were in 2018? **Hint:** you might want to add a code cell where you plot the two plots right after each other so you can easily compare them in one screen view.\n",
    "\n",
    "Is there any advantage of looking at 2 years worth of data? Why or why not?"
   ]
  },
  {
   "cell_type": "markdown",
   "metadata": {
    "deletable": false,
    "nbgrader": {
     "cell_type": "markdown",
     "checksum": "5dc1a5347c756d6fee899ea2fade9085",
     "grade": true,
     "grade_id": "cell-847225b6693679e1",
     "locked": false,
     "points": 3,
     "schema_version": 3,
     "solution": true,
     "task": false
    }
   },
   "source": [
    "DOUBLE CLICK TO EDIT **THIS CELL** AND REPLACE THIS TEXT WITH YOUR ANSWER."
   ]
  },
  {
   "cell_type": "markdown",
   "metadata": {
    "deletable": false,
    "editable": false,
    "nbgrader": {
     "cell_type": "markdown",
     "checksum": "b17dbba86f36d14cc6ed246ceeee92d5",
     "grade": false,
     "grade_id": "cell-7298c18efd74b404",
     "locked": true,
     "schema_version": 3,
     "solution": false,
     "task": false
    }
   },
   "source": [
    "## 3. Reading from a Database\n",
    "\n",
    "In `worksheet_reading`, you'll recall that we opened a database stored in a `.db` file. This involved a lot more effort than just opening a `.csv`, `.tsv`, or any of the other plaintext / Excel formats. \n",
    "\n",
    "**Why should we bother with databases at all?**\n",
    "\n",
    "Databases become really useful in a large-scale setting:\n",
    "\n",
    "- they enable storing large datasets across multiple computers with automatic redundancy and backups\n",
    "- they enable multiple users to access them simultaneously and remotely without conflicts and errors \n",
    "- they provide mechanisms for ensuring data integrity and validating input\n",
    "- they provide security to keep data safe\n",
    "\n",
    "For example: there are around [4 billion](https://www.internetlivestats.com/google-search-statistics/) Google searches conducted daily as of 2019. Can you imagine if Google stored all of the data from those queries in a single `.csv` file!? Chaos would ensue. \n",
    "\n",
    "To reap the real benefits of databases, we'll need to move to a more fully-powered one: [PostgreSQL](https://www.postgresql.org/). We'll begin by loading the `ibis` package that Python uses to talk to databases\n",
    "and the altair package which we will need for visualization."
   ]
  },
  {
   "cell_type": "code",
   "execution_count": null,
   "metadata": {
    "deletable": false,
    "editable": false,
    "nbgrader": {
     "cell_type": "code",
     "checksum": "4784436ee798b34b20437c14e8e1343a",
     "grade": false,
     "grade_id": "cell-ac4dd7f8725ebc79",
     "locked": true,
     "schema_version": 3,
     "solution": false,
     "task": false
    }
   },
   "outputs": [],
   "source": [
    "### Run this cell before continuing.\n",
    "import ibis\n",
    "import altair as alt\n",
    "\n",
    "# Simplify working with large datasets in Altair\n",
    "alt.data_transformers.disable_max_rows()"
   ]
  },
  {
   "cell_type": "markdown",
   "metadata": {
    "deletable": false,
    "editable": false,
    "nbgrader": {
     "cell_type": "markdown",
     "checksum": "1ce3932d406414424cbe5fa6425becba",
     "grade": false,
     "grade_id": "cell-76ec1abec0ab4266",
     "locked": true,
     "schema_version": 3,
     "solution": false,
     "task": false
    }
   },
   "source": [
    "**Question 3.0**\n",
    "<br>{points: 1}\n",
    "\n",
    "Databases are often stored *remotely* (i.e., not on your computer or on this JupyterHub). Your first task is to load the Kickstarter data from a PostgreSQL database stored remotely on the UBC statistics network.\n",
    "\n",
    "\n",
    "URL: `\"dsci-100-student-py.stat.ubc.ca\"`\n",
    "\n",
    "Port: `5432`\n",
    "\n",
    "Username: `\"dsci100\"`\n",
    "\n",
    "Password: `\"dsci100\"`\n",
    "\n",
    "Database Name: `\"kickstarter\"`\n",
    "\n",
    "Table Name: `\"projects\"`\n",
    "\n",
    "We've provided the code to do this below. Replace each `___` with one of the 5 above items. \n",
    "\n",
    "*Note 1: Due to the UBC firewall, to get this to work you'll need to be connected to the UBC network or use the UBC VPN. For instructions on how to connect to UBC's VPN service, see [this webpage on UBC's IT website](https://it.ubc.ca/services/email-voice-internet/myvpn/setup-documents#setup).*\n",
    "\n",
    "*Note 2: As this database will be used by the entire class, you will only have read access (no write permissions).*\n",
    "\n",
    "*Assign the resulting database connection object to* `conn` *and the project table data to* `db_table`."
   ]
  },
  {
   "cell_type": "code",
   "execution_count": null,
   "metadata": {
    "deletable": false,
    "nbgrader": {
     "cell_type": "code",
     "checksum": "95bb8759d47ef2f325a5475a01726cef",
     "grade": false,
     "grade_id": "cell-3e77056f0b0ee8f6",
     "locked": false,
     "schema_version": 3,
     "solution": true,
     "task": false
    }
   },
   "outputs": [],
   "source": [
    "# conn = ibis.postgres.connect(\n",
    "#     database = \"____\", \n",
    "#     host = \"____\",\n",
    "#     port = ____,\n",
    "#     user = \"____\",\n",
    "#     password = \"____\"\n",
    "# )\n",
    "# We name this variable `db_table` to indicate that it is a database table\n",
    "# db_table = conn.table(___)\n",
    "\n",
    "# your code here\n",
    "raise NotImplementedError"
   ]
  },
  {
   "cell_type": "code",
   "execution_count": null,
   "metadata": {
    "deletable": false,
    "editable": false,
    "nbgrader": {
     "cell_type": "code",
     "checksum": "e538d4e98025a95342eb95e74f45bbb1",
     "grade": true,
     "grade_id": "cell-43c8f02a1912363c",
     "locked": true,
     "points": 1,
     "schema_version": 3,
     "solution": false,
     "task": false
    }
   },
   "outputs": [],
   "source": [
    "from hashlib import sha1\n",
    "assert sha1(str(type(type(conn))).encode(\"utf-8\")+b\"65d2b\").hexdigest() == \"0776cb7fd9a4ff21d14dbc43c5f365436a0ef379\", \"type of type(conn) is not correct\"\n",
    "assert sha1(str(type(conn)).encode(\"utf-8\")+b\"65d2b\").hexdigest() == \"d2d3c55624cfc12bca7e971eaee5fb3d394eae97\", \"value of type(conn) is not correct\"\n",
    "\n",
    "assert sha1(str(type(conn.list_tables())).encode(\"utf-8\")+b\"65d2c\").hexdigest() == \"ff0bbdf7819bcbe1d29cd54def001b855b01680b\", \"type of conn.list_tables() is not list. conn.list_tables() should be a list\"\n",
    "assert sha1(str(len(conn.list_tables())).encode(\"utf-8\")+b\"65d2c\").hexdigest() == \"cd35a409be35c0b04859a0b3bcae8b75289ee8c3\", \"length of conn.list_tables() is not correct\"\n",
    "assert sha1(str(sorted(map(str, conn.list_tables()))).encode(\"utf-8\")+b\"65d2c\").hexdigest() == \"c4c380220745d27bcbff20af81e6c600931fb188\", \"values of conn.list_tables() are not correct\"\n",
    "assert sha1(str(conn.list_tables()).encode(\"utf-8\")+b\"65d2c\").hexdigest() == \"c4c380220745d27bcbff20af81e6c600931fb188\", \"order of elements of conn.list_tables() is not correct\"\n",
    "\n",
    "assert sha1(str(type(db_table is None)).encode(\"utf-8\")+b\"65d2d\").hexdigest() == \"e47bc59cbec5329564c5a16ba24c1fa25c165029\", \"type of db_table is None is not bool. db_table is None should be a bool\"\n",
    "assert sha1(str(db_table is None).encode(\"utf-8\")+b\"65d2d\").hexdigest() == \"6b548f588803d50da4863356a071f7abb4ea4685\", \"boolean value of db_table is None is not correct\"\n",
    "\n",
    "assert sha1(str(type(type(db_table))).encode(\"utf-8\")+b\"65d2e\").hexdigest() == \"73d45e656b5a791cf9fe8c4747218d82debaf622\", \"type of type(db_table) is not correct\"\n",
    "assert sha1(str(type(db_table)).encode(\"utf-8\")+b\"65d2e\").hexdigest() == \"d23dec0aa1931361f98827b52c0e7e9eeeb3d259\", \"value of type(db_table) is not correct\"\n",
    "\n",
    "assert sha1(str(type(db_table.columns)).encode(\"utf-8\")+b\"65d2f\").hexdigest() == \"d095f016e289faae3240c00b783d0faf8da79a95\", \"type of db_table.columns is not list. db_table.columns should be a list\"\n",
    "assert sha1(str(len(db_table.columns)).encode(\"utf-8\")+b\"65d2f\").hexdigest() == \"77aceee8034d6bfe2064a26dfc657c4309e5e71d\", \"length of db_table.columns is not correct\"\n",
    "assert sha1(str(sorted(map(str, db_table.columns))).encode(\"utf-8\")+b\"65d2f\").hexdigest() == \"c5cfe351515b407b58c6769bd1f8d8313e9d183d\", \"values of db_table.columns are not correct\"\n",
    "assert sha1(str(db_table.columns).encode(\"utf-8\")+b\"65d2f\").hexdigest() == \"5eeb668fade3c11a9f98d23d57fe4d2eee39ae71\", \"order of elements of db_table.columns is not correct\"\n",
    "\n",
    "print('Success!')"
   ]
  },
  {
   "cell_type": "markdown",
   "metadata": {
    "deletable": false,
    "editable": false,
    "nbgrader": {
     "cell_type": "markdown",
     "checksum": "8e9eaedc6abc8fc2a2af8dbe921d17f8",
     "grade": false,
     "grade_id": "cell-c5ed50cf12263f47",
     "locked": true,
     "schema_version": 3,
     "solution": false,
     "task": false
    }
   },
   "source": [
    "We can now call the `columns` attribute to see what columns are available in the `db_table` table."
   ]
  },
  {
   "cell_type": "code",
   "execution_count": null,
   "metadata": {
    "deletable": false,
    "editable": false,
    "nbgrader": {
     "cell_type": "code",
     "checksum": "6284e349a6b6e9a773e126bfaa723cff",
     "grade": false,
     "grade_id": "cell-a35dbfe198fe2c2a",
     "locked": true,
     "schema_version": 3,
     "solution": false,
     "task": false
    }
   },
   "outputs": [],
   "source": [
    "db_table.columns"
   ]
  },
  {
   "cell_type": "markdown",
   "metadata": {
    "deletable": false,
    "editable": false,
    "nbgrader": {
     "cell_type": "markdown",
     "checksum": "a8214c088968859e57a2174975bfad25",
     "grade": false,
     "grade_id": "cell-f87359c9820b0244",
     "locked": true,
     "schema_version": 3,
     "solution": false,
     "task": false
    }
   },
   "source": [
    "**Question 3.1**\n",
    "<br> {points: 1}\n",
    "\n",
    "If we want to plot compare pledged and goal amounts of funding over time for successful projects in the United States, which columns should we select from the table?\n",
    "\n",
    "A. `id`, `slug`, `pledged`\n",
    "\n",
    "B. `pledged`, `goal`, `deadline`, `country`\n",
    "\n",
    "C. `pledged`, `usd_pledged`, `location_id`\n",
    "\n",
    "D. `currency`, `state`, `country`, `goal`\n",
    "\n",
    "_Assign your answer to an object called `answer3_1`. Make sure your answer is an uppercase letter and is surrounded by quotation marks (e.g. `\"F\"`)._"
   ]
  },
  {
   "cell_type": "code",
   "execution_count": null,
   "metadata": {
    "deletable": false,
    "nbgrader": {
     "cell_type": "code",
     "checksum": "80049f1e87c00b054caf797f2437dd89",
     "grade": false,
     "grade_id": "cell-9eb0609ab7bd4c24",
     "locked": false,
     "schema_version": 3,
     "solution": true,
     "task": false
    }
   },
   "outputs": [],
   "source": [
    "# your code here\n",
    "raise NotImplementedError"
   ]
  },
  {
   "cell_type": "code",
   "execution_count": null,
   "metadata": {
    "deletable": false,
    "editable": false,
    "nbgrader": {
     "cell_type": "code",
     "checksum": "e4cf3eb27aad0e8d7645bfcefc3ceddc",
     "grade": true,
     "grade_id": "cell-c984d14fba25881a",
     "locked": true,
     "points": 1,
     "schema_version": 3,
     "solution": false,
     "task": false
    }
   },
   "outputs": [],
   "source": [
    "from hashlib import sha1\n",
    "assert sha1(str(type(answer3_1)).encode(\"utf-8\")+b\"43ed2\").hexdigest() == \"76d49cc8e85798b8c7b97ee4c559a753ec5c3f46\", \"type of answer3_1 is not str. answer3_1 should be an str\"\n",
    "assert sha1(str(len(answer3_1)).encode(\"utf-8\")+b\"43ed2\").hexdigest() == \"cd346f0042793153f507e436b50dd03dc9180f82\", \"length of answer3_1 is not correct\"\n",
    "assert sha1(str(answer3_1.lower()).encode(\"utf-8\")+b\"43ed2\").hexdigest() == \"1a542e59e7b28fc16599a7f966bef3f8ce1518d9\", \"value of answer3_1 is not correct\"\n",
    "assert sha1(str(answer3_1).encode(\"utf-8\")+b\"43ed2\").hexdigest() == \"6da6e60c00e6fbb828c32d52456ae75ff23c8007\", \"correct string value of answer3_1 but incorrect case of letters\"\n",
    "\n",
    "print('Success!')"
   ]
  },
  {
   "cell_type": "markdown",
   "metadata": {
    "deletable": false,
    "editable": false,
    "nbgrader": {
     "cell_type": "markdown",
     "checksum": "7e14e4fa3edde7116b9c9b51a0eb1c3f",
     "grade": false,
     "grade_id": "cell-ffe5e8d830e11e01",
     "locked": true,
     "schema_version": 3,
     "solution": false,
     "task": false
    }
   },
   "source": [
    "**Question 3.2**\n",
    "<br> {points: 1}\n",
    "\n",
    "Now we'll visualize the data. In order to do this, we need to take the correct subset of data from the table and use `altair` to plot the result. Note that we make the scatter plot slightly transparent (using `opacity = 0.25` in the code below) because there is so much data that it would otherwise be hard to see anything (*overplotting*).\n",
    "\n",
    "In the below cell, you'll see some lines of code (currently commented out with `#` characters). **Remove the comments and rearrange these lines of code** to plot the ratio of pledged and goal funding as a function of project deadline date for all successful (where pledged funding is greater than goal funding) projects in the United States in the dataset. You don't need to add any new code, just reorder the lines we have given you.\n",
    "\n",
    "*Note: there is a lot of data to plot here, so give it a moment to display!*\n",
    "\n",
    "*Hint: you'll want to put all the dataframe manipulation functions first, and then the plotting functions afterward. To not be overwhelmed trying to solve all the code at once, focus on one step at a time and uncomment only the code needed to run that one step. When that step works, move on to the next.\n"
   ]
  },
  {
   "cell_type": "code",
   "execution_count": null,
   "metadata": {
    "deletable": false,
    "nbgrader": {
     "cell_type": "code",
     "checksum": "4fc2853005dcc7348b413abb7275cc61",
     "grade": false,
     "grade_id": "cell-9ec0312afc478428",
     "locked": false,
     "schema_version": 3,
     "solution": true,
     "task": false
    }
   },
   "outputs": [],
   "source": [
    "# db_unfiltered = db_table[[\"deadline\", \"pledged\", \"goal\", \"country\"]]\n",
    "\n",
    "# funding_over_time_plot = alt.Chart(df).mark_circle(opacity=0.25).encode(\n",
    "\n",
    "# df = db_filtered.execute()  # Create a dataframe from the database connection\n",
    "\n",
    "# db_filtered = db_unfiltered[\n",
    "#     (db_unfiltered[\"pledged\"] > db_unfiltered[\"goal\"])\n",
    "#     & (db_unfiltered[\"country\"] == \"US\")\n",
    "# ]\n",
    "#     x=alt.X(\"deadline\").title(\"Date\"),\n",
    "\n",
    "#     y=alt.Y(\"ratio:Q\")\n",
    "#         .title(\"Pledged Funding / Goal Funding\")\n",
    "#         .scale(type=\"log\", base=10)\n",
    "# )\n",
    "\n",
    "# df = df.assign(\n",
    "#     deadline=pd.to_datetime(df[\"deadline\"], unit=\"s\"),\n",
    "#     ratio=df[\"pledged\"] / df[\"goal\"]\n",
    "# )\n",
    "\n",
    "# your code here\n",
    "raise NotImplementedError\n",
    "funding_over_time_plot"
   ]
  },
  {
   "cell_type": "code",
   "execution_count": null,
   "metadata": {
    "deletable": false,
    "editable": false,
    "nbgrader": {
     "cell_type": "code",
     "checksum": "72d77335575e6fdd10de738990b53561",
     "grade": true,
     "grade_id": "cell-52e8a2b1e3010e05",
     "locked": true,
     "points": 1,
     "schema_version": 3,
     "solution": false,
     "task": false
    }
   },
   "outputs": [],
   "source": [
    "from hashlib import sha1\n",
    "assert sha1(str(type(df.columns)).encode(\"utf-8\")+b\"2864e\").hexdigest() == \"fe36dc32338ceedf969636f56ba97fd95e32ad34\", \"type of df.columns is not correct\"\n",
    "assert sha1(str(df.columns).encode(\"utf-8\")+b\"2864e\").hexdigest() == \"0e6fa79bf9d8de69c03a4dbc058fe504ad5d1873\", \"value of df.columns is not correct\"\n",
    "\n",
    "assert sha1(str(type(funding_over_time_plot is None)).encode(\"utf-8\")+b\"2864f\").hexdigest() == \"91075adc98ad69a39616cee7ecefb718336abfbc\", \"type of funding_over_time_plot is None is not bool. funding_over_time_plot is None should be a bool\"\n",
    "assert sha1(str(funding_over_time_plot is None).encode(\"utf-8\")+b\"2864f\").hexdigest() == \"b38a310b1c7ccd2860723f8c7b9235e450766008\", \"boolean value of funding_over_time_plot is None is not correct\"\n",
    "\n",
    "assert sha1(str(type(funding_over_time_plot.mark)).encode(\"utf-8\")+b\"28650\").hexdigest() == \"447caf1f34665e6328d5a09731fb23b4ca7ecbc5\", \"type of funding_over_time_plot.mark is not correct\"\n",
    "assert sha1(str(funding_over_time_plot.mark).encode(\"utf-8\")+b\"28650\").hexdigest() == \"f16e523ea7e255da4bebd0764226edfdd3fec593\", \"value of funding_over_time_plot.mark is not correct\"\n",
    "\n",
    "assert sha1(str(type(funding_over_time_plot.encoding.x['shorthand'])).encode(\"utf-8\")+b\"28651\").hexdigest() == \"17c744de2ab9a5702c2456b69cef17119c644e3a\", \"type of funding_over_time_plot.encoding.x['shorthand'] is not str. funding_over_time_plot.encoding.x['shorthand'] should be an str\"\n",
    "assert sha1(str(len(funding_over_time_plot.encoding.x['shorthand'])).encode(\"utf-8\")+b\"28651\").hexdigest() == \"27afe30fb7f9d4d4e1e1044424384c9bb964c085\", \"length of funding_over_time_plot.encoding.x['shorthand'] is not correct\"\n",
    "assert sha1(str(funding_over_time_plot.encoding.x['shorthand'].lower()).encode(\"utf-8\")+b\"28651\").hexdigest() == \"221c7b3f5e44d1130eb2ecd2977fc2da288b1592\", \"value of funding_over_time_plot.encoding.x['shorthand'] is not correct\"\n",
    "assert sha1(str(funding_over_time_plot.encoding.x['shorthand']).encode(\"utf-8\")+b\"28651\").hexdigest() == \"221c7b3f5e44d1130eb2ecd2977fc2da288b1592\", \"correct string value of funding_over_time_plot.encoding.x['shorthand'] but incorrect case of letters\"\n",
    "\n",
    "assert sha1(str(type(funding_over_time_plot.encoding.y['shorthand'])).encode(\"utf-8\")+b\"28652\").hexdigest() == \"0eb1eed1ab9cc10edf64ec355ce5c6a7bb5472bc\", \"type of funding_over_time_plot.encoding.y['shorthand'] is not str. funding_over_time_plot.encoding.y['shorthand'] should be an str\"\n",
    "assert sha1(str(len(funding_over_time_plot.encoding.y['shorthand'])).encode(\"utf-8\")+b\"28652\").hexdigest() == \"1fc65799b426ff3c27fab50ce7f58aeb078d398a\", \"length of funding_over_time_plot.encoding.y['shorthand'] is not correct\"\n",
    "assert sha1(str(funding_over_time_plot.encoding.y['shorthand'].lower()).encode(\"utf-8\")+b\"28652\").hexdigest() == \"6249b0f8c50424b905ecd6cb40af23b7ada86291\", \"value of funding_over_time_plot.encoding.y['shorthand'] is not correct\"\n",
    "assert sha1(str(funding_over_time_plot.encoding.y['shorthand']).encode(\"utf-8\")+b\"28652\").hexdigest() == \"ece57890283fcce35e4cb2d3aad3b97c887bfb3b\", \"correct string value of funding_over_time_plot.encoding.y['shorthand'] but incorrect case of letters\"\n",
    "\n",
    "assert sha1(str(type(funding_over_time_plot.encoding.x['title'])).encode(\"utf-8\")+b\"28653\").hexdigest() == \"5659eed2597abde16afbb8a23c1dbd0a5dc72e56\", \"type of funding_over_time_plot.encoding.x['title'] is not str. funding_over_time_plot.encoding.x['title'] should be an str\"\n",
    "assert sha1(str(len(funding_over_time_plot.encoding.x['title'])).encode(\"utf-8\")+b\"28653\").hexdigest() == \"35ea397730f614ceab4bbb56ef3bbf5ce9cd6986\", \"length of funding_over_time_plot.encoding.x['title'] is not correct\"\n",
    "assert sha1(str(funding_over_time_plot.encoding.x['title'].lower()).encode(\"utf-8\")+b\"28653\").hexdigest() == \"e2d12b2dee708091328edd1d45230e9e8c9961f2\", \"value of funding_over_time_plot.encoding.x['title'] is not correct\"\n",
    "assert sha1(str(funding_over_time_plot.encoding.x['title']).encode(\"utf-8\")+b\"28653\").hexdigest() == \"abc6a3da896944c5e2cb84df108421063419f5fb\", \"correct string value of funding_over_time_plot.encoding.x['title'] but incorrect case of letters\"\n",
    "\n",
    "assert sha1(str(type(funding_over_time_plot.encoding.y['title'])).encode(\"utf-8\")+b\"28654\").hexdigest() == \"c4fffd56053a178c42c4dd211ca260e01a3317bc\", \"type of funding_over_time_plot.encoding.y['title'] is not str. funding_over_time_plot.encoding.y['title'] should be an str\"\n",
    "assert sha1(str(len(funding_over_time_plot.encoding.y['title'])).encode(\"utf-8\")+b\"28654\").hexdigest() == \"4f6d7fc58df4386cd503d56385d3a3f7013fb370\", \"length of funding_over_time_plot.encoding.y['title'] is not correct\"\n",
    "assert sha1(str(funding_over_time_plot.encoding.y['title'].lower()).encode(\"utf-8\")+b\"28654\").hexdigest() == \"0cab9c190a4c71880c6d47c264bf26adc4674cde\", \"value of funding_over_time_plot.encoding.y['title'] is not correct\"\n",
    "assert sha1(str(funding_over_time_plot.encoding.y['title']).encode(\"utf-8\")+b\"28654\").hexdigest() == \"b91a8a6e76bcf931480f4f20e73f9b4d3ef13355\", \"correct string value of funding_over_time_plot.encoding.y['title'] but incorrect case of letters\"\n",
    "\n",
    "print('Success!')"
   ]
  },
  {
   "cell_type": "markdown",
   "metadata": {
    "deletable": false,
    "editable": false,
    "nbgrader": {
     "cell_type": "markdown",
     "checksum": "7c307ae05ded7d44c276b5e75ca11395",
     "grade": false,
     "grade_id": "cell-6924d6750738281e",
     "locked": true,
     "schema_version": 3,
     "solution": false,
     "task": false
    }
   },
   "source": [
    "**Question 3.3**\n",
    "<br> {points: 3}\n",
    "\n",
    "Is there a relationship between the ratio of pledged/goal funding and time? If so, describe it. \n",
    "\n",
    "Additionally, mention a pattern in the data or a characteristic of it that you may not have expected in advance."
   ]
  },
  {
   "cell_type": "markdown",
   "metadata": {
    "deletable": false,
    "nbgrader": {
     "cell_type": "markdown",
     "checksum": "f8a415075c26b9ec7d44b647d57d9087",
     "grade": true,
     "grade_id": "cell-7e7c080ca369e735",
     "locked": false,
     "points": 3,
     "schema_version": 3,
     "solution": true,
     "task": false
    }
   },
   "source": [
    "DOUBLE CLICK TO EDIT **THIS CELL** AND REPLACE THIS TEXT WITH YOUR ANSWER."
   ]
  },
  {
   "cell_type": "markdown",
   "metadata": {
    "deletable": false,
    "editable": false,
    "nbgrader": {
     "cell_type": "markdown",
     "checksum": "ed105a9c6ff4542fda19eecfe964c333",
     "grade": false,
     "grade_id": "cell-b4092fe897ccd0f2",
     "locked": true,
     "schema_version": 3,
     "solution": false,
     "task": false
    }
   },
   "source": [
    "**Question 3.4**\n",
    "<br> {points: 1}\n",
    "\n",
    "Finally, we'll save the project data frame to a local file in the `data/` folder called `project_data.csv`. Recall that we don't want to try to download and save the *entire dataset* (way too much data!) from the database, but only the `DataFrame` object named `df`. Make sure not to include the index numbers in the saved CSV file."
   ]
  },
  {
   "cell_type": "code",
   "execution_count": null,
   "metadata": {
    "deletable": false,
    "nbgrader": {
     "cell_type": "code",
     "checksum": "2f6d4a3ced066830d7ac5783d75f49a1",
     "grade": false,
     "grade_id": "cell-d9df612336bc209a",
     "locked": false,
     "schema_version": 3,
     "solution": true,
     "task": false
    }
   },
   "outputs": [],
   "source": [
    "# your code here\n",
    "raise NotImplementedError"
   ]
  },
  {
   "cell_type": "code",
   "execution_count": null,
   "metadata": {
    "deletable": false,
    "editable": false,
    "nbgrader": {
     "cell_type": "code",
     "checksum": "9ae3798d4c9f447660d460e6992349e7",
     "grade": true,
     "grade_id": "cell-38725218bfd3fa34",
     "locked": true,
     "points": 1,
     "schema_version": 3,
     "solution": false,
     "task": false
    }
   },
   "outputs": [],
   "source": [
    "from hashlib import sha1\n",
    "assert sha1(str(type(os.path.exists('data/project_data.csv'))).encode(\"utf-8\")+b\"41b72\").hexdigest() == \"2ccd6b9d0d2697930b02ad808e0ce72881238b47\", \"type of os.path.exists('data/project_data.csv') is not bool. os.path.exists('data/project_data.csv') should be a bool\"\n",
    "assert sha1(str(os.path.exists('data/project_data.csv')).encode(\"utf-8\")+b\"41b72\").hexdigest() == \"45b1cf905c3d19eda13928aa21154e1e2347d33e\", \"boolean value of os.path.exists('data/project_data.csv') is not correct\"\n",
    "\n",
    "assert sha1(str(type(pd.read_csv(\"data/project_data.csv\").columns)).encode(\"utf-8\")+b\"41b73\").hexdigest() == \"75d848743af8b88d33764c66af840a0dd6722f23\", \"type of pd.read_csv(\\\"data/project_data.csv\\\").columns is not correct\"\n",
    "assert sha1(str(pd.read_csv(\"data/project_data.csv\").columns).encode(\"utf-8\")+b\"41b73\").hexdigest() == \"67364571957648813b368cd2bb81cde27eb37ee8\", \"value of pd.read_csv(\\\"data/project_data.csv\\\").columns is not correct\"\n",
    "\n",
    "print('Success!')"
   ]
  },
  {
   "cell_type": "markdown",
   "metadata": {
    "deletable": false,
    "editable": false,
    "nbgrader": {
     "cell_type": "markdown",
     "checksum": "faa61a35b049b204386eafd6b0b13b4e",
     "grade": false,
     "grade_id": "cell-c3a172ed85763db9",
     "locked": true,
     "schema_version": 3,
     "solution": false
    }
   },
   "source": [
    "## 4 (Optional). Reading Data from the Internet\n",
    "\n",
    "**Question 4.0**\n",
    "<br> {points: 0}\n",
    "\n",
    "More practice scraping! To keep ourselves out of legal hot water, we will get more practice scraping data using a website that was created for that purpose: http://books.toscrape.com/\n",
    "\n",
    "Your task here is to scrape the prices of the science fiction novels on [this page](http://books.toscrape.com/catalogue/category/books/science-fiction_16/index.html) and determine the maximum, minimum and average price of science fiction novels at this bookstore. Tidy up and nicely present your results by creating a data frame called `sci_fi_stats` that has 2 columns, one called `stats` that contains the words `max`, `min` and `mean` and once called `value` that contains the calculated value for each of these.\n",
    "\n",
    "The functions for maximum, minimum and average in Python are listed in the table below:\n",
    "\n",
    "| Calculation to perform | Function in Python |\n",
    "| ---------------------- | ------------- |\n",
    "| maximum                | `max`         |\n",
    "| minimum                | `min`         |\n",
    "| average                | `sum/len`        |\n",
    "\n",
    "*Note: Python doesn't have build in function to calculate the mean for a list, however `numpy` has a mean function. If you are interested, you could use `np.mean` instead of the function listed above.\n",
    "\n",
    "Some other helpful hints:\n",
    "- If you end up scraping some characters other than numbers you will have to use `str.replace` to remove them (similar to what we did with the commas in worksheet_02).\n",
    "- Use `float` to convert your character type numbers to numeric type numbers before you pass them into the `max`, `min` and `sum/len` functions.\n",
    "- Create a list that will go in your data frame, for example, to create a list with the values 10, 16 and 13 named ages, we would type: `ages = [10, 16, 13]`.\n",
    "- use the function `pd.DataFrame` to create the data frame from your list."
   ]
  },
  {
   "cell_type": "code",
   "execution_count": null,
   "metadata": {
    "deletable": false,
    "editable": false,
    "nbgrader": {
     "cell_type": "code",
     "checksum": "eee1d6d459eaeb5e6b2d7ca241148a00",
     "grade": false,
     "grade_id": "cell-20c0e68beb0d830e",
     "locked": true,
     "schema_version": 3,
     "solution": false,
     "task": false
    }
   },
   "outputs": [],
   "source": [
    "### Run this cell before continuing\n",
    "import requests\n",
    "from bs4 import BeautifulSoup"
   ]
  },
  {
   "cell_type": "code",
   "execution_count": null,
   "metadata": {
    "deletable": false,
    "nbgrader": {
     "cell_type": "code",
     "checksum": "1c5cf5b4ffabd22d0f3a67ac1d065e0b",
     "grade": false,
     "grade_id": "cell-cdd2ec3a736e9ec0",
     "locked": false,
     "schema_version": 3,
     "solution": true,
     "task": false
    }
   },
   "outputs": [],
   "source": [
    "# your code here\n",
    "raise NotImplementedError\n",
    "sci_fi_stats"
   ]
  },
  {
   "cell_type": "markdown",
   "metadata": {
    "deletable": false,
    "editable": false,
    "nbgrader": {
     "cell_type": "markdown",
     "checksum": "c2c9da816b63c91f19d98f771bd404e5",
     "grade": false,
     "grade_id": "cell-13d529c24ab24f75",
     "locked": true,
     "schema_version": 3,
     "solution": false
    }
   },
   "source": [
    "**Question 4.1**\n",
    "<br> {points: 0}\n",
    "\n",
    "In `worksheet_02` you had practice scraping data from the web. Now that you have the skills, should you scrape that website you have been dreaming of harvesting data from? Maybe, maybe not... You should check the website's Terms of Service first and consider the application you have planned for the data after you scrape it.\n",
    "\n",
    "List 3 websites you might be interested in scraping data from (for fun, profit, or research/education). List their URLs as part of your answer. For each website, search for their Terms of Service page. Take note if such a page exists, and if it does, provide the link to it and tell us whether or not they allow web scraping of their website."
   ]
  },
  {
   "cell_type": "code",
   "execution_count": null,
   "metadata": {},
   "outputs": [],
   "source": []
  },
  {
   "cell_type": "markdown",
   "metadata": {
    "deletable": false,
    "editable": false,
    "nbgrader": {
     "cell_type": "markdown",
     "checksum": "14dec927f877ea01324d2d7d37cf5b1b",
     "grade": false,
     "grade_id": "cell-902d3d49c93b4eac",
     "locked": true,
     "schema_version": 3,
     "solution": false,
     "task": false
    }
   },
   "source": [
    "### Bonus/optional additional readings on legalities of web scraping:\n",
    "\n",
    "Here are two recent news stories about web scraping and their legal implications:\n",
    "\n",
    "- [D.C. Court: Accessing Public Information is Not a Computer Crime](https://www.eff.org/deeplinks/2018/04/dc-court-accessing-public-information-not-computer-crime)\n",
    "\n",
    "- [Dear Canada: Accessing Publicly Available Information on the Internet Is Not a Crime](https://www.eff.org/deeplinks/2018/04/dear-canada-accessing-publicly-available-information-internet-not-crime)"
   ]
  },
  {
   "cell_type": "code",
   "execution_count": null,
   "metadata": {
    "deletable": false,
    "editable": false,
    "nbgrader": {
     "cell_type": "code",
     "checksum": "a1edd0742fc7c35bc3c0e5134f3e417a",
     "grade": false,
     "grade_id": "cell-4d35a9e96ab52622",
     "locked": true,
     "schema_version": 3,
     "solution": false,
     "task": false
    }
   },
   "outputs": [],
   "source": [
    "try:\n",
    "    os.remove(\"data/WHR2018Chapter2OnlineData.xls\")\n",
    "except:\n",
    "    None"
   ]
  },
  {
   "cell_type": "code",
   "execution_count": null,
   "metadata": {
    "deletable": false,
    "editable": false,
    "nbgrader": {
     "cell_type": "code",
     "checksum": "9966e7e57e6fa08f4c11c42a7216db82",
     "grade": false,
     "grade_id": "cell-1073bcd0ad542d59",
     "locked": true,
     "schema_version": 3,
     "solution": false,
     "task": false
    }
   },
   "outputs": [],
   "source": [
    "try:\n",
    "    os.remove(\"data/project_data.csv\")\n",
    "except:\n",
    "    None"
   ]
  }
 ],
 "metadata": {
  "jupytext": {
   "encoding": "# -*- coding: utf-8 -*-"
  },
  "kernelspec": {
   "display_name": "Python 3 (ipykernel)",
   "language": "python",
   "name": "python3"
  },
  "language_info": {
   "codemirror_mode": {
    "name": "ipython",
    "version": 3
   },
   "file_extension": ".py",
   "mimetype": "text/x-python",
   "name": "python",
   "nbconvert_exporter": "python",
   "pygments_lexer": "ipython3",
   "version": "3.11.9"
  }
 },
 "nbformat": 4,
 "nbformat_minor": 4
}
