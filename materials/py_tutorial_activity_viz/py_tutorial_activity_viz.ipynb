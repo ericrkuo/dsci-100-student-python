{
 "cells": [
  {
   "cell_type": "markdown",
   "metadata": {
    "deletable": false,
    "editable": false,
    "nbgrader": {
     "cell_type": "markdown",
     "checksum": "5103ddb214068b8e905111510c10c7e8",
     "grade": false,
     "grade_id": "cell-9dad87620aede24e",
     "locked": true,
     "schema_version": 3,
     "solution": false,
     "task": false
    },
    "slideshow": {
     "slide_type": "slide"
    }
   },
   "source": [
    "# DSCI 100: Introduction to Data Science\n",
    "## Tutorial 4: Effective Data Visualization Class Activity\n"
   ]
  },
  {
   "cell_type": "markdown",
   "metadata": {
    "deletable": false,
    "editable": false,
    "nbgrader": {
     "cell_type": "markdown",
     "checksum": "dae8ff0ef4f76dd590bd19f41f0267b1",
     "grade": false,
     "grade_id": "cell-8a855bc03103cb2d",
     "locked": true,
     "schema_version": 3,
     "solution": false,
     "task": false
    },
    "slideshow": {
     "slide_type": "slide"
    }
   },
   "source": [
    "Create a new Python Jupyter notebook."
   ]
  },
  {
   "cell_type": "markdown",
   "metadata": {
    "deletable": false,
    "editable": false,
    "nbgrader": {
     "cell_type": "markdown",
     "checksum": "f315e585824f6e12cadf7af4148b1a7d",
     "grade": false,
     "grade_id": "cell-76759f4a04cab266",
     "locked": true,
     "schema_version": 3,
     "solution": false,
     "task": false
    },
    "slideshow": {
     "slide_type": "fragment"
    }
   },
   "source": [
    "Load the `pandas` and `altair` libraries."
   ]
  },
  {
   "cell_type": "code",
   "execution_count": null,
   "metadata": {
    "deletable": false,
    "editable": true,
    "nbgrader": {
     "cell_type": "code",
     "checksum": "3d94fed3f663efc77b377d57e4f12ab1",
     "grade": false,
     "grade_id": "cell-05ed1d8d0bf7e36a",
     "locked": false,
     "schema_version": 3,
     "solution": true,
     "task": false
    },
    "slideshow": {
     "slide_type": "slide"
    },
    "tags": []
   },
   "outputs": [],
   "source": [
    "# your code here\n",
    "raise NotImplementedError\n",
    "\n",
    "alt.data_transformers.enable(\"vegafusion\")\n",
    "\n",
    "diamonds = pd.read_csv('data/diamonds.csv')"
   ]
  },
  {
   "cell_type": "markdown",
   "metadata": {
    "deletable": false,
    "editable": false,
    "nbgrader": {
     "cell_type": "markdown",
     "checksum": "ae26a50fbbb23ef0b7dc3df9949b1489",
     "grade": false,
     "grade_id": "cell-a661eab74d7290fa",
     "locked": true,
     "schema_version": 3,
     "solution": false,
     "task": false
    },
    "slideshow": {
     "slide_type": "slide"
    }
   },
   "source": [
    "We are interested in the distribution of the prices of diamonds which are **greater than or equal to 1 carat**. We will visualize this distribution with a **histogram**, which has **$500** intervals.\n",
    "\n",
    "First, take a look at the `diamonds` dataset and filter the data so we only have diamonds **greater than or equal to 1 carat**."
   ]
  },
  {
   "cell_type": "code",
   "execution_count": null,
   "metadata": {
    "deletable": false,
    "nbgrader": {
     "cell_type": "code",
     "checksum": "0df081c52dba3f6e7b600522e2374090",
     "grade": false,
     "grade_id": "cell-8eb716d6feda0ca2",
     "locked": false,
     "schema_version": 3,
     "solution": true,
     "task": false
    },
    "slideshow": {
     "slide_type": "slide"
    }
   },
   "outputs": [],
   "source": [
    "# your code here\n",
    "raise NotImplementedError"
   ]
  },
  {
   "cell_type": "markdown",
   "metadata": {
    "deletable": false,
    "editable": false,
    "nbgrader": {
     "cell_type": "markdown",
     "checksum": "a27a01a78200bddca0d9cad43a4df736",
     "grade": false,
     "grade_id": "cell-531f7c7c91eff2a6",
     "locked": true,
     "schema_version": 3,
     "solution": false,
     "task": false
    },
    "slideshow": {
     "slide_type": "slide"
    }
   },
   "source": [
    "Now, make a **histogram** where we count the distribution of prices of diamonds which are **greater than or equal to 1 carat** in intervals of **$500**. Also, don't forget to size the plot appropriately and name the axes and legend.\n",
    "\n",
    "Here's [Altair's documentation with examples](https://altair-viz.github.io/user_guide/marks/bar.html#histograms).\n",
    "\n",
    "To specify the size of the bin, take a look at the documentation of `?alt.X.bin` (see the `step` parameter.)\n",
    "\n",
    "Also, configure the font size to the following sizes:\n",
    "- Plot's title: 18\n",
    "- Axes' title: 14\n",
    "- Axes' labels: 12\n",
    "\n",
    "You can also set the plot `width` and `height` using `.properties()`. Try finding a `width` and `height` that fits your screen well."
   ]
  },
  {
   "cell_type": "code",
   "execution_count": null,
   "metadata": {},
   "outputs": [],
   "source": [
    "#?alt.X.bin"
   ]
  },
  {
   "cell_type": "code",
   "execution_count": null,
   "metadata": {
    "deletable": false,
    "nbgrader": {
     "cell_type": "code",
     "checksum": "527e180506ccd155058f0a314b1da3a0",
     "grade": false,
     "grade_id": "cell-e87fd6a0b8ad3d34",
     "locked": false,
     "schema_version": 3,
     "solution": true,
     "task": false
    },
    "slideshow": {
     "slide_type": "slide"
    }
   },
   "outputs": [],
   "source": [
    "# your code here\n",
    "raise NotImplementedError\n",
    "\n",
    "# dplot = (\n",
    "#     ...\n",
    "#     .mark_...()\\\n",
    "#     ....(\n",
    "#         x=...,\n",
    "#         y=...\n",
    "#     )\n",
    "#     .configure_...(\n",
    "#         titleFontSize=14, \n",
    "#         labelFontSize=12\n",
    "#     )\n",
    "#     .configure_...(fontSize=18)\n",
    "# )\n"
   ]
  },
  {
   "cell_type": "markdown",
   "metadata": {
    "deletable": false,
    "editable": false,
    "nbgrader": {
     "cell_type": "markdown",
     "checksum": "d047a8123b77bb444cd956ce7bdc1515",
     "grade": false,
     "grade_id": "cell-b209a381c570678d",
     "locked": true,
     "schema_version": 3,
     "solution": false,
     "task": false
    },
    "slideshow": {
     "slide_type": "slide"
    }
   },
   "source": [
    "Now, what if we are interested in seeing the number of diamonds for each type of cut in each interval? Also, make sure to configure the legend's font, use the following configuration: \n",
    "\n",
    "- Legend's title: 16\n",
    "- Legend's label: 14"
   ]
  },
  {
   "cell_type": "markdown",
   "metadata": {
    "deletable": false,
    "editable": false,
    "nbgrader": {
     "cell_type": "markdown",
     "checksum": "233de7d87ec2c59bc5b3b91f309283ac",
     "grade": false,
     "grade_id": "cell-2ff6edbd4d60f8ab",
     "locked": true,
     "schema_version": 3,
     "solution": false,
     "task": false
    },
    "slideshow": {
     "slide_type": "fragment"
    }
   },
   "source": [
    "Hint: Look back at ` Worksheet_04` Questions 2.9.3 and 2.9.4 and see how they managed to add colour to distinguish the restaurant names."
   ]
  },
  {
   "cell_type": "code",
   "execution_count": null,
   "metadata": {
    "deletable": false,
    "nbgrader": {
     "cell_type": "code",
     "checksum": "826fd4f24acf067490fc55ec1b6790a5",
     "grade": false,
     "grade_id": "cell-75bc3b0802aa3f05",
     "locked": false,
     "schema_version": 3,
     "solution": true,
     "task": false
    },
    "slideshow": {
     "slide_type": "subslide"
    }
   },
   "outputs": [],
   "source": [
    "# your code here\n",
    "raise NotImplementedError"
   ]
  },
  {
   "cell_type": "markdown",
   "metadata": {
    "deletable": false,
    "editable": false,
    "nbgrader": {
     "cell_type": "markdown",
     "checksum": "9ae704070b002d9e4304c43f6a759ae6",
     "grade": false,
     "grade_id": "cell-2174de6af22f3ebe",
     "locked": true,
     "schema_version": 3,
     "solution": false,
     "task": false
    },
    "slideshow": {
     "slide_type": "skip"
    }
   },
   "source": [
    "Notice that when looking at the number of diamonds for each cut, it doesn't look right when comparing with our y-axis. This is because the histogram takes the total number of diamonds rather than making separate histograms for each cut. So what if we want to see more clearly the distribution for each cut individually?\n",
    "\n",
    "We can make a line plot out of our histogram by using the `mark_line` instead. Try it:"
   ]
  },
  {
   "cell_type": "code",
   "execution_count": null,
   "metadata": {
    "deletable": false,
    "nbgrader": {
     "cell_type": "code",
     "checksum": "13542076e94d0eca2d517f34b50a94b7",
     "grade": false,
     "grade_id": "cell-671788e0babaeae8",
     "locked": false,
     "schema_version": 3,
     "solution": true,
     "task": false
    },
    "slideshow": {
     "slide_type": "skip"
    }
   },
   "outputs": [],
   "source": [
    "# your code here\n",
    "raise NotImplementedError"
   ]
  },
  {
   "cell_type": "markdown",
   "metadata": {},
   "source": [
    "You could also have used `facet`. But let's stop here for now! "
   ]
  }
 ],
 "metadata": {
  "kernelspec": {
   "display_name": "Python 3 (ipykernel)",
   "language": "python",
   "name": "python3"
  },
  "language_info": {
   "codemirror_mode": {
    "name": "ipython",
    "version": 3
   },
   "file_extension": ".py",
   "mimetype": "text/x-python",
   "name": "python",
   "nbconvert_exporter": "python",
   "pygments_lexer": "ipython3",
   "version": "3.11.9"
  }
 },
 "nbformat": 4,
 "nbformat_minor": 4
}
