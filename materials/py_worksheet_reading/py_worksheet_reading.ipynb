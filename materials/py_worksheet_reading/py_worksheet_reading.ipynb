{
 "cells": [
  {
   "cell_type": "markdown",
   "metadata": {
    "deletable": false,
    "editable": false,
    "nbgrader": {
     "cell_type": "markdown",
     "checksum": "f66612372dfa1ef088ffde22624102b7",
     "grade": false,
     "grade_id": "cell-b41ef16616efdfa8",
     "locked": true,
     "schema_version": 3,
     "solution": false,
     "task": false
    }
   },
   "source": [
    "# Worksheet 2: Introduction to Reading Data\n",
    "\n",
    "### Lecture and Tutorial Learning Goals:\n",
    "\n",
    "After completing this week's lecture and tutorial work, you will be able to:\n",
    "\n",
    "* define the following:\n",
    "    - absolute file path\n",
    "    - relative file path\n",
    "    - url\n",
    "* read data into Python using a relative path and a url\n",
    "* compare and contrast the following functions:\n",
    "    - `read_csv` \n",
    "    - `read_excel`\n",
    "* match the following `pandas` `read_*` function arguments to their descriptions:\n",
    "    - `filepath_or_buffer` \n",
    "    - `sep`\n",
    "    - `names`\n",
    "    - `skiprows`\n",
    "* Connect to a database using the `ibis` library's `connect` function.\n",
    "* List the tables in a database using the `ibis` library's `list_tables` function\n",
    "* Create a reference to a database table using the `ibis` library's `table` function\n",
    "* Execute queries to bring data from a database into Python using the `ibis` library's `execute` function\n",
    "* Use `to_csv` to save a data frame to a `.csv` file\n",
    "\n",
    "\n",
    "This worksheet covers parts of [Chapter 2](https://python.datasciencebook.ca/reading.html) of the online textbook. You should read this chapter before attempting the worksheet."
   ]
  },
  {
   "cell_type": "code",
   "execution_count": null,
   "metadata": {
    "deletable": false,
    "editable": false,
    "lines_to_next_cell": 2,
    "nbgrader": {
     "cell_type": "code",
     "checksum": "da7f1c5c441e7dde8ddf8ed2c1a49a95",
     "grade": false,
     "grade_id": "cell-f0df10f129a73fe7",
     "locked": true,
     "schema_version": 3,
     "solution": false,
     "task": false
    }
   },
   "outputs": [],
   "source": [
    "### Run this cell before continuing.\n",
    "import os\n",
    "\n",
    "import altair as alt\n",
    "import pandas as pd\n",
    "import numpy as np\n",
    "\n",
    "# Simplify working with large datasets in Altair\n",
    "alt.data_transformers.enable('vegafusion')"
   ]
  },
  {
   "cell_type": "code",
   "execution_count": null,
   "metadata": {
    "deletable": false,
    "editable": false,
    "lines_to_next_cell": 2,
    "nbgrader": {
     "cell_type": "code",
     "checksum": "e50874e7fa1bba842c9b93f3fe109c7e",
     "grade": false,
     "grade_id": "cell-a6632ec0f6a1911b",
     "locked": true,
     "schema_version": 3,
     "solution": false,
     "task": false
    }
   },
   "outputs": [],
   "source": [
    "### Run this cell before continuing.\n",
    "try:\n",
    "    os.remove(\"data/delay_data.csv\")\n",
    "except:\n",
    "    None"
   ]
  },
  {
   "cell_type": "markdown",
   "metadata": {
    "deletable": false,
    "editable": false,
    "nbgrader": {
     "cell_type": "markdown",
     "checksum": "e550bcec85654ce3ac3d9a3fe6a9f3f0",
     "grade": false,
     "grade_id": "cell-01937bf399a7f45d",
     "locked": true,
     "schema_version": 3,
     "solution": false,
     "task": false
    }
   },
   "source": [
    "## 1. Comparing Absolute Paths, Relative Paths, and URLs"
   ]
  },
  {
   "cell_type": "markdown",
   "metadata": {
    "deletable": false,
    "editable": false,
    "nbgrader": {
     "cell_type": "markdown",
     "checksum": "0f457118b48d36d823f12788695deec3",
     "grade": false,
     "grade_id": "cell-53313c72991fc35b",
     "locked": true,
     "schema_version": 3,
     "solution": false,
     "task": false
    }
   },
   "source": [
    "**Question 1.1** Multiple Choice:\n",
    "<br> {points: 1}\n",
    "\n",
    "If you needed to read a file using an absolute path, what would be the first symbol in your argument `(___)` when using the `pd.read_csv` function?\n",
    "\n",
    "A. `pd.read_csv(\">___\")`\n",
    "\n",
    "B. `pd.read_csv(\";___\")`\n",
    "\n",
    "C. `pd.read_csv(\"___\")`\n",
    "\n",
    "D. `pd.read_csv(\"/___\")`\n",
    "\n",
    "*Assign your answer to an object called `answer1_1`. Make sure your answer is an uppercase letter and is surrounded by quotation marks (e.g. `\"F\"`).*"
   ]
  },
  {
   "cell_type": "code",
   "execution_count": null,
   "metadata": {
    "deletable": false,
    "nbgrader": {
     "cell_type": "code",
     "checksum": "93f74cea0dc822ed646423205e60c47f",
     "grade": false,
     "grade_id": "cell-31f6bcc763a6c19f",
     "locked": false,
     "schema_version": 3,
     "solution": true,
     "task": false
    }
   },
   "outputs": [],
   "source": [
    "# your code here\n",
    "raise NotImplementedError"
   ]
  },
  {
   "cell_type": "code",
   "execution_count": null,
   "metadata": {
    "deletable": false,
    "editable": false,
    "nbgrader": {
     "cell_type": "code",
     "checksum": "078afc21226410fa1d00780dc100b98e",
     "grade": true,
     "grade_id": "cell-0d7a29b2deaf9cfe",
     "locked": true,
     "points": 3,
     "schema_version": 3,
     "solution": false,
     "task": false
    }
   },
   "outputs": [],
   "source": [
    "from hashlib import sha1\n",
    "assert sha1(str(type(answer1_1)).encode(\"utf-8\")+b\"b938c\").hexdigest() == \"25b9938976b17f98485387e6d52373605bf997ca\", \"type of answer1_1 is not str. answer1_1 should be an str\"\n",
    "assert sha1(str(len(answer1_1)).encode(\"utf-8\")+b\"b938c\").hexdigest() == \"34c7023db7177033a5e6f44f9b3f404725583e5f\", \"length of answer1_1 is not correct\"\n",
    "assert sha1(str(answer1_1.lower()).encode(\"utf-8\")+b\"b938c\").hexdigest() == \"050fde729c45eb602c6b2c30226713c6270fbad3\", \"value of answer1_1 is not correct\"\n",
    "assert sha1(str(answer1_1).encode(\"utf-8\")+b\"b938c\").hexdigest() == \"27176bbaeb0397d3d2c555ad4eba70d2010228b9\", \"correct string value of answer1_1 but incorrect case of letters\"\n",
    "\n",
    "print('Success!')"
   ]
  },
  {
   "cell_type": "markdown",
   "metadata": {
    "deletable": false,
    "editable": false,
    "nbgrader": {
     "cell_type": "markdown",
     "checksum": "e5f55656a582ab7fd1c8509055f71558",
     "grade": false,
     "grade_id": "cell-285561d2d852e675",
     "locked": true,
     "schema_version": 3,
     "solution": false,
     "task": false
    }
   },
   "source": [
    "**Question 1.2** True or False: \n",
    "<br> {points: 1}\n",
    "\n",
    "The file argument in the `pd.read_csv` function that uses an absolute path can *never* look like that of a relative path?\n",
    "\n",
    "*Assign your answer to an object called `answer1_2`. Make sure your answer is a boolean (e.g. `True` or `False`).* "
   ]
  },
  {
   "cell_type": "code",
   "execution_count": null,
   "metadata": {
    "deletable": false,
    "nbgrader": {
     "cell_type": "code",
     "checksum": "f46d68720dee0931dd0c9423ea4286cb",
     "grade": false,
     "grade_id": "cell-4e1a9125a5d354ca",
     "locked": false,
     "schema_version": 3,
     "solution": true,
     "task": false
    }
   },
   "outputs": [],
   "source": [
    "# your code here\n",
    "raise NotImplementedError"
   ]
  },
  {
   "cell_type": "code",
   "execution_count": null,
   "metadata": {
    "deletable": false,
    "editable": false,
    "nbgrader": {
     "cell_type": "code",
     "checksum": "0a68c3c66a1866a21d571687ed69f516",
     "grade": true,
     "grade_id": "cell-3b1e215bff84eb7b",
     "locked": true,
     "points": 3,
     "schema_version": 3,
     "solution": false,
     "task": false
    }
   },
   "outputs": [],
   "source": [
    "from hashlib import sha1\n",
    "assert sha1(str(type(answer1_2)).encode(\"utf-8\")+b\"e0200\").hexdigest() == \"6404651f583570f7f80649ef96302d66bb57292f\", \"type of answer1_2 is not bool. answer1_2 should be a bool\"\n",
    "assert sha1(str(answer1_2).encode(\"utf-8\")+b\"e0200\").hexdigest() == \"0eaab581221d37581ffe32ee2b1781a634a00d51\", \"boolean value of answer1_2 is not correct\"\n",
    "\n",
    "print('Success!')"
   ]
  },
  {
   "cell_type": "markdown",
   "metadata": {
    "deletable": false,
    "editable": false,
    "nbgrader": {
     "cell_type": "markdown",
     "checksum": "5672088845dd830dabba735f872ba9e7",
     "grade": false,
     "grade_id": "cell-f57fc85cb8f2edc5",
     "locked": true,
     "schema_version": 3,
     "solution": false,
     "task": false
    }
   },
   "source": [
    "**Question 1.3** \n",
    "Match the following paths with the correct path type that they represent:\n",
    "<br> {points: 1}\n",
    "\n",
    "*Example Path*\n",
    "\n",
    "A. `/Users/my_user/Desktop/UBC/BIOL363/SciaticNerveLab/sn_trial_1.xlsx`\n",
    "\n",
    "B. `https://www.ubc.ca`\n",
    "\n",
    "C. `file_1.csv`\n",
    "\n",
    "D. `/Users/name/Documents/Course_A/homework/my_first_homework.docx`\n",
    "\n",
    "E. `homework/my_second_homework.docx`\n",
    "\n",
    "F. `https://www.random_website.com`\n",
    "\n",
    "\n",
    "*Path Type*\n",
    "\n",
    "1. absolute\n",
    "2. relative\n",
    "3. URL\n",
    "\n",
    "For every argument, create an object using the letter associated with the example path and assign it the corresponding number from the list of path types. For example: `B = 1`. "
   ]
  },
  {
   "cell_type": "code",
   "execution_count": null,
   "metadata": {
    "deletable": false,
    "nbgrader": {
     "cell_type": "code",
     "checksum": "159c291290642c9a5204daa74e0f6ea1",
     "grade": false,
     "grade_id": "cell-f0b3c00004a32ddd",
     "locked": false,
     "schema_version": 3,
     "solution": true,
     "task": false
    }
   },
   "outputs": [],
   "source": [
    "# your code here\n",
    "raise NotImplementedError"
   ]
  },
  {
   "cell_type": "code",
   "execution_count": null,
   "metadata": {
    "deletable": false,
    "editable": false,
    "nbgrader": {
     "cell_type": "code",
     "checksum": "b2e37f2ea9d43de98663663fd61e69f6",
     "grade": true,
     "grade_id": "cell-81b5979634cdb51d",
     "locked": true,
     "points": 3,
     "schema_version": 3,
     "solution": false,
     "task": false
    }
   },
   "outputs": [],
   "source": [
    "from hashlib import sha1\n",
    "assert sha1(str(type(A)).encode(\"utf-8\")+b\"b5ce4\").hexdigest() == \"36b2b9d2808d397a4670060f26363e5b404f389b\", \"type of A is not int. Please make sure it is int and not np.int64, etc. You can cast your value into an int using int()\"\n",
    "assert sha1(str(A).encode(\"utf-8\")+b\"b5ce4\").hexdigest() == \"829943fb1d8b79216d331c4b3d7d0e6d16363227\", \"value of A is not correct\"\n",
    "\n",
    "assert sha1(str(type(B)).encode(\"utf-8\")+b\"b5ce5\").hexdigest() == \"dd8cad765f656925226fed0398d6525b3eb8058d\", \"type of B is not int. Please make sure it is int and not np.int64, etc. You can cast your value into an int using int()\"\n",
    "assert sha1(str(B).encode(\"utf-8\")+b\"b5ce5\").hexdigest() == \"5ada940b690f9b07d7d5e5967e596016f4d7499b\", \"value of B is not correct\"\n",
    "\n",
    "assert sha1(str(type(C)).encode(\"utf-8\")+b\"b5ce6\").hexdigest() == \"a0dbff212fc29490665dce3d2835539f2b8b4bd2\", \"type of C is not int. Please make sure it is int and not np.int64, etc. You can cast your value into an int using int()\"\n",
    "assert sha1(str(C).encode(\"utf-8\")+b\"b5ce6\").hexdigest() == \"b4b510116f9fbdff4407be21efe16990943fb0c2\", \"value of C is not correct\"\n",
    "\n",
    "assert sha1(str(type(D)).encode(\"utf-8\")+b\"b5ce7\").hexdigest() == \"f2b101c89c6b7bf334d3ed3c1e84d907198ca744\", \"type of D is not int. Please make sure it is int and not np.int64, etc. You can cast your value into an int using int()\"\n",
    "assert sha1(str(D).encode(\"utf-8\")+b\"b5ce7\").hexdigest() == \"6ada89999d2f019646edff3b6b3114b052026328\", \"value of D is not correct\"\n",
    "\n",
    "assert sha1(str(type(E)).encode(\"utf-8\")+b\"b5ce8\").hexdigest() == \"dbf16955154ea5a690fe8f396fbe5419fa14c800\", \"type of E is not int. Please make sure it is int and not np.int64, etc. You can cast your value into an int using int()\"\n",
    "assert sha1(str(E).encode(\"utf-8\")+b\"b5ce8\").hexdigest() == \"2790efed245518fa8a90bc71958e4f834ada72c7\", \"value of E is not correct\"\n",
    "\n",
    "assert sha1(str(type(F)).encode(\"utf-8\")+b\"b5ce9\").hexdigest() == \"4da001f4cd91e78cc6a3f61d94412135c3a948a6\", \"type of F is not int. Please make sure it is int and not np.int64, etc. You can cast your value into an int using int()\"\n",
    "assert sha1(str(F).encode(\"utf-8\")+b\"b5ce9\").hexdigest() == \"8383de78057238262f48930aaaede30bbb987d17\", \"value of F is not correct\"\n",
    "\n",
    "print('Success!')"
   ]
  },
  {
   "cell_type": "markdown",
   "metadata": {
    "deletable": false,
    "editable": false,
    "nbgrader": {
     "cell_type": "markdown",
     "checksum": "d64b9a26572215d9086ac311ed5ba1b8",
     "grade": false,
     "grade_id": "cell-f99a3b9bb2d39344",
     "locked": true,
     "schema_version": 3,
     "solution": false,
     "task": false
    }
   },
   "source": [
    "**Question 1.4** Multiple Choice:\n",
    "<br> {points: 1}\n",
    "\n",
    "If the absolute path to a data file looks like this: `/Users/my_user/Desktop/UBC/BIOL363/SciaticNerveLab/sn_trial_1.xlsx`\n",
    "\n",
    "What would the relative path look like if the working directory (i.e., where the Jupyter notebook is where you are running your Python code from) is now located in the `UBC` folder?\n",
    "\n",
    "A. `sn_trial_1.xlsx`\n",
    "\n",
    "B. `/SciaticNerveLab/sn_trial_1.xlsx`\n",
    "\n",
    "C. `BIOL363/SciaticNerveLab/sn_trial_1.xlsx`\n",
    "\n",
    "D. `UBC/BIOL363/SciaticNerveLab/sn_trial_1.xlsx`\n",
    "\n",
    "E. `/BIOL363/SciaticNerveLab/sn_trial_1.xlsx`\n",
    "\n",
    "*Assign your answer to an object called `answer1_4`. Make sure your answer is an uppercase letter and is surrounded by quotation marks (e.g. `\"F\"`).* "
   ]
  },
  {
   "cell_type": "code",
   "execution_count": null,
   "metadata": {
    "deletable": false,
    "nbgrader": {
     "cell_type": "code",
     "checksum": "57d6bc1e7faeff7d7f5ff7e2d3173445",
     "grade": false,
     "grade_id": "cell-010c531f8b38479c",
     "locked": false,
     "schema_version": 3,
     "solution": true,
     "task": false
    }
   },
   "outputs": [],
   "source": [
    "# your code here\n",
    "raise NotImplementedError"
   ]
  },
  {
   "cell_type": "code",
   "execution_count": null,
   "metadata": {
    "deletable": false,
    "editable": false,
    "nbgrader": {
     "cell_type": "code",
     "checksum": "565e0b6af2d7d4ee8f175d38df7fe503",
     "grade": true,
     "grade_id": "cell-496ddf4b95dcd6c9",
     "locked": true,
     "points": 3,
     "schema_version": 3,
     "solution": false,
     "task": false
    }
   },
   "outputs": [],
   "source": [
    "from hashlib import sha1\n",
    "assert sha1(str(type(answer1_4)).encode(\"utf-8\")+b\"bc1fc\").hexdigest() == \"a2e85fef9134edc9ef0df21bbf54d2fdd986b940\", \"type of answer1_4 is not str. answer1_4 should be an str\"\n",
    "assert sha1(str(len(answer1_4)).encode(\"utf-8\")+b\"bc1fc\").hexdigest() == \"451775adfac58e0bed3fbe4fd52c5ebc937ffbd1\", \"length of answer1_4 is not correct\"\n",
    "assert sha1(str(answer1_4.lower()).encode(\"utf-8\")+b\"bc1fc\").hexdigest() == \"96c119869cbef7f689cd2e1b0d5cad1896d91e0f\", \"value of answer1_4 is not correct\"\n",
    "assert sha1(str(answer1_4).encode(\"utf-8\")+b\"bc1fc\").hexdigest() == \"349302ca002e89c1306a6e84de033587689823e2\", \"correct string value of answer1_4 but incorrect case of letters\"\n",
    "\n",
    "print('Success!')"
   ]
  },
  {
   "cell_type": "markdown",
   "metadata": {
    "deletable": false,
    "editable": false,
    "nbgrader": {
     "cell_type": "markdown",
     "checksum": "e3a7ec8c7b6ca5b3e4600ee0f8b83c10",
     "grade": false,
     "grade_id": "cell-0092b78e05e366e8",
     "locked": true,
     "schema_version": 3,
     "solution": false,
     "task": false
    }
   },
   "source": [
    "**Question 1.5**\n",
    "<br> {points: 1}\n",
    "\n",
    "Match the following paths with the most likely kind of data format they contain. \n",
    "\n",
    "*Paths:*\n",
    "\n",
    "1. `https://www.ubc.ca/datasets/data.db`\n",
    "2. `/home/user/downloads/data.xlsx`\n",
    "3. `data.tsv`\n",
    "4. `examples/data/data.csv`\n",
    "5. `https://en.wikipedia.org/wiki/Normal_distribution`\n",
    "\n",
    "*Dataset Types:*\n",
    "\n",
    "A. Excel Spreadsheet\n",
    "\n",
    "B. Database\n",
    "\n",
    "C. HTML file\n",
    "\n",
    "D. Comma-separated values file\n",
    "\n",
    "E. Tab-separated values file\n",
    "\n",
    "For every dataset type, create an object using the letter associated with the example and assign it the corresponding number from the list of paths. For example: `F = 5`\n"
   ]
  },
  {
   "cell_type": "code",
   "execution_count": null,
   "metadata": {
    "deletable": false,
    "nbgrader": {
     "cell_type": "code",
     "checksum": "3fb4ba5bcb309cefe6bae82416006152",
     "grade": false,
     "grade_id": "cell-2b98d9f0abe41b3c",
     "locked": false,
     "schema_version": 3,
     "solution": true,
     "task": false
    }
   },
   "outputs": [],
   "source": [
    "# your code here\n",
    "raise NotImplementedError"
   ]
  },
  {
   "cell_type": "code",
   "execution_count": null,
   "metadata": {
    "deletable": false,
    "editable": false,
    "nbgrader": {
     "cell_type": "code",
     "checksum": "450bec1c0c409d525912d136ff1cf916",
     "grade": true,
     "grade_id": "cell-3d1733503218cd62",
     "locked": true,
     "points": 3,
     "schema_version": 3,
     "solution": false,
     "task": false
    }
   },
   "outputs": [],
   "source": [
    "from hashlib import sha1\n",
    "assert sha1(str(type(A)).encode(\"utf-8\")+b\"75de\").hexdigest() == \"1be19333ebaa4cacad500382e61f5357e265d97b\", \"type of A is not int. Please make sure it is int and not np.int64, etc. You can cast your value into an int using int()\"\n",
    "assert sha1(str(A).encode(\"utf-8\")+b\"75de\").hexdigest() == \"df453100033b7ee9313789eb4ec7decaea4adf01\", \"value of A is not correct\"\n",
    "\n",
    "assert sha1(str(type(B)).encode(\"utf-8\")+b\"75df\").hexdigest() == \"582bef44c12268fe18a87ee895a5c91a33704991\", \"type of B is not int. Please make sure it is int and not np.int64, etc. You can cast your value into an int using int()\"\n",
    "assert sha1(str(B).encode(\"utf-8\")+b\"75df\").hexdigest() == \"d6820e7ebfa4bb43ea53dcc836c28ce44cd8dbb3\", \"value of B is not correct\"\n",
    "\n",
    "assert sha1(str(type(C)).encode(\"utf-8\")+b\"75e0\").hexdigest() == \"29b74288e61adf0bf2d98e5f9bc5bc0a12539250\", \"type of C is not int. Please make sure it is int and not np.int64, etc. You can cast your value into an int using int()\"\n",
    "assert sha1(str(C).encode(\"utf-8\")+b\"75e0\").hexdigest() == \"74a89c407fb08873cdf00a3f384ce231df5e9d8e\", \"value of C is not correct\"\n",
    "\n",
    "assert sha1(str(type(D)).encode(\"utf-8\")+b\"75e1\").hexdigest() == \"14c4af127c0518c1525efb4f61b20f8d4874e91b\", \"type of D is not int. Please make sure it is int and not np.int64, etc. You can cast your value into an int using int()\"\n",
    "assert sha1(str(D).encode(\"utf-8\")+b\"75e1\").hexdigest() == \"7ef89b09e39ea5115a4ee799f2599acd1d09657f\", \"value of D is not correct\"\n",
    "\n",
    "assert sha1(str(type(E)).encode(\"utf-8\")+b\"75e2\").hexdigest() == \"02d2219aa609ab148c23b28b4a6dbbf2759e4314\", \"type of E is not int. Please make sure it is int and not np.int64, etc. You can cast your value into an int using int()\"\n",
    "assert sha1(str(E).encode(\"utf-8\")+b\"75e2\").hexdigest() == \"5a12ff12fc9922a2515cbfcf2d656923dffbd421\", \"value of E is not correct\"\n",
    "\n",
    "print('Success!')"
   ]
  },
  {
   "cell_type": "markdown",
   "metadata": {
    "deletable": false,
    "editable": false,
    "nbgrader": {
     "cell_type": "markdown",
     "checksum": "23b9c53ea715823c838948744c64f475",
     "grade": false,
     "grade_id": "cell-e96ecdf801ee47e8",
     "locked": true,
     "schema_version": 3,
     "solution": false,
     "task": false
    }
   },
   "source": [
    "## 2. Argument Modifications to Read Data\n",
    "Reading files is one of the first steps to wrangling data and consequently `pd.read_csv` is a crucial function in Python. However, despite how effortlessly it has worked so far, it has its limitations.\n",
    "\n",
    "Not all data sets come as perfectly organized like the ones you worked with last week. Time and effort were put into ensuring that the files were arranged with headers, columns were separated by commas, and the beginning excluded metadata. \n",
    "\n",
    "Now that you understand how to read files located outside (or inside) of your working directory, you can begin to learn the tips and tricks necessary to overcoming the setbacks of `read_csv`. "
   ]
  },
  {
   "cell_type": "code",
   "execution_count": null,
   "metadata": {
    "deletable": false,
    "editable": false,
    "nbgrader": {
     "cell_type": "code",
     "checksum": "51ad46d14ba0bbf3e72f55e12142d5b3",
     "grade": false,
     "grade_id": "cell-cc72c20a82574247",
     "locked": true,
     "schema_version": 3,
     "solution": false,
     "task": false
    },
    "tags": []
   },
   "outputs": [],
   "source": [
    "### Run this cell to learn more about the arguments used in pd.read_csv\n",
    "### Reading over the help file will assist with the next question. \n",
    "\n",
    "?pd.read_csv"
   ]
  },
  {
   "cell_type": "markdown",
   "metadata": {
    "deletable": false,
    "editable": false,
    "nbgrader": {
     "cell_type": "markdown",
     "checksum": "6db013c1d917f9ac8700d3ab7da51f5c",
     "grade": false,
     "grade_id": "cell-bafde1ddc023cf35",
     "locked": true,
     "schema_version": 3,
     "solution": false,
     "task": false
    }
   },
   "source": [
    "**Question 2.1** \n",
    "<br> {points: 1}\n",
    "\n",
    "Match the following descriptions with the corresponding arguments used in `pd.read_csv`:\n",
    "\n",
    "*Descriptions*\n",
    "\n",
    "G. Character that separates columns in your file. \n",
    "\n",
    "H. Specifies a list of column names to use when reading in a file.\n",
    "\n",
    "I. This is the file name, path to a file, or URL. \n",
    "\n",
    "J. Specifies the number of lines which must be ignored because they contain metadata. \n",
    "\n",
    "\n",
    "*Arguments*\n",
    "\n",
    "1. `filepath_or_buffer`\n",
    "2. `sep`\n",
    "3. `names`\n",
    "4. `skiprows`\n",
    "\n",
    "For every description, create an object using the letter associated with the description and assign it the corresponding number from the list of functions. For example: `G = 1`"
   ]
  },
  {
   "cell_type": "code",
   "execution_count": null,
   "metadata": {
    "deletable": false,
    "nbgrader": {
     "cell_type": "code",
     "checksum": "03b23714760e989c2e020b02431763e4",
     "grade": false,
     "grade_id": "cell-c6d77501960c676f",
     "locked": false,
     "schema_version": 3,
     "solution": true,
     "task": false
    }
   },
   "outputs": [],
   "source": [
    "# your code here\n",
    "raise NotImplementedError"
   ]
  },
  {
   "cell_type": "code",
   "execution_count": null,
   "metadata": {
    "deletable": false,
    "editable": false,
    "nbgrader": {
     "cell_type": "code",
     "checksum": "af503d5e8fdcd68450b3bf907e3454cf",
     "grade": true,
     "grade_id": "cell-b9229174ebcf7d2e",
     "locked": true,
     "points": 3,
     "schema_version": 3,
     "solution": false,
     "task": false
    }
   },
   "outputs": [],
   "source": [
    "from hashlib import sha1\n",
    "assert sha1(str(type(G)).encode(\"utf-8\")+b\"1393b\").hexdigest() == \"b4d8c13d6560540abcb2139e6770c4f068bfa815\", \"type of G is not int. Please make sure it is int and not np.int64, etc. You can cast your value into an int using int()\"\n",
    "assert sha1(str(G).encode(\"utf-8\")+b\"1393b\").hexdigest() == \"03f0cbba08a2791b75e2384272cfd18d3bb7e074\", \"value of G is not correct\"\n",
    "\n",
    "assert sha1(str(type(H)).encode(\"utf-8\")+b\"1393c\").hexdigest() == \"0bcd4edb51361b345692c849db43ddda26a84853\", \"type of H is not int. Please make sure it is int and not np.int64, etc. You can cast your value into an int using int()\"\n",
    "assert sha1(str(H).encode(\"utf-8\")+b\"1393c\").hexdigest() == \"9e89eeb5fb311ba2eaaf46c191fdea119dbae245\", \"value of H is not correct\"\n",
    "\n",
    "assert sha1(str(type(I)).encode(\"utf-8\")+b\"1393d\").hexdigest() == \"f013cd8ef9539bd4fbdf7aa43774c56927b51e2f\", \"type of I is not int. Please make sure it is int and not np.int64, etc. You can cast your value into an int using int()\"\n",
    "assert sha1(str(I).encode(\"utf-8\")+b\"1393d\").hexdigest() == \"e2029852dbebcc29dc32eba4d57991ccb0ffd823\", \"value of I is not correct\"\n",
    "\n",
    "assert sha1(str(type(J)).encode(\"utf-8\")+b\"1393e\").hexdigest() == \"9c06d74a4cf6b2d721b2ccc8bbdcfff334454aef\", \"type of J is not int. Please make sure it is int and not np.int64, etc. You can cast your value into an int using int()\"\n",
    "assert sha1(str(J).encode(\"utf-8\")+b\"1393e\").hexdigest() == \"218d272f43a3137973b91f26fb13135dceecb99c\", \"value of J is not correct\"\n",
    "\n",
    "print('Success!')"
   ]
  },
  {
   "cell_type": "markdown",
   "metadata": {
    "deletable": false,
    "editable": false,
    "nbgrader": {
     "cell_type": "markdown",
     "checksum": "d327b2e88f06828f1bfe5e2d6e6432d4",
     "grade": false,
     "grade_id": "cell-9c4d459ff0d4eb12",
     "locked": true,
     "schema_version": 3,
     "solution": false,
     "task": false
    }
   },
   "source": [
    "**Question 2.2** True or False:\n",
    "<br> {points: 1}\n",
    "\n",
    "`pd.read_csv` can be used for reading files that have columns separated by `;`. \n",
    "\n",
    "*Assign your answer to an object called `answer2_2`. Make sure your answer is a boolean (e.g. `True` or `False`).*"
   ]
  },
  {
   "cell_type": "code",
   "execution_count": null,
   "metadata": {
    "deletable": false,
    "nbgrader": {
     "cell_type": "code",
     "checksum": "b4030e34743fb95e3559e78105af2e4f",
     "grade": false,
     "grade_id": "cell-c593b61a9e63214d",
     "locked": false,
     "schema_version": 3,
     "solution": true,
     "task": false
    }
   },
   "outputs": [],
   "source": [
    "# your code here\n",
    "raise NotImplementedError"
   ]
  },
  {
   "cell_type": "code",
   "execution_count": null,
   "metadata": {
    "deletable": false,
    "editable": false,
    "nbgrader": {
     "cell_type": "code",
     "checksum": "5d51bfa038f19753fb2e47dc36970ccd",
     "grade": true,
     "grade_id": "cell-fff66a74bda40e7f",
     "locked": true,
     "points": 3,
     "schema_version": 3,
     "solution": false,
     "task": false
    }
   },
   "outputs": [],
   "source": [
    "from hashlib import sha1\n",
    "assert sha1(str(type(answer2_2)).encode(\"utf-8\")+b\"d8e81\").hexdigest() == \"47f1643afdc70a2dd7340a36cf30aba89c53084d\", \"type of answer2_2 is not bool. answer2_2 should be a bool\"\n",
    "assert sha1(str(answer2_2).encode(\"utf-8\")+b\"d8e81\").hexdigest() == \"93798b4ea746020641592b8313b5122130348aca\", \"boolean value of answer2_2 is not correct\"\n",
    "\n",
    "print('Success!')"
   ]
  },
  {
   "cell_type": "markdown",
   "metadata": {
    "deletable": false,
    "editable": false,
    "nbgrader": {
     "cell_type": "markdown",
     "checksum": "66cc5038d447efc81f635f220a115365",
     "grade": false,
     "grade_id": "cell-80b368654abb01ac",
     "locked": true,
     "schema_version": 3,
     "solution": false,
     "task": false
    }
   },
   "source": [
    "**Question 2.3** True or False: \n",
    "<br> {points: 1}\n",
    "\n",
    "`pd.read_csv` can be used for files that have columns separated by one or more of the following characters: letters, tabs, semicolons, or commas.\n",
    "\n",
    "*Assign your answer to an object called `answer2_3`. Make sure your answer is a boolean (e.g. `True` or `False`).*"
   ]
  },
  {
   "cell_type": "code",
   "execution_count": null,
   "metadata": {
    "deletable": false,
    "nbgrader": {
     "cell_type": "code",
     "checksum": "17d8f953e09660e4a3ac8c39901057a7",
     "grade": false,
     "grade_id": "cell-870bb80556aab0c3",
     "locked": false,
     "schema_version": 3,
     "solution": true,
     "task": false
    }
   },
   "outputs": [],
   "source": [
    "# your code here\n",
    "raise NotImplementedError"
   ]
  },
  {
   "cell_type": "code",
   "execution_count": null,
   "metadata": {
    "deletable": false,
    "editable": false,
    "nbgrader": {
     "cell_type": "code",
     "checksum": "8ee1a0fab06174d9ba151e6f374905ff",
     "grade": true,
     "grade_id": "cell-bc72e3bea9ddf5b5",
     "locked": true,
     "points": 3,
     "schema_version": 3,
     "solution": false,
     "task": false
    }
   },
   "outputs": [],
   "source": [
    "from hashlib import sha1\n",
    "assert sha1(str(type(answer2_3)).encode(\"utf-8\")+b\"cb5e3\").hexdigest() == \"022adddca73988daa0fed2f844c6bc6d32c11f53\", \"type of answer2_3 is not bool. answer2_3 should be a bool\"\n",
    "assert sha1(str(answer2_3).encode(\"utf-8\")+b\"cb5e3\").hexdigest() == \"74d2a814a3f87baffa7bce2d9e338a2278684367\", \"boolean value of answer2_3 is not correct\"\n",
    "\n",
    "print('Success!')"
   ]
  },
  {
   "cell_type": "markdown",
   "metadata": {
    "deletable": false,
    "editable": false,
    "nbgrader": {
     "cell_type": "markdown",
     "checksum": "78b8a3239193bb68e4bffc00e9c40727",
     "grade": false,
     "grade_id": "cell-fa798647ffd412f8",
     "locked": true,
     "schema_version": 3,
     "solution": false,
     "task": false
    }
   },
   "source": [
    "## 3. Happiness Report (2017)\n",
    "This data was taken from [Kaggle](https://www.kaggle.com/unsdsn/world-happiness) and ranks countries on happiness based on rationalized factors like economic growth, social support, etc. The data was released by the United Nations at an event celebrating International Day of Happiness.  According to the website, the file contains the following information:\n",
    "\n",
    "* Country = Name of the country.\n",
    "* Region = Region the country belongs to.\n",
    "* Happiness Rank = Rank of the country based on the Happiness Score.\n",
    "* Happiness Score = A metric measured by asking the sampled people the question: \"How would you rate your happiness on a scale of 0 to 10 where 10 is the happiest?\"\n",
    "* Standard Error = The standard error of the happiness score.\n",
    "* Economy (GDP per Capita) = The extent to which GDP contributes to the calculation of the Happiness Score.\n",
    "* Family = The extent to which Family contributes to the calculation of the Happiness Score.\n",
    "* Health (Life Expectancy) = The extent to which Life expectancy contributed to the calculation of the Happiness Score.\n",
    "* Freedom = The extent to which Freedom contributed to the calculation of the Happiness Score.\n",
    "* Trust (Government Corruption) = The extent to which Perception of Corruption contributes to Happiness Score.\n",
    "* Generosity = The extent to which Generosity contributed to the calculation of the Happiness Score.\n",
    "* Dystopia Residual = The extent to which Dystopia Residual contributed to the calculation of the Happiness Score.\n",
    "\n",
    "To clean up the file and make it easier to read, we only kept the country name, happiness score, economy (GDP per capita), life expectancy, and freedom. The happiness scores and rankings use data from the Gallup World Poll, which surveys citizens in countries from around the world.\n",
    "\n",
    "Kaggle stores this information but it is compiled by the *Sustainable Development Solutions Network*. They survey these factors nearly every year (since 2012) and allow global comparisons to optimize political decision making. These landmark surveys are highly recognized and allow countries to learn and grow from one another. One day, they will provide a historical insight on the nature of our time.  "
   ]
  },
  {
   "cell_type": "markdown",
   "metadata": {
    "deletable": false,
    "editable": false,
    "nbgrader": {
     "cell_type": "markdown",
     "checksum": "ed7419617e14886a6f028c6c643860d6",
     "grade": false,
     "grade_id": "cell-6495dcc89ffe6f0a",
     "locked": true,
     "schema_version": 3,
     "solution": false,
     "task": false
    }
   },
   "source": [
    "**Question 3.1** Fill in the Blank: \n",
    "<br> {points: 1}\n",
    "\n",
    "Trust is the extent to which \\_\\_\\_\\_\\_\\_\\_\\_\\_\\_\\_\\_\\_\\_\\_ contributes to Happiness Score. \n",
    "\n",
    "A. Corruption \n",
    "\n",
    "B. Government Intervention \n",
    "\n",
    "C. Perception of Corruption  \n",
    "\n",
    "D. Tax Money Designation \n",
    "\n",
    "*Assign your answer to an object called `answer3_1`. Make sure your answer is an uppercase letter and is surrounded by quotation marks (e.g. `\"F\"`).* "
   ]
  },
  {
   "cell_type": "code",
   "execution_count": null,
   "metadata": {
    "deletable": false,
    "nbgrader": {
     "cell_type": "code",
     "checksum": "b1ecfd76566f61618f604998167a3358",
     "grade": false,
     "grade_id": "cell-f5e4734a364c4ac8",
     "locked": false,
     "schema_version": 3,
     "solution": true,
     "task": false
    }
   },
   "outputs": [],
   "source": [
    "# your code here\n",
    "raise NotImplementedError"
   ]
  },
  {
   "cell_type": "code",
   "execution_count": null,
   "metadata": {
    "deletable": false,
    "editable": false,
    "nbgrader": {
     "cell_type": "code",
     "checksum": "0722ba3c5423106c42ccd9b41eb1a5ff",
     "grade": true,
     "grade_id": "cell-0bcf4e7cd22fa393",
     "locked": true,
     "points": 3,
     "schema_version": 3,
     "solution": false,
     "task": false
    }
   },
   "outputs": [],
   "source": [
    "from hashlib import sha1\n",
    "assert sha1(str(type(answer3_1)).encode(\"utf-8\")+b\"eba1f\").hexdigest() == \"d3dbba74c69fd3c5d8db8fc71b40ec32ca23d9c9\", \"type of answer3_1 is not str. answer3_1 should be an str\"\n",
    "assert sha1(str(len(answer3_1)).encode(\"utf-8\")+b\"eba1f\").hexdigest() == \"826462804be51475650da94e3994b813484c83bc\", \"length of answer3_1 is not correct\"\n",
    "assert sha1(str(answer3_1.lower()).encode(\"utf-8\")+b\"eba1f\").hexdigest() == \"4018c33709ba3a35594504b4f7308d577ea75d21\", \"value of answer3_1 is not correct\"\n",
    "assert sha1(str(answer3_1).encode(\"utf-8\")+b\"eba1f\").hexdigest() == \"05ca36de85cf852b65c22507db83720212267da2\", \"correct string value of answer3_1 but incorrect case of letters\"\n",
    "\n",
    "print('Success!')"
   ]
  },
  {
   "cell_type": "markdown",
   "metadata": {
    "deletable": false,
    "editable": false,
    "nbgrader": {
     "cell_type": "markdown",
     "checksum": "677864fdd53fbac92d55d83cd1625d58",
     "grade": false,
     "grade_id": "cell-838e271dab9da39a",
     "locked": true,
     "schema_version": 3,
     "solution": false,
     "task": false
    }
   },
   "source": [
    "**Question 3.2** Multiple Choice: \n",
    "<br> {points: 1}\n",
    "\n",
    "What is the happiness report?\n",
    "\n",
    "A. Study conducted by the governments of multiple countries. \n",
    "\n",
    "B. Independent survey of citizens from multiple countries.\n",
    "\n",
    "C. Study conducted by the UN. \n",
    "\n",
    "D. Survey given to international students by UBC's psychology department. \n",
    "\n",
    "*Assign your answer to an object called `answer3_2`. Make sure your answer is an uppercase letter and is surrounded by quotation marks (e.g. `\"F\"`).* "
   ]
  },
  {
   "cell_type": "code",
   "execution_count": null,
   "metadata": {
    "deletable": false,
    "nbgrader": {
     "cell_type": "code",
     "checksum": "be5b96bf0038bdec059376de0fe2d4e1",
     "grade": false,
     "grade_id": "cell-70bcf03b219a7e20",
     "locked": false,
     "schema_version": 3,
     "solution": true,
     "task": false
    }
   },
   "outputs": [],
   "source": [
    "# your code here\n",
    "raise NotImplementedError"
   ]
  },
  {
   "cell_type": "code",
   "execution_count": null,
   "metadata": {
    "deletable": false,
    "editable": false,
    "nbgrader": {
     "cell_type": "code",
     "checksum": "b19014636463978070df188f11f4ec67",
     "grade": true,
     "grade_id": "cell-e7d4bdc58a1398fe",
     "locked": true,
     "points": 3,
     "schema_version": 3,
     "solution": false,
     "task": false
    }
   },
   "outputs": [],
   "source": [
    "from hashlib import sha1\n",
    "assert sha1(str(type(answer3_2)).encode(\"utf-8\")+b\"a7850\").hexdigest() == \"157121679b7151388ba166e7bae55d7da772d966\", \"type of answer3_2 is not str. answer3_2 should be an str\"\n",
    "assert sha1(str(len(answer3_2)).encode(\"utf-8\")+b\"a7850\").hexdigest() == \"835e43e40ddcf01d17f9c882af2019e4668e7e74\", \"length of answer3_2 is not correct\"\n",
    "assert sha1(str(answer3_2.lower()).encode(\"utf-8\")+b\"a7850\").hexdigest() == \"428a28c5a897d9eab291eb3de8582c61b05811e7\", \"value of answer3_2 is not correct\"\n",
    "assert sha1(str(answer3_2).encode(\"utf-8\")+b\"a7850\").hexdigest() == \"6288a577e7e8768a57de814c4716052cb57469c9\", \"correct string value of answer3_2 but incorrect case of letters\"\n",
    "\n",
    "print('Success!')"
   ]
  },
  {
   "cell_type": "markdown",
   "metadata": {
    "deletable": false,
    "editable": false,
    "nbgrader": {
     "cell_type": "markdown",
     "checksum": "4797c7177a7333946fa1154f93564d48",
     "grade": false,
     "grade_id": "cell-5a8a233fd251ad76",
     "locked": true,
     "schema_version": 3,
     "solution": false,
     "task": false
    }
   },
   "source": [
    "**Question 3.3** Fill in the Blanks (of the Table):\n",
    "<br> {points: 1}\n",
    "\n",
    "It is often a good idea to try to \"inspect\" your data to see what it looks like before trying to load it into Python. This will help you figure out the right function to call and what arguments to use. When your data are stored as plain text, you can do this easily with Jupyter (or any text editor). \n",
    "\n",
    "Open all the files named `happiness_report...` in the `data` folder with the plain text editor in your working directory (the `worksheet_02` directory) using Jupyter (**Right click the file -> Open With -> Editor**). This will allow you to visualize the files and the organization of your data. Based on your findings, fill in the missing items A-F in the table below. This table will be very useful to refer back to in the coming weeks. \n",
    "\n",
    "*You'll notice that trying to open one of the files gives you an error (`File Load Error ... is not UTF-8 encoded`). This means that this data is not stored as human-readable plain text. For this special file, just fill in the* `read_*` *function entry, the other columns will be left blank.*"
   ]
  },
  {
   "cell_type": "markdown",
   "metadata": {
    "deletable": false,
    "editable": false,
    "nbgrader": {
     "cell_type": "markdown",
     "checksum": "2b97ff6983f7395b564643d1aa341a2c",
     "grade": false,
     "grade_id": "cell-f45eda526a4ab070",
     "locked": true,
     "schema_version": 3,
     "solution": false,
     "task": false
    }
   },
   "source": [
    "|file name                       | sep      | header | metadata | skiprows               | read_*   |\n",
    "|--------------------------------|------------|--------|----------|--------------------|----------|\n",
    "|`_.csv`                         |`\";\"`, `\",\"`, `\"\\\"`, or `\\t`|`\"yes\"`or `\"no\"`|`\"yes\"`or `\"no\"`|`NA` or # of lines|`pd.read_*`|\n",
    "|`happiness_report.csv`          |,           |**A**     |no        |`NA`                  |`pd.read_csv`  |\n",
    "|`happiness_report_semicolon.csv`|;           |yes     |no        |`NA`                  |**B** |\n",
    "|`happiness_report.tsv`          |**C**         |yes     |no        |`NA`                  |`pd.read_csv`  |\n",
    "|`happiness_report_metadata.csv` |,           |yes     |**D**       |2                   |`pd.read_csv`  |\n",
    "|`happiness_report_no_header.csv`|,           |**E**      |no      |`NA`                  |`pd.read_csv`  |\n",
    "|`happiness_report.xlsx`         |            |        |          |                    |**F**|\n",
    "\n",
    "For the missing items (labelled A to F) in the table above, create an object using the letter and assign it the corresponding missing value.\n",
    "\n",
    "For example: `A = \"yes\"`. The possible options for each column are given in the first row of the table. "
   ]
  },
  {
   "cell_type": "code",
   "execution_count": null,
   "metadata": {
    "deletable": false,
    "nbgrader": {
     "cell_type": "code",
     "checksum": "260a23f836b3dabee6859a44f7c9fea2",
     "grade": false,
     "grade_id": "cell-5351cf56f2b43768",
     "locked": false,
     "schema_version": 3,
     "solution": true,
     "task": false
    }
   },
   "outputs": [],
   "source": [
    "# your code here\n",
    "raise NotImplementedError"
   ]
  },
  {
   "cell_type": "code",
   "execution_count": null,
   "metadata": {
    "deletable": false,
    "editable": false,
    "nbgrader": {
     "cell_type": "code",
     "checksum": "708acace19af2ca319ae655edd034975",
     "grade": true,
     "grade_id": "cell-aa1c440804c4da54",
     "locked": true,
     "points": 3,
     "schema_version": 3,
     "solution": false,
     "task": false
    }
   },
   "outputs": [],
   "source": [
    "from hashlib import sha1\n",
    "assert sha1(str(type(A)).encode(\"utf-8\")+b\"3e09f\").hexdigest() == \"a3d4ab8a50aa681f34b7a9d407778f625a2d5f5e\", \"type of A is not str. A should be an str\"\n",
    "assert sha1(str(len(A)).encode(\"utf-8\")+b\"3e09f\").hexdigest() == \"3d90adfc829e8faf6e81c58d806f16bb87b89ee1\", \"length of A is not correct\"\n",
    "assert sha1(str(A.lower()).encode(\"utf-8\")+b\"3e09f\").hexdigest() == \"255959bb83951b1a54ec032d4d50fb1442c90086\", \"value of A is not correct\"\n",
    "assert sha1(str(A).encode(\"utf-8\")+b\"3e09f\").hexdigest() == \"255959bb83951b1a54ec032d4d50fb1442c90086\", \"correct string value of A but incorrect case of letters\"\n",
    "\n",
    "assert sha1(str(type(B)).encode(\"utf-8\")+b\"3e0a0\").hexdigest() == \"ae3f7041b926de13cbc9744517c235a02c5ae0e2\", \"type of B is not str. B should be an str\"\n",
    "assert sha1(str(len(B)).encode(\"utf-8\")+b\"3e0a0\").hexdigest() == \"838f1cad440dfef78d96951b6ae0529e7efd6506\", \"length of B is not correct\"\n",
    "assert sha1(str(B.lower()).encode(\"utf-8\")+b\"3e0a0\").hexdigest() == \"38d9a98f5f396858d8a7656413b10ac0bc3b8bcc\", \"value of B is not correct\"\n",
    "assert sha1(str(B).encode(\"utf-8\")+b\"3e0a0\").hexdigest() == \"38d9a98f5f396858d8a7656413b10ac0bc3b8bcc\", \"correct string value of B but incorrect case of letters\"\n",
    "\n",
    "assert sha1(str(type(C)).encode(\"utf-8\")+b\"3e0a1\").hexdigest() == \"8bacbed45c1e982ebd8f4f253ae0eea612650ad5\", \"type of C is not str. C should be an str\"\n",
    "assert sha1(str(len(C)).encode(\"utf-8\")+b\"3e0a1\").hexdigest() == \"59d0301c87e2080b06debbfb9b5cabef57932fc8\", \"length of C is not correct\"\n",
    "assert sha1(str(C.lower()).encode(\"utf-8\")+b\"3e0a1\").hexdigest() == \"628f11da608f1ff354e39fd61c94df7151e70509\", \"value of C is not correct\"\n",
    "assert sha1(str(C).encode(\"utf-8\")+b\"3e0a1\").hexdigest() == \"628f11da608f1ff354e39fd61c94df7151e70509\", \"correct string value of C but incorrect case of letters\"\n",
    "\n",
    "assert sha1(str(type(D)).encode(\"utf-8\")+b\"3e0a2\").hexdigest() == \"0c8bbc755005bc6df2657ebef2de45f1b6b964a9\", \"type of D is not str. D should be an str\"\n",
    "assert sha1(str(len(D)).encode(\"utf-8\")+b\"3e0a2\").hexdigest() == \"cd8d392b0fd8e2519f45aac202b7e811b91f53f1\", \"length of D is not correct\"\n",
    "assert sha1(str(D.lower()).encode(\"utf-8\")+b\"3e0a2\").hexdigest() == \"20b157bcc96217e3e2c49c4d1b21c16eabc53345\", \"value of D is not correct\"\n",
    "assert sha1(str(D).encode(\"utf-8\")+b\"3e0a2\").hexdigest() == \"20b157bcc96217e3e2c49c4d1b21c16eabc53345\", \"correct string value of D but incorrect case of letters\"\n",
    "\n",
    "assert sha1(str(type(E)).encode(\"utf-8\")+b\"3e0a3\").hexdigest() == \"ef7859b290186a908ba3a4a74c85f0f0c0aca39d\", \"type of E is not str. E should be an str\"\n",
    "assert sha1(str(len(E)).encode(\"utf-8\")+b\"3e0a3\").hexdigest() == \"f1cd04a223ed408145f767838868eada4dfc79d5\", \"length of E is not correct\"\n",
    "assert sha1(str(E.lower()).encode(\"utf-8\")+b\"3e0a3\").hexdigest() == \"0bcea3665ed82aeae1691bcfe611b1a3b2f83089\", \"value of E is not correct\"\n",
    "assert sha1(str(E).encode(\"utf-8\")+b\"3e0a3\").hexdigest() == \"0bcea3665ed82aeae1691bcfe611b1a3b2f83089\", \"correct string value of E but incorrect case of letters\"\n",
    "\n",
    "assert sha1(str(type(F)).encode(\"utf-8\")+b\"3e0a4\").hexdigest() == \"a47d057fd84860f38f189cd5eade1d9be567cf3c\", \"type of F is not str. F should be an str\"\n",
    "assert sha1(str(len(F)).encode(\"utf-8\")+b\"3e0a4\").hexdigest() == \"8ef341880ed78b20252abab89ce1c827fed27b92\", \"length of F is not correct\"\n",
    "assert sha1(str(F.lower()).encode(\"utf-8\")+b\"3e0a4\").hexdigest() == \"e9024aa272e7e0d2239bf6e8064ef448da5bde90\", \"value of F is not correct\"\n",
    "assert sha1(str(F).encode(\"utf-8\")+b\"3e0a4\").hexdigest() == \"e9024aa272e7e0d2239bf6e8064ef448da5bde90\", \"correct string value of F but incorrect case of letters\"\n",
    "\n",
    "print('Success!')"
   ]
  },
  {
   "cell_type": "markdown",
   "metadata": {
    "deletable": false,
    "editable": false,
    "nbgrader": {
     "cell_type": "markdown",
     "checksum": "0288add9bbe67e362860878d4262a9f8",
     "grade": false,
     "grade_id": "cell-2bf3dca10743194a",
     "locked": true,
     "schema_version": 3,
     "solution": false,
     "task": false
    }
   },
   "source": [
    "**Question 3.4** \n",
    "<br> {points: 1}\n",
    "\n",
    "Read the file `happiness_report.csv` in the `data` folder using the shortest relative path. **Hint:** preview the data using Jupyter (as discussed above) so you know which `pd.read_*` function and arguments to use.\n",
    "\n",
    "*Assign the relative path (the string) to an object named* `happiness_report_path`, *and assign the output of the correct* `pd.read_*` *function you call to an object named* `happiness_report`. "
   ]
  },
  {
   "cell_type": "code",
   "execution_count": null,
   "metadata": {
    "deletable": false,
    "nbgrader": {
     "cell_type": "code",
     "checksum": "36556364dd5da6d9fd8dbb36de5c0d8e",
     "grade": false,
     "grade_id": "cell-2a9511095cc19de1",
     "locked": false,
     "schema_version": 3,
     "solution": true,
     "task": false
    }
   },
   "outputs": [],
   "source": [
    "# happiness_report_path = \"___\"\n",
    "# ___ = ___(happiness_report_path)\n",
    "\n",
    "# your code here\n",
    "raise NotImplementedError\n",
    "happiness_report"
   ]
  },
  {
   "cell_type": "code",
   "execution_count": null,
   "metadata": {
    "deletable": false,
    "editable": false,
    "nbgrader": {
     "cell_type": "code",
     "checksum": "7d9d2249ed38e53f98fb65d8c4a1ad54",
     "grade": true,
     "grade_id": "cell-266883cbf4d69fc8",
     "locked": true,
     "points": 3,
     "schema_version": 3,
     "solution": false,
     "task": false
    }
   },
   "outputs": [],
   "source": [
    "from hashlib import sha1\n",
    "assert sha1(str(type(happiness_report_path)).encode(\"utf-8\")+b\"e989b\").hexdigest() == \"90662c3046cda55663e136c5f5b16e0d592a1f1f\", \"type of type(happiness_report_path) is not correct\"\n",
    "\n",
    "assert sha1(str(type(happiness_report_path.split(\"/\")[-2:])).encode(\"utf-8\")+b\"e989c\").hexdigest() == \"940da2a4943333aabee0ba2a9de6ea9fe2ed0153\", \"type of happiness_report_path.split(\\\"/\\\")[-2:] is not list. happiness_report_path.split(\\\"/\\\")[-2:] should be a list\"\n",
    "assert sha1(str(len(happiness_report_path.split(\"/\")[-2:])).encode(\"utf-8\")+b\"e989c\").hexdigest() == \"e9a08a8ba8b2c1cf5a6fa4036a56928a40c70c6a\", \"length of happiness_report_path.split(\\\"/\\\")[-2:] is not correct\"\n",
    "assert sha1(str(sorted(map(str, happiness_report_path.split(\"/\")[-2:]))).encode(\"utf-8\")+b\"e989c\").hexdigest() == \"382fb1335c381db60680673e4eadfda74ad7a7f4\", \"values of happiness_report_path.split(\\\"/\\\")[-2:] are not correct\"\n",
    "assert sha1(str(happiness_report_path.split(\"/\")[-2:]).encode(\"utf-8\")+b\"e989c\").hexdigest() == \"382fb1335c381db60680673e4eadfda74ad7a7f4\", \"order of elements of happiness_report_path.split(\\\"/\\\")[-2:] is not correct\"\n",
    "\n",
    "assert sha1(str(type(happiness_report)).encode(\"utf-8\")+b\"e989d\").hexdigest() == \"216bd42f45633e913cbe7de02e1fc596951fa8ce\", \"type of type(happiness_report) is not correct\"\n",
    "\n",
    "assert sha1(str(type(happiness_report.shape)).encode(\"utf-8\")+b\"e989e\").hexdigest() == \"b3d02fe17c06250d01b98a0d724f56b247c72249\", \"type of happiness_report.shape is not tuple. happiness_report.shape should be a tuple\"\n",
    "assert sha1(str(len(happiness_report.shape)).encode(\"utf-8\")+b\"e989e\").hexdigest() == \"3ccf50aa5ba471a44443c610855c942696be9be6\", \"length of happiness_report.shape is not correct\"\n",
    "assert sha1(str(sorted(map(str, happiness_report.shape))).encode(\"utf-8\")+b\"e989e\").hexdigest() == \"4a4bd4293538b446d2f265cf1c5a7fc826c186c6\", \"values of happiness_report.shape are not correct\"\n",
    "assert sha1(str(happiness_report.shape).encode(\"utf-8\")+b\"e989e\").hexdigest() == \"655583cc7219f7241adc53099adccb34e563b038\", \"order of elements of happiness_report.shape is not correct\"\n",
    "\n",
    "assert sha1(str(type(happiness_report.columns.values)).encode(\"utf-8\")+b\"e989f\").hexdigest() == \"8a412877db2cb764f1d24544a2096d20568be0ff\", \"type of happiness_report.columns.values is not correct\"\n",
    "assert sha1(str(happiness_report.columns.values).encode(\"utf-8\")+b\"e989f\").hexdigest() == \"4b3571ed2ac05db4ec7b6ef46b045f1a41f45122\", \"value of happiness_report.columns.values is not correct\"\n",
    "\n",
    "assert sha1(str(type(sum(happiness_report.freedom))).encode(\"utf-8\")+b\"e98a0\").hexdigest() == \"6a7b1d2093d089e5bf63b26803866f5fef531aab\", \"type of sum(happiness_report.freedom) is not float. Please make sure it is float and not np.float64, etc. You can cast your value into a float using float()\"\n",
    "assert sha1(str(round(sum(happiness_report.freedom), 2)).encode(\"utf-8\")+b\"e98a0\").hexdigest() == \"fa4f82fb287a4f5dbdd2e04546f25f7e537f358b\", \"value of sum(happiness_report.freedom) is not correct (rounded to 2 decimal places)\"\n",
    "\n",
    "print('Success!')"
   ]
  },
  {
   "cell_type": "markdown",
   "metadata": {
    "deletable": false,
    "editable": false,
    "nbgrader": {
     "cell_type": "markdown",
     "checksum": "6d1530ba25f0656a03841ecde50244da",
     "grade": false,
     "grade_id": "cell-339c379f6f9f7a50",
     "locked": true,
     "schema_version": 3,
     "solution": false,
     "task": false
    }
   },
   "source": [
    "**Question 3.5** Multiple Choice:\n",
    "<br> {points: 1}\n",
    "\n",
    "If Norway is in \"first place\" based on the happiness score, at what position is Canada?\n",
    "\n",
    "A. 3rd\n",
    "\n",
    "B. 15th\n",
    "\n",
    "C. 7th\n",
    "\n",
    "D. 28th\n",
    "\n",
    "*Hint: create a new cell and run `happiness_report`.* \n",
    "\n",
    "*Assign your answer to an object called `answer3_5`. Make sure your answer is an uppercase letter and is surrounded by quotation marks (e.g. `\"F\"`).* "
   ]
  },
  {
   "cell_type": "code",
   "execution_count": null,
   "metadata": {
    "deletable": false,
    "nbgrader": {
     "cell_type": "code",
     "checksum": "4d72289f41cff20137de291d2dad4d1a",
     "grade": false,
     "grade_id": "cell-2024e97da21549c5",
     "locked": false,
     "schema_version": 3,
     "solution": true,
     "task": false
    }
   },
   "outputs": [],
   "source": [
    "# your code here\n",
    "raise NotImplementedError"
   ]
  },
  {
   "cell_type": "code",
   "execution_count": null,
   "metadata": {
    "deletable": false,
    "editable": false,
    "nbgrader": {
     "cell_type": "code",
     "checksum": "9ba071ef2c9c8635d488c4dd13a67d4b",
     "grade": true,
     "grade_id": "cell-d780fec46b04aed8",
     "locked": true,
     "points": 3,
     "schema_version": 3,
     "solution": false,
     "task": false
    }
   },
   "outputs": [],
   "source": [
    "from hashlib import sha1\n",
    "assert sha1(str(type(answer3_5)).encode(\"utf-8\")+b\"12fff\").hexdigest() == \"640ba7ac35b03b528ea7c6427f1e2df75ebfeec1\", \"type of answer3_5 is not str. answer3_5 should be an str\"\n",
    "assert sha1(str(len(answer3_5)).encode(\"utf-8\")+b\"12fff\").hexdigest() == \"7f80788d24744a7970ee39276fad8e234872db74\", \"length of answer3_5 is not correct\"\n",
    "assert sha1(str(answer3_5.lower()).encode(\"utf-8\")+b\"12fff\").hexdigest() == \"e861046f576fad9264705ab096a8463cd931d1f1\", \"value of answer3_5 is not correct\"\n",
    "assert sha1(str(answer3_5).encode(\"utf-8\")+b\"12fff\").hexdigest() == \"171c15b779f86a061943e21e4ee9c1d343a163d8\", \"correct string value of answer3_5 but incorrect case of letters\"\n",
    "\n",
    "print('Success!')"
   ]
  },
  {
   "cell_type": "markdown",
   "metadata": {
    "deletable": false,
    "editable": false,
    "nbgrader": {
     "cell_type": "markdown",
     "checksum": "455262eb678aec49a02df860777102df",
     "grade": false,
     "grade_id": "cell-260c9f66f7b3dad7",
     "locked": true,
     "schema_version": 3,
     "solution": false,
     "task": false
    }
   },
   "source": [
    "**Question 3.6.1**\n",
    "<br> {points: 1}\n",
    "\n",
    "For each question in the ranges 3.6.1 to 3.6.5 and 3.7.1 to 3.7.2, fill in the blank (`___`) in the code given and remove the `raise NotImplementedError` for the questions where you provide an answer. Refer to your table above and don't be afraid to ask for help. Remember you can use `?` help operator to access documentation for a function (e.g. `?pd.read_csv`).\n",
    "\n",
    "Read in the file `happiness_report_semicolon.csv` using `pd.read_csv` and name it `happy_semi_df`"
   ]
  },
  {
   "cell_type": "code",
   "execution_count": null,
   "metadata": {
    "deletable": false,
    "nbgrader": {
     "cell_type": "code",
     "checksum": "3b7938c5c2226909f1059215fe170292",
     "grade": false,
     "grade_id": "cell-0d6b7f409728cc19",
     "locked": false,
     "schema_version": 3,
     "solution": true,
     "task": false
    }
   },
   "outputs": [],
   "source": [
    "# ___ = pd.read_csv(\"data/___\", sep = \"___\")\n",
    "\n",
    "# your code here\n",
    "raise NotImplementedError\n",
    "happy_semi_df"
   ]
  },
  {
   "cell_type": "code",
   "execution_count": null,
   "metadata": {
    "deletable": false,
    "editable": false,
    "nbgrader": {
     "cell_type": "code",
     "checksum": "f8b8cc5c11b882b27965b9c6fe882d7d",
     "grade": true,
     "grade_id": "cell-6f0e14455ddb386f",
     "locked": true,
     "points": 3,
     "schema_version": 3,
     "solution": false,
     "task": false
    }
   },
   "outputs": [],
   "source": [
    "from hashlib import sha1\n",
    "assert sha1(str(type(happy_semi_df)).encode(\"utf-8\")+b\"2189f\").hexdigest() == \"c451fbcc65456b510e7fe9ec04478e05a658d4ef\", \"type of type(happy_semi_df) is not correct\"\n",
    "\n",
    "assert sha1(str(type(happy_semi_df.shape)).encode(\"utf-8\")+b\"218a0\").hexdigest() == \"12b12afcdc5002cfe0cf41061a4a56591ff29e3d\", \"type of happy_semi_df.shape is not tuple. happy_semi_df.shape should be a tuple\"\n",
    "assert sha1(str(len(happy_semi_df.shape)).encode(\"utf-8\")+b\"218a0\").hexdigest() == \"bcc044c0060d27559a69671b0947a0177d1b2c1f\", \"length of happy_semi_df.shape is not correct\"\n",
    "assert sha1(str(sorted(map(str, happy_semi_df.shape))).encode(\"utf-8\")+b\"218a0\").hexdigest() == \"19c39d553c35b0d0511fc8d684c894739cf69bff\", \"values of happy_semi_df.shape are not correct\"\n",
    "assert sha1(str(happy_semi_df.shape).encode(\"utf-8\")+b\"218a0\").hexdigest() == \"68e5588e5e910a5e7da7d623cd660283830cf65e\", \"order of elements of happy_semi_df.shape is not correct\"\n",
    "\n",
    "assert sha1(str(type(happy_semi_df.columns.values)).encode(\"utf-8\")+b\"218a1\").hexdigest() == \"29620d9553fa08829fe32933b4e8fcfb10fdbf56\", \"type of happy_semi_df.columns.values is not correct\"\n",
    "assert sha1(str(happy_semi_df.columns.values).encode(\"utf-8\")+b\"218a1\").hexdigest() == \"ae49416f4c7ac1ba8cd28846708a999b774fbebb\", \"value of happy_semi_df.columns.values is not correct\"\n",
    "\n",
    "assert sha1(str(type(sum(np.array([st.replace(\",\", \".\") for st in happy_semi_df.freedom.astype(str)]).astype(float)))).encode(\"utf-8\")+b\"218a2\").hexdigest() == \"922d5a34544ea829ca324c33cfecae03e2785fe5\", \"type of sum(np.array([st.replace(\\\",\\\", \\\".\\\") for st in happy_semi_df.freedom.astype(str)]).astype(float)) is not correct\"\n",
    "assert sha1(str(sum(np.array([st.replace(\",\", \".\") for st in happy_semi_df.freedom.astype(str)]).astype(float))).encode(\"utf-8\")+b\"218a2\").hexdigest() == \"0f183d0e48702ff7692cfceea80175df5ec01e5f\", \"value of sum(np.array([st.replace(\\\",\\\", \\\".\\\") for st in happy_semi_df.freedom.astype(str)]).astype(float)) is not correct\"\n",
    "\n",
    "print('Success!')"
   ]
  },
  {
   "cell_type": "markdown",
   "metadata": {},
   "source": [
    "Take a look at the `happiness_score`, `GDP_per_capita`, `life_expectancy`, and `freedom` columns. It looks odd that the comma (`,`) shows up as the decimal separator instead of a point `.`. If you take a look at the data types with `happy_semi_df.info()` you would see that those columns have been read in as objects rather than numeric as we would hope! What happened?\n",
    "\n",
    "If we look closer, we'll see that the decimal point in this data was a *comma* `,` rather than a period (common in some European countries). To make sure this data was read in correctly, we would have needed to add `decimal=','` inside `read_csv`."
   ]
  },
  {
   "cell_type": "markdown",
   "metadata": {
    "deletable": false,
    "editable": false,
    "nbgrader": {
     "cell_type": "markdown",
     "checksum": "5a20f46a955c7ab6db754b72a953d8e0",
     "grade": false,
     "grade_id": "cell-331cf74e531fdba9",
     "locked": true,
     "schema_version": 3,
     "solution": false,
     "task": false
    }
   },
   "source": [
    "**Question 3.6.2** True or False:\n",
    "<br> {points: 1}\n",
    "\n",
    "Read the documentation of `read_csv`. The `deliminator` parameter is useful even if you are already using the `sep` parameter, since it allows to specify additional separation characters.\n",
    "\n",
    "*Assign your answer to an object called `answer3_6_2`. Make sure your answer is a boolean (e.g. `True` or `False`).*"
   ]
  },
  {
   "cell_type": "code",
   "execution_count": null,
   "metadata": {
    "deletable": false,
    "nbgrader": {
     "cell_type": "code",
     "checksum": "e0fd62eb73c17b743ef14b77b73b280b",
     "grade": false,
     "grade_id": "cell-9edc42f2fcc7c84b",
     "locked": false,
     "schema_version": 3,
     "solution": true,
     "task": false
    }
   },
   "outputs": [],
   "source": [
    "# your code here\n",
    "raise NotImplementedError"
   ]
  },
  {
   "cell_type": "code",
   "execution_count": null,
   "metadata": {
    "deletable": false,
    "editable": false,
    "nbgrader": {
     "cell_type": "code",
     "checksum": "7091d20f493630c0da8e22a254960d3c",
     "grade": true,
     "grade_id": "cell-c707e8088f55e65a",
     "locked": true,
     "points": 3,
     "schema_version": 3,
     "solution": false,
     "task": false
    }
   },
   "outputs": [],
   "source": [
    "from hashlib import sha1\n",
    "assert sha1(str(type(answer3_6_2)).encode(\"utf-8\")+b\"86d1b\").hexdigest() == \"6dea0f97a5e4b8d4b93d2c498f2319fcb69d37d5\", \"type of answer3_6_2 is not bool. answer3_6_2 should be a bool\"\n",
    "assert sha1(str(answer3_6_2).encode(\"utf-8\")+b\"86d1b\").hexdigest() == \"863fd75e68e91ced7bf11b225d6b8bb8c02b3c41\", \"boolean value of answer3_6_2 is not correct\"\n",
    "\n",
    "print('Success!')"
   ]
  },
  {
   "cell_type": "markdown",
   "metadata": {
    "deletable": false,
    "editable": false,
    "nbgrader": {
     "cell_type": "markdown",
     "checksum": "c51168957498c93808040df79236daa9",
     "grade": false,
     "grade_id": "cell-daeb8b069b857cab",
     "locked": true,
     "schema_version": 3,
     "solution": false,
     "task": false
    }
   },
   "source": [
    "**Question 3.6.3**\n",
    "<br> {points: 1}\n",
    "\n",
    "Read in the file `happiness_report.tsv` using the appropriate value for the `sep` parameter and name it `happy_tsv`."
   ]
  },
  {
   "cell_type": "code",
   "execution_count": null,
   "metadata": {
    "deletable": false,
    "nbgrader": {
     "cell_type": "code",
     "checksum": "622756da4ce98f9fe8a4aeaf9681c82e",
     "grade": false,
     "grade_id": "cell-95b5bac9fb43253f",
     "locked": false,
     "schema_version": 3,
     "solution": true,
     "task": false
    }
   },
   "outputs": [],
   "source": [
    "# ___ = ___(\"___\")\n",
    "\n",
    "# your code here\n",
    "raise NotImplementedError\n",
    "happy_tsv"
   ]
  },
  {
   "cell_type": "code",
   "execution_count": null,
   "metadata": {
    "deletable": false,
    "editable": false,
    "nbgrader": {
     "cell_type": "code",
     "checksum": "0c40fb35be82801659404288e1e9e4ae",
     "grade": true,
     "grade_id": "cell-bdb550f60c65cdb1",
     "locked": true,
     "points": 3,
     "schema_version": 3,
     "solution": false,
     "task": false
    }
   },
   "outputs": [],
   "source": [
    "from hashlib import sha1\n",
    "assert sha1(str(type(happy_tsv)).encode(\"utf-8\")+b\"664d3\").hexdigest() == \"d2e8afe46e31ca8b48a3861dd3430cc5e475e682\", \"type of type(happy_tsv) is not correct\"\n",
    "\n",
    "assert sha1(str(type(happy_tsv.shape)).encode(\"utf-8\")+b\"664d4\").hexdigest() == \"b0eabe81a070c2d9e0b44a8c7cab1a5a5d1494f2\", \"type of happy_tsv.shape is not tuple. happy_tsv.shape should be a tuple\"\n",
    "assert sha1(str(len(happy_tsv.shape)).encode(\"utf-8\")+b\"664d4\").hexdigest() == \"a2ca923953d062e692c848ecd9110e41da4dd956\", \"length of happy_tsv.shape is not correct\"\n",
    "assert sha1(str(sorted(map(str, happy_tsv.shape))).encode(\"utf-8\")+b\"664d4\").hexdigest() == \"d73c6012e4fb6498b4884460a8642711eef8ebb0\", \"values of happy_tsv.shape are not correct\"\n",
    "assert sha1(str(happy_tsv.shape).encode(\"utf-8\")+b\"664d4\").hexdigest() == \"e93016850f72aa6b2f4bc30f8b1bb206ce5dfedc\", \"order of elements of happy_tsv.shape is not correct\"\n",
    "\n",
    "assert sha1(str(type(happy_tsv.columns.values)).encode(\"utf-8\")+b\"664d5\").hexdigest() == \"4213bbad83b1eedb4c1737f68718119c8c0e8c93\", \"type of happy_tsv.columns.values is not correct\"\n",
    "assert sha1(str(happy_tsv.columns.values).encode(\"utf-8\")+b\"664d5\").hexdigest() == \"b36f5d1334eb34e37cc3125a64c1a72556796790\", \"value of happy_tsv.columns.values is not correct\"\n",
    "\n",
    "assert sha1(str(type(sum(happy_tsv.freedom))).encode(\"utf-8\")+b\"664d6\").hexdigest() == \"a60cb8301749f4a12fdf6d817737c44b6696e2a4\", \"type of sum(happy_tsv.freedom) is not float. Please make sure it is float and not np.float64, etc. You can cast your value into a float using float()\"\n",
    "assert sha1(str(round(sum(happy_tsv.freedom), 2)).encode(\"utf-8\")+b\"664d6\").hexdigest() == \"c3c923c13528009a4cadaeff8fdf725e0a12e3bc\", \"value of sum(happy_tsv.freedom) is not correct (rounded to 2 decimal places)\"\n",
    "\n",
    "print('Success!')"
   ]
  },
  {
   "cell_type": "markdown",
   "metadata": {
    "deletable": false,
    "editable": false,
    "nbgrader": {
     "cell_type": "markdown",
     "checksum": "de82c68904e804d18307375487d2c14b",
     "grade": false,
     "grade_id": "cell-6dfce98f770d4afe",
     "locked": true,
     "schema_version": 3,
     "solution": false,
     "task": false
    }
   },
   "source": [
    "**Question 3.6.4**\n",
    "<br> {points: 1}\n",
    "\n",
    "Read in the file `happiness_report_metadata.csv` using the appropriate function and parameters. Name it `happy_metadata`."
   ]
  },
  {
   "cell_type": "code",
   "execution_count": null,
   "metadata": {
    "deletable": false,
    "nbgrader": {
     "cell_type": "code",
     "checksum": "649702e81690c7b8e2f0ed53b239cdd1",
     "grade": false,
     "grade_id": "cell-df90d3d0614c6e49",
     "locked": false,
     "schema_version": 3,
     "solution": true,
     "task": false
    }
   },
   "outputs": [],
   "source": [
    "# ___ = ___(\n",
    "#     \"data/happiness_report_metadata.csv\", skiprows=___\n",
    "# )\n",
    "\n",
    "# your code here\n",
    "raise NotImplementedError\n",
    "happy_metadata"
   ]
  },
  {
   "cell_type": "code",
   "execution_count": null,
   "metadata": {
    "deletable": false,
    "editable": false,
    "nbgrader": {
     "cell_type": "code",
     "checksum": "cb937bc5d46590e6f3a14a4d6d4c0cf8",
     "grade": true,
     "grade_id": "cell-ed89fc8570b1ff03",
     "locked": true,
     "points": 3,
     "schema_version": 3,
     "solution": false,
     "task": false
    }
   },
   "outputs": [],
   "source": [
    "from hashlib import sha1\n",
    "assert sha1(str(type(happy_metadata)).encode(\"utf-8\")+b\"d0517\").hexdigest() == \"6736e7a1579436044166f53fef68820945341f6e\", \"type of type(happy_metadata) is not correct\"\n",
    "\n",
    "assert sha1(str(type(happy_metadata.shape)).encode(\"utf-8\")+b\"d0518\").hexdigest() == \"77f7d638f8ba0f96a9a796b00c15396241349f61\", \"type of happy_metadata.shape is not tuple. happy_metadata.shape should be a tuple\"\n",
    "assert sha1(str(len(happy_metadata.shape)).encode(\"utf-8\")+b\"d0518\").hexdigest() == \"fbcf63784792ce14112711b63ffd7c1db05effd9\", \"length of happy_metadata.shape is not correct\"\n",
    "assert sha1(str(sorted(map(str, happy_metadata.shape))).encode(\"utf-8\")+b\"d0518\").hexdigest() == \"44e585af394d48797704c771f723a93efaf54fda\", \"values of happy_metadata.shape are not correct\"\n",
    "assert sha1(str(happy_metadata.shape).encode(\"utf-8\")+b\"d0518\").hexdigest() == \"c0d3186c836dc3acaa811a21a4edd6e5d70bf18f\", \"order of elements of happy_metadata.shape is not correct\"\n",
    "\n",
    "assert sha1(str(type(happy_metadata.columns.values)).encode(\"utf-8\")+b\"d0519\").hexdigest() == \"5b5ddf2be635f9d56fa722a2e82625c9ace60e09\", \"type of happy_metadata.columns.values is not correct\"\n",
    "assert sha1(str(happy_metadata.columns.values).encode(\"utf-8\")+b\"d0519\").hexdigest() == \"988eda3540e1bb5e5997e721690eb3d249b15786\", \"value of happy_metadata.columns.values is not correct\"\n",
    "\n",
    "assert sha1(str(type(sum(happy_metadata.freedom))).encode(\"utf-8\")+b\"d051a\").hexdigest() == \"1c60123f0b04df1c691dd80beccb42849ac11853\", \"type of sum(happy_metadata.freedom) is not float. Please make sure it is float and not np.float64, etc. You can cast your value into a float using float()\"\n",
    "assert sha1(str(round(sum(happy_metadata.freedom), 2)).encode(\"utf-8\")+b\"d051a\").hexdigest() == \"780cce5a60aed6f9f7968ef9d3c622327c413c07\", \"value of sum(happy_metadata.freedom) is not correct (rounded to 2 decimal places)\"\n",
    "\n",
    "print('Success!')"
   ]
  },
  {
   "cell_type": "markdown",
   "metadata": {
    "deletable": false,
    "editable": false,
    "nbgrader": {
     "cell_type": "markdown",
     "checksum": "76257c3eb4fabf3f2458e519b5623db0",
     "grade": false,
     "grade_id": "cell-d5c62572e23a1854",
     "locked": true,
     "schema_version": 3,
     "solution": false,
     "task": false
    }
   },
   "source": [
    "**Question 3.6.5**\n",
    "<br> {points: 1}\n",
    "\n",
    "Read in the file `happiness_report_no_header.csv` and name it `happy_header`. \n",
    "Note: If the argument `names` is a list, the values will be used as the names of the columns."
   ]
  },
  {
   "cell_type": "code",
   "execution_count": null,
   "metadata": {
    "deletable": false,
    "nbgrader": {
     "cell_type": "code",
     "checksum": "f6c4774dd295ae446d0b31bb7cfcd4a1",
     "grade": false,
     "grade_id": "cell-f3e8559ecb065da0",
     "locked": false,
     "schema_version": 3,
     "solution": true,
     "task": false
    }
   },
   "outputs": [],
   "source": [
    "# ___ = ___(\n",
    "#     \"___\",\n",
    "#     names=[\n",
    "#         \"country\",\n",
    "#         \"happiness_score\",\n",
    "#         \"GDP_per_capita\",\n",
    "#         \"life_expectancy\",\n",
    "#         \"freedom\",\n",
    "#     ],\n",
    "# )\n",
    "\n",
    "# your code here\n",
    "raise NotImplementedError\n",
    "happy_header"
   ]
  },
  {
   "cell_type": "code",
   "execution_count": null,
   "metadata": {
    "deletable": false,
    "editable": false,
    "nbgrader": {
     "cell_type": "code",
     "checksum": "fffb03f106683f990f8f612f7d3629b8",
     "grade": true,
     "grade_id": "cell-f56c16878a516d14",
     "locked": true,
     "points": 3,
     "schema_version": 3,
     "solution": false,
     "task": false
    }
   },
   "outputs": [],
   "source": [
    "from hashlib import sha1\n",
    "assert sha1(str(type(happy_header)).encode(\"utf-8\")+b\"1f2ff\").hexdigest() == \"239e5133dc30b9f5f5b02b8983c18c969add83e8\", \"type of type(happy_header) is not correct\"\n",
    "\n",
    "assert sha1(str(type(happy_header.shape)).encode(\"utf-8\")+b\"1f300\").hexdigest() == \"ca791f2afe59750143e1b455cb011584fcc0056a\", \"type of happy_header.shape is not tuple. happy_header.shape should be a tuple\"\n",
    "assert sha1(str(len(happy_header.shape)).encode(\"utf-8\")+b\"1f300\").hexdigest() == \"fcacafe570aa3b1f20b08f95f4690e4461a672e7\", \"length of happy_header.shape is not correct\"\n",
    "assert sha1(str(sorted(map(str, happy_header.shape))).encode(\"utf-8\")+b\"1f300\").hexdigest() == \"05aa81ce22b273f15fb3c602b6894e23726a5fa9\", \"values of happy_header.shape are not correct\"\n",
    "assert sha1(str(happy_header.shape).encode(\"utf-8\")+b\"1f300\").hexdigest() == \"6d3d9efbda6f801877c7dc4a98187fe8f99ed77f\", \"order of elements of happy_header.shape is not correct\"\n",
    "\n",
    "assert sha1(str(type(happy_header.columns.values)).encode(\"utf-8\")+b\"1f301\").hexdigest() == \"e2e4d738e4ad32442c29666d9371ebfde814b73d\", \"type of happy_header.columns.values is not correct\"\n",
    "assert sha1(str(happy_header.columns.values).encode(\"utf-8\")+b\"1f301\").hexdigest() == \"2f0e80537d4524156f95794fae1790c45d23f45e\", \"value of happy_header.columns.values is not correct\"\n",
    "\n",
    "assert sha1(str(type(sum(happy_header.freedom))).encode(\"utf-8\")+b\"1f302\").hexdigest() == \"4a8cbcdb373b79f3314cf7d348afa525e67a1ee6\", \"type of sum(happy_header.freedom) is not float. Please make sure it is float and not np.float64, etc. You can cast your value into a float using float()\"\n",
    "assert sha1(str(round(sum(happy_header.freedom), 2)).encode(\"utf-8\")+b\"1f302\").hexdigest() == \"e39574c00a672cf7b98538008a2870cd13dfeb9e\", \"value of sum(happy_header.freedom) is not correct (rounded to 2 decimal places)\"\n",
    "\n",
    "print('Success!')"
   ]
  },
  {
   "cell_type": "markdown",
   "metadata": {
    "deletable": false,
    "editable": false,
    "nbgrader": {
     "cell_type": "markdown",
     "checksum": "945f5437f99d8fd8eed6fd245e00d8f8",
     "grade": false,
     "grade_id": "cell-4050684fb738520a",
     "locked": true,
     "schema_version": 3,
     "solution": false,
     "task": false
    }
   },
   "source": [
    "**Question 3.7**\n",
    "<br> {points: 1}\n",
    "\n",
    "Earlier when you tried to open `happiness_report.xlsx` in Jupyter, you received an error message `(File Load Error ... is not UTF-8 encoded)`. This happens because Excel spreadsheet files are not stored in plain text, and so Jupyter can't open them with its default text viewing program. This makes them a bit harder to inspect before trying to open in `Python`.\n",
    "\n",
    "To inspect the data, we will just try to load `happiness_report.xlsx` using the most basic form of the appropriate `read_*` function, passing only the filename as an argument. Assign the output to a variable called `happy_xlsx`.\n",
    "\n",
    "*Note: you can also try to examine `.xlsx` files with Microsoft Excel or Google Sheets before loading into Python.*"
   ]
  },
  {
   "cell_type": "code",
   "execution_count": null,
   "metadata": {
    "deletable": false,
    "nbgrader": {
     "cell_type": "code",
     "checksum": "72bd86dde14e18f7f1d94dc752b9a20c",
     "grade": false,
     "grade_id": "cell-9c2d94b7e4040d98",
     "locked": false,
     "schema_version": 3,
     "solution": true,
     "task": false
    }
   },
   "outputs": [],
   "source": [
    "# ___ = ___(\"___\")\n",
    "\n",
    "# your code here\n",
    "raise NotImplementedError\n",
    "happy_xlsx"
   ]
  },
  {
   "cell_type": "code",
   "execution_count": null,
   "metadata": {
    "deletable": false,
    "editable": false,
    "nbgrader": {
     "cell_type": "code",
     "checksum": "4f723b19cc7bf56c8048e5ba14efc540",
     "grade": true,
     "grade_id": "cell-79c203e0b46e0a51",
     "locked": true,
     "points": 3,
     "schema_version": 3,
     "solution": false,
     "task": false
    }
   },
   "outputs": [],
   "source": [
    "from hashlib import sha1\n",
    "assert sha1(str(type(happy_xlsx)).encode(\"utf-8\")+b\"73402\").hexdigest() == \"cb9aebeba5dcb422fbe7d3f60584bd1156756ead\", \"type of type(happy_xlsx) is not correct\"\n",
    "\n",
    "assert sha1(str(type(happy_xlsx.shape)).encode(\"utf-8\")+b\"73403\").hexdigest() == \"3b4b8a6ef9c874df90c6ed29ea968051787df0e1\", \"type of happy_xlsx.shape is not tuple. happy_xlsx.shape should be a tuple\"\n",
    "assert sha1(str(len(happy_xlsx.shape)).encode(\"utf-8\")+b\"73403\").hexdigest() == \"ee1dfcec3c009fd4f2c7d368a5a04c4bd635ea42\", \"length of happy_xlsx.shape is not correct\"\n",
    "assert sha1(str(sorted(map(str, happy_xlsx.shape))).encode(\"utf-8\")+b\"73403\").hexdigest() == \"3c62e078f906a023ec350516ff29f75c0d29bfde\", \"values of happy_xlsx.shape are not correct\"\n",
    "assert sha1(str(happy_xlsx.shape).encode(\"utf-8\")+b\"73403\").hexdigest() == \"5831b74a61d2c0b032064e56504c13d91613a3b6\", \"order of elements of happy_xlsx.shape is not correct\"\n",
    "\n",
    "assert sha1(str(type(happy_xlsx.columns.values)).encode(\"utf-8\")+b\"73404\").hexdigest() == \"88487d5709e5033e9cab4dced7d8157b1363282f\", \"type of happy_xlsx.columns.values is not correct\"\n",
    "assert sha1(str(happy_xlsx.columns.values).encode(\"utf-8\")+b\"73404\").hexdigest() == \"4cbc56b86fae9eebffecf0533b35b0ae2b9e1478\", \"value of happy_xlsx.columns.values is not correct\"\n",
    "\n",
    "assert sha1(str(type(sum(happy_xlsx.freedom))).encode(\"utf-8\")+b\"73405\").hexdigest() == \"017e2dbe908e88ec3fdcca0ba67dc8e6496de653\", \"type of sum(happy_xlsx.freedom) is not float. Please make sure it is float and not np.float64, etc. You can cast your value into a float using float()\"\n",
    "assert sha1(str(round(sum(happy_xlsx.freedom), 2)).encode(\"utf-8\")+b\"73405\").hexdigest() == \"e3e16d66f1e945ad5b17a10dd7b5569afc2e6fe2\", \"value of sum(happy_xlsx.freedom) is not correct (rounded to 2 decimal places)\"\n",
    "\n",
    "print('Success!')"
   ]
  },
  {
   "cell_type": "markdown",
   "metadata": {
    "deletable": false,
    "editable": false,
    "nbgrader": {
     "cell_type": "markdown",
     "checksum": "c299fcba078e6e4f161308aa39a637b6",
     "grade": false,
     "grade_id": "cell-c3d1de78c3cb2d90",
     "locked": true,
     "schema_version": 3,
     "solution": false,
     "task": false
    }
   },
   "source": [
    "**Question 3.8** \n",
    "<br> {points: 1}\n",
    "\n",
    "Opening the data on a text editor showed some clear differences. Do all the data sets look the same once reading them on your Python notebook (`\"yes\"` or `\"no\"`)? \n",
    " \n",
    "*Assign your answer to an object called `answer3_8`. Make sure your answer is in lowercase and is surrounded by quotation marks (e.g. `\"yes\"` or `\"no\"`).* "
   ]
  },
  {
   "cell_type": "code",
   "execution_count": null,
   "metadata": {
    "deletable": false,
    "nbgrader": {
     "cell_type": "code",
     "checksum": "22181ecc1415c11f70f9bf1c6eda205e",
     "grade": false,
     "grade_id": "cell-fa296337c8c6c4ff",
     "locked": false,
     "schema_version": 3,
     "solution": true,
     "task": false
    }
   },
   "outputs": [],
   "source": [
    "# your code here\n",
    "raise NotImplementedError"
   ]
  },
  {
   "cell_type": "code",
   "execution_count": null,
   "metadata": {
    "deletable": false,
    "editable": false,
    "nbgrader": {
     "cell_type": "code",
     "checksum": "2be244ae0260d729aad5e51a0f07b45e",
     "grade": true,
     "grade_id": "cell-0b8300d53191a02e",
     "locked": true,
     "points": 0,
     "schema_version": 3,
     "solution": false,
     "task": false
    }
   },
   "outputs": [],
   "source": [
    "from hashlib import sha1\n",
    "assert sha1(str(type(answer3_8)).encode(\"utf-8\")+b\"1b91f\").hexdigest() == \"23e8e422b21e6cbb76d433c43327711418b388b8\", \"type of answer3_8 is not str. answer3_8 should be an str\"\n",
    "assert sha1(str(len(answer3_8)).encode(\"utf-8\")+b\"1b91f\").hexdigest() == \"a681e5f0f475e4b18dffce9937929c7528f03fdf\", \"length of answer3_8 is not correct\"\n",
    "assert sha1(str(answer3_8.lower()).encode(\"utf-8\")+b\"1b91f\").hexdigest() == \"761537528d75363932d7416d4d9fb7693d9ec637\", \"value of answer3_8 is not correct\"\n",
    "assert sha1(str(answer3_8).encode(\"utf-8\")+b\"1b91f\").hexdigest() == \"761537528d75363932d7416d4d9fb7693d9ec637\", \"correct string value of answer3_8 but incorrect case of letters\"\n",
    "\n",
    "print('Success!')"
   ]
  },
  {
   "cell_type": "markdown",
   "metadata": {
    "deletable": false,
    "editable": false,
    "nbgrader": {
     "cell_type": "markdown",
     "checksum": "e703fb4c8ef043bb03d5beef063a25d8",
     "grade": false,
     "grade_id": "cell-884c1bd38cf56aaf",
     "locked": true,
     "schema_version": 3,
     "solution": false,
     "task": false
    }
   },
   "source": [
    "**Question 3.9** \n",
    "<br> {points: 1}\n",
    "\n",
    "Using the `happy_header` data set that you read earlier, plot `life_expectancy` vs. `GDP_per_capita`. Note that the statement \"plot A vs. B\" usually means to plot A on the y-axis, and B on the x-axis. Be sure to give your axes human-readable titles.\n",
    "\n",
    "*Assign your answer to an object called `header_plot`.* "
   ]
  },
  {
   "cell_type": "code",
   "execution_count": null,
   "metadata": {
    "deletable": false,
    "nbgrader": {
     "cell_type": "code",
     "checksum": "bc6c138407c7017b81a7fce2f571384a",
     "grade": false,
     "grade_id": "cell-1789a92984f2c9fb",
     "locked": false,
     "schema_version": 3,
     "solution": true,
     "task": false
    }
   },
   "outputs": [],
   "source": [
    "# your code here\n",
    "raise NotImplementedError\n",
    "header_plot"
   ]
  },
  {
   "cell_type": "code",
   "execution_count": null,
   "metadata": {
    "deletable": false,
    "editable": false,
    "nbgrader": {
     "cell_type": "code",
     "checksum": "48d1ea19c1b0b0acba0ca842bfb95a47",
     "grade": true,
     "grade_id": "cell-56ebd948b3afe4ab",
     "locked": true,
     "points": 1,
     "schema_version": 3,
     "solution": false,
     "task": false
    }
   },
   "outputs": [],
   "source": [
    "from hashlib import sha1\n",
    "assert sha1(str(type(header_plot.encoding.x['shorthand'])).encode(\"utf-8\")+b\"15eb8\").hexdigest() == \"14ae9edb99e3d055acaf4b4ea2ce491af1a529e0\", \"type of header_plot.encoding.x['shorthand'] is not str. header_plot.encoding.x['shorthand'] should be an str\"\n",
    "assert sha1(str(len(header_plot.encoding.x['shorthand'])).encode(\"utf-8\")+b\"15eb8\").hexdigest() == \"44e3eda072e8e374aae0ed7d12eda2cb684875af\", \"length of header_plot.encoding.x['shorthand'] is not correct\"\n",
    "assert sha1(str(header_plot.encoding.x['shorthand'].lower()).encode(\"utf-8\")+b\"15eb8\").hexdigest() == \"4b78678661341a6835965d137d01aac5b98b4abe\", \"value of header_plot.encoding.x['shorthand'] is not correct\"\n",
    "assert sha1(str(header_plot.encoding.x['shorthand']).encode(\"utf-8\")+b\"15eb8\").hexdigest() == \"83d599acb9395cc4fa8d02a9c4ee54da71cc22c9\", \"correct string value of header_plot.encoding.x['shorthand'] but incorrect case of letters\"\n",
    "\n",
    "assert sha1(str(type(header_plot.encoding.y['shorthand'])).encode(\"utf-8\")+b\"15eb9\").hexdigest() == \"43121eaef816898c222dc730f50c90901497084d\", \"type of header_plot.encoding.y['shorthand'] is not str. header_plot.encoding.y['shorthand'] should be an str\"\n",
    "assert sha1(str(len(header_plot.encoding.y['shorthand'])).encode(\"utf-8\")+b\"15eb9\").hexdigest() == \"9e9c1a282f9254b1c20a96c2154ea88bbf701943\", \"length of header_plot.encoding.y['shorthand'] is not correct\"\n",
    "assert sha1(str(header_plot.encoding.y['shorthand'].lower()).encode(\"utf-8\")+b\"15eb9\").hexdigest() == \"15b5192c1bd72b1010dad6d9053ffd6aa9c95e14\", \"value of header_plot.encoding.y['shorthand'] is not correct\"\n",
    "assert sha1(str(header_plot.encoding.y['shorthand']).encode(\"utf-8\")+b\"15eb9\").hexdigest() == \"15b5192c1bd72b1010dad6d9053ffd6aa9c95e14\", \"correct string value of header_plot.encoding.y['shorthand'] but incorrect case of letters\"\n",
    "\n",
    "assert sha1(str(type(header_plot.mark)).encode(\"utf-8\")+b\"15eba\").hexdigest() == \"024b07a5b8421a2ff6a14972e8d919564427a2c8\", \"type of header_plot.mark is not str. header_plot.mark should be an str\"\n",
    "assert sha1(str(len(header_plot.mark)).encode(\"utf-8\")+b\"15eba\").hexdigest() == \"8adf52de2c2c8402f905867e7c2e94ef3a793246\", \"length of header_plot.mark is not correct\"\n",
    "assert sha1(str(header_plot.mark.lower()).encode(\"utf-8\")+b\"15eba\").hexdigest() == \"8f9eb524983405c49ab8aa881bb1e2775ed684f1\", \"value of header_plot.mark is not correct\"\n",
    "assert sha1(str(header_plot.mark).encode(\"utf-8\")+b\"15eba\").hexdigest() == \"8f9eb524983405c49ab8aa881bb1e2775ed684f1\", \"correct string value of header_plot.mark but incorrect case of letters\"\n",
    "\n",
    "assert sha1(str(type(isinstance(header_plot.encoding.x['title'], str))).encode(\"utf-8\")+b\"15ebb\").hexdigest() == \"d63958b79bf8a82ddc7a187a0704d9d8ec6096e9\", \"type of isinstance(header_plot.encoding.x['title'], str) is not bool. isinstance(header_plot.encoding.x['title'], str) should be a bool\"\n",
    "assert sha1(str(isinstance(header_plot.encoding.x['title'], str)).encode(\"utf-8\")+b\"15ebb\").hexdigest() == \"b658e5d4deb4b826e31074560b1cfd9e98d2fd0c\", \"boolean value of isinstance(header_plot.encoding.x['title'], str) is not correct\"\n",
    "\n",
    "assert sha1(str(type(isinstance(header_plot.encoding.y['title'], str))).encode(\"utf-8\")+b\"15ebc\").hexdigest() == \"cea66b60c55fb85bf0bf893da9088b3f37e57bfc\", \"type of isinstance(header_plot.encoding.y['title'], str) is not bool. isinstance(header_plot.encoding.y['title'], str) should be a bool\"\n",
    "assert sha1(str(isinstance(header_plot.encoding.y['title'], str)).encode(\"utf-8\")+b\"15ebc\").hexdigest() == \"c68349f8ef019c399cf7ed49c1180b6e1a7c4e25\", \"boolean value of isinstance(header_plot.encoding.y['title'], str) is not correct\"\n",
    "\n",
    "print('Success!')"
   ]
  },
  {
   "cell_type": "markdown",
   "metadata": {
    "deletable": false,
    "editable": false,
    "nbgrader": {
     "cell_type": "markdown",
     "checksum": "05ce16d83c1adc38404c35a339c14240",
     "grade": false,
     "grade_id": "cell-d2de7ca256a685eb",
     "locked": true,
     "schema_version": 3,
     "solution": false,
     "task": false
    }
   },
   "source": [
    "## 4. Reading Data from a Database\n",
    "\n",
    "### Investigating the reliability of flights into and out of Boston Logan International Airport\n",
    "\n",
    "Delays and cancellations seem to be an unavoidable risk of air travel. A missed connection, or hours spent waiting at the departure gate, might make you wonder though: how reliable is air travel, *really*?\n",
    "\n",
    "The US Bureau of Transportation Statistics keeps a continually-updated [Airline On-Time Performance Dataset](https://transtats.bts.gov/DatabaseInfo.asp?DB_ID=120&DB_Name=Airline%20On-Time%20Performance%20Data) that has tracked the scheduled and actual departure / arrival time of flights in the United States from 1987 to the present day. In this section we'll do some exploration of this data to try to answer some of the above questions. The actual data we'll be using was from only the year 2015, and was compiled into the [2015 Kaggle Flight Delays Dataset](https://www.kaggle.com/usdot/flight-delays) from the raw Bureau data. But even that  dataset is too large to handle in this course (5.8 million flights in just one year!), so the data have been filtered down to flights that either depart or arrive at Logan International Airport (`BOS`), resulting in around 209,000 flight records. \n",
    "\n",
    "Our data has the following variables (columns):\n",
    "\n",
    "- year\n",
    "- month\n",
    "- day\n",
    "- day of the week (from 1 - 7.999..., with fractional days based on departure time)\n",
    "- origin airport code\n",
    "- destination airport code\n",
    "- flight distance (miles)\n",
    "- scheduled departure time (local)\n",
    "- departure delay (minutes)\n",
    "- scheduled arrival time (local)\n",
    "- arrival delay (minutes)\n",
    "- diverted? (True/False)\n",
    "- cancelled? (True/False)\n",
    "\n",
    "\n"
   ]
  },
  {
   "cell_type": "markdown",
   "metadata": {
    "deletable": false,
    "editable": false,
    "nbgrader": {
     "cell_type": "markdown",
     "checksum": "56156da0dfb19d3852615383f2724375",
     "grade": false,
     "grade_id": "cell-ae6a468045492d65",
     "locked": true,
     "schema_version": 3,
     "solution": false,
     "task": false
    }
   },
   "source": [
    "**Question 4.1** True or False:\n",
    "<br> {points: 1}\n",
    "\n",
    "We can use our dataset to figure out which airline company was the least likely to experience a flight delay in 2015.\n",
    "\n",
    "*Assign your answer to an object called `answer4_1`. Make sure your answer is a boolean (e.g. `True` or `False`).*"
   ]
  },
  {
   "cell_type": "code",
   "execution_count": null,
   "metadata": {
    "deletable": false,
    "nbgrader": {
     "cell_type": "code",
     "checksum": "b429827fb88028119c4780f387a35c36",
     "grade": false,
     "grade_id": "cell-a617f1c9efd04f99",
     "locked": false,
     "schema_version": 3,
     "solution": true,
     "task": false
    }
   },
   "outputs": [],
   "source": [
    "# your code here\n",
    "raise NotImplementedError"
   ]
  },
  {
   "cell_type": "code",
   "execution_count": null,
   "metadata": {
    "deletable": false,
    "editable": false,
    "nbgrader": {
     "cell_type": "code",
     "checksum": "bdfe0d3a126a5d3a2191bb7fe9d73c3b",
     "grade": true,
     "grade_id": "cell-3a25845fbe2a154e",
     "locked": true,
     "points": 3,
     "schema_version": 3,
     "solution": false,
     "task": false
    }
   },
   "outputs": [],
   "source": [
    "from hashlib import sha1\n",
    "assert sha1(str(type(answer4_1)).encode(\"utf-8\")+b\"16442\").hexdigest() == \"48e3d1060d63cd176a8c7cf0feb68ec8a31219d6\", \"type of answer4_1 is not bool. answer4_1 should be a bool\"\n",
    "assert sha1(str(answer4_1).encode(\"utf-8\")+b\"16442\").hexdigest() == \"cf6ac610b8a2099176561e7b2752ab3620dd9877\", \"boolean value of answer4_1 is not correct\"\n",
    "\n",
    "print('Success!')"
   ]
  },
  {
   "cell_type": "markdown",
   "metadata": {
    "deletable": false,
    "editable": false,
    "nbgrader": {
     "cell_type": "markdown",
     "checksum": "2f9851315cc33e188aa147ede3966dbc",
     "grade": false,
     "grade_id": "cell-8e10ec43a04b5f28",
     "locked": true,
     "schema_version": 3,
     "solution": false,
     "task": false
    }
   },
   "source": [
    "**Question 4.2** Multiple Choice\n",
    "<br> {points: 1}\n",
    "\n",
    "If we're mostly concerned with getting to our destination on time, which variable in our dataset should we use as the y-axis of a plot?\n",
    "\n",
    "A. flight distance\n",
    "\n",
    "B. departure delay\n",
    "\n",
    "C. origin airport code\n",
    "\n",
    "D. arrival delay\n",
    "\n",
    "*Assign your answer as a single character to an object called `answer4_2`. Make sure your answer is an uppercase letter and is surrounded by quotation marks (e.g. `\"F\"`).*"
   ]
  },
  {
   "cell_type": "code",
   "execution_count": null,
   "metadata": {
    "deletable": false,
    "nbgrader": {
     "cell_type": "code",
     "checksum": "5bfd92ca78885f86913d2b4b23421928",
     "grade": false,
     "grade_id": "cell-b0d8a3e66f6ca65f",
     "locked": false,
     "schema_version": 3,
     "solution": true,
     "task": false
    }
   },
   "outputs": [],
   "source": [
    "# your code here\n",
    "raise NotImplementedError"
   ]
  },
  {
   "cell_type": "code",
   "execution_count": null,
   "metadata": {
    "deletable": false,
    "editable": false,
    "nbgrader": {
     "cell_type": "code",
     "checksum": "405ae1cd9e9423ed49a71be69e536b98",
     "grade": true,
     "grade_id": "cell-5ef18ca82d1a9b95",
     "locked": true,
     "points": 3,
     "schema_version": 3,
     "solution": false,
     "task": false
    }
   },
   "outputs": [],
   "source": [
    "from hashlib import sha1\n",
    "assert sha1(str(type(answer4_2)).encode(\"utf-8\")+b\"d4363\").hexdigest() == \"69917e3a03625a8bea9ae25d0eab9b8b8c6340cf\", \"type of answer4_2 is not str. answer4_2 should be an str\"\n",
    "assert sha1(str(len(answer4_2)).encode(\"utf-8\")+b\"d4363\").hexdigest() == \"f5358d747b3170deaef147894ad88b2ab37a6dc0\", \"length of answer4_2 is not correct\"\n",
    "assert sha1(str(answer4_2.lower()).encode(\"utf-8\")+b\"d4363\").hexdigest() == \"155d7003e10d4bc0b5cb7e6a4d55ce424a457868\", \"value of answer4_2 is not correct\"\n",
    "assert sha1(str(answer4_2).encode(\"utf-8\")+b\"d4363\").hexdigest() == \"2bb398e7e751be1920680368fc37318bdd3d0612\", \"correct string value of answer4_2 but incorrect case of letters\"\n",
    "\n",
    "print('Success!')"
   ]
  },
  {
   "cell_type": "markdown",
   "metadata": {
    "deletable": false,
    "editable": false,
    "nbgrader": {
     "cell_type": "markdown",
     "checksum": "1113103e768456f8ee3ffa63e0b0552d",
     "grade": false,
     "grade_id": "cell-ece904e30e3c5df3",
     "locked": true,
     "schema_version": 3,
     "solution": false,
     "task": false
    }
   },
   "source": [
    "Let's start exploring our data. The file is stored in `data/flights_filtered.db` in your working directory (still the `py_worksheet_reading` folder). If you try to open the file in Jupyter to inspect its contents, you'll again run into the `File Load Error ... is not UTF-8 encoded` message you got earlier when trying to open an Excel spreadsheet in Jupyter. This is because the file is a *database* (often denoted by the `.db` extension), which are usually not stored in plain text. \n",
    "\n",
    "We'll need more Python packages to help us handle this kind of data: In this course, we will work with the [`ibis` package](https://ibis-project.org/docs/3.2.0/).\n",
    "\n",
    "Let's load that now\n",
    "\n"
   ]
  },
  {
   "cell_type": "code",
   "execution_count": null,
   "metadata": {
    "deletable": false,
    "editable": false,
    "lines_to_next_cell": 2,
    "nbgrader": {
     "cell_type": "code",
     "checksum": "3a78abe8d366a981d6d2b76e9e421c1b",
     "grade": false,
     "grade_id": "cell-1b17f8e1f081d8e4",
     "locked": true,
     "schema_version": 3,
     "solution": false,
     "task": false
    }
   },
   "outputs": [],
   "source": [
    "# Run this cell before continuing.\n",
    "import ibis"
   ]
  },
  {
   "cell_type": "markdown",
   "metadata": {
    "deletable": false,
    "editable": false,
    "nbgrader": {
     "cell_type": "markdown",
     "checksum": "a38aad6cecdcce87f07c672cd9e15333",
     "grade": false,
     "grade_id": "cell-6fc5d146857922ba",
     "locked": true,
     "schema_version": 3,
     "solution": false,
     "task": false
    }
   },
   "source": [
    "In order to open a database in Python, you need to take the following steps:\n",
    "\n",
    "1. Connect to the database. For an SQLite database, we will do that using \n",
    "the `connect` function from the\n",
    "`sqlite` backend in the\n",
    "`ibis` package. This command does not read\n",
    "in the data, but simply tells Python where the database is and opens up a\n",
    "communication channel that Python can use to send SQL commands to the database.\n",
    "2. Check what tables (similar to pandas dataframes, Excel spreadsheets) are in the database using the `list_tables` function\n",
    "3. Once you've picked a table, create a Python object for it using the `table` function from the `conn` object\n",
    "4. You can then interact with this table using familiar commands like `head` or `[]` and don't forget to use `execute` to get back a pandas data frame\n",
    "\n",
    "The next few questions will walk you through this process.\n"
   ]
  },
  {
   "cell_type": "markdown",
   "metadata": {
    "deletable": false,
    "editable": false,
    "nbgrader": {
     "cell_type": "markdown",
     "checksum": "bb81da8d5bcd5a63cebc25fbfa3791d4",
     "grade": false,
     "grade_id": "cell-2263f7b141009a80",
     "locked": true,
     "schema_version": 3,
     "solution": false,
     "task": false
    }
   },
   "source": [
    "**Question 4.3.1** \n",
    "<br> {points: 1}\n",
    "\n",
    "Use the `connect` function from the `sqlite` backend in the `ibis` package to open and connect to the `flights_filtered.db` database in the `data` folder.\n",
    "\n",
    "*Assign the output to a variable named `conn`*."
   ]
  },
  {
   "cell_type": "code",
   "execution_count": null,
   "metadata": {
    "deletable": false,
    "nbgrader": {
     "cell_type": "code",
     "checksum": "6e7611afed5e1bfff23c2567ac3e5d99",
     "grade": false,
     "grade_id": "cell-f7c7606756107e5a",
     "locked": false,
     "schema_version": 3,
     "solution": true,
     "task": false
    }
   },
   "outputs": [],
   "source": [
    "# conn = ibis.sqlite.connect(\"___\")  #replace ___ with the database relative path\n",
    "# \n",
    "\n",
    "# your code here\n",
    "raise NotImplementedError"
   ]
  },
  {
   "cell_type": "code",
   "execution_count": null,
   "metadata": {
    "deletable": false,
    "editable": false,
    "nbgrader": {
     "cell_type": "code",
     "checksum": "bddc680fb31f0b2e858e47ae3246fe88",
     "grade": true,
     "grade_id": "cell-10c6061a03204914",
     "locked": true,
     "points": 1,
     "schema_version": 3,
     "solution": false,
     "task": false
    }
   },
   "outputs": [],
   "source": [
    "from hashlib import sha1\n",
    "assert sha1(str(type(type(conn))).encode(\"utf-8\")+b\"f016a\").hexdigest() == \"4e2b15a607f38c13976bacec14b17efae4fef1e5\", \"type of type(conn) is not correct\"\n",
    "assert sha1(str(type(conn)).encode(\"utf-8\")+b\"f016a\").hexdigest() == \"48bd08728ae5330a3167673b49c26b33540051a8\", \"value of type(conn) is not correct\"\n",
    "\n",
    "assert sha1(str(type(conn.list_tables())).encode(\"utf-8\")+b\"f016b\").hexdigest() == \"4722e164a9785101340a17116f69566c339471c2\", \"type of conn.list_tables() is not list. conn.list_tables() should be a list\"\n",
    "assert sha1(str(len(conn.list_tables())).encode(\"utf-8\")+b\"f016b\").hexdigest() == \"d3853298a211dba07b2ac4d22e73f7b7a15b40f6\", \"length of conn.list_tables() is not correct\"\n",
    "assert sha1(str(sorted(map(str, conn.list_tables()))).encode(\"utf-8\")+b\"f016b\").hexdigest() == \"0870a35799e8d92d2de94341dfe695962d049a1b\", \"values of conn.list_tables() are not correct\"\n",
    "assert sha1(str(conn.list_tables()).encode(\"utf-8\")+b\"f016b\").hexdigest() == \"0870a35799e8d92d2de94341dfe695962d049a1b\", \"order of elements of conn.list_tables() is not correct\"\n",
    "\n",
    "print('Success!')"
   ]
  },
  {
   "cell_type": "markdown",
   "metadata": {
    "deletable": false,
    "editable": false,
    "nbgrader": {
     "cell_type": "markdown",
     "checksum": "aca7699a568fdac44fd4d03c6fb2993f",
     "grade": false,
     "grade_id": "cell-3be320fb744223bf",
     "locked": true,
     "schema_version": 3,
     "solution": false,
     "task": false
    }
   },
   "source": [
    "**Question 4.3.2**\n",
    "<br> {points: 1}\n",
    "\n",
    "Use the `list_tables` function to inspect the database stored in the engine to see what tables it contains.\n",
    "\n",
    "*Make a new variable named `flights_table_name` that stores the name of the table with our data in it*"
   ]
  },
  {
   "cell_type": "code",
   "execution_count": null,
   "metadata": {},
   "outputs": [],
   "source": [
    "# Use this cell to figure out how to answer the question\n",
    "# Call the table_names function in this cell and take a look at the output\n",
    "# once you've called this and seen the output, insert the output string in the cell below as denoted\n",
    "\n",
    "# ___.list_tables() # replace ___ with the right argument"
   ]
  },
  {
   "cell_type": "code",
   "execution_count": null,
   "metadata": {
    "deletable": false,
    "nbgrader": {
     "cell_type": "code",
     "checksum": "2dd5d20b7b96e8d63718bfdf09a8bb7c",
     "grade": false,
     "grade_id": "cell-7a521f34b4eacb55",
     "locked": false,
     "schema_version": 3,
     "solution": true,
     "task": false
    }
   },
   "outputs": [],
   "source": [
    "# ___ = '___'\n",
    "\n",
    "# your code here\n",
    "raise NotImplementedError"
   ]
  },
  {
   "cell_type": "code",
   "execution_count": null,
   "metadata": {
    "deletable": false,
    "editable": false,
    "nbgrader": {
     "cell_type": "code",
     "checksum": "d5d687e398d224714739b6bfddf84b18",
     "grade": true,
     "grade_id": "cell-0cdbe210a4acaec3",
     "locked": true,
     "points": 1,
     "schema_version": 3,
     "solution": false,
     "task": false
    }
   },
   "outputs": [],
   "source": [
    "from hashlib import sha1\n",
    "assert sha1(str(type(flights_table_name)).encode(\"utf-8\")+b\"49261\").hexdigest() == \"f251b75486fdfc20173bef5cd907c01c5e159162\", \"type of flights_table_name is not str. flights_table_name should be an str\"\n",
    "assert sha1(str(len(flights_table_name)).encode(\"utf-8\")+b\"49261\").hexdigest() == \"7dc1eca705c6114900d6bd337eeb971842a47373\", \"length of flights_table_name is not correct\"\n",
    "assert sha1(str(flights_table_name.lower()).encode(\"utf-8\")+b\"49261\").hexdigest() == \"ce09dc88f0ea22d8f66bdfa6bd872eca2789cfb8\", \"value of flights_table_name is not correct\"\n",
    "assert sha1(str(flights_table_name).encode(\"utf-8\")+b\"49261\").hexdigest() == \"ce09dc88f0ea22d8f66bdfa6bd872eca2789cfb8\", \"correct string value of flights_table_name but incorrect case of letters\"\n",
    "\n",
    "print('Success!')"
   ]
  },
  {
   "cell_type": "markdown",
   "metadata": {
    "deletable": false,
    "editable": false,
    "nbgrader": {
     "cell_type": "markdown",
     "checksum": "79130959eef46533e3ed6557bea9b1ff",
     "grade": false,
     "grade_id": "cell-2cea3627425a277f",
     "locked": true,
     "schema_version": 3,
     "solution": false,
     "task": false
    }
   },
   "source": [
    "**Question 4.3.3**\n",
    "<br> {points: 1}\n",
    "\n",
    "Use the `table` function from the `conn` object to create a Python reference to the table and call this `flight_data`\n",
    "\n",
    "*Make a new variable named `flight_data`.*"
   ]
  },
  {
   "cell_type": "code",
   "execution_count": null,
   "metadata": {
    "deletable": false,
    "nbgrader": {
     "cell_type": "code",
     "checksum": "1a1eeb072bb181318240062763a3ec75",
     "grade": false,
     "grade_id": "cell-ce6208974728270f",
     "locked": false,
     "schema_version": 3,
     "solution": true,
     "task": false
    }
   },
   "outputs": [],
   "source": [
    "# flight_data = conn.table(_____)\n",
    "\n",
    "# your code here\n",
    "raise NotImplementedError\n",
    "flight_data "
   ]
  },
  {
   "cell_type": "code",
   "execution_count": null,
   "metadata": {
    "deletable": false,
    "editable": false,
    "nbgrader": {
     "cell_type": "code",
     "checksum": "872f960c305f7b1c54d0a92007e3cee5",
     "grade": true,
     "grade_id": "cell-f49edc2edcd86899",
     "locked": true,
     "points": 1,
     "schema_version": 3,
     "solution": false,
     "task": false
    }
   },
   "outputs": [],
   "source": [
    "from hashlib import sha1\n",
    "assert sha1(str(type(type(flight_data))).encode(\"utf-8\")+b\"5b4df\").hexdigest() == \"db872784af29d918b6d5279c1d01141997fbfdf9\", \"type of type(flight_data) is not correct\"\n",
    "assert sha1(str(type(flight_data)).encode(\"utf-8\")+b\"5b4df\").hexdigest() == \"6affb78734c68e7e7320d9d0da94eb6202730428\", \"value of type(flight_data) is not correct\"\n",
    "\n",
    "assert sha1(str(type(flight_data.columns)).encode(\"utf-8\")+b\"5b4e0\").hexdigest() == \"1dd6955c81fdfac3ffae551b7bbff30b008e9653\", \"type of flight_data.columns is not list. flight_data.columns should be a list\"\n",
    "assert sha1(str(len(flight_data.columns)).encode(\"utf-8\")+b\"5b4e0\").hexdigest() == \"5bd070e0b5ee9cd04f6b6ca3586c4ac83e74e331\", \"length of flight_data.columns is not correct\"\n",
    "assert sha1(str(sorted(map(str, flight_data.columns))).encode(\"utf-8\")+b\"5b4e0\").hexdigest() == \"e7b6677ca9c3510a89d14d22742127f7a27b5bbb\", \"values of flight_data.columns are not correct\"\n",
    "assert sha1(str(flight_data.columns).encode(\"utf-8\")+b\"5b4e0\").hexdigest() == \"873c4a97802fed55c713957c421183036e25b5d5\", \"order of elements of flight_data.columns is not correct\"\n",
    "\n",
    "print('Success!')"
   ]
  },
  {
   "cell_type": "markdown",
   "metadata": {
    "deletable": false,
    "editable": false,
    "nbgrader": {
     "cell_type": "markdown",
     "checksum": "913a9da717e1c2a1c627f974c822feaa",
     "grade": false,
     "grade_id": "cell-a7bdf4efaa13a843",
     "locked": true,
     "schema_version": 3,
     "solution": false,
     "task": false
    }
   },
   "source": [
    "Now that we've connected to the database and created an pandas dataframe object, we'll take a look at the first few rows and columns of the flight on-time performance data. So let's try using the `head` function (which allows us to see the first few rows of a dataset) and see what happens:"
   ]
  },
  {
   "cell_type": "code",
   "execution_count": null,
   "metadata": {
    "deletable": false,
    "editable": false,
    "nbgrader": {
     "cell_type": "code",
     "checksum": "5357984a9b310d36ddf9872fa7914629",
     "grade": false,
     "grade_id": "cell-e6e5d21a17b9f654",
     "locked": true,
     "schema_version": 3,
     "solution": false,
     "task": false
    }
   },
   "outputs": [],
   "source": [
    "# Run this cell before continuing.\n",
    "flight_data.head()"
   ]
  },
  {
   "cell_type": "markdown",
   "metadata": {
    "deletable": false,
    "editable": false,
    "nbgrader": {
     "cell_type": "markdown",
     "checksum": "c79aa887b3a06f347f69e2722c19fa0d",
     "grade": false,
     "grade_id": "cell-d7cc224da62342f1",
     "locked": true,
     "schema_version": 3,
     "solution": false,
     "task": false
    }
   },
   "source": [
    "Although it looks like we might have obtained the whole data frame from the database, we didn't!\n",
    "It's a *reference*; the data is still stored only in the SQLite database. The `flight_data` object  \n",
    "is an `AlchemyTable` (`ibis` is using `sqlalchemy` under the hood!), which, when printed, tells\n",
    "you which columns are available in the table. \n",
    "\n",
    "When we\n",
    "write `flight_data.head().execute()` in Python, in the background, the `execute` function is\n",
    "translating the Python code into SQL, sending that SQL to the database, and then translating the\n",
    "response for us."
   ]
  },
  {
   "cell_type": "code",
   "execution_count": null,
   "metadata": {},
   "outputs": [],
   "source": [
    "# Run this cell before continuing.\n",
    "flight_data.head().execute()"
   ]
  },
  {
   "cell_type": "markdown",
   "metadata": {
    "deletable": false,
    "editable": false,
    "nbgrader": {
     "cell_type": "markdown",
     "checksum": "372dd501e50ab9955c345b56a3219180",
     "grade": false,
     "grade_id": "cell-356613f497cc07cb",
     "locked": true,
     "schema_version": 3,
     "solution": false,
     "task": false
    }
   },
   "source": [
    "It works! And---as luck would have it---it also works to use the `[]` and `loc[]` functions you've learned about previously. Just don't forget to add `execute`! "
   ]
  },
  {
   "cell_type": "markdown",
   "metadata": {
    "deletable": false,
    "editable": false,
    "nbgrader": {
     "cell_type": "markdown",
     "checksum": "431811c00f7e539117627db56dc67d09",
     "grade": false,
     "grade_id": "cell-6e081aa11d2799c3",
     "locked": true,
     "schema_version": 3,
     "solution": false,
     "task": false
    }
   },
   "source": [
    "**Question 4.4**\n",
    "<br> {points: 1}\n",
    "\n",
    "Use `[]` to extract the **arrival and departure delay** columns for rows where **the origin airport is BOS.** This is done in two steps, first we filter rows and second, select columns. \n",
    "\n",
    "*Store your answer in a variable called* `delay_data`."
   ]
  },
  {
   "cell_type": "code",
   "execution_count": null,
   "metadata": {
    "deletable": false,
    "nbgrader": {
     "cell_type": "code",
     "checksum": "b446c5c8742a033ba1b8c7cdb4828f4e",
     "grade": false,
     "grade_id": "cell-e9116224f425a610",
     "locked": false,
     "schema_version": 3,
     "solution": true,
     "task": false
    }
   },
   "outputs": [],
   "source": [
    "# fd_bos_origin = flight_data[___ == \"___\"].execute()\n",
    "# delay_data = fd_bos_origin[[___, ___]]\n",
    "\n",
    "# your code here\n",
    "raise NotImplementedError"
   ]
  },
  {
   "cell_type": "code",
   "execution_count": null,
   "metadata": {
    "deletable": false,
    "editable": false,
    "nbgrader": {
     "cell_type": "code",
     "checksum": "92dfcc3a204a8c68908a54bf37d58a52",
     "grade": true,
     "grade_id": "cell-5338b9a6748de0f7",
     "locked": true,
     "points": 1,
     "schema_version": 3,
     "solution": false,
     "task": false
    }
   },
   "outputs": [],
   "source": [
    "from hashlib import sha1\n",
    "assert sha1(str(type(delay_data.shape)).encode(\"utf-8\")+b\"13444\").hexdigest() == \"695d1b5ee603d0f2406935754b408443ca3dace8\", \"type of delay_data.shape is not tuple. delay_data.shape should be a tuple\"\n",
    "assert sha1(str(len(delay_data.shape)).encode(\"utf-8\")+b\"13444\").hexdigest() == \"1c8ea23931030012973f3c43023eaec3f88c147c\", \"length of delay_data.shape is not correct\"\n",
    "assert sha1(str(sorted(map(str, delay_data.shape))).encode(\"utf-8\")+b\"13444\").hexdigest() == \"97a5efa0caa3882b26d200f8e0f7b49e8db21808\", \"values of delay_data.shape are not correct\"\n",
    "assert sha1(str(delay_data.shape).encode(\"utf-8\")+b\"13444\").hexdigest() == \"7373d952e329b5cd252814b5fca640c71d727b02\", \"order of elements of delay_data.shape is not correct\"\n",
    "\n",
    "assert sha1(str(type(delay_data.columns.values)).encode(\"utf-8\")+b\"13445\").hexdigest() == \"bed552741f7f4e4011a8bafb6a457016c6a65e98\", \"type of delay_data.columns.values is not correct\"\n",
    "assert sha1(str(delay_data.columns.values).encode(\"utf-8\")+b\"13445\").hexdigest() == \"b7dc00aa0fc7436993c044fea4b541892ed7831b\", \"value of delay_data.columns.values is not correct\"\n",
    "\n",
    "print('Success!')"
   ]
  },
  {
   "cell_type": "code",
   "execution_count": null,
   "metadata": {
    "deletable": false,
    "editable": false,
    "nbgrader": {
     "cell_type": "code",
     "checksum": "2498ae03a9fec487826daf1cead798c3",
     "grade": false,
     "grade_id": "cell-84aab140cb516617",
     "locked": true,
     "schema_version": 3,
     "solution": false,
     "task": false
    }
   },
   "outputs": [],
   "source": [
    "# Take a look at `delay_data` to make sure it has the two columns we expect.\n",
    "# Run this cell before continuing.\n",
    "delay_data.head()"
   ]
  },
  {
   "cell_type": "markdown",
   "metadata": {
    "deletable": false,
    "editable": false,
    "nbgrader": {
     "cell_type": "markdown",
     "checksum": "0891c03252e63a19a9fa6f563b7e328d",
     "grade": false,
     "grade_id": "cell-303a41d2e27cbc4d",
     "locked": true,
     "schema_version": 3,
     "solution": false,
     "task": false
    }
   },
   "source": [
    "Our next task is to visualize our data to see whether there is a difference in delays for arrivals at and departures from `BOS`. But before we do that, let's figure out just how much data we're working with using the `shape` method."
   ]
  },
  {
   "cell_type": "code",
   "execution_count": null,
   "metadata": {
    "deletable": false,
    "editable": false,
    "nbgrader": {
     "cell_type": "code",
     "checksum": "f63bff9c068e2cdeee037bfd6a82c437",
     "grade": false,
     "grade_id": "cell-09bd61a2b25cb771",
     "locked": true,
     "schema_version": 3,
     "solution": false,
     "task": false
    }
   },
   "outputs": [],
   "source": [
    "# Run this cell before continuing.\n",
    "delay_data.shape"
   ]
  },
  {
   "cell_type": "markdown",
   "metadata": {
    "deletable": false,
    "editable": false,
    "nbgrader": {
     "cell_type": "markdown",
     "checksum": "dd116aa3acfc45e4710882d1bdfe1700",
     "grade": false,
     "grade_id": "cell-4b975655f6f919ed",
     "locked": true,
     "schema_version": 3,
     "solution": false,
     "task": false
    }
   },
   "source": [
    "Yikes---that's a lot of data! If we tried to do a scatter plot of these, we probably wouldn't be able to see anything useful; all the points would be mushed together. Let's try using a *histogram* instead. A histogram helps us visualize how a particular variable is distributed in a dataset. It does this by separating the data into *bins*, and then plotting vertical bars showing how many data points fell in each bin.\n",
    "\n",
    "For example, we could use a histogram to visualize the distribution of IMDB ratings of different movies with the `mark_bar`."
   ]
  },
  {
   "cell_type": "code",
   "execution_count": null,
   "metadata": {
    "deletable": false,
    "editable": false,
    "nbgrader": {
     "cell_type": "code",
     "checksum": "2b20c0be186e5c4877c4761439bae9c8",
     "grade": false,
     "grade_id": "cell-9c2880fd80fb47e8",
     "locked": true,
     "schema_version": 3,
     "solution": false,
     "task": false
    }
   },
   "outputs": [],
   "source": [
    "happiness_data = pd.read_csv(\n",
    "    \"data/happiness_report_metadata.csv\", skiprows=2\n",
    ")\n",
    "\n",
    "alt.Chart(happiness_data).mark_bar().encode(\n",
    "    x=alt.X(\"happiness_score\").bin(),\n",
    "    y=\"count()\",\n",
    ")"
   ]
  },
  {
   "cell_type": "markdown",
   "metadata": {
    "deletable": false,
    "editable": false,
    "nbgrader": {
     "cell_type": "markdown",
     "checksum": "4d706cca4095a79a316b8159bc684323",
     "grade": false,
     "grade_id": "cell-b55f33f294252032",
     "locked": true,
     "schema_version": 3,
     "solution": false,
     "task": false
    }
   },
   "source": [
    "We'll use histograms to visualize the departure delay times and arrival delay times separately."
   ]
  },
  {
   "cell_type": "markdown",
   "metadata": {
    "deletable": false,
    "editable": false,
    "nbgrader": {
     "cell_type": "markdown",
     "checksum": "4feadcccadc736cdbdc32b235fff3a32",
     "grade": false,
     "grade_id": "cell-d8475f9acda08a6f",
     "locked": true,
     "schema_version": 3,
     "solution": false,
     "task": false
    }
   },
   "source": [
    "**Question 4.5**\n",
    "<br> {points: 1}\n",
    "\n",
    "Plot the **arrival** delay time data as a histogram. You will plot the delay (in hours) separated into 15-minute-wide bins on the x axis. The y axis will show the percentage of flights departing BOS that had that amount of delay during 2015.\n",
    "\n",
    "The plotting code is provided below, however, you would need to finish the data wrangling part for the plot by filling `___` with the correct code. Please note that we would want the delay in hours on X axis but the delay data in the dataset is in minutes. To create this new column, we use the `assign` function in Pandas.\n",
    "\n",
    "*Assign the output of altair plot to an object called* `arrival_delay_plot`."
   ]
  },
  {
   "cell_type": "code",
   "execution_count": null,
   "metadata": {
    "deletable": false,
    "nbgrader": {
     "cell_type": "code",
     "checksum": "b44194c942f4dc2d0e92cd226b679e59",
     "grade": false,
     "grade_id": "cell-cb0371528dff7979",
     "locked": false,
     "schema_version": 3,
     "solution": true,
     "task": false
    }
   },
   "outputs": [],
   "source": [
    "# Replace each ___ with the correct item in the list above.\n",
    "\n",
    "# delay_data = delay_data.assign(\n",
    "#     ARRIVAL_DELAY_hr=___\n",
    "# )\n",
    "#\n",
    "# ___ = alt.Chart(delay_data).transform_calculate(\n",
    "#     row_proportion=f\"1 / {delay_data.shape[0]}\"\n",
    "# ).mark_bar().encode(\n",
    "#     alt.X(\"ARRIVAL_DELAY_hr:Q\")\n",
    "#         .bin(step=0.25, extent=[-2, 5])\n",
    "#         .title(\"Delay (hours)\"),\n",
    "#     alt.Y(\"sum(row_proportion):Q\")\n",
    "#         .axis(format=\"%\")\n",
    "#         .title(\"% of Flights\")\n",
    "# )\n",
    "\n",
    "# your code here\n",
    "raise NotImplementedError\n",
    "arrival_delay_plot"
   ]
  },
  {
   "cell_type": "code",
   "execution_count": null,
   "metadata": {
    "deletable": false,
    "editable": false,
    "nbgrader": {
     "cell_type": "code",
     "checksum": "59add2b71146d4db13256674e03657d5",
     "grade": true,
     "grade_id": "cell-c7ffba55e40ac67a",
     "locked": true,
     "points": 1,
     "schema_version": 3,
     "solution": false,
     "task": false
    }
   },
   "outputs": [],
   "source": [
    "from hashlib import sha1\n",
    "assert sha1(str(type(arrival_delay_plot.mark)).encode(\"utf-8\")+b\"5ac0\").hexdigest() == \"6a78f9ea4357b43ef527f1967ebccf4f04a9bccf\", \"type of arrival_delay_plot.mark is not str. arrival_delay_plot.mark should be an str\"\n",
    "assert sha1(str(len(arrival_delay_plot.mark)).encode(\"utf-8\")+b\"5ac0\").hexdigest() == \"9902d3a0b445e85853c1c110a6a73c60e409015c\", \"length of arrival_delay_plot.mark is not correct\"\n",
    "assert sha1(str(arrival_delay_plot.mark.lower()).encode(\"utf-8\")+b\"5ac0\").hexdigest() == \"5a62975c2b11af74f0ab38690b8bf71d726eb6d9\", \"value of arrival_delay_plot.mark is not correct\"\n",
    "assert sha1(str(arrival_delay_plot.mark).encode(\"utf-8\")+b\"5ac0\").hexdigest() == \"5a62975c2b11af74f0ab38690b8bf71d726eb6d9\", \"correct string value of arrival_delay_plot.mark but incorrect case of letters\"\n",
    "\n",
    "assert sha1(str(type(arrival_delay_plot.encoding.x['title'])).encode(\"utf-8\")+b\"5ac1\").hexdigest() == \"9e48c1ff65bd936247b977c76732f62c06f3fa49\", \"type of arrival_delay_plot.encoding.x['title'] is not str. arrival_delay_plot.encoding.x['title'] should be an str\"\n",
    "assert sha1(str(len(arrival_delay_plot.encoding.x['title'])).encode(\"utf-8\")+b\"5ac1\").hexdigest() == \"3f36ff4a44a27a41156a8ff68711a1205dce0c62\", \"length of arrival_delay_plot.encoding.x['title'] is not correct\"\n",
    "assert sha1(str(arrival_delay_plot.encoding.x['title'].lower()).encode(\"utf-8\")+b\"5ac1\").hexdigest() == \"129661a2ec5ea4749727af6707def7584fb3b5f5\", \"value of arrival_delay_plot.encoding.x['title'] is not correct\"\n",
    "assert sha1(str(arrival_delay_plot.encoding.x['title']).encode(\"utf-8\")+b\"5ac1\").hexdigest() == \"00d375f6d987e249c4e0ee5bb0e85532d79b6318\", \"correct string value of arrival_delay_plot.encoding.x['title'] but incorrect case of letters\"\n",
    "\n",
    "assert sha1(str(type(arrival_delay_plot.encoding.y['title'])).encode(\"utf-8\")+b\"5ac2\").hexdigest() == \"20b34b4c5bf6835b0bdde2c9326f39fe38f90ff4\", \"type of arrival_delay_plot.encoding.y['title'] is not str. arrival_delay_plot.encoding.y['title'] should be an str\"\n",
    "assert sha1(str(len(arrival_delay_plot.encoding.y['title'])).encode(\"utf-8\")+b\"5ac2\").hexdigest() == \"359ebead2fa9e1c28ff3e74d8e3c9cc6f02076b6\", \"length of arrival_delay_plot.encoding.y['title'] is not correct\"\n",
    "assert sha1(str(arrival_delay_plot.encoding.y['title'].lower()).encode(\"utf-8\")+b\"5ac2\").hexdigest() == \"d7e81736bb65aec2e8a5c0dc86afe60f0225c98b\", \"value of arrival_delay_plot.encoding.y['title'] is not correct\"\n",
    "assert sha1(str(arrival_delay_plot.encoding.y['title']).encode(\"utf-8\")+b\"5ac2\").hexdigest() == \"a45905c9d560a2940a8801dff3bbd3428e63d20c\", \"correct string value of arrival_delay_plot.encoding.y['title'] but incorrect case of letters\"\n",
    "\n",
    "assert sha1(str(type(arrival_delay_plot.encoding.x['shorthand'])).encode(\"utf-8\")+b\"5ac3\").hexdigest() == \"0093e11d129d477fbfb12a0f0b95ab01513f4a9c\", \"type of arrival_delay_plot.encoding.x['shorthand'] is not str. arrival_delay_plot.encoding.x['shorthand'] should be an str\"\n",
    "assert sha1(str(len(arrival_delay_plot.encoding.x['shorthand'])).encode(\"utf-8\")+b\"5ac3\").hexdigest() == \"f28190811225d4acadfa293099c69eb5a8ac0109\", \"length of arrival_delay_plot.encoding.x['shorthand'] is not correct\"\n",
    "assert sha1(str(arrival_delay_plot.encoding.x['shorthand'].lower()).encode(\"utf-8\")+b\"5ac3\").hexdigest() == \"00d0db78285a4b15b59245ae3265a20ae0b1093e\", \"value of arrival_delay_plot.encoding.x['shorthand'] is not correct\"\n",
    "assert sha1(str(arrival_delay_plot.encoding.x['shorthand']).encode(\"utf-8\")+b\"5ac3\").hexdigest() == \"c2ecd1e3c8686ecac8641fe9738435ce590f5ee7\", \"correct string value of arrival_delay_plot.encoding.x['shorthand'] but incorrect case of letters\"\n",
    "\n",
    "assert sha1(str(type(arrival_delay_plot.encoding.y['shorthand'])).encode(\"utf-8\")+b\"5ac4\").hexdigest() == \"1a9d23c967a147922df77fd6e19c995c2c4d2a34\", \"type of arrival_delay_plot.encoding.y['shorthand'] is not str. arrival_delay_plot.encoding.y['shorthand'] should be an str\"\n",
    "assert sha1(str(len(arrival_delay_plot.encoding.y['shorthand'])).encode(\"utf-8\")+b\"5ac4\").hexdigest() == \"6e39f1bde7a4099e1b2a924a3ae1570968b0d900\", \"length of arrival_delay_plot.encoding.y['shorthand'] is not correct\"\n",
    "assert sha1(str(arrival_delay_plot.encoding.y['shorthand'].lower()).encode(\"utf-8\")+b\"5ac4\").hexdigest() == \"cc02476194f9695fcf0caa3b6d6762b8a2a84b1e\", \"value of arrival_delay_plot.encoding.y['shorthand'] is not correct\"\n",
    "assert sha1(str(arrival_delay_plot.encoding.y['shorthand']).encode(\"utf-8\")+b\"5ac4\").hexdigest() == \"a69ad692a38dcc7ba859982a81cb0a06514ca2ba\", \"correct string value of arrival_delay_plot.encoding.y['shorthand'] but incorrect case of letters\"\n",
    "\n",
    "print('Success!')"
   ]
  },
  {
   "cell_type": "markdown",
   "metadata": {
    "deletable": false,
    "editable": false,
    "nbgrader": {
     "cell_type": "markdown",
     "checksum": "cb3145e18d9024bcda96909fc6e92e01",
     "grade": false,
     "grade_id": "cell-86568c7e0a844a14",
     "locked": true,
     "schema_version": 3,
     "solution": false,
     "task": false
    }
   },
   "source": [
    "**Question 4.6**\n",
    "<br> {points: 1}\n",
    "\n",
    "Plot the **departure** delay time data as a histogram with the same format as the previous plot. **Hint:** copy and paste your code from the previous block! The only thing that will change is column from `delay_data` that you use for the x-axis.\n",
    "\n",
    "*Assign the output of altair plot to an object called* `departure_delay_plot`."
   ]
  },
  {
   "cell_type": "code",
   "execution_count": null,
   "metadata": {
    "deletable": false,
    "nbgrader": {
     "cell_type": "code",
     "checksum": "4a0396a260a551bcfc3f4afc99c31174",
     "grade": false,
     "grade_id": "cell-806e4299bc42a0fd",
     "locked": false,
     "schema_version": 3,
     "solution": true,
     "task": false
    }
   },
   "outputs": [],
   "source": [
    "# delay_data = delay_data.assign(\n",
    "#     DEPARTURE_DELAY_hr = ___\n",
    "# )\n",
    "# departure_delay_plot = ___ \n",
    "\n",
    "# your code here\n",
    "raise NotImplementedError\n",
    "departure_delay_plot"
   ]
  },
  {
   "cell_type": "code",
   "execution_count": null,
   "metadata": {
    "deletable": false,
    "editable": false,
    "nbgrader": {
     "cell_type": "code",
     "checksum": "565e5748e0af1b9cc21d04a171508c7b",
     "grade": true,
     "grade_id": "cell-1389a9deb7b3bcce",
     "locked": true,
     "points": 1,
     "schema_version": 3,
     "solution": false,
     "task": false
    }
   },
   "outputs": [],
   "source": [
    "from hashlib import sha1\n",
    "assert sha1(str(type(departure_delay_plot.mark)).encode(\"utf-8\")+b\"b693f\").hexdigest() == \"e22cb2b3001cf4a724148a13101b4f1d1a220245\", \"type of departure_delay_plot.mark is not str. departure_delay_plot.mark should be an str\"\n",
    "assert sha1(str(len(departure_delay_plot.mark)).encode(\"utf-8\")+b\"b693f\").hexdigest() == \"1018c8320c0276c6265542b9c4badbed40e05865\", \"length of departure_delay_plot.mark is not correct\"\n",
    "assert sha1(str(departure_delay_plot.mark.lower()).encode(\"utf-8\")+b\"b693f\").hexdigest() == \"736ac9e3b4ddaabca2dc701c66bc605dc20fcd3b\", \"value of departure_delay_plot.mark is not correct\"\n",
    "assert sha1(str(departure_delay_plot.mark).encode(\"utf-8\")+b\"b693f\").hexdigest() == \"736ac9e3b4ddaabca2dc701c66bc605dc20fcd3b\", \"correct string value of departure_delay_plot.mark but incorrect case of letters\"\n",
    "\n",
    "assert sha1(str(type(departure_delay_plot.encoding.x['title'])).encode(\"utf-8\")+b\"b6940\").hexdigest() == \"5ff7fc5c97feec4f115c4c2a5eac8bf6820a8515\", \"type of departure_delay_plot.encoding.x['title'] is not str. departure_delay_plot.encoding.x['title'] should be an str\"\n",
    "assert sha1(str(len(departure_delay_plot.encoding.x['title'])).encode(\"utf-8\")+b\"b6940\").hexdigest() == \"2ec63e87919e5fcf730bc49e4d2a9d17e819f39f\", \"length of departure_delay_plot.encoding.x['title'] is not correct\"\n",
    "assert sha1(str(departure_delay_plot.encoding.x['title'].lower()).encode(\"utf-8\")+b\"b6940\").hexdigest() == \"073a6a1869d77a63166aedc9a4bf73765814cadc\", \"value of departure_delay_plot.encoding.x['title'] is not correct\"\n",
    "assert sha1(str(departure_delay_plot.encoding.x['title']).encode(\"utf-8\")+b\"b6940\").hexdigest() == \"99ef23b31517d96fcd5ae93945de5b9413ae724d\", \"correct string value of departure_delay_plot.encoding.x['title'] but incorrect case of letters\"\n",
    "\n",
    "assert sha1(str(type(departure_delay_plot.encoding.y['title'])).encode(\"utf-8\")+b\"b6941\").hexdigest() == \"a25cc41c44b77341969d48a9367768a82338f742\", \"type of departure_delay_plot.encoding.y['title'] is not str. departure_delay_plot.encoding.y['title'] should be an str\"\n",
    "assert sha1(str(len(departure_delay_plot.encoding.y['title'])).encode(\"utf-8\")+b\"b6941\").hexdigest() == \"df0d9d69a983068c009e2d7da481f2528e618da5\", \"length of departure_delay_plot.encoding.y['title'] is not correct\"\n",
    "assert sha1(str(departure_delay_plot.encoding.y['title'].lower()).encode(\"utf-8\")+b\"b6941\").hexdigest() == \"1417fc203f6875be68704d2674c6bb090b75f564\", \"value of departure_delay_plot.encoding.y['title'] is not correct\"\n",
    "assert sha1(str(departure_delay_plot.encoding.y['title']).encode(\"utf-8\")+b\"b6941\").hexdigest() == \"8dba3dfaecbaea977d68af1adbbbb7dd7aeeb214\", \"correct string value of departure_delay_plot.encoding.y['title'] but incorrect case of letters\"\n",
    "\n",
    "assert sha1(str(type(departure_delay_plot.encoding.x['shorthand'])).encode(\"utf-8\")+b\"b6942\").hexdigest() == \"ac59372f86033a174399fe9bd607e5c70bec35a1\", \"type of departure_delay_plot.encoding.x['shorthand'] is not str. departure_delay_plot.encoding.x['shorthand'] should be an str\"\n",
    "assert sha1(str(len(departure_delay_plot.encoding.x['shorthand'])).encode(\"utf-8\")+b\"b6942\").hexdigest() == \"089b42a13f61ac66acbbf9365cf7f72cb4736120\", \"length of departure_delay_plot.encoding.x['shorthand'] is not correct\"\n",
    "assert sha1(str(departure_delay_plot.encoding.x['shorthand'].lower()).encode(\"utf-8\")+b\"b6942\").hexdigest() == \"38f467945dd67da257dc34f7f75a03fdc3a6b23d\", \"value of departure_delay_plot.encoding.x['shorthand'] is not correct\"\n",
    "assert sha1(str(departure_delay_plot.encoding.x['shorthand']).encode(\"utf-8\")+b\"b6942\").hexdigest() == \"45990de46bce33ce898af8e26c3e7a63f02c04ec\", \"correct string value of departure_delay_plot.encoding.x['shorthand'] but incorrect case of letters\"\n",
    "\n",
    "assert sha1(str(type(departure_delay_plot.encoding.y['shorthand'])).encode(\"utf-8\")+b\"b6943\").hexdigest() == \"a699220585971997a00a2241995c52bc49e08081\", \"type of departure_delay_plot.encoding.y['shorthand'] is not str. departure_delay_plot.encoding.y['shorthand'] should be an str\"\n",
    "assert sha1(str(len(departure_delay_plot.encoding.y['shorthand'])).encode(\"utf-8\")+b\"b6943\").hexdigest() == \"82e0ddc4ff3113bee8c2cc50e702118ad2dec4b6\", \"length of departure_delay_plot.encoding.y['shorthand'] is not correct\"\n",
    "assert sha1(str(departure_delay_plot.encoding.y['shorthand'].lower()).encode(\"utf-8\")+b\"b6943\").hexdigest() == \"04d71e357b0f66e02ad91f50cea06eca7277f0fb\", \"value of departure_delay_plot.encoding.y['shorthand'] is not correct\"\n",
    "assert sha1(str(departure_delay_plot.encoding.y['shorthand']).encode(\"utf-8\")+b\"b6943\").hexdigest() == \"f41d01610289127b8183978b1de2b6e78b1cf7c8\", \"correct string value of departure_delay_plot.encoding.y['shorthand'] but incorrect case of letters\"\n",
    "\n",
    "print('Success!')"
   ]
  },
  {
   "cell_type": "markdown",
   "metadata": {
    "deletable": false,
    "editable": false,
    "nbgrader": {
     "cell_type": "markdown",
     "checksum": "b88cdb584585fa695b2e5be0ffcdf3f6",
     "grade": false,
     "grade_id": "cell-6657febeb798f228",
     "locked": true,
     "schema_version": 3,
     "solution": false,
     "task": false
    }
   },
   "source": [
    "**Question 4.7**\n",
    "<br> {points: 1}\n",
    "\n",
    "Look at the two plots you generated. Are departures from or arrivals to `BOS` more likely to be on time? Note that \"on time\" is defined as being at most 15 minutes ahead or behind the scheduled time.\n",
    "\n",
    "*Hint: Remember that each bin is 15 min (0.25 hours) wide.*\n",
    "\n",
    "_Assign your answer (either `\"departures\"` or `\"arrivals\"`) to an object called `answer4_7`._"
   ]
  },
  {
   "cell_type": "code",
   "execution_count": null,
   "metadata": {
    "deletable": false,
    "nbgrader": {
     "cell_type": "code",
     "checksum": "7348f9f672762e039ba7015bd9e220c1",
     "grade": false,
     "grade_id": "cell-2abe63d9b3bb7dd0",
     "locked": false,
     "schema_version": 3,
     "solution": true,
     "task": false
    }
   },
   "outputs": [],
   "source": [
    "# your code here\n",
    "raise NotImplementedError"
   ]
  },
  {
   "cell_type": "code",
   "execution_count": null,
   "metadata": {
    "deletable": false,
    "editable": false,
    "nbgrader": {
     "cell_type": "code",
     "checksum": "495c4ef8997b8269467489e998dc995e",
     "grade": true,
     "grade_id": "cell-5e0e102e3ce475fd",
     "locked": true,
     "points": 1,
     "schema_version": 3,
     "solution": false,
     "task": false
    }
   },
   "outputs": [],
   "source": [
    "from hashlib import sha1\n",
    "assert sha1(str(type(answer4_7)).encode(\"utf-8\")+b\"c3d34\").hexdigest() == \"9ab9755738e3e4b5646c5357d5e0ed32ccd3328b\", \"type of answer4_7 is not str. answer4_7 should be an str\"\n",
    "assert sha1(str(len(answer4_7)).encode(\"utf-8\")+b\"c3d34\").hexdigest() == \"d563aa33f2aecea0f1d7bc21278a86669739b51c\", \"length of answer4_7 is not correct\"\n",
    "assert sha1(str(answer4_7.lower()).encode(\"utf-8\")+b\"c3d34\").hexdigest() == \"b46a5948200312f0fc13e9dcc8408d28c7e0320c\", \"value of answer4_7 is not correct\"\n",
    "assert sha1(str(answer4_7).encode(\"utf-8\")+b\"c3d34\").hexdigest() == \"b46a5948200312f0fc13e9dcc8408d28c7e0320c\", \"correct string value of answer4_7 but incorrect case of letters\"\n",
    "\n",
    "print('Success!')"
   ]
  },
  {
   "cell_type": "markdown",
   "metadata": {
    "deletable": false,
    "editable": false,
    "nbgrader": {
     "cell_type": "markdown",
     "checksum": "627c42d67032f5364fd38c1a1484d573",
     "grade": false,
     "grade_id": "cell-c35956f1f27af2ea",
     "locked": true,
     "schema_version": 3,
     "solution": false,
     "task": false
    }
   },
   "source": [
    "**Question 4.8**\n",
    "<br>{points: 1}\n",
    "\n",
    "Use the `to_csv` method to write the dataframe to a file called `delay_data.csv`. Save the file in the `data/` folder and specify `index=False` to avoid including the numerical index in the file.\n",
    "\n",
    "*Note: there are many possible ways to use `to_csv` to customize the output. Just use the defaults here!*"
   ]
  },
  {
   "cell_type": "code",
   "execution_count": null,
   "metadata": {
    "lines_to_next_cell": 2
   },
   "outputs": [],
   "source": [
    "# If you don't know how to call collect or write_csv, use this cell to\n",
    "# check the documentation by calling ?pd.DataFrame.to_csv"
   ]
  },
  {
   "cell_type": "code",
   "execution_count": null,
   "metadata": {
    "deletable": false,
    "nbgrader": {
     "cell_type": "code",
     "checksum": "9df8c65029a49ff7f5af6b3b6b25d2ee",
     "grade": false,
     "grade_id": "cell-317f2b694425e7ad",
     "locked": false,
     "schema_version": 3,
     "solution": true,
     "task": false
    }
   },
   "outputs": [],
   "source": [
    "# pd.DataFrame.to_csv(___, ___)\n",
    "\n",
    "# your code here\n",
    "raise NotImplementedError"
   ]
  },
  {
   "cell_type": "code",
   "execution_count": null,
   "metadata": {
    "deletable": false,
    "editable": false,
    "nbgrader": {
     "cell_type": "code",
     "checksum": "b4f2d19e85b43b6d4e344d201a57022a",
     "grade": true,
     "grade_id": "cell-ba229a7094676d0f",
     "locked": true,
     "points": 1,
     "schema_version": 3,
     "solution": false,
     "task": false
    }
   },
   "outputs": [],
   "source": [
    "from hashlib import sha1\n",
    "assert sha1(str(type(os.path.exists('data/delay_data.csv'))).encode(\"utf-8\")+b\"89e0\").hexdigest() == \"392caca74352c591bc6016018a9af09f9edc433a\", \"type of os.path.exists('data/delay_data.csv') is not bool. os.path.exists('data/delay_data.csv') should be a bool\"\n",
    "assert sha1(str(os.path.exists('data/delay_data.csv')).encode(\"utf-8\")+b\"89e0\").hexdigest() == \"0beb3da636226fa40eee8fafe0358a7bd7618b46\", \"boolean value of os.path.exists('data/delay_data.csv') is not correct\"\n",
    "\n",
    "assert sha1(str(type(pd.read_csv('data/delay_data.csv').sum())).encode(\"utf-8\")+b\"89e1\").hexdigest() == \"92540987bfa75944ca400b1823e34b0b363e35bc\", \"type of pd.read_csv('data/delay_data.csv').sum() is not correct\"\n",
    "assert sha1(str(pd.read_csv('data/delay_data.csv').sum()).encode(\"utf-8\")+b\"89e1\").hexdigest() == \"7eedf7a9ceb6dd23b90ae94cc27ab58dd0bfb842\", \"value of pd.read_csv('data/delay_data.csv').sum() is not correct\"\n",
    "\n",
    "print('Success!')"
   ]
  },
  {
   "cell_type": "code",
   "execution_count": null,
   "metadata": {
    "deletable": false,
    "editable": false,
    "nbgrader": {
     "cell_type": "code",
     "checksum": "4d626e753b69e3979d687c8886190667",
     "grade": false,
     "grade_id": "cell-deef0dceb7f4c945",
     "locked": true,
     "schema_version": 3,
     "solution": false,
     "task": false
    }
   },
   "outputs": [],
   "source": [
    "try:\n",
    "    os.remove(\"data/delay_data.csv\")\n",
    "except:\n",
    "    None"
   ]
  },
  {
   "cell_type": "markdown",
   "metadata": {
    "deletable": false,
    "editable": false,
    "nbgrader": {
     "cell_type": "markdown",
     "checksum": "059b3c88eb9be3ddc6a5cef0d125b3e5",
     "grade": false,
     "grade_id": "cell-f038e8a1f963597e",
     "locked": true,
     "schema_version": 3,
     "solution": false,
     "task": false
    }
   },
   "source": [
    "## 5 (Optional). Reading Data from the Internet\n",
    "\n",
    "### How has the World Gross Domestic product changed throughout history?\n",
    "\n",
    "\n",
    "As defined on Wikipedia, the \"Gross world product (GWP) is the combined gross national product of all the countries in the world.\" Living in our modern age with our roaring (sometimes up and sometimes down) economies, one might wonder how the world economy has changed over history. To answer this question we will scrape data from the [Wikipedia Gross world product page](https://en.wikipedia.org/wiki/Gross_world_product).\n",
    "\n",
    "Your data set will include the following columns: \n",
    "* `year`\n",
    "* `gwp_value`\n",
    "\n",
    "Specifically we will scrape the 2 columns named \"Year\" and \"Real GWP\" in the table under the header \"Historical and prehistorical estimates\". **The end goal of this exercise is to create a line plot with year on the x-axis and GWP value on the y-axis.**"
   ]
  },
  {
   "cell_type": "markdown",
   "metadata": {
    "deletable": false,
    "editable": false,
    "nbgrader": {
     "cell_type": "markdown",
     "checksum": "43ec8d7f2f6c7630560993a2c8dfc60c",
     "grade": false,
     "grade_id": "cell-f2713fa0d78ca175",
     "locked": true,
     "schema_version": 3,
     "solution": false,
     "task": false
    }
   },
   "source": [
    "**Question 5.1.0** Multiple Choice: \n",
    "<br> {points: 0}\n",
    "\n",
    "Under which of the following headers in the table will we scrape from on the [Wikipedia Gross world product page](https://en.wikipedia.org/wiki/Gross_world_product)?\n",
    "\n",
    "A. Gross world product\n",
    "\n",
    "B. Recent growth\n",
    "\n",
    "C. Historical and prehistorical estimates\n",
    "\n",
    "D. See also\n",
    "\n",
    "*Assign your answer to an object called `answer5_1_0`. Make sure your answer is an uppercase letter and is surrounded by quotation marks (e.g. `\"F\"`).* "
   ]
  },
  {
   "cell_type": "code",
   "execution_count": null,
   "metadata": {
    "deletable": false,
    "nbgrader": {
     "cell_type": "code",
     "checksum": "4c1f9b352553e4037c03f15b8c58eb98",
     "grade": false,
     "grade_id": "cell-9014b8f73a269598",
     "locked": false,
     "schema_version": 3,
     "solution": true,
     "task": false
    }
   },
   "outputs": [],
   "source": [
    "# your code here\n",
    "raise NotImplementedError"
   ]
  },
  {
   "cell_type": "code",
   "execution_count": null,
   "metadata": {
    "deletable": false,
    "editable": false,
    "nbgrader": {
     "cell_type": "code",
     "checksum": "91ae8e1438cb4e02598aba0d318e3d3f",
     "grade": true,
     "grade_id": "cell-23f53baed109b8c8",
     "locked": true,
     "points": 0,
     "schema_version": 3,
     "solution": false,
     "task": false
    }
   },
   "outputs": [],
   "source": [
    "from hashlib import sha1\n",
    "assert sha1(str(type(answer5_1_0)).encode(\"utf-8\")+b\"24f05\").hexdigest() == \"67099472f656e2c6f390dd68b40cbc57e2ba1605\", \"type of answer5_1_0 is not str. answer5_1_0 should be an str\"\n",
    "assert sha1(str(len(answer5_1_0)).encode(\"utf-8\")+b\"24f05\").hexdigest() == \"ba16b1f03083eb74b1c277ac0009a8d131717463\", \"length of answer5_1_0 is not correct\"\n",
    "assert sha1(str(answer5_1_0.lower()).encode(\"utf-8\")+b\"24f05\").hexdigest() == \"e21122aeb1b215d5fa87518542268ae60a7da041\", \"value of answer5_1_0 is not correct\"\n",
    "assert sha1(str(answer5_1_0).encode(\"utf-8\")+b\"24f05\").hexdigest() == \"680d138a68f1db1fd309b4f69993297dac4f3434\", \"correct string value of answer5_1_0 but incorrect case of letters\"\n",
    "\n",
    "print('Success!')"
   ]
  },
  {
   "cell_type": "markdown",
   "metadata": {
    "deletable": false,
    "editable": false,
    "nbgrader": {
     "cell_type": "markdown",
     "checksum": "c2b639e8e104edcaa04474a14d98a4a3",
     "grade": false,
     "grade_id": "cell-f920cb84f6e8944d",
     "locked": true,
     "schema_version": 3,
     "solution": false,
     "task": false
    }
   },
   "source": [
    "**Question 5.1.1** Multiple Choice: \n",
    "<br> {points: 0}\n",
    "\n",
    "What is going to be the x-axis of the scatter plot we create?\n",
    "\n",
    "A. compound annual growth rate\n",
    "\n",
    "B. the value of the gross world product\n",
    "\n",
    "C. year\n",
    "\n",
    "*Assign your answer to an object called `answer5_1_1`. Make sure your answer is an uppercase letter and is surrounded by quotation marks (e.g. `\"F\"`).* "
   ]
  },
  {
   "cell_type": "code",
   "execution_count": null,
   "metadata": {
    "deletable": false,
    "nbgrader": {
     "cell_type": "code",
     "checksum": "b1fe5be98b34ca81ddfde3d48a63a99a",
     "grade": false,
     "grade_id": "cell-09fc2b26ac527015",
     "locked": false,
     "schema_version": 3,
     "solution": true,
     "task": false
    }
   },
   "outputs": [],
   "source": [
    "# your code here\n",
    "raise NotImplementedError"
   ]
  },
  {
   "cell_type": "code",
   "execution_count": null,
   "metadata": {
    "deletable": false,
    "editable": false,
    "nbgrader": {
     "cell_type": "code",
     "checksum": "b6b7b023781ae850b1323c69a080adcd",
     "grade": true,
     "grade_id": "cell-3e8412c02d763ddf",
     "locked": true,
     "points": 0,
     "schema_version": 3,
     "solution": false,
     "task": false
    }
   },
   "outputs": [],
   "source": [
    "from hashlib import sha1\n",
    "assert sha1(str(type(answer5_1_1)).encode(\"utf-8\")+b\"bddc5\").hexdigest() == \"a0ee509767e053e1d662505411e83da62e945cd0\", \"type of answer5_1_1 is not str. answer5_1_1 should be an str\"\n",
    "assert sha1(str(len(answer5_1_1)).encode(\"utf-8\")+b\"bddc5\").hexdigest() == \"5bac244e4fff786bbec2bfcd2b0acd386630e5fc\", \"length of answer5_1_1 is not correct\"\n",
    "assert sha1(str(answer5_1_1.lower()).encode(\"utf-8\")+b\"bddc5\").hexdigest() == \"9126e40c031f381754e8f83fd451d1b3cdded764\", \"value of answer5_1_1 is not correct\"\n",
    "assert sha1(str(answer5_1_1).encode(\"utf-8\")+b\"bddc5\").hexdigest() == \"afe4c423df10a90e712d6c5826c99750b2e7dbda\", \"correct string value of answer5_1_1 but incorrect case of letters\"\n",
    "\n",
    "print('Success!')"
   ]
  },
  {
   "cell_type": "markdown",
   "metadata": {
    "deletable": false,
    "editable": false,
    "nbgrader": {
     "cell_type": "markdown",
     "checksum": "371079d4c01b24ed14ca1265959ff8b5",
     "grade": false,
     "grade_id": "cell-98dab9f796764883",
     "locked": true,
     "schema_version": 3,
     "solution": false,
     "task": false
    }
   },
   "source": [
    "We need to now load the `BeautifulSoup` and `requests` package to begin our web scraping!"
   ]
  },
  {
   "cell_type": "code",
   "execution_count": null,
   "metadata": {
    "deletable": false,
    "editable": false,
    "nbgrader": {
     "cell_type": "code",
     "checksum": "c3a691ab0db6376fc3918f12efd89736",
     "grade": false,
     "grade_id": "cell-5c4120dd33e96704",
     "locked": true,
     "schema_version": 3,
     "solution": false,
     "task": false
    }
   },
   "outputs": [],
   "source": [
    "# Run this cell\n",
    "import requests\n",
    "from bs4 import BeautifulSoup"
   ]
  },
  {
   "cell_type": "markdown",
   "metadata": {
    "deletable": false,
    "editable": false,
    "nbgrader": {
     "cell_type": "markdown",
     "checksum": "366acf04d7b28d534bf3ffb313d1c8d9",
     "grade": false,
     "grade_id": "cell-2e1088d94c071532",
     "locked": true,
     "schema_version": 3,
     "solution": false,
     "task": false
    }
   },
   "source": [
    "**Question 5.2**\n",
    "<br> {points: 0}\n",
    "\n",
    "To download information from the URL, we should create a `BeautifulSoup` object using the url given in the cell below. We need to use the `.get` function from `request` package to get the url and then pass it into `BeautifulSoup` function.\n",
    "\n",
    "*Assign your answer to an object called `gwp`.*"
   ]
  },
  {
   "cell_type": "code",
   "execution_count": null,
   "metadata": {
    "deletable": false,
    "nbgrader": {
     "cell_type": "code",
     "checksum": "1a2f138948eb19fb04a947cef0c4578f",
     "grade": false,
     "grade_id": "cell-ac271e91bb5e69e8",
     "locked": false,
     "schema_version": 3,
     "solution": true,
     "task": false
    }
   },
   "outputs": [],
   "source": [
    "url = \"https://en.wikipedia.org/wiki/Gross_world_product\"\n",
    "\n",
    "# your code here\n",
    "raise NotImplementedError"
   ]
  },
  {
   "cell_type": "code",
   "execution_count": null,
   "metadata": {
    "deletable": false,
    "editable": false,
    "nbgrader": {
     "cell_type": "code",
     "checksum": "ccc7b2b896314c37846c2c0df585ef5b",
     "grade": true,
     "grade_id": "cell-70aac0a17c2d3ce8",
     "locked": true,
     "points": 0,
     "schema_version": 3,
     "solution": false,
     "task": false
    }
   },
   "outputs": [],
   "source": [
    "from hashlib import sha1\n",
    "assert sha1(str(type(gwp.__module__ == 'bs4')).encode(\"utf-8\")+b\"12bf4\").hexdigest() == \"4537d87aeedc94d23c25bc588e7f34f6bfe4f5e3\", \"type of gwp.__module__ == 'bs4' is not bool. gwp.__module__ == 'bs4' should be a bool\"\n",
    "assert sha1(str(gwp.__module__ == 'bs4').encode(\"utf-8\")+b\"12bf4\").hexdigest() == \"1f391b3fbe68a92825be67bc47e8fd2d19225754\", \"boolean value of gwp.__module__ == 'bs4' is not correct\"\n",
    "\n",
    "assert sha1(str(type(len(gwp.find_all(\"table\")))).encode(\"utf-8\")+b\"12bf5\").hexdigest() == \"6a8802dc2f757db97fac98c0c0f11db5355cb5a3\", \"type of len(gwp.find_all(\\\"table\\\")) is not int. Please make sure it is int and not np.int64, etc. You can cast your value into an int using int()\"\n",
    "assert sha1(str(len(gwp.find_all(\"table\"))).encode(\"utf-8\")+b\"12bf5\").hexdigest() == \"2f2c844675507ed0d7e22eca53462ce397040139\", \"value of len(gwp.find_all(\\\"table\\\")) is not correct\"\n",
    "\n",
    "print('Success!')"
   ]
  },
  {
   "cell_type": "markdown",
   "metadata": {
    "deletable": false,
    "editable": false,
    "nbgrader": {
     "cell_type": "markdown",
     "checksum": "7129ffcaa9747d97df7ddc768a9793bd",
     "grade": false,
     "grade_id": "cell-2234b2d30087a603",
     "locked": true,
     "schema_version": 3,
     "solution": false,
     "task": false
    }
   },
   "source": [
    "**Question 5.3**\n",
    "\n",
    "Run the cell below to create the first column of your data set (the year from the table under the \"Historical and prehistorical estimates\" header). The node was obtained using `CSS selector`. "
   ]
  },
  {
   "cell_type": "code",
   "execution_count": null,
   "metadata": {
    "deletable": false,
    "editable": false,
    "nbgrader": {
     "cell_type": "code",
     "checksum": "27673aa65cce5131b39c42ee34be25a6",
     "grade": false,
     "grade_id": "cell-d58e889638d61873",
     "locked": true,
     "schema_version": 3,
     "solution": false,
     "task": false
    }
   },
   "outputs": [],
   "source": [
    "# Run this cell to create the first column for your data set.\n",
    "\n",
    "year = pd.DataFrame(\n",
    "    [\n",
    "        row.get_text()  # get the content of each rows that extracted from the table\n",
    "        for row in gwp.select(\n",
    "            \".wikitable tbody:nth-child(1) td:nth-child(1)\"\n",
    "        )  # get each rows in the table\n",
    "    ],\n",
    "    columns=[\"year\"],  # set the column name\n",
    ")\n",
    "year.head()"
   ]
  },
  {
   "cell_type": "markdown",
   "metadata": {
    "deletable": false,
    "editable": false,
    "nbgrader": {
     "cell_type": "markdown",
     "checksum": "195a0921842635898d51ce4a677915b7",
     "grade": false,
     "grade_id": "cell-5017ed82d1225440",
     "locked": true,
     "schema_version": 3,
     "solution": false,
     "task": false
    }
   },
   "source": [
    "We can see that although we want numbers for the year, the data we scraped includes the characters `CE` and `\\n` (a newline character). We will have to do some string manipulation and then convert the years from characters to numbers. \n",
    "\n",
    "First we use the `replace` function to match the regex representation for string `\" CE\\n\"` and replace it with nothing `\"\"`:"
   ]
  },
  {
   "cell_type": "code",
   "execution_count": null,
   "metadata": {
    "deletable": false,
    "editable": false,
    "nbgrader": {
     "cell_type": "code",
     "checksum": "68aa45a86df89a3798b3e39c26ea5452",
     "grade": false,
     "grade_id": "cell-6ec2fdfaf8589ac4",
     "locked": true,
     "schema_version": 3,
     "solution": false,
     "task": false
    }
   },
   "outputs": [],
   "source": [
    "year = year.replace(\" CE\\n\", \"\", regex=True)\n",
    "year.head()"
   ]
  },
  {
   "cell_type": "markdown",
   "metadata": {
    "deletable": false,
    "editable": false,
    "nbgrader": {
     "cell_type": "markdown",
     "checksum": "eac779bbba085dcccbdbcc710e74de99",
     "grade": false,
     "grade_id": "cell-a59dce30f27441db",
     "locked": true,
     "schema_version": 3,
     "solution": false,
     "task": false
    }
   },
   "source": [
    "When we print year, we can see we were able to remove `\" CE\\n\"`, but we missed that there is also `\" BCE\\n\"` on the earliest years! There are also commas (`\",\"`) in the large BC years that we will have to remove. We also need to put a `-` sign in front of the BC numbers so we don't confuse them with the AD numbers after we convert everything to numbers. To do this we will need to use a similar strategy to clean this all up! \n",
    "\n",
    "This week we will provide you the code to do this cleaning, next week you will learn to do these kinds of things yourself. After we do all the string/text manipulation then we use the `astype(int)` function to convert the text to integers."
   ]
  },
  {
   "cell_type": "code",
   "execution_count": null,
   "metadata": {
    "deletable": false,
    "editable": false,
    "nbgrader": {
     "cell_type": "code",
     "checksum": "7b050eda7cf9284fe8d6cd3baad88d88",
     "grade": false,
     "grade_id": "cell-5f56ac2571cf0dea",
     "locked": true,
     "schema_version": 3,
     "solution": false,
     "task": false
    }
   },
   "outputs": [],
   "source": [
    "# select the lines containing \" BC\\n\" and put a - at the beginning of them.\n",
    "\n",
    "year[year[\"year\"].str.contains(\" BCE\\n\", regex=True)] = \"-\" + year[\n",
    "    year[\"year\"].str.contains(\" BCE\\n\", regex=True)\n",
    "].replace(\" BCE\\n\", \"\", regex=True)\n",
    "\n",
    "\n",
    "year"
   ]
  },
  {
   "cell_type": "code",
   "execution_count": null,
   "metadata": {
    "deletable": false,
    "editable": false,
    "nbgrader": {
     "cell_type": "code",
     "checksum": "bf7616f5e6287931174970c316783417",
     "grade": false,
     "grade_id": "cell-17f4637ad6306778",
     "locked": true,
     "schema_version": 3,
     "solution": false,
     "task": false
    }
   },
   "outputs": [],
   "source": [
    "# Replace all commas with nothing and change them to integers\n",
    "year = year.replace(\",\", \"\", regex=True).astype(int)\n",
    "year"
   ]
  },
  {
   "cell_type": "markdown",
   "metadata": {
    "deletable": false,
    "editable": false,
    "nbgrader": {
     "cell_type": "markdown",
     "checksum": "828f3454c4524fb8b7c9b7e71cd06b3b",
     "grade": false,
     "grade_id": "cell-5534fe310273b2d8",
     "locked": true,
     "schema_version": 3,
     "solution": false,
     "task": false
    }
   },
   "source": [
    "**Question 5.4**\n",
    "<br> {points: 0}\n",
    "\n",
    "Create a new column for the gross world product (GWP) from the table we are scraping. Don't forget to use `CCS selector` to obtain the CSS selector needed to scrape the GWP values from the table we are scraping. Assign your answer to an object called `gwp_value`. \n",
    "\n",
    "Fill in the `___` in the cell below. \n",
    "\n",
    "Refer to **Question 5.3** and don't be afraid to ask for help. "
   ]
  },
  {
   "cell_type": "code",
   "execution_count": null,
   "metadata": {
    "deletable": false,
    "nbgrader": {
     "cell_type": "code",
     "checksum": "e54186b65d73ec48765e6855014a0bd3",
     "grade": false,
     "grade_id": "cell-86deddef163bcc73",
     "locked": false,
     "schema_version": 3,
     "solution": true,
     "task": false
    }
   },
   "outputs": [],
   "source": [
    "# ___ = pd.DataFrame(\n",
    "#     [\n",
    "#         row.get_text()\n",
    "#         for row in gwp.select(___)\n",
    "#     ],\n",
    "#     columns=[___],\n",
    "# )\n",
    "\n",
    "# your code here\n",
    "raise NotImplementedError\n",
    "gwp_value.head()"
   ]
  },
  {
   "cell_type": "code",
   "execution_count": null,
   "metadata": {
    "deletable": false,
    "editable": false,
    "nbgrader": {
     "cell_type": "code",
     "checksum": "57b4daa6af1d9e1333a01480fcbd9129",
     "grade": true,
     "grade_id": "cell-438addc1687e3917",
     "locked": true,
     "points": 0,
     "schema_version": 3,
     "solution": false,
     "task": false
    }
   },
   "outputs": [],
   "source": [
    "from hashlib import sha1\n",
    "assert sha1(str(type(gwp_value.dtypes)).encode(\"utf-8\")+b\"de6c\").hexdigest() == \"25ed46e8bd2a7f3decfd7fe84ab61ca9a0b80a1b\", \"type of gwp_value.dtypes is not correct\"\n",
    "assert sha1(str(gwp_value.dtypes).encode(\"utf-8\")+b\"de6c\").hexdigest() == \"42b6cefa6b1b194e5fe73b0e803796dabb922a6b\", \"value of gwp_value.dtypes is not correct\"\n",
    "\n",
    "print('Success!')"
   ]
  },
  {
   "cell_type": "markdown",
   "metadata": {
    "deletable": false,
    "editable": false,
    "nbgrader": {
     "cell_type": "markdown",
     "checksum": "f2da4861b74815f6816c643958aa5f18",
     "grade": false,
     "grade_id": "cell-e1b4a2d4eaaf451c",
     "locked": true,
     "schema_version": 3,
     "solution": false,
     "task": false
    }
   },
   "source": [
    "Again, looking at the output of `gwp_value.head()` we see we have some cleaning and type conversions to do. We need to remove the commas, the extraneous trailing information in the first 3 columns, and the `\"\\n\"` character again. We provide the code to do this below:"
   ]
  },
  {
   "cell_type": "code",
   "execution_count": null,
   "metadata": {
    "deletable": false,
    "editable": false,
    "nbgrader": {
     "cell_type": "code",
     "checksum": "64d0f6b670e3ecc83fc4a6c27f3b68c2",
     "grade": false,
     "grade_id": "cell-aae7d3c8f4ba3865",
     "locked": true,
     "schema_version": 3,
     "solution": false,
     "task": false
    }
   },
   "outputs": [],
   "source": [
    "# Run this cell to clean up the year data and convert it to a number.\n",
    "\n",
    "# Replace all commas with nothing\n",
    "gwp_value = gwp_value.replace(\",\", \"\", regex=True)\n",
    "\n",
    "# Extract numerics and change strings to numeric.\n",
    "gwp_value[\"gwp_value\"] = gwp_value[\"gwp_value\"].str.extract(r\"([0-9.]+)\").astype(float)\n",
    "\n",
    "gwp_value.head()"
   ]
  },
  {
   "cell_type": "markdown",
   "metadata": {
    "deletable": false,
    "editable": false,
    "nbgrader": {
     "cell_type": "markdown",
     "checksum": "c5699cc6c3107bee59357b9f26ba3cbc",
     "grade": false,
     "grade_id": "cell-09d2f7df73b5e750",
     "locked": true,
     "schema_version": 3,
     "solution": false,
     "task": false
    }
   },
   "source": [
    "**Question 5.5**\n",
    "<br> {points: 0}\n",
    "\n",
    "Use the `pandas` `concat` function to create a data frame named `gwp` with `year` and `gwp_value` as columns. The general form for the creating data frames from dataframes horizontally using the `concat` function is as follows (`axis=1` means we are doing the concatenation horizontally):\n",
    "\n",
    "```pd.concat([COLUMN1_NAME, COLUMN2_NAME, COLUMN3_NAME, ...], axis=1)```\n"
   ]
  },
  {
   "cell_type": "code",
   "execution_count": null,
   "metadata": {
    "deletable": false,
    "nbgrader": {
     "cell_type": "code",
     "checksum": "7ceaea6486f897d9c6a00e3c63984069",
     "grade": false,
     "grade_id": "cell-0bc1cb6696cf0426",
     "locked": false,
     "schema_version": 3,
     "solution": true,
     "task": false
    }
   },
   "outputs": [],
   "source": [
    "# ___ = pd.concat(___, axis=1)\n",
    "\n",
    "# your code here\n",
    "raise NotImplementedError\n",
    "gwp.head()"
   ]
  },
  {
   "cell_type": "code",
   "execution_count": null,
   "metadata": {
    "deletable": false,
    "editable": false,
    "nbgrader": {
     "cell_type": "code",
     "checksum": "c073f5be5e6f8641138308853dea2724",
     "grade": true,
     "grade_id": "cell-3cba4415a994f8a4",
     "locked": true,
     "points": 0,
     "schema_version": 3,
     "solution": false,
     "task": false
    }
   },
   "outputs": [],
   "source": [
    "from hashlib import sha1\n",
    "assert sha1(str(type(gwp)).encode(\"utf-8\")+b\"cef6e\").hexdigest() == \"102c2ed720fae9b0ba46d944ed8f9c7b05cf8ea7\", \"type of type(gwp) is not correct\"\n",
    "\n",
    "assert sha1(str(type(\"year\" in gwp.columns)).encode(\"utf-8\")+b\"cef6f\").hexdigest() == \"0ae5457110ce5d6b9dc5a040c9e59c9d6466c9cd\", \"type of \\\"year\\\" in gwp.columns is not bool. \\\"year\\\" in gwp.columns should be a bool\"\n",
    "assert sha1(str(\"year\" in gwp.columns).encode(\"utf-8\")+b\"cef6f\").hexdigest() == \"feecdd2ba0a233f63e8435f30736e998b4256ada\", \"boolean value of \\\"year\\\" in gwp.columns is not correct\"\n",
    "\n",
    "assert sha1(str(type(\"gwp_value\" in gwp.columns)).encode(\"utf-8\")+b\"cef70\").hexdigest() == \"a1ae66d310d733f91eb77e221a086ec4675160dc\", \"type of \\\"gwp_value\\\" in gwp.columns is not bool. \\\"gwp_value\\\" in gwp.columns should be a bool\"\n",
    "assert sha1(str(\"gwp_value\" in gwp.columns).encode(\"utf-8\")+b\"cef70\").hexdigest() == \"b49c9f84a4a86e1a248a4eb043a6f0d47e564e3f\", \"boolean value of \\\"gwp_value\\\" in gwp.columns is not correct\"\n",
    "\n",
    "print('Success!')"
   ]
  },
  {
   "cell_type": "markdown",
   "metadata": {
    "deletable": false,
    "editable": false,
    "nbgrader": {
     "cell_type": "markdown",
     "checksum": "8578008b017e683d780578ab6e158b8e",
     "grade": false,
     "grade_id": "cell-503877c2d6e4925b",
     "locked": true,
     "schema_version": 3,
     "solution": false,
     "task": false
    }
   },
   "source": [
    "One last piece of data transformation/wrangling we will do before we get to data visualization is to create another column called `sqrt_year` which scales the year values so that they will be more informative when we plot them (if you look at our year data we have a lot of years in the recent past, and fewer and fewer as we go back in time). Often times you can just transform the scale within `altair` (for example see what we do with the `gwp_value` later on), but the year value is tricky for scaling because it contains negative values. So we need to first make everything positive, then take the square root, and then re-transform the values that should be negative to negative again! We provide the code to do this below."
   ]
  },
  {
   "cell_type": "markdown",
   "metadata": {
    "deletable": false,
    "editable": false,
    "nbgrader": {
     "cell_type": "markdown",
     "checksum": "4d7fd45b3294f0846ac355c8854fa1bd",
     "grade": false,
     "grade_id": "cell-5fa1e339bd0afeb2",
     "locked": true,
     "schema_version": 3,
     "solution": false,
     "task": false
    }
   },
   "source": [
    "To get the square root for a dataframe, we could use the `np.sqrt` function from the `numpy` package. And we could use `np.where` function from the `numpy` package to wrangle the data based on its values. Therefore, we would need to import the `numpy` package first. "
   ]
  },
  {
   "cell_type": "code",
   "execution_count": null,
   "metadata": {
    "deletable": false,
    "editable": false,
    "nbgrader": {
     "cell_type": "code",
     "checksum": "c108b40fa9034c4d81c36a6264d996b9",
     "grade": false,
     "grade_id": "cell-0b4d2b2a6677aab2",
     "locked": true,
     "schema_version": 3,
     "solution": false,
     "task": false
    }
   },
   "outputs": [],
   "source": [
    "import numpy as np"
   ]
  },
  {
   "cell_type": "code",
   "execution_count": null,
   "metadata": {
    "deletable": false,
    "editable": false,
    "nbgrader": {
     "cell_type": "code",
     "checksum": "28e4a12cc2e9649552edc18d2ac6e0e2",
     "grade": false,
     "grade_id": "cell-44ac8d8ce7b36e58",
     "locked": true,
     "schema_version": 3,
     "solution": false,
     "task": false
    }
   },
   "outputs": [],
   "source": [
    "gwp = gwp.assign(\n",
    "    sqrt_year=np.where(year < 0, np.sqrt(abs(year)) * -1, np.sqrt(abs(year)))\n",
    ")\n",
    "gwp.head()"
   ]
  },
  {
   "cell_type": "markdown",
   "metadata": {
    "deletable": false,
    "editable": false,
    "nbgrader": {
     "cell_type": "markdown",
     "checksum": "6bfc60c076a6425a22f48e63cf8cd790",
     "grade": false,
     "grade_id": "cell-1833f7c5bde23c49",
     "locked": true,
     "schema_version": 3,
     "solution": false,
     "task": false
    }
   },
   "source": [
    "**Question 5.6**\n",
    "<br> {points: 0}\n",
    "\n",
    "Create a line plot using the `gwp` data frame where `sqrt_year` is on the x-axis and `gwp_value` is on the y-axis. Name your plot object `gwp_historical`. To make a line plot instead of a scatter plot you should use the `mark_line` function instead of the `mark_point` function. *Note that we provide the plot code to relabel the x-axis with the human understandable years instead of the tranformed ones we plot.*"
   ]
  },
  {
   "cell_type": "code",
   "execution_count": null,
   "metadata": {
    "deletable": false,
    "nbgrader": {
     "cell_type": "code",
     "checksum": "d219d60604ee0524e4ccc4d7dd49b402",
     "grade": false,
     "grade_id": "cell-8cee40703d450fc0",
     "locked": false,
     "schema_version": 3,
     "solution": true,
     "task": false
    }
   },
   "outputs": [],
   "source": [
    "# ___ = alt.Chart(gwp).mark_line().encode(\n",
    "#     x=alt.X(\"___\").\n",
    "#         .title(\"___\")\n",
    "#         .axis(values=[-1000, -750, -500, -250, -77.7, 0, 38.7]),\n",
    "#     y=alt.Y(\"___\")\n",
    "#         .scale(type=\"log\", base=10),\n",
    "#         .title(\"Gross World Domestic Product ($ billions)\")\n",
    "# )\n",
    "\n",
    "# your code here\n",
    "raise NotImplementedError\n",
    "\n",
    "gwp_historical"
   ]
  },
  {
   "cell_type": "code",
   "execution_count": null,
   "metadata": {
    "deletable": false,
    "editable": false,
    "nbgrader": {
     "cell_type": "code",
     "checksum": "846c11f2ed3854a4b0c2bd0a27113aef",
     "grade": true,
     "grade_id": "cell-777c68035ed0cf31",
     "locked": true,
     "points": 0,
     "schema_version": 3,
     "solution": false,
     "task": false
    }
   },
   "outputs": [],
   "source": [
    "from hashlib import sha1\n",
    "assert sha1(str(type(gwp_historical.mark)).encode(\"utf-8\")+b\"53ee1\").hexdigest() == \"96e59696c289b2d49160c0dc4e93d1a045186e1e\", \"type of gwp_historical.mark is not str. gwp_historical.mark should be an str\"\n",
    "assert sha1(str(len(gwp_historical.mark)).encode(\"utf-8\")+b\"53ee1\").hexdigest() == \"cb44ff88a29f1b9446c5f6bccff2af79337aa8c3\", \"length of gwp_historical.mark is not correct\"\n",
    "assert sha1(str(gwp_historical.mark.lower()).encode(\"utf-8\")+b\"53ee1\").hexdigest() == \"71159f244cdf36b931300d58bd3364c0191662d1\", \"value of gwp_historical.mark is not correct\"\n",
    "assert sha1(str(gwp_historical.mark).encode(\"utf-8\")+b\"53ee1\").hexdigest() == \"71159f244cdf36b931300d58bd3364c0191662d1\", \"correct string value of gwp_historical.mark but incorrect case of letters\"\n",
    "\n",
    "assert sha1(str(type(isinstance(gwp_historical.encoding.x['title'], str))).encode(\"utf-8\")+b\"53ee2\").hexdigest() == \"9e905e1f201a07f920de1f1bf9fc7ad20335f564\", \"type of isinstance(gwp_historical.encoding.x['title'], str) is not bool. isinstance(gwp_historical.encoding.x['title'], str) should be a bool\"\n",
    "assert sha1(str(isinstance(gwp_historical.encoding.x['title'], str)).encode(\"utf-8\")+b\"53ee2\").hexdigest() == \"d5256f85118552054613cef9a1cf2f9cfdfc768e\", \"boolean value of isinstance(gwp_historical.encoding.x['title'], str) is not correct\"\n",
    "\n",
    "assert sha1(str(type(isinstance(gwp_historical.encoding.y['title'], str))).encode(\"utf-8\")+b\"53ee3\").hexdigest() == \"f7f95106a7cd3932ac84dcbfbe6db5a6618d4cc7\", \"type of isinstance(gwp_historical.encoding.y['title'], str) is not bool. isinstance(gwp_historical.encoding.y['title'], str) should be a bool\"\n",
    "assert sha1(str(isinstance(gwp_historical.encoding.y['title'], str)).encode(\"utf-8\")+b\"53ee3\").hexdigest() == \"0001fb3b01f0b5cb28c898297110c9fd2a62ec48\", \"boolean value of isinstance(gwp_historical.encoding.y['title'], str) is not correct\"\n",
    "\n",
    "print('Success!')"
   ]
  },
  {
   "cell_type": "markdown",
   "metadata": {
    "deletable": false,
    "editable": false,
    "nbgrader": {
     "cell_type": "markdown",
     "checksum": "ddfce3f64ae303089d813894eeb0f952",
     "grade": false,
     "grade_id": "cell-9fad67ebf88a44dc",
     "locked": true,
     "schema_version": 3,
     "solution": false,
     "task": false
    }
   },
   "source": [
    "**Question 5.7** \n",
    "<br> {points: 0}\n",
    "\n",
    "Looking at the line plot, when does the Gross World Domestic Product first start to more rapidly increase (i.e., when does the slope of the line first change)? \n",
    "\n",
    "A. roughly around year -1,000,000\n",
    "\n",
    "B. roughly around year -250,000\n",
    "\n",
    "C. roughly around year -5000\n",
    "\n",
    "D. roughly around year 1500\n",
    "\n",
    "\n",
    "*Assign your answer to an object called `answer5_7`. Make sure your answer is an uppercase letter and is surrounded by quotation marks (e.g. `\"F\"`).*"
   ]
  },
  {
   "cell_type": "code",
   "execution_count": null,
   "metadata": {
    "deletable": false,
    "nbgrader": {
     "cell_type": "code",
     "checksum": "c7de244efa32574a6b8f41b0d036c189",
     "grade": false,
     "grade_id": "cell-f5b7b1abc10c4c10",
     "locked": false,
     "schema_version": 3,
     "solution": true,
     "task": false
    }
   },
   "outputs": [],
   "source": [
    "# your code here\n",
    "raise NotImplementedError"
   ]
  },
  {
   "cell_type": "code",
   "execution_count": null,
   "metadata": {
    "deletable": false,
    "editable": false,
    "nbgrader": {
     "cell_type": "code",
     "checksum": "4cab8ac674c61ab51e139f0d2c69ab2e",
     "grade": true,
     "grade_id": "cell-1f98d6f7bb212ed9",
     "locked": true,
     "points": 0,
     "schema_version": 3,
     "solution": false,
     "task": false
    }
   },
   "outputs": [],
   "source": [
    "from hashlib import sha1\n",
    "assert sha1(str(type(answer5_7)).encode(\"utf-8\")+b\"4f98\").hexdigest() == \"ab9b7411b8a1cee4789637b0e68e1ac7ade1678f\", \"type of answer5_7 is not str. answer5_7 should be an str\"\n",
    "assert sha1(str(len(answer5_7)).encode(\"utf-8\")+b\"4f98\").hexdigest() == \"23768b402d25bf597871f08fd8d46e9855f13fc3\", \"length of answer5_7 is not correct\"\n",
    "assert sha1(str(answer5_7.lower()).encode(\"utf-8\")+b\"4f98\").hexdigest() == \"c1d3a049a71954c0cfba194ffddb8b2996714ec6\", \"value of answer5_7 is not correct\"\n",
    "assert sha1(str(answer5_7).encode(\"utf-8\")+b\"4f98\").hexdigest() == \"bc64da73de0d4f2403c30c66e1b8da32dcac4e7a\", \"correct string value of answer5_7 but incorrect case of letters\"\n",
    "\n",
    "print('Success!')"
   ]
  },
  {
   "cell_type": "code",
   "execution_count": null,
   "metadata": {
    "deletable": false,
    "editable": false,
    "nbgrader": {
     "cell_type": "code",
     "checksum": "d0cf259c209162aeb29fdbf01cf45d80",
     "grade": false,
     "grade_id": "cell-e46f0ec8bbd820d5",
     "locked": true,
     "schema_version": 3,
     "solution": false,
     "task": false
    }
   },
   "outputs": [],
   "source": [
    "try:\n",
    "    os.remove(\"data/delay_data.csv\")\n",
    "except:\n",
    "    None"
   ]
  }
 ],
 "metadata": {
  "kernelspec": {
   "display_name": "Python 3 (ipykernel)",
   "language": "python",
   "name": "python3"
  },
  "language_info": {
   "codemirror_mode": {
    "name": "ipython",
    "version": 3
   },
   "file_extension": ".py",
   "mimetype": "text/x-python",
   "name": "python",
   "nbconvert_exporter": "python",
   "pygments_lexer": "ipython3",
   "version": "3.11.5"
  }
 },
 "nbformat": 4,
 "nbformat_minor": 4
}
